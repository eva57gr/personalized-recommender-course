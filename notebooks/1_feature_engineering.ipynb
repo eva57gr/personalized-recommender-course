{
 "cells": [
  {
   "cell_type": "code",
   "execution_count": 1,
   "id": "512af732",
   "metadata": {},
   "outputs": [],
   "source": [
    "import time\n",
    "\n",
    "# Start the timer\n",
    "notebook_start_time = time.time()"
   ]
  },
  {
   "cell_type": "markdown",
   "id": "786f7eba",
   "metadata": {},
   "source": [
    "## <span style=\"color:#ff5f27\">👩🏻‍🔬 Feature Engineering </span>"
   ]
  },
  {
   "cell_type": "markdown",
   "id": "11801530",
   "metadata": {},
   "source": [
    "Add the root directory to the `PYTHONPATH` to use the `recsys` Python module from the notebook."
   ]
  },
  {
   "cell_type": "code",
   "execution_count": 2,
   "id": "8d949798",
   "metadata": {},
   "outputs": [],
   "source": [
    "import sys\n",
    "from pathlib import Path\n",
    "\n",
    "root_dir = str(Path().absolute().parent)\n",
    "if root_dir not in sys.path:\n",
    "    sys.path.append(root_dir)"
   ]
  },
  {
   "cell_type": "code",
   "execution_count": 3,
   "id": "f059347a",
   "metadata": {},
   "outputs": [
    {
     "name": "stdout",
     "output_type": "stream",
     "text": [
      "⛳️ Local environment\n"
     ]
    }
   ],
   "source": [
    "import os\n",
    "\n",
    "\n",
    "def need_download_modules():\n",
    "    if \"google.colab\" in str(get_ipython()):\n",
    "        return True\n",
    "    return False\n",
    "\n",
    "\n",
    "# TODO: Fix Colab support\n",
    "if need_download_modules():\n",
    "    print(\"📥 Downloading modules\")\n",
    "    os.system(\"mkdir -p features\")\n",
    "    os.system(\n",
    "        \"cd features && wget https://raw.githubusercontent.com/Maxxx-zh/hopsworks-tutorials/refs/heads/FSTORE-1565/advanced_tutorials/recommender-system/features/articles.py\"\n",
    "    )\n",
    "    os.system(\n",
    "        \"cd features && wget https://raw.githubusercontent.com/Maxxx-zh/hopsworks-tutorials/refs/heads/FSTORE-1565/advanced_tutorials/recommender-system/features/customers.py\"\n",
    "    )\n",
    "    os.system(\n",
    "        \"cd features && wget https://raw.githubusercontent.com/Maxxx-zh/hopsworks-tutorials/refs/heads/FSTORE-1565/advanced_tutorials/recommender-system/features/interaction.py\"\n",
    "    )\n",
    "    os.system(\n",
    "        \"cd features && wget https://raw.githubusercontent.com/Maxxx-zh/hopsworks-tutorials/refs/heads/FSTORE-1565/advanced_tutorials/recommender-system/features/ranking.py\"\n",
    "    )\n",
    "    os.system(\n",
    "        \"cd features && wget https://raw.githubusercontent.com/Maxxx-zh/hopsworks-tutorials/refs/heads/FSTORE-1565/advanced_tutorials/recommender-system/features/transactions.py\"\n",
    "    )\n",
    "\n",
    "else:\n",
    "    print(\"⛳️ Local environment\")"
   ]
  },
  {
   "cell_type": "markdown",
   "id": "96b90025",
   "metadata": {},
   "source": [
    "## <span style=\"color:#ff5f27\">📝 Imports </span>"
   ]
  },
  {
   "cell_type": "code",
   "execution_count": 4,
   "id": "a854683a",
   "metadata": {},
   "outputs": [],
   "source": [
    "# TODO: How to adapt this with UV?\n",
    "# !pip install -r requirements.txt"
   ]
  },
  {
   "cell_type": "code",
   "execution_count": 5,
   "id": "e079bf33",
   "metadata": {},
   "outputs": [],
   "source": [
    "%load_ext autoreload\n",
    "%autoreload 2\n",
    "\n",
    "import random\n",
    "import warnings\n",
    "\n",
    "import polars as pl\n",
    "import torch\n",
    "from sentence_transformers import SentenceTransformer\n",
    "from loguru import logger\n",
    "\n",
    "warnings.filterwarnings(\"ignore\")\n",
    "\n",
    "from recsys import utils\n",
    "from recsys.data import raw_data\n",
    "from recsys.features.articles import (\n",
    "    get_image_url,\n",
    "    prepare_articles,\n",
    "    generate_embeddings_for_dataframe\n",
    ")\n",
    "from recsys.features.customers import DatasetSize, prepare_customers\n",
    "from recsys.features.interaction import generate_interaction_data\n",
    "from recsys.features.ranking import compute_ranking_dataset\n",
    "from recsys.features.transactions import prepare_transactions"
   ]
  },
  {
   "cell_type": "markdown",
   "id": "0154088e",
   "metadata": {},
   "source": [
    "## <span style=\"color:#ff5f27\">📝 Constants </span>"
   ]
  },
  {
   "cell_type": "code",
   "execution_count": 6,
   "id": "6bfcd101",
   "metadata": {},
   "outputs": [],
   "source": [
    "# Data size configuration\n",
    "DATA_SIZE = DatasetSize.SMALL"
   ]
  },
  {
   "cell_type": "markdown",
   "id": "d8f493a2",
   "metadata": {},
   "source": [
    "## <span style=\"color:#ff5f27\">🔮 Connect to Hopsworks Feature Store </span>"
   ]
  },
  {
   "cell_type": "code",
   "execution_count": 7,
   "id": "fa2a8cce",
   "metadata": {},
   "outputs": [
    {
     "name": "stderr",
     "output_type": "stream",
     "text": [
      "\u001b[32m2024-11-08 18:16:38.897\u001b[0m | \u001b[1mINFO    \u001b[0m | \u001b[36mrecsys.utils\u001b[0m:\u001b[36mget_hopsworks_feature_store\u001b[0m:\u001b[36m10\u001b[0m - \u001b[1mLoging to Hopsworks using HOPSWORKS_API_KEY env var.\u001b[0m\n"
     ]
    },
    {
     "name": "stdout",
     "output_type": "stream",
     "text": [
      "Connected. Call `.close()` to terminate connection gracefully.\n",
      "\n",
      "Logged in to project, explore it here https://c.app.hopsworks.ai:443/p/15551\n",
      "Connected. Call `.close()` to terminate connection gracefully.\n"
     ]
    }
   ],
   "source": [
    "project, fs = utils.get_hopsworks_feature_store()"
   ]
  },
  {
   "cell_type": "markdown",
   "id": "8fd35140",
   "metadata": {},
   "source": [
    "## <span style=\"color:#ff5f27\">🗄️ Read Articles Data</span>\n",
    "\n",
    "The **article_id** and **product_code** serve different purposes in the context of H&M's product database:\n",
    "\n",
    "- **Article ID**: This is a unique identifier assigned to each individual article within the database. It is typically used for internal tracking and management purposes. Each distinct item or variant of a product (e.g., different sizes or colors) would have its own unique article_id.\n",
    "\n",
    "- **Product Code**: This is also a unique identifier, but it is associated with a specific product or style rather than individual articles. It represents a broader category or type of product within H&M's inventory. Multiple articles may share the same product code if they belong to the same product line or style.\n",
    "\n",
    "While both are unique identifiers, the article_id is specific to individual items, whereas the product_code represents a broader category or style of product.\n",
    "\n",
    "Here is an example:\n",
    "\n",
    "**Product: Basic T-Shirt**\n",
    "\n",
    "- **Product Code:** TS001\n",
    "\n",
    "- **Article IDs:**\n",
    "    - Article ID: 1001 (Size: Small, Color: White)\n",
    "    - Article ID: 1002 (Size: Medium, Color: White)\n",
    "    - Article ID: 1003 (Size: Large, Color: White)\n",
    "    - Article ID: 1004 (Size: Small, Color: Black)\n",
    "    - Article ID: 1005 (Size: Medium, Color: Black)\n",
    "\n",
    "In this example, \"TS001\" is the product code for the basic t-shirt style. Each variant of this t-shirt (e.g., different sizes and colors) has its own unique article_id.\n",
    "\n"
   ]
  },
  {
   "cell_type": "code",
   "execution_count": 8,
   "id": "0c01bb65",
   "metadata": {},
   "outputs": [
    {
     "name": "stderr",
     "output_type": "stream",
     "text": [
      "\u001b[32m2024-11-08 18:16:42.172\u001b[0m | \u001b[1mINFO    \u001b[0m | \u001b[36m__main__\u001b[0m:\u001b[36m<module>\u001b[0m:\u001b[36m3\u001b[0m - \u001b[1m(105542, 25)\u001b[0m\n"
     ]
    },
    {
     "name": "stdout",
     "output_type": "stream",
     "text": [
      "CPU times: user 165 ms, sys: 51.4 ms, total: 216 ms\n",
      "Wall time: 1.14 s\n"
     ]
    },
    {
     "data": {
      "text/html": [
       "<div><style>\n",
       ".dataframe > thead > tr,\n",
       ".dataframe > tbody > tr {\n",
       "  text-align: right;\n",
       "  white-space: pre-wrap;\n",
       "}\n",
       "</style>\n",
       "<small>shape: (3, 25)</small><table border=\"1\" class=\"dataframe\"><thead><tr><th>article_id</th><th>product_code</th><th>prod_name</th><th>product_type_no</th><th>product_type_name</th><th>product_group_name</th><th>graphical_appearance_no</th><th>graphical_appearance_name</th><th>colour_group_code</th><th>colour_group_name</th><th>perceived_colour_value_id</th><th>perceived_colour_value_name</th><th>perceived_colour_master_id</th><th>perceived_colour_master_name</th><th>department_no</th><th>department_name</th><th>index_code</th><th>index_name</th><th>index_group_no</th><th>index_group_name</th><th>section_no</th><th>section_name</th><th>garment_group_no</th><th>garment_group_name</th><th>detail_desc</th></tr><tr><td>i64</td><td>i64</td><td>str</td><td>i64</td><td>str</td><td>str</td><td>i64</td><td>str</td><td>i64</td><td>str</td><td>i64</td><td>str</td><td>i64</td><td>str</td><td>i64</td><td>str</td><td>str</td><td>str</td><td>i64</td><td>str</td><td>i64</td><td>str</td><td>i64</td><td>str</td><td>str</td></tr></thead><tbody><tr><td>108775015</td><td>108775</td><td>&quot;Strap top&quot;</td><td>253</td><td>&quot;Vest top&quot;</td><td>&quot;Garment Upper body&quot;</td><td>1010016</td><td>&quot;Solid&quot;</td><td>9</td><td>&quot;Black&quot;</td><td>4</td><td>&quot;Dark&quot;</td><td>5</td><td>&quot;Black&quot;</td><td>1676</td><td>&quot;Jersey Basic&quot;</td><td>&quot;A&quot;</td><td>&quot;Ladieswear&quot;</td><td>1</td><td>&quot;Ladieswear&quot;</td><td>16</td><td>&quot;Womens Everyday Basics&quot;</td><td>1002</td><td>&quot;Jersey Basic&quot;</td><td>&quot;Jersey top with narrow shoulde…</td></tr><tr><td>108775044</td><td>108775</td><td>&quot;Strap top&quot;</td><td>253</td><td>&quot;Vest top&quot;</td><td>&quot;Garment Upper body&quot;</td><td>1010016</td><td>&quot;Solid&quot;</td><td>10</td><td>&quot;White&quot;</td><td>3</td><td>&quot;Light&quot;</td><td>9</td><td>&quot;White&quot;</td><td>1676</td><td>&quot;Jersey Basic&quot;</td><td>&quot;A&quot;</td><td>&quot;Ladieswear&quot;</td><td>1</td><td>&quot;Ladieswear&quot;</td><td>16</td><td>&quot;Womens Everyday Basics&quot;</td><td>1002</td><td>&quot;Jersey Basic&quot;</td><td>&quot;Jersey top with narrow shoulde…</td></tr><tr><td>108775051</td><td>108775</td><td>&quot;Strap top (1)&quot;</td><td>253</td><td>&quot;Vest top&quot;</td><td>&quot;Garment Upper body&quot;</td><td>1010017</td><td>&quot;Stripe&quot;</td><td>11</td><td>&quot;Off White&quot;</td><td>1</td><td>&quot;Dusty Light&quot;</td><td>9</td><td>&quot;White&quot;</td><td>1676</td><td>&quot;Jersey Basic&quot;</td><td>&quot;A&quot;</td><td>&quot;Ladieswear&quot;</td><td>1</td><td>&quot;Ladieswear&quot;</td><td>16</td><td>&quot;Womens Everyday Basics&quot;</td><td>1002</td><td>&quot;Jersey Basic&quot;</td><td>&quot;Jersey top with narrow shoulde…</td></tr></tbody></table></div>"
      ],
      "text/plain": [
       "shape: (3, 25)\n",
       "┌───────────┬───────────┬───────────┬───────────┬───┬───────────┬───────────┬───────────┬──────────┐\n",
       "│ article_i ┆ product_c ┆ prod_name ┆ product_t ┆ … ┆ section_n ┆ garment_g ┆ garment_g ┆ detail_d │\n",
       "│ d         ┆ ode       ┆ ---       ┆ ype_no    ┆   ┆ ame       ┆ roup_no   ┆ roup_name ┆ esc      │\n",
       "│ ---       ┆ ---       ┆ str       ┆ ---       ┆   ┆ ---       ┆ ---       ┆ ---       ┆ ---      │\n",
       "│ i64       ┆ i64       ┆           ┆ i64       ┆   ┆ str       ┆ i64       ┆ str       ┆ str      │\n",
       "╞═══════════╪═══════════╪═══════════╪═══════════╪═══╪═══════════╪═══════════╪═══════════╪══════════╡\n",
       "│ 108775015 ┆ 108775    ┆ Strap top ┆ 253       ┆ … ┆ Womens    ┆ 1002      ┆ Jersey    ┆ Jersey   │\n",
       "│           ┆           ┆           ┆           ┆   ┆ Everyday  ┆           ┆ Basic     ┆ top with │\n",
       "│           ┆           ┆           ┆           ┆   ┆ Basics    ┆           ┆           ┆ narrow   │\n",
       "│           ┆           ┆           ┆           ┆   ┆           ┆           ┆           ┆ shoulde… │\n",
       "│ 108775044 ┆ 108775    ┆ Strap top ┆ 253       ┆ … ┆ Womens    ┆ 1002      ┆ Jersey    ┆ Jersey   │\n",
       "│           ┆           ┆           ┆           ┆   ┆ Everyday  ┆           ┆ Basic     ┆ top with │\n",
       "│           ┆           ┆           ┆           ┆   ┆ Basics    ┆           ┆           ┆ narrow   │\n",
       "│           ┆           ┆           ┆           ┆   ┆           ┆           ┆           ┆ shoulde… │\n",
       "│ 108775051 ┆ 108775    ┆ Strap top ┆ 253       ┆ … ┆ Womens    ┆ 1002      ┆ Jersey    ┆ Jersey   │\n",
       "│           ┆           ┆ (1)       ┆           ┆   ┆ Everyday  ┆           ┆ Basic     ┆ top with │\n",
       "│           ┆           ┆           ┆           ┆   ┆ Basics    ┆           ┆           ┆ narrow   │\n",
       "│           ┆           ┆           ┆           ┆   ┆           ┆           ┆           ┆ shoulde… │\n",
       "└───────────┴───────────┴───────────┴───────────┴───┴───────────┴───────────┴───────────┴──────────┘"
      ]
     },
     "execution_count": 8,
     "metadata": {},
     "output_type": "execute_result"
    }
   ],
   "source": [
    "articles_df = raw_data.extract_articles_df()\n",
    "\n",
    "logger.info(articles_df.shape)\n",
    "articles_df.head(3)"
   ]
  },
  {
   "cell_type": "code",
   "execution_count": 9,
   "id": "35d77f95",
   "metadata": {},
   "outputs": [
    {
     "data": {
      "text/html": [
       "<div><style>\n",
       ".dataframe > thead > tr,\n",
       ".dataframe > tbody > tr {\n",
       "  text-align: right;\n",
       "  white-space: pre-wrap;\n",
       "}\n",
       "</style>\n",
       "<small>shape: (1, 25)</small><table border=\"1\" class=\"dataframe\"><thead><tr><th>article_id</th><th>product_code</th><th>prod_name</th><th>product_type_no</th><th>product_type_name</th><th>product_group_name</th><th>graphical_appearance_no</th><th>graphical_appearance_name</th><th>colour_group_code</th><th>colour_group_name</th><th>perceived_colour_value_id</th><th>perceived_colour_value_name</th><th>perceived_colour_master_id</th><th>perceived_colour_master_name</th><th>department_no</th><th>department_name</th><th>index_code</th><th>index_name</th><th>index_group_no</th><th>index_group_name</th><th>section_no</th><th>section_name</th><th>garment_group_no</th><th>garment_group_name</th><th>detail_desc</th></tr><tr><td>u32</td><td>u32</td><td>u32</td><td>u32</td><td>u32</td><td>u32</td><td>u32</td><td>u32</td><td>u32</td><td>u32</td><td>u32</td><td>u32</td><td>u32</td><td>u32</td><td>u32</td><td>u32</td><td>u32</td><td>u32</td><td>u32</td><td>u32</td><td>u32</td><td>u32</td><td>u32</td><td>u32</td><td>u32</td></tr></thead><tbody><tr><td>0</td><td>0</td><td>0</td><td>0</td><td>0</td><td>0</td><td>0</td><td>0</td><td>0</td><td>0</td><td>0</td><td>0</td><td>0</td><td>0</td><td>0</td><td>0</td><td>0</td><td>0</td><td>0</td><td>0</td><td>0</td><td>0</td><td>0</td><td>0</td><td>416</td></tr></tbody></table></div>"
      ],
      "text/plain": [
       "shape: (1, 25)\n",
       "┌───────────┬───────────┬───────────┬───────────┬───┬───────────┬───────────┬───────────┬──────────┐\n",
       "│ article_i ┆ product_c ┆ prod_name ┆ product_t ┆ … ┆ section_n ┆ garment_g ┆ garment_g ┆ detail_d │\n",
       "│ d         ┆ ode       ┆ ---       ┆ ype_no    ┆   ┆ ame       ┆ roup_no   ┆ roup_name ┆ esc      │\n",
       "│ ---       ┆ ---       ┆ u32       ┆ ---       ┆   ┆ ---       ┆ ---       ┆ ---       ┆ ---      │\n",
       "│ u32       ┆ u32       ┆           ┆ u32       ┆   ┆ u32       ┆ u32       ┆ u32       ┆ u32      │\n",
       "╞═══════════╪═══════════╪═══════════╪═══════════╪═══╪═══════════╪═══════════╪═══════════╪══════════╡\n",
       "│ 0         ┆ 0         ┆ 0         ┆ 0         ┆ … ┆ 0         ┆ 0         ┆ 0         ┆ 416      │\n",
       "└───────────┴───────────┴───────────┴───────────┴───┴───────────┴───────────┴───────────┴──────────┘"
      ]
     },
     "execution_count": 9,
     "metadata": {},
     "output_type": "execute_result"
    }
   ],
   "source": [
    "# Check for NaNs\n",
    "articles_df.null_count()"
   ]
  },
  {
   "cell_type": "markdown",
   "id": "dca1289b",
   "metadata": {},
   "source": [
    "# <span style=\"color:#ff5f27\">👨🏻‍🏭 Articles Feature Engineering</span>\n"
   ]
  },
  {
   "cell_type": "code",
   "execution_count": 10,
   "id": "dbc970ab",
   "metadata": {},
   "outputs": [
    {
     "name": "stdout",
     "output_type": "stream",
     "text": [
      "CPU times: user 233 ms, sys: 5.56 ms, total: 238 ms\n",
      "Wall time: 242 ms\n"
     ]
    },
    {
     "data": {
      "text/html": [
       "<div><style>\n",
       ".dataframe > thead > tr,\n",
       ".dataframe > tbody > tr {\n",
       "  text-align: right;\n",
       "  white-space: pre-wrap;\n",
       "}\n",
       "</style>\n",
       "<small>shape: (3, 26)</small><table border=\"1\" class=\"dataframe\"><thead><tr><th>article_id</th><th>product_code</th><th>prod_name</th><th>product_type_no</th><th>product_type_name</th><th>product_group_name</th><th>graphical_appearance_no</th><th>graphical_appearance_name</th><th>colour_group_code</th><th>colour_group_name</th><th>perceived_colour_value_id</th><th>perceived_colour_value_name</th><th>perceived_colour_master_id</th><th>perceived_colour_master_name</th><th>department_no</th><th>department_name</th><th>index_code</th><th>index_name</th><th>index_group_no</th><th>index_group_name</th><th>section_no</th><th>section_name</th><th>garment_group_no</th><th>garment_group_name</th><th>prod_name_length</th><th>article_description</th></tr><tr><td>str</td><td>i64</td><td>str</td><td>i64</td><td>str</td><td>str</td><td>i64</td><td>str</td><td>i64</td><td>str</td><td>i64</td><td>str</td><td>i64</td><td>str</td><td>i64</td><td>str</td><td>str</td><td>str</td><td>i64</td><td>str</td><td>i64</td><td>str</td><td>i64</td><td>str</td><td>u32</td><td>str</td></tr></thead><tbody><tr><td>&quot;108775015&quot;</td><td>108775</td><td>&quot;Strap top&quot;</td><td>253</td><td>&quot;Vest top&quot;</td><td>&quot;Garment Upper body&quot;</td><td>1010016</td><td>&quot;Solid&quot;</td><td>9</td><td>&quot;Black&quot;</td><td>4</td><td>&quot;Dark&quot;</td><td>5</td><td>&quot;Black&quot;</td><td>1676</td><td>&quot;Jersey Basic&quot;</td><td>&quot;A&quot;</td><td>&quot;Ladieswear&quot;</td><td>1</td><td>&quot;Ladieswear&quot;</td><td>16</td><td>&quot;Womens Everyday Basics&quot;</td><td>1002</td><td>&quot;Jersey Basic&quot;</td><td>9</td><td>&quot;Strap top - Vest top in Garmen…</td></tr><tr><td>&quot;108775044&quot;</td><td>108775</td><td>&quot;Strap top&quot;</td><td>253</td><td>&quot;Vest top&quot;</td><td>&quot;Garment Upper body&quot;</td><td>1010016</td><td>&quot;Solid&quot;</td><td>10</td><td>&quot;White&quot;</td><td>3</td><td>&quot;Light&quot;</td><td>9</td><td>&quot;White&quot;</td><td>1676</td><td>&quot;Jersey Basic&quot;</td><td>&quot;A&quot;</td><td>&quot;Ladieswear&quot;</td><td>1</td><td>&quot;Ladieswear&quot;</td><td>16</td><td>&quot;Womens Everyday Basics&quot;</td><td>1002</td><td>&quot;Jersey Basic&quot;</td><td>9</td><td>&quot;Strap top - Vest top in Garmen…</td></tr><tr><td>&quot;108775051&quot;</td><td>108775</td><td>&quot;Strap top (1)&quot;</td><td>253</td><td>&quot;Vest top&quot;</td><td>&quot;Garment Upper body&quot;</td><td>1010017</td><td>&quot;Stripe&quot;</td><td>11</td><td>&quot;Off White&quot;</td><td>1</td><td>&quot;Dusty Light&quot;</td><td>9</td><td>&quot;White&quot;</td><td>1676</td><td>&quot;Jersey Basic&quot;</td><td>&quot;A&quot;</td><td>&quot;Ladieswear&quot;</td><td>1</td><td>&quot;Ladieswear&quot;</td><td>16</td><td>&quot;Womens Everyday Basics&quot;</td><td>1002</td><td>&quot;Jersey Basic&quot;</td><td>13</td><td>&quot;Strap top (1) - Vest top in Ga…</td></tr></tbody></table></div>"
      ],
      "text/plain": [
       "shape: (3, 26)\n",
       "┌───────────┬───────────┬───────────┬───────────┬───┬───────────┬───────────┬───────────┬──────────┐\n",
       "│ article_i ┆ product_c ┆ prod_name ┆ product_t ┆ … ┆ garment_g ┆ garment_g ┆ prod_name ┆ article_ │\n",
       "│ d         ┆ ode       ┆ ---       ┆ ype_no    ┆   ┆ roup_no   ┆ roup_name ┆ _length   ┆ descript │\n",
       "│ ---       ┆ ---       ┆ str       ┆ ---       ┆   ┆ ---       ┆ ---       ┆ ---       ┆ ion      │\n",
       "│ str       ┆ i64       ┆           ┆ i64       ┆   ┆ i64       ┆ str       ┆ u32       ┆ ---      │\n",
       "│           ┆           ┆           ┆           ┆   ┆           ┆           ┆           ┆ str      │\n",
       "╞═══════════╪═══════════╪═══════════╪═══════════╪═══╪═══════════╪═══════════╪═══════════╪══════════╡\n",
       "│ 108775015 ┆ 108775    ┆ Strap top ┆ 253       ┆ … ┆ 1002      ┆ Jersey    ┆ 9         ┆ Strap    │\n",
       "│           ┆           ┆           ┆           ┆   ┆           ┆ Basic     ┆           ┆ top -    │\n",
       "│           ┆           ┆           ┆           ┆   ┆           ┆           ┆           ┆ Vest top │\n",
       "│           ┆           ┆           ┆           ┆   ┆           ┆           ┆           ┆ in       │\n",
       "│           ┆           ┆           ┆           ┆   ┆           ┆           ┆           ┆ Garmen…  │\n",
       "│ 108775044 ┆ 108775    ┆ Strap top ┆ 253       ┆ … ┆ 1002      ┆ Jersey    ┆ 9         ┆ Strap    │\n",
       "│           ┆           ┆           ┆           ┆   ┆           ┆ Basic     ┆           ┆ top -    │\n",
       "│           ┆           ┆           ┆           ┆   ┆           ┆           ┆           ┆ Vest top │\n",
       "│           ┆           ┆           ┆           ┆   ┆           ┆           ┆           ┆ in       │\n",
       "│           ┆           ┆           ┆           ┆   ┆           ┆           ┆           ┆ Garmen…  │\n",
       "│ 108775051 ┆ 108775    ┆ Strap top ┆ 253       ┆ … ┆ 1002      ┆ Jersey    ┆ 13        ┆ Strap    │\n",
       "│           ┆           ┆ (1)       ┆           ┆   ┆           ┆ Basic     ┆           ┆ top (1)  │\n",
       "│           ┆           ┆           ┆           ┆   ┆           ┆           ┆           ┆ - Vest   │\n",
       "│           ┆           ┆           ┆           ┆   ┆           ┆           ┆           ┆ top in   │\n",
       "│           ┆           ┆           ┆           ┆   ┆           ┆           ┆           ┆ Ga…      │\n",
       "└───────────┴───────────┴───────────┴───────────┴───┴───────────┴───────────┴───────────┴──────────┘"
      ]
     },
     "execution_count": 10,
     "metadata": {},
     "output_type": "execute_result"
    }
   ],
   "source": [
    "articles_df = prepare_articles(articles_df)\n",
    "articles_df.head(3)"
   ]
  },
  {
   "cell_type": "code",
   "execution_count": 11,
   "id": "04f99704",
   "metadata": {},
   "outputs": [
    {
     "name": "stderr",
     "output_type": "stream",
     "text": [
      "\u001b[32m2024-11-08 18:16:42.578\u001b[0m | \u001b[1mINFO    \u001b[0m | \u001b[36m__main__\u001b[0m:\u001b[36m<module>\u001b[0m:\u001b[36m1\u001b[0m - \u001b[1mStrap top - Vest top in Garment Upper body\n",
      "Appearance: Solid\n",
      "Color: Dark Black (Black)\n",
      "Category: Ladieswear - Womens Everyday Basics - Jersey Basic\n",
      "Details: Jersey top with narrow shoulder straps.\u001b[0m\n"
     ]
    }
   ],
   "source": [
    "logger.info(articles_df[\"article_description\"][0])"
   ]
  },
  {
   "cell_type": "markdown",
   "id": "a3e11366",
   "metadata": {},
   "source": [
    "### <span style=\"color:#ff5f27\">🧬 Create embeddings </span>"
   ]
  },
  {
   "cell_type": "code",
   "execution_count": 12,
   "id": "65cc56ee",
   "metadata": {},
   "outputs": [
    {
     "name": "stderr",
     "output_type": "stream",
     "text": [
      "\u001b[32m2024-11-08 18:16:42.675\u001b[0m | \u001b[1mINFO    \u001b[0m | \u001b[36m__main__\u001b[0m:\u001b[36m<module>\u001b[0m:\u001b[36m8\u001b[0m - \u001b[1mLoading embedding model to device='mps'\u001b[0m\n"
     ]
    },
    {
     "name": "stdout",
     "output_type": "stream",
     "text": [
      "2024-11-08 18:16:42,675 INFO: Load pretrained SentenceTransformer: all-MiniLM-L6-v2\n"
     ]
    }
   ],
   "source": [
    "device = (\n",
    "    \"cuda\"\n",
    "    if torch.cuda.is_available()\n",
    "    else \"mps\"\n",
    "    if torch.backends.mps.is_available()\n",
    "    else \"cpu\"\n",
    ")\n",
    "logger.info(f\"Loading embedding model to {device=}\")\n",
    "\n",
    "# Load the SentenceTransformer model\n",
    "model = SentenceTransformer(\"all-MiniLM-L6-v2\", device=device)"
   ]
  },
  {
   "cell_type": "code",
   "execution_count": 13,
   "id": "3607f6b9",
   "metadata": {},
   "outputs": [
    {
     "data": {
      "application/vnd.jupyter.widget-view+json": {
       "model_id": "e5b73dc9942449aeaa697d475e628fb6",
       "version_major": 2,
       "version_minor": 0
      },
      "text/plain": [
       "Generating embeddings:   0%|          | 0/105542 [00:00<?, ?it/s]"
      ]
     },
     "metadata": {},
     "output_type": "display_data"
    },
    {
     "name": "stdout",
     "output_type": "stream",
     "text": [
      "CPU times: user 2min 28s, sys: 21.4 s, total: 2min 50s\n",
      "Wall time: 2min 50s\n"
     ]
    }
   ],
   "source": [
    "# Reduce batch size if getting OOM errors.\n",
    "articles_df = generate_embeddings_for_dataframe(articles_df, 'article_description', model, device, batch_size=32)"
   ]
  },
  {
   "cell_type": "code",
   "execution_count": 14,
   "id": "d75beb72",
   "metadata": {},
   "outputs": [
    {
     "data": {
      "text/html": [
       "<div><style>\n",
       ".dataframe > thead > tr,\n",
       ".dataframe > tbody > tr {\n",
       "  text-align: right;\n",
       "  white-space: pre-wrap;\n",
       "}\n",
       "</style>\n",
       "<small>shape: (3, 2)</small><table border=\"1\" class=\"dataframe\"><thead><tr><th>article_description</th><th>embeddings</th></tr><tr><td>str</td><td>list[f64]</td></tr></thead><tbody><tr><td>&quot;Strap top - Vest top in Garmen…</td><td>[-0.026782, 0.082344, … 0.022782]</td></tr><tr><td>&quot;Strap top - Vest top in Garmen…</td><td>[-0.010396, 0.089874, … 0.022564]</td></tr><tr><td>&quot;Strap top (1) - Vest top in Ga…</td><td>[-0.032753, 0.091124, … 0.022804]</td></tr></tbody></table></div>"
      ],
      "text/plain": [
       "shape: (3, 2)\n",
       "┌─────────────────────────────────┬─────────────────────────────────┐\n",
       "│ article_description             ┆ embeddings                      │\n",
       "│ ---                             ┆ ---                             │\n",
       "│ str                             ┆ list[f64]                       │\n",
       "╞═════════════════════════════════╪═════════════════════════════════╡\n",
       "│ Strap top - Vest top in Garmen… ┆ [-0.026782, 0.082344, … 0.0227… │\n",
       "│ Strap top - Vest top in Garmen… ┆ [-0.010396, 0.089874, … 0.0225… │\n",
       "│ Strap top (1) - Vest top in Ga… ┆ [-0.032753, 0.091124, … 0.0228… │\n",
       "└─────────────────────────────────┴─────────────────────────────────┘"
      ]
     },
     "execution_count": 14,
     "metadata": {},
     "output_type": "execute_result"
    }
   ],
   "source": [
    "articles_df[[\"article_description\", \"embeddings\"]].head(3)"
   ]
  },
  {
   "cell_type": "markdown",
   "id": "e60d5f5d",
   "metadata": {},
   "source": [
    "### <span style=\"color:#ff5f27\">🔗 Image Links</span>"
   ]
  },
  {
   "cell_type": "code",
   "execution_count": 15,
   "id": "04297ee1",
   "metadata": {},
   "outputs": [
    {
     "data": {
      "text/plain": [
       "'https://repo.hops.works/dev/jdowling/h-and-m/images/010/0108775015.jpg'"
      ]
     },
     "execution_count": 15,
     "metadata": {},
     "output_type": "execute_result"
    }
   ],
   "source": [
    "articles_df = articles_df.with_columns(\n",
    "    image_url=pl.col(\"article_id\").map_elements(get_image_url)\n",
    ")\n",
    "articles_df[\"image_url\"][0]"
   ]
  },
  {
   "cell_type": "markdown",
   "id": "a606d5c0",
   "metadata": {},
   "source": [
    "---\n",
    "## <span style=\"color:#ff5f27\">🗄️ Read Customers Data</span>"
   ]
  },
  {
   "cell_type": "code",
   "execution_count": 16,
   "id": "b2c7c317",
   "metadata": {},
   "outputs": [
    {
     "name": "stderr",
     "output_type": "stream",
     "text": [
      "\u001b[32m2024-11-08 18:20:27.396\u001b[0m | \u001b[1mINFO    \u001b[0m | \u001b[36m__main__\u001b[0m:\u001b[36m<module>\u001b[0m:\u001b[36m3\u001b[0m - \u001b[1m(1371980, 7)\u001b[0m\n"
     ]
    },
    {
     "name": "stdout",
     "output_type": "stream",
     "text": [
      "CPU times: user 935 ms, sys: 508 ms, total: 1.44 s\n",
      "Wall time: 53.3 s\n"
     ]
    },
    {
     "data": {
      "text/html": [
       "<div><style>\n",
       ".dataframe > thead > tr,\n",
       ".dataframe > tbody > tr {\n",
       "  text-align: right;\n",
       "  white-space: pre-wrap;\n",
       "}\n",
       "</style>\n",
       "<small>shape: (3, 7)</small><table border=\"1\" class=\"dataframe\"><thead><tr><th>customer_id</th><th>FN</th><th>Active</th><th>club_member_status</th><th>fashion_news_frequency</th><th>age</th><th>postal_code</th></tr><tr><td>str</td><td>f64</td><td>f64</td><td>str</td><td>str</td><td>i64</td><td>str</td></tr></thead><tbody><tr><td>&quot;00000dbacae5abe5e23885899a1fa4…</td><td>null</td><td>null</td><td>&quot;ACTIVE&quot;</td><td>&quot;NONE&quot;</td><td>49</td><td>&quot;52043ee2162cf5aa7ee79974281641…</td></tr><tr><td>&quot;0000423b00ade91418cceaf3b26c6a…</td><td>null</td><td>null</td><td>&quot;ACTIVE&quot;</td><td>&quot;NONE&quot;</td><td>25</td><td>&quot;2973abc54daa8a5f8ccfe9362140c6…</td></tr><tr><td>&quot;000058a12d5b43e67d225668fa1f8d…</td><td>null</td><td>null</td><td>&quot;ACTIVE&quot;</td><td>&quot;NONE&quot;</td><td>24</td><td>&quot;64f17e6a330a85798e4998f62d0930…</td></tr></tbody></table></div>"
      ],
      "text/plain": [
       "shape: (3, 7)\n",
       "┌───────────────────┬──────┬────────┬──────────────────┬──────────────────┬─────┬──────────────────┐\n",
       "│ customer_id       ┆ FN   ┆ Active ┆ club_member_stat ┆ fashion_news_fre ┆ age ┆ postal_code      │\n",
       "│ ---               ┆ ---  ┆ ---    ┆ us               ┆ quency           ┆ --- ┆ ---              │\n",
       "│ str               ┆ f64  ┆ f64    ┆ ---              ┆ ---              ┆ i64 ┆ str              │\n",
       "│                   ┆      ┆        ┆ str              ┆ str              ┆     ┆                  │\n",
       "╞═══════════════════╪══════╪════════╪══════════════════╪══════════════════╪═════╪══════════════════╡\n",
       "│ 00000dbacae5abe5e ┆ null ┆ null   ┆ ACTIVE           ┆ NONE             ┆ 49  ┆ 52043ee2162cf5aa │\n",
       "│ 23885899a1fa4…    ┆      ┆        ┆                  ┆                  ┆     ┆ 7ee79974281641…  │\n",
       "│ 0000423b00ade9141 ┆ null ┆ null   ┆ ACTIVE           ┆ NONE             ┆ 25  ┆ 2973abc54daa8a5f │\n",
       "│ 8cceaf3b26c6a…    ┆      ┆        ┆                  ┆                  ┆     ┆ 8ccfe9362140c6…  │\n",
       "│ 000058a12d5b43e67 ┆ null ┆ null   ┆ ACTIVE           ┆ NONE             ┆ 24  ┆ 64f17e6a330a8579 │\n",
       "│ d225668fa1f8d…    ┆      ┆        ┆                  ┆                  ┆     ┆ 8e4998f62d0930…  │\n",
       "└───────────────────┴──────┴────────┴──────────────────┴──────────────────┴─────┴──────────────────┘"
      ]
     },
     "execution_count": 16,
     "metadata": {},
     "output_type": "execute_result"
    }
   ],
   "source": [
    "customers_df = raw_data.extract_customers_df()\n",
    "logger.info(customers_df.shape)\n",
    "customers_df.head(3)"
   ]
  },
  {
   "cell_type": "code",
   "execution_count": 17,
   "id": "818f2c36",
   "metadata": {},
   "outputs": [
    {
     "data": {
      "text/html": [
       "<div><style>\n",
       ".dataframe > thead > tr,\n",
       ".dataframe > tbody > tr {\n",
       "  text-align: right;\n",
       "  white-space: pre-wrap;\n",
       "}\n",
       "</style>\n",
       "<small>shape: (1, 7)</small><table border=\"1\" class=\"dataframe\"><thead><tr><th>customer_id</th><th>FN</th><th>Active</th><th>club_member_status</th><th>fashion_news_frequency</th><th>age</th><th>postal_code</th></tr><tr><td>u32</td><td>u32</td><td>u32</td><td>u32</td><td>u32</td><td>u32</td><td>u32</td></tr></thead><tbody><tr><td>0</td><td>895050</td><td>907576</td><td>6062</td><td>16009</td><td>15861</td><td>0</td></tr></tbody></table></div>"
      ],
      "text/plain": [
       "shape: (1, 7)\n",
       "┌─────────────┬────────┬────────┬────────────────────┬───────────────────────┬───────┬─────────────┐\n",
       "│ customer_id ┆ FN     ┆ Active ┆ club_member_status ┆ fashion_news_frequenc ┆ age   ┆ postal_code │\n",
       "│ ---         ┆ ---    ┆ ---    ┆ ---                ┆ y                     ┆ ---   ┆ ---         │\n",
       "│ u32         ┆ u32    ┆ u32    ┆ u32                ┆ ---                   ┆ u32   ┆ u32         │\n",
       "│             ┆        ┆        ┆                    ┆ u32                   ┆       ┆             │\n",
       "╞═════════════╪════════╪════════╪════════════════════╪═══════════════════════╪═══════╪═════════════╡\n",
       "│ 0           ┆ 895050 ┆ 907576 ┆ 6062               ┆ 16009                 ┆ 15861 ┆ 0           │\n",
       "└─────────────┴────────┴────────┴────────────────────┴───────────────────────┴───────┴─────────────┘"
      ]
     },
     "execution_count": 17,
     "metadata": {},
     "output_type": "execute_result"
    }
   ],
   "source": [
    "# Check for NaNs\n",
    "customers_df.null_count()"
   ]
  },
  {
   "cell_type": "markdown",
   "id": "a7c3a524",
   "metadata": {},
   "source": [
    "## <span style=\"color:#ff5f27\">👨🏻‍🏭 Customers Feature Engineering</span>\n"
   ]
  },
  {
   "cell_type": "code",
   "execution_count": 18,
   "id": "d623d3ff",
   "metadata": {},
   "outputs": [
    {
     "name": "stdout",
     "output_type": "stream",
     "text": [
      "CPU times: user 53.4 ms, sys: 44.9 ms, total: 98.3 ms\n",
      "Wall time: 26.4 ms\n"
     ]
    },
    {
     "data": {
      "text/html": [
       "<div><style>\n",
       ".dataframe > thead > tr,\n",
       ".dataframe > tbody > tr {\n",
       "  text-align: right;\n",
       "  white-space: pre-wrap;\n",
       "}\n",
       "</style>\n",
       "<small>shape: (3, 5)</small><table border=\"1\" class=\"dataframe\"><thead><tr><th>customer_id</th><th>club_member_status</th><th>age</th><th>postal_code</th><th>age_group</th></tr><tr><td>str</td><td>str</td><td>f64</td><td>str</td><td>str</td></tr></thead><tbody><tr><td>&quot;00000dbacae5abe5e23885899a1fa4…</td><td>&quot;ACTIVE&quot;</td><td>49.0</td><td>&quot;52043ee2162cf5aa7ee79974281641…</td><td>&quot;46-55&quot;</td></tr><tr><td>&quot;0000423b00ade91418cceaf3b26c6a…</td><td>&quot;ACTIVE&quot;</td><td>25.0</td><td>&quot;2973abc54daa8a5f8ccfe9362140c6…</td><td>&quot;19-25&quot;</td></tr><tr><td>&quot;000058a12d5b43e67d225668fa1f8d…</td><td>&quot;ACTIVE&quot;</td><td>24.0</td><td>&quot;64f17e6a330a85798e4998f62d0930…</td><td>&quot;19-25&quot;</td></tr></tbody></table></div>"
      ],
      "text/plain": [
       "shape: (3, 5)\n",
       "┌─────────────────────────────┬────────────────────┬──────┬────────────────────────────┬───────────┐\n",
       "│ customer_id                 ┆ club_member_status ┆ age  ┆ postal_code                ┆ age_group │\n",
       "│ ---                         ┆ ---                ┆ ---  ┆ ---                        ┆ ---       │\n",
       "│ str                         ┆ str                ┆ f64  ┆ str                        ┆ str       │\n",
       "╞═════════════════════════════╪════════════════════╪══════╪════════════════════════════╪═══════════╡\n",
       "│ 00000dbacae5abe5e23885899a1 ┆ ACTIVE             ┆ 49.0 ┆ 52043ee2162cf5aa7ee7997428 ┆ 46-55     │\n",
       "│ fa4…                        ┆                    ┆      ┆ 1641…                      ┆           │\n",
       "│ 0000423b00ade91418cceaf3b26 ┆ ACTIVE             ┆ 25.0 ┆ 2973abc54daa8a5f8ccfe93621 ┆ 19-25     │\n",
       "│ c6a…                        ┆                    ┆      ┆ 40c6…                      ┆           │\n",
       "│ 000058a12d5b43e67d225668fa1 ┆ ACTIVE             ┆ 24.0 ┆ 64f17e6a330a85798e4998f62d ┆ 19-25     │\n",
       "│ f8d…                        ┆                    ┆      ┆ 0930…                      ┆           │\n",
       "└─────────────────────────────┴────────────────────┴──────┴────────────────────────────┴───────────┘"
      ]
     },
     "execution_count": 18,
     "metadata": {},
     "output_type": "execute_result"
    }
   ],
   "source": [
    "customers_df = prepare_customers(customers_df)\n",
    "customers_df.head(3)"
   ]
  },
  {
   "cell_type": "code",
   "execution_count": 19,
   "id": "7f7d3b88",
   "metadata": {},
   "outputs": [],
   "source": [
    "# Consider only customers with age defined\n",
    "customers_df = customers_df.drop_nulls(subset=[\"age\"])"
   ]
  },
  {
   "cell_type": "code",
   "execution_count": 20,
   "id": "5bd7e842",
   "metadata": {},
   "outputs": [
    {
     "name": "stderr",
     "output_type": "stream",
     "text": [
      "\u001b[32m2024-11-08 18:20:27.662\u001b[0m | \u001b[1mINFO    \u001b[0m | \u001b[36m__main__\u001b[0m:\u001b[36m<module>\u001b[0m:\u001b[36m6\u001b[0m - \u001b[1mKeeping 1000 customers.\u001b[0m\n"
     ]
    }
   ],
   "source": [
    "# Set a seed for reproducibility\n",
    "random.seed(27)\n",
    "\n",
    "# Get the number of users based on the flag\n",
    "N_USERS = DATA_SIZE.get_size()\n",
    "logger.info(f\"Keeping {N_USERS} customers.\")\n",
    "\n",
    "# Sample N_USERS from the DataFrame\n",
    "customer_subset_df = customers_df.sample(n=N_USERS)"
   ]
  },
  {
   "cell_type": "markdown",
   "id": "e8b498ff",
   "metadata": {},
   "source": [
    "---\n",
    "## <span style=\"color:#ff5f27\">🗄️ Read Transactions Data</span>"
   ]
  },
  {
   "cell_type": "code",
   "execution_count": 21,
   "id": "5f8887c1",
   "metadata": {},
   "outputs": [],
   "source": [
    "trans_df = raw_data.extract_transactions_df()\n",
    "logger.info(trans_df.shape)\n",
    "trans_df.head(3)"
   ]
  },
  {
   "cell_type": "markdown",
   "id": "a8f761e2",
   "metadata": {},
   "source": [
    "## <span style=\"color:#ff5f27\">👨🏻‍🏭 Transactions Feature Engineering</span>\n",
    "\n",
    "The time of the year a purchase was made should be a strong predictor, as seasonality plays a big factor in fashion purchases. Here, you will use the month of the purchase as a feature. Since this is a cyclical feature (January is as close to December as it is to February), you'll map each month to the unit circle using sine and cosine."
   ]
  },
  {
   "cell_type": "code",
   "execution_count": 22,
   "id": "ca61456a",
   "metadata": {},
   "outputs": [
    {
     "name": "stdout",
     "output_type": "stream",
     "text": [
      "CPU times: user 3.36 s, sys: 339 ms, total: 3.7 s\n",
      "Wall time: 2.83 s\n"
     ]
    },
    {
     "data": {
      "text/html": [
       "<div><style>\n",
       ".dataframe > thead > tr,\n",
       ".dataframe > tbody > tr {\n",
       "  text-align: right;\n",
       "  white-space: pre-wrap;\n",
       "}\n",
       "</style>\n",
       "<small>shape: (3, 11)</small><table border=\"1\" class=\"dataframe\"><thead><tr><th>t_dat</th><th>customer_id</th><th>article_id</th><th>price</th><th>sales_channel_id</th><th>year</th><th>month</th><th>day</th><th>day_of_week</th><th>month_sin</th><th>month_cos</th></tr><tr><td>i64</td><td>str</td><td>str</td><td>f64</td><td>i64</td><td>i32</td><td>i8</td><td>i8</td><td>i8</td><td>f64</td><td>f64</td></tr></thead><tbody><tr><td>1537401600000</td><td>&quot;000058a12d5b43e67d225668fa1f8d…</td><td>&quot;663713001&quot;</td><td>0.050831</td><td>2</td><td>2018</td><td>9</td><td>20</td><td>4</td><td>-1.0</td><td>-1.8370e-16</td></tr><tr><td>1537401600000</td><td>&quot;000058a12d5b43e67d225668fa1f8d…</td><td>&quot;541518023&quot;</td><td>0.030492</td><td>2</td><td>2018</td><td>9</td><td>20</td><td>4</td><td>-1.0</td><td>-1.8370e-16</td></tr><tr><td>1537401600000</td><td>&quot;00007d2de826758b65a93dd24ce629…</td><td>&quot;505221004&quot;</td><td>0.015237</td><td>2</td><td>2018</td><td>9</td><td>20</td><td>4</td><td>-1.0</td><td>-1.8370e-16</td></tr></tbody></table></div>"
      ],
      "text/plain": [
       "shape: (3, 11)\n",
       "┌─────────────┬────────────┬────────────┬──────────┬───┬─────┬────────────┬───────────┬────────────┐\n",
       "│ t_dat       ┆ customer_i ┆ article_id ┆ price    ┆ … ┆ day ┆ day_of_wee ┆ month_sin ┆ month_cos  │\n",
       "│ ---         ┆ d          ┆ ---        ┆ ---      ┆   ┆ --- ┆ k          ┆ ---       ┆ ---        │\n",
       "│ i64         ┆ ---        ┆ str        ┆ f64      ┆   ┆ i8  ┆ ---        ┆ f64       ┆ f64        │\n",
       "│             ┆ str        ┆            ┆          ┆   ┆     ┆ i8         ┆           ┆            │\n",
       "╞═════════════╪════════════╪════════════╪══════════╪═══╪═════╪════════════╪═══════════╪════════════╡\n",
       "│ 15374016000 ┆ 000058a12d ┆ 663713001  ┆ 0.050831 ┆ … ┆ 20  ┆ 4          ┆ -1.0      ┆ -1.8370e-1 │\n",
       "│ 00          ┆ 5b43e67d22 ┆            ┆          ┆   ┆     ┆            ┆           ┆ 6          │\n",
       "│             ┆ 5668fa1f8d ┆            ┆          ┆   ┆     ┆            ┆           ┆            │\n",
       "│             ┆ …          ┆            ┆          ┆   ┆     ┆            ┆           ┆            │\n",
       "│ 15374016000 ┆ 000058a12d ┆ 541518023  ┆ 0.030492 ┆ … ┆ 20  ┆ 4          ┆ -1.0      ┆ -1.8370e-1 │\n",
       "│ 00          ┆ 5b43e67d22 ┆            ┆          ┆   ┆     ┆            ┆           ┆ 6          │\n",
       "│             ┆ 5668fa1f8d ┆            ┆          ┆   ┆     ┆            ┆           ┆            │\n",
       "│             ┆ …          ┆            ┆          ┆   ┆     ┆            ┆           ┆            │\n",
       "│ 15374016000 ┆ 00007d2de8 ┆ 505221004  ┆ 0.015237 ┆ … ┆ 20  ┆ 4          ┆ -1.0      ┆ -1.8370e-1 │\n",
       "│ 00          ┆ 26758b65a9 ┆            ┆          ┆   ┆     ┆            ┆           ┆ 6          │\n",
       "│             ┆ 3dd24ce629 ┆            ┆          ┆   ┆     ┆            ┆           ┆            │\n",
       "│             ┆ …          ┆            ┆          ┆   ┆     ┆            ┆           ┆            │\n",
       "└─────────────┴────────────┴────────────┴──────────┴───┴─────┴────────────┴───────────┴────────────┘"
      ]
     },
     "execution_count": 22,
     "metadata": {},
     "output_type": "execute_result"
    }
   ],
   "source": [
    "trans_df = prepare_transactions(trans_df)\n",
    "trans_df.head(3)"
   ]
  },
  {
   "cell_type": "code",
   "execution_count": 23,
   "id": "c7a78f4d",
   "metadata": {},
   "outputs": [
    {
     "name": "stdout",
     "output_type": "stream",
     "text": [
      "⛳️ There are 31,788,324 transactions in total made by all the users.\n",
      "⛳️ The subset based on the remaining users has 122,917 transactions in total.\n"
     ]
    }
   ],
   "source": [
    "logger.info(\n",
    "    f\"There are **{trans_df.height:,}** transactions in total made by all the customers.\"\n",
    ")\n",
    "trans_df = trans_df.join(customer_subset_df.select(\"customer_id\"), on=\"customer_id\")\n",
    "logger.info(\n",
    "    f\"There are **{len(trans_df):,}** transactions made by the remaining customers.\"\n",
    ")"
   ]
  },
  {
   "cell_type": "markdown",
   "id": "c9d030bd",
   "metadata": {},
   "source": [
    "---\n",
    "\n",
    "## <span style=\"color:#ff5f27\">🤳🏻 Interaction Data</span>\n"
   ]
  },
  {
   "cell_type": "code",
   "execution_count": 24,
   "id": "48b980fd",
   "metadata": {},
   "outputs": [
    {
     "name": "stderr",
     "output_type": "stream",
     "text": [
      "Processing customer chunks: 100%|██████████| 5/5 [00:50<00:00, 10.04s/it]\n"
     ]
    },
    {
     "name": "stdout",
     "output_type": "stream",
     "text": [
      "✅ Done!\n",
      "(690014, 5)\n",
      "CPU times: user 48.6 s, sys: 7.58 s, total: 56.1 s\n",
      "Wall time: 50.8 s\n"
     ]
    },
    {
     "data": {
      "text/html": [
       "<div><style>\n",
       ".dataframe > thead > tr,\n",
       ".dataframe > tbody > tr {\n",
       "  text-align: right;\n",
       "  white-space: pre-wrap;\n",
       "}\n",
       "</style>\n",
       "<small>shape: (5, 5)</small><table border=\"1\" class=\"dataframe\"><thead><tr><th>t_dat</th><th>customer_id</th><th>article_id</th><th>interaction_score</th><th>prev_article_id</th></tr><tr><td>i64</td><td>str</td><td>str</td><td>i64</td><td>str</td></tr></thead><tbody><tr><td>1544641200000</td><td>&quot;00134024c835e60cb90ce17645df8f…</td><td>&quot;823505002&quot;</td><td>0</td><td>&quot;START&quot;</td></tr><tr><td>1544655600000</td><td>&quot;00134024c835e60cb90ce17645df8f…</td><td>&quot;777756002&quot;</td><td>0</td><td>&quot;823505002&quot;</td></tr><tr><td>1544659200000</td><td>&quot;00134024c835e60cb90ce17645df8f…</td><td>&quot;777756002&quot;</td><td>0</td><td>&quot;777756002&quot;</td></tr><tr><td>1544662800000</td><td>&quot;00134024c835e60cb90ce17645df8f…</td><td>&quot;823505002&quot;</td><td>0</td><td>&quot;777756002&quot;</td></tr><tr><td>1544673600000</td><td>&quot;00134024c835e60cb90ce17645df8f…</td><td>&quot;778187001&quot;</td><td>0</td><td>&quot;823505002&quot;</td></tr></tbody></table></div>"
      ],
      "text/plain": [
       "shape: (5, 5)\n",
       "┌───────────────┬───────────────────────────────┬────────────┬───────────────────┬─────────────────┐\n",
       "│ t_dat         ┆ customer_id                   ┆ article_id ┆ interaction_score ┆ prev_article_id │\n",
       "│ ---           ┆ ---                           ┆ ---        ┆ ---               ┆ ---             │\n",
       "│ i64           ┆ str                           ┆ str        ┆ i64               ┆ str             │\n",
       "╞═══════════════╪═══════════════════════════════╪════════════╪═══════════════════╪═════════════════╡\n",
       "│ 1544641200000 ┆ 00134024c835e60cb90ce17645df8 ┆ 823505002  ┆ 0                 ┆ START           │\n",
       "│               ┆ f…                            ┆            ┆                   ┆                 │\n",
       "│ 1544655600000 ┆ 00134024c835e60cb90ce17645df8 ┆ 777756002  ┆ 0                 ┆ 823505002       │\n",
       "│               ┆ f…                            ┆            ┆                   ┆                 │\n",
       "│ 1544659200000 ┆ 00134024c835e60cb90ce17645df8 ┆ 777756002  ┆ 0                 ┆ 777756002       │\n",
       "│               ┆ f…                            ┆            ┆                   ┆                 │\n",
       "│ 1544662800000 ┆ 00134024c835e60cb90ce17645df8 ┆ 823505002  ┆ 0                 ┆ 777756002       │\n",
       "│               ┆ f…                            ┆            ┆                   ┆                 │\n",
       "│ 1544673600000 ┆ 00134024c835e60cb90ce17645df8 ┆ 778187001  ┆ 0                 ┆ 823505002       │\n",
       "│               ┆ f…                            ┆            ┆                   ┆                 │\n",
       "└───────────────┴───────────────────────────────┴────────────┴───────────────────┴─────────────────┘"
      ]
     },
     "execution_count": 24,
     "metadata": {},
     "output_type": "execute_result"
    }
   ],
   "source": [
    "interaction_df = generate_interaction_data(trans_df)\n",
    "\n",
    "logger.info(interaction_df.shape)\n",
    "interaction_df.head()"
   ]
  },
  {
   "cell_type": "code",
   "execution_count": 25,
   "id": "7d8aa4cc",
   "metadata": {},
   "outputs": [
    {
     "data": {
      "text/html": [
       "<div><style>\n",
       ".dataframe > thead > tr,\n",
       ".dataframe > tbody > tr {\n",
       "  text-align: right;\n",
       "  white-space: pre-wrap;\n",
       "}\n",
       "</style>\n",
       "<small>shape: (3, 2)</small><table border=\"1\" class=\"dataframe\"><thead><tr><th>interaction_score</th><th>total_interactions</th></tr><tr><td>i64</td><td>u32</td></tr></thead><tbody><tr><td>0</td><td>370193</td></tr><tr><td>1</td><td>196904</td></tr><tr><td>2</td><td>122917</td></tr></tbody></table></div>"
      ],
      "text/plain": [
       "shape: (3, 2)\n",
       "┌───────────────────┬────────────────────┐\n",
       "│ interaction_score ┆ total_interactions │\n",
       "│ ---               ┆ ---                │\n",
       "│ i64               ┆ u32                │\n",
       "╞═══════════════════╪════════════════════╡\n",
       "│ 0                 ┆ 370193             │\n",
       "│ 1                 ┆ 196904             │\n",
       "│ 2                 ┆ 122917             │\n",
       "└───────────────────┴────────────────────┘"
      ]
     },
     "execution_count": 25,
     "metadata": {},
     "output_type": "execute_result"
    }
   ],
   "source": [
    "interaction_df.group_by(\"interaction_score\").agg(\n",
    "    pl.count(\"interaction_score\").alias(\"total_interactions\")\n",
    ")"
   ]
  },
  {
   "cell_type": "markdown",
   "id": "1bdd8752",
   "metadata": {},
   "source": [
    "---\n",
    "## <span style=\"color:#ff5f27\">⚙️ To Pandas </span>\n",
    "\n",
    "We have to map all the DataFrames from Polars to Pandas to make them compatible with Hopsworks.\n"
   ]
  },
  {
   "cell_type": "code",
   "execution_count": 26,
   "id": "4ab6424d",
   "metadata": {},
   "outputs": [
    {
     "name": "stdout",
     "output_type": "stream",
     "text": [
      "CPU times: user 420 ms, sys: 175 ms, total: 595 ms\n",
      "Wall time: 630 ms\n"
     ]
    }
   ],
   "source": [
    "customers_df = customers_df.to_pandas()  # arrow = True\n",
    "articles_df = articles_df.to_pandas()\n",
    "trans_df = trans_df.to_pandas()\n",
    "interaction_df = interaction_df.to_pandas()"
   ]
  },
  {
   "cell_type": "markdown",
   "id": "7cc6b07b",
   "metadata": {},
   "source": [
    "---"
   ]
  },
  {
   "cell_type": "markdown",
   "id": "6a71e83b",
   "metadata": {},
   "source": [
    "## <span style=\"color:#ff5f27\">🪄 Create Hopsworks Feature Groups </span>\n",
    "\n",
    "A [feature group](https://docs.hopsworks.ai/feature-store-api/latest/generated/feature_group/) can be seen as a collection of conceptually related features.\n",
    "\n",
    "Before you can create a feature group you need to connect to your feature store.\n",
    "\n",
    "To create a feature group you need to give it a name and specify a primary key. It is also good to provide a description of the contents of the feature group."
   ]
  },
  {
   "cell_type": "markdown",
   "id": "8fe61f1f",
   "metadata": {},
   "source": [
    "#### <span style=\"color:#ff5f27\"> Customers </span>"
   ]
  },
  {
   "cell_type": "code",
   "execution_count": 27,
   "id": "bf1d4650",
   "metadata": {},
   "outputs": [],
   "source": [
    "customers_fg = fs.get_or_create_feature_group(\n",
    "    name=\"customers\",\n",
    "    description=\"Customers data including age and postal code\",\n",
    "    version=1,\n",
    "    primary_key=[\"customer_id\"],\n",
    "    online_enabled=True,\n",
    ")"
   ]
  },
  {
   "cell_type": "markdown",
   "id": "f82b4e39",
   "metadata": {},
   "source": [
    "Here you have also set `online_enabled=True`, which enables low latency access to the data. A full list of arguments can be found in the [documentation](https://docs.hopsworks.ai/feature-store-api/latest/generated/api/feature_store_api/#create_feature_group).\n",
    "\n",
    "At this point, you have only specified some metadata for the feature group. It does not store any data or even have a schema defined for the data. To make the feature group persistent you populate it with its associated data using the `insert` method."
   ]
  },
  {
   "cell_type": "code",
   "execution_count": 28,
   "id": "2b93339f",
   "metadata": {},
   "outputs": [
    {
     "data": {
      "application/vnd.jupyter.widget-view+json": {
       "model_id": "7a24b70fc9ea45f8bc1effc94b14c1ea",
       "version_major": 2,
       "version_minor": 0
      },
      "text/plain": [
       "Uploading Dataframe: 0.00% |          | Rows 0/1356119 | Elapsed Time: 00:00 | Remaining Time: ?"
      ]
     },
     "metadata": {},
     "output_type": "display_data"
    },
    {
     "name": "stdout",
     "output_type": "stream",
     "text": [
      "Launching job: customers_1_offline_fg_materialization\n",
      "Job started successfully, you can follow the progress at \n",
      "https://c.app.hopsworks.ai/p/15551/jobs/named/customers_1_offline_fg_materialization/executions\n",
      "✅ Done!\n"
     ]
    }
   ],
   "source": [
    "customers_fg.insert(customers_df)\n",
    "logger.info(\"✅ Done!\")"
   ]
  },
  {
   "cell_type": "code",
   "execution_count": 29,
   "id": "1f1a0cc7",
   "metadata": {},
   "outputs": [],
   "source": [
    "feature_descriptions = [\n",
    "    {\"name\": \"customer_id\", \"description\": \"Unique identifier for each customer.\"},\n",
    "    {\n",
    "        \"name\": \"club_member_status\",\n",
    "        \"description\": \"Membership status of the customer in the club.\",\n",
    "    },\n",
    "    {\"name\": \"age\", \"description\": \"Age of the customer.\"},\n",
    "    {\n",
    "        \"name\": \"postal_code\",\n",
    "        \"description\": \"Postal code associated with the customer's address.\",\n",
    "    },\n",
    "    {\"name\": \"age_group\", \"description\": \"Categorized age group of the customer.\"},\n",
    "]\n",
    "\n",
    "for desc in feature_descriptions:\n",
    "    customers_fg.update_feature_description(desc[\"name\"], desc[\"description\"])"
   ]
  },
  {
   "cell_type": "markdown",
   "id": "07076b20",
   "metadata": {},
   "source": [
    "#### <span style=\"color:#ff5f27\"> Articles </span>"
   ]
  },
  {
   "cell_type": "markdown",
   "id": "8b22919d",
   "metadata": {},
   "source": [
    "Let's do the same thing for the rest of the data frames."
   ]
  },
  {
   "cell_type": "code",
   "execution_count": 30,
   "id": "1e2cd326",
   "metadata": {},
   "outputs": [],
   "source": [
    "from hsfs.feature import Feature\n",
    "\n",
    "article_features = [\n",
    "    Feature(\n",
    "        name=\"article_id\", type=\"string\", description=\"Identifier for the article.\"\n",
    "    ),\n",
    "    Feature(\n",
    "        name=\"product_code\",\n",
    "        type=\"bigint\",\n",
    "        description=\"Code associated with the product.\",\n",
    "    ),\n",
    "    Feature(name=\"prod_name\", type=\"string\", description=\"Name of the product.\"),\n",
    "    Feature(\n",
    "        name=\"product_type_no\",\n",
    "        type=\"bigint\",\n",
    "        description=\"Number associated with the product type.\",\n",
    "    ),\n",
    "    Feature(\n",
    "        name=\"product_type_name\", type=\"string\", description=\"Name of the product type.\"\n",
    "    ),\n",
    "    Feature(\n",
    "        name=\"product_group_name\",\n",
    "        type=\"string\",\n",
    "        description=\"Name of the product group.\",\n",
    "    ),\n",
    "    Feature(\n",
    "        name=\"graphical_appearance_no\",\n",
    "        type=\"bigint\",\n",
    "        description=\"Number associated with graphical appearance.\",\n",
    "    ),\n",
    "    Feature(\n",
    "        name=\"graphical_appearance_name\",\n",
    "        type=\"string\",\n",
    "        description=\"Name of the graphical appearance.\",\n",
    "    ),\n",
    "    Feature(\n",
    "        name=\"colour_group_code\",\n",
    "        type=\"bigint\",\n",
    "        description=\"Code associated with the colour group.\",\n",
    "    ),\n",
    "    Feature(\n",
    "        name=\"colour_group_name\", type=\"string\", description=\"Name of the colour group.\"\n",
    "    ),\n",
    "    Feature(\n",
    "        name=\"perceived_colour_value_id\",\n",
    "        type=\"bigint\",\n",
    "        description=\"ID associated with perceived colour value.\",\n",
    "    ),\n",
    "    Feature(\n",
    "        name=\"perceived_colour_value_name\",\n",
    "        type=\"string\",\n",
    "        description=\"Name of the perceived colour value.\",\n",
    "    ),\n",
    "    Feature(\n",
    "        name=\"perceived_colour_master_id\",\n",
    "        type=\"bigint\",\n",
    "        description=\"ID associated with perceived colour master.\",\n",
    "    ),\n",
    "    Feature(\n",
    "        name=\"perceived_colour_master_name\",\n",
    "        type=\"string\",\n",
    "        description=\"Name of the perceived colour master.\",\n",
    "    ),\n",
    "    Feature(\n",
    "        name=\"department_no\",\n",
    "        type=\"bigint\",\n",
    "        description=\"Number associated with the department.\",\n",
    "    ),\n",
    "    Feature(\n",
    "        name=\"department_name\", type=\"string\", description=\"Name of the department.\"\n",
    "    ),\n",
    "    Feature(\n",
    "        name=\"index_code\", type=\"string\", description=\"Code associated with the index.\"\n",
    "    ),\n",
    "    Feature(name=\"index_name\", type=\"string\", description=\"Name of the index.\"),\n",
    "    Feature(\n",
    "        name=\"index_group_no\",\n",
    "        type=\"bigint\",\n",
    "        description=\"Number associated with the index group.\",\n",
    "    ),\n",
    "    Feature(\n",
    "        name=\"index_group_name\", type=\"string\", description=\"Name of the index group.\"\n",
    "    ),\n",
    "    Feature(\n",
    "        name=\"section_no\",\n",
    "        type=\"bigint\",\n",
    "        description=\"Number associated with the section.\",\n",
    "    ),\n",
    "    Feature(name=\"section_name\", type=\"string\", description=\"Name of the section.\"),\n",
    "    Feature(\n",
    "        name=\"garment_group_no\",\n",
    "        type=\"bigint\",\n",
    "        description=\"Number associated with the garment group.\",\n",
    "    ),\n",
    "    Feature(\n",
    "        name=\"garment_group_name\",\n",
    "        type=\"string\",\n",
    "        description=\"Name of the garment group.\",\n",
    "    ),\n",
    "    Feature(\n",
    "        name=\"prod_name_length\",\n",
    "        type=\"bigint\",\n",
    "        description=\"Length of the product name.\",\n",
    "    ),\n",
    "    Feature(\n",
    "        name=\"article_description\",\n",
    "        type=\"string\",\n",
    "        online_type=\"VARCHAR(5800)\",\n",
    "        description=\"Description of the article.\",\n",
    "    ),\n",
    "    Feature(\n",
    "        name=\"embeddings\",\n",
    "        type=\"array<double>\",\n",
    "        description=\"Vector embeddings of the article description.\",\n",
    "    ),\n",
    "    Feature(name=\"image_url\", type=\"string\", description=\"URL of the product image.\"),\n",
    "]"
   ]
  },
  {
   "cell_type": "code",
   "execution_count": 31,
   "id": "8973402d",
   "metadata": {},
   "outputs": [],
   "source": [
    "from hsfs import embedding\n",
    "\n",
    "# Create the Embedding Index\n",
    "emb = embedding.EmbeddingIndex()\n",
    "\n",
    "emb.add_embedding(\n",
    "    \"embeddings\",\n",
    "    model.get_sentence_embedding_dimension(),\n",
    ")"
   ]
  },
  {
   "cell_type": "code",
   "execution_count": 31,
   "id": "fecc1e0f",
   "metadata": {},
   "outputs": [
    {
     "data": {
      "application/vnd.jupyter.widget-view+json": {
       "model_id": "10f9a5d1233f49ac80a3db6080177e6f",
       "version_major": 2,
       "version_minor": 0
      },
      "text/plain": [
       "Uploading Dataframe: 0.00% |          | Rows 0/105542 | Elapsed Time: 00:00 | Remaining Time: ?"
      ]
     },
     "metadata": {},
     "output_type": "display_data"
    }
   ],
   "source": [
    "articles_fg = fs.get_or_create_feature_group(\n",
    "    name=\"articles\",\n",
    "    version=1,\n",
    "    description=\"Fashion items data including type of item, visual description and category\",\n",
    "    primary_key=[\"article_id\"],\n",
    "    online_enabled=True,\n",
    "    features=article_features,\n",
    "    embedding_index=emb,\n",
    ")\n",
    "articles_fg.insert(articles_df)\n",
    "logger.info(\"✅ Done!\")"
   ]
  },
  {
   "cell_type": "markdown",
   "id": "e1351e32",
   "metadata": {},
   "source": [
    "#### <span style=\"color:#ff5f27\"> Transactions </span>"
   ]
  },
  {
   "cell_type": "code",
   "execution_count": 48,
   "id": "27d544ee",
   "metadata": {},
   "outputs": [
    {
     "data": {
      "application/vnd.jupyter.widget-view+json": {
       "model_id": "fc760fd2facd48619c8c08ad82ae9ca1",
       "version_major": 2,
       "version_minor": 0
      },
      "text/plain": [
       "Uploading Dataframe: 0.00% |          | Rows 0/122917 | Elapsed Time: 00:00 | Remaining Time: ?"
      ]
     },
     "metadata": {},
     "output_type": "display_data"
    },
    {
     "name": "stdout",
     "output_type": "stream",
     "text": [
      "Launching job: transactions_1_offline_fg_materialization\n",
      "Job started successfully, you can follow the progress at \n",
      "https://c.app.hopsworks.ai/p/15551/jobs/named/transactions_1_offline_fg_materialization/executions\n",
      "✅ Done!\n"
     ]
    }
   ],
   "source": [
    "trans_fg = fs.get_or_create_feature_group(\n",
    "    name=\"transactions\",\n",
    "    version=1,\n",
    "    description=\"Transactions data including customer, item, price, sales channel and transaction date\",\n",
    "    primary_key=[\"customer_id\", \"article_id\"],\n",
    "    online_enabled=True,\n",
    "    event_time=\"t_dat\",\n",
    ")\n",
    "trans_fg.insert(trans_df)\n",
    "logger.info(\"✅ Done!\")"
   ]
  },
  {
   "cell_type": "code",
   "execution_count": 49,
   "id": "8dde20ed",
   "metadata": {},
   "outputs": [],
   "source": [
    "feature_descriptions = [\n",
    "    {\"name\": \"t_dat\", \"description\": \"Timestamp of the data record.\"},\n",
    "    {\"name\": \"customer_id\", \"description\": \"Unique identifier for each customer.\"},\n",
    "    {\"name\": \"article_id\", \"description\": \"Identifier for the purchased article.\"},\n",
    "    {\"name\": \"price\", \"description\": \"Price of the purchased article.\"},\n",
    "    {\"name\": \"sales_channel_id\", \"description\": \"Identifier for the sales channel.\"},\n",
    "    {\"name\": \"year\", \"description\": \"Year of the transaction.\"},\n",
    "    {\"name\": \"month\", \"description\": \"Month of the transaction.\"},\n",
    "    {\"name\": \"day\", \"description\": \"Day of the transaction.\"},\n",
    "    {\"name\": \"day_of_week\", \"description\": \"Day of the week of the transaction.\"},\n",
    "    {\n",
    "        \"name\": \"month_sin\",\n",
    "        \"description\": \"Sine of the month used for seasonal patterns.\",\n",
    "    },\n",
    "    {\n",
    "        \"name\": \"month_cos\",\n",
    "        \"description\": \"Cosine of the month used for seasonal patterns.\",\n",
    "    },\n",
    "]\n",
    "\n",
    "for desc in feature_descriptions:\n",
    "    trans_fg.update_feature_description(desc[\"name\"], desc[\"description\"])"
   ]
  },
  {
   "cell_type": "markdown",
   "id": "70c0a17d",
   "metadata": {},
   "source": [
    "#### <span style=\"color:#ff5f27\"> Interactions </span>"
   ]
  },
  {
   "cell_type": "code",
   "execution_count": 50,
   "id": "f76574da",
   "metadata": {},
   "outputs": [
    {
     "data": {
      "application/vnd.jupyter.widget-view+json": {
       "model_id": "a66b49a2a474445795694650d152268d",
       "version_major": 2,
       "version_minor": 0
      },
      "text/plain": [
       "Uploading Dataframe: 0.00% |          | Rows 0/687904 | Elapsed Time: 00:00 | Remaining Time: ?"
      ]
     },
     "metadata": {},
     "output_type": "display_data"
    },
    {
     "name": "stdout",
     "output_type": "stream",
     "text": [
      "Launching job: interactions_1_offline_fg_materialization\n",
      "Job started successfully, you can follow the progress at \n",
      "https://c.app.hopsworks.ai/p/15551/jobs/named/interactions_1_offline_fg_materialization/executions\n",
      "✅ Done!\n"
     ]
    }
   ],
   "source": [
    "# Create Interactions Feature Group\n",
    "interactions_fg = fs.get_or_create_feature_group(\n",
    "    name=\"interactions\",\n",
    "    version=1,\n",
    "    description=\"Customer interactions with articles including purchases, clicks, and ignores. Used for building recommendation systems and analyzing user behavior.\",\n",
    "    primary_key=[\"customer_id\", \"article_id\"],\n",
    "    online_enabled=True,\n",
    "    event_time=\"t_dat\",\n",
    ")\n",
    "\n",
    "# Insert the data\n",
    "interactions_fg.insert(\n",
    "    interaction_df,\n",
    "    write_options={\"wait_for_job\": True},\n",
    ")\n",
    "logger.info(\"✅ Done!\")"
   ]
  },
  {
   "cell_type": "code",
   "execution_count": 51,
   "id": "1d171f1d",
   "metadata": {},
   "outputs": [],
   "source": [
    "# Define feature descriptions for interactions\n",
    "feature_descriptions = [\n",
    "    {\"name\": \"t_dat\", \"description\": \"Timestamp of the interaction.\"},\n",
    "    {\"name\": \"customer_id\", \"description\": \"Unique identifier for each customer.\"},\n",
    "    {\n",
    "        \"name\": \"article_id\",\n",
    "        \"description\": \"Identifier for the article that was interacted with.\",\n",
    "    },\n",
    "    {\n",
    "        \"name\": \"interaction_score\",\n",
    "        \"description\": \"Type of interaction: 0 = ignore, 1 = click, 2 = purchase.\",\n",
    "    },\n",
    "    {\n",
    "        \"name\": \"prev_article_id\",\n",
    "        \"description\": \"Previous article that the customer interacted with, useful for sequential recommendation patterns.\",\n",
    "    },\n",
    "]\n",
    "\n",
    "# Update feature descriptions\n",
    "for desc in feature_descriptions:\n",
    "    interactions_fg.update_feature_description(desc[\"name\"], desc[\"description\"])"
   ]
  },
  {
   "cell_type": "markdown",
   "id": "8df7f835",
   "metadata": {},
   "source": [
    "## <span style=\"color:#ff5f27\">📊 Ranking Dataset </span>\n"
   ]
  },
  {
   "cell_type": "code",
   "execution_count": 53,
   "id": "05d6489d",
   "metadata": {},
   "outputs": [
    {
     "name": "stdout",
     "output_type": "stream",
     "text": [
      "Finished: Reading data from Hopsworks, using Hopsworks Feature Query Service (4.14s) \n",
      "Finished: Reading data from Hopsworks, using Hopsworks Feature Query Service (49.28s) \n",
      "Finished: Reading data from Hopsworks, using Hopsworks Feature Query Service (18.76s) \n",
      "Finished: Reading data from Hopsworks, using Hopsworks Feature Query Service (75.59s) \n"
     ]
    },
    {
     "data": {
      "text/html": [
       "<div>\n",
       "<style scoped>\n",
       "    .dataframe tbody tr th:only-of-type {\n",
       "        vertical-align: middle;\n",
       "    }\n",
       "\n",
       "    .dataframe tbody tr th {\n",
       "        vertical-align: top;\n",
       "    }\n",
       "\n",
       "    .dataframe thead th {\n",
       "        text-align: right;\n",
       "    }\n",
       "</style>\n",
       "<table border=\"1\" class=\"dataframe\">\n",
       "  <thead>\n",
       "    <tr style=\"text-align: right;\">\n",
       "      <th></th>\n",
       "      <th>customer_id</th>\n",
       "      <th>age</th>\n",
       "      <th>month_sin</th>\n",
       "      <th>month_cos</th>\n",
       "      <th>article_id</th>\n",
       "      <th>label</th>\n",
       "      <th>product_type_name</th>\n",
       "      <th>product_group_name</th>\n",
       "      <th>graphical_appearance_name</th>\n",
       "      <th>colour_group_name</th>\n",
       "      <th>perceived_colour_value_name</th>\n",
       "      <th>perceived_colour_master_name</th>\n",
       "      <th>department_name</th>\n",
       "      <th>index_name</th>\n",
       "      <th>index_group_name</th>\n",
       "      <th>section_name</th>\n",
       "      <th>garment_group_name</th>\n",
       "    </tr>\n",
       "  </thead>\n",
       "  <tbody>\n",
       "    <tr>\n",
       "      <th>0</th>\n",
       "      <td>3d5e6086e3ee56819118531a4a2cadcdaf5fc84448861b...</td>\n",
       "      <td>26.0</td>\n",
       "      <td>-0.5</td>\n",
       "      <td>-8.660254e-01</td>\n",
       "      <td>684341002</td>\n",
       "      <td>1</td>\n",
       "      <td>Swimwear bottom</td>\n",
       "      <td>Swimwear</td>\n",
       "      <td>Solid</td>\n",
       "      <td>Dark Red</td>\n",
       "      <td>Dark</td>\n",
       "      <td>Red</td>\n",
       "      <td>Swimwear</td>\n",
       "      <td>Lingeries/Tights</td>\n",
       "      <td>Ladieswear</td>\n",
       "      <td>Womens Swimwear, beachwear</td>\n",
       "      <td>Swimwear</td>\n",
       "    </tr>\n",
       "    <tr>\n",
       "      <th>1</th>\n",
       "      <td>89ab00da5e571760615e7d9941bf976cb08f4048d44ff4...</td>\n",
       "      <td>31.0</td>\n",
       "      <td>-1.0</td>\n",
       "      <td>-1.836970e-16</td>\n",
       "      <td>684341002</td>\n",
       "      <td>1</td>\n",
       "      <td>Swimwear bottom</td>\n",
       "      <td>Swimwear</td>\n",
       "      <td>Solid</td>\n",
       "      <td>Dark Red</td>\n",
       "      <td>Dark</td>\n",
       "      <td>Red</td>\n",
       "      <td>Swimwear</td>\n",
       "      <td>Lingeries/Tights</td>\n",
       "      <td>Ladieswear</td>\n",
       "      <td>Womens Swimwear, beachwear</td>\n",
       "      <td>Swimwear</td>\n",
       "    </tr>\n",
       "    <tr>\n",
       "      <th>2</th>\n",
       "      <td>68cc05ec0de8b8b08c76ee83cbe1d5f1286544d711462f...</td>\n",
       "      <td>24.0</td>\n",
       "      <td>-0.5</td>\n",
       "      <td>-8.660254e-01</td>\n",
       "      <td>684341002</td>\n",
       "      <td>1</td>\n",
       "      <td>Swimwear bottom</td>\n",
       "      <td>Swimwear</td>\n",
       "      <td>Solid</td>\n",
       "      <td>Dark Red</td>\n",
       "      <td>Dark</td>\n",
       "      <td>Red</td>\n",
       "      <td>Swimwear</td>\n",
       "      <td>Lingeries/Tights</td>\n",
       "      <td>Ladieswear</td>\n",
       "      <td>Womens Swimwear, beachwear</td>\n",
       "      <td>Swimwear</td>\n",
       "    </tr>\n",
       "  </tbody>\n",
       "</table>\n",
       "</div>"
      ],
      "text/plain": [
       "                                         customer_id   age  month_sin  \\\n",
       "0  3d5e6086e3ee56819118531a4a2cadcdaf5fc84448861b...  26.0       -0.5   \n",
       "1  89ab00da5e571760615e7d9941bf976cb08f4048d44ff4...  31.0       -1.0   \n",
       "2  68cc05ec0de8b8b08c76ee83cbe1d5f1286544d711462f...  24.0       -0.5   \n",
       "\n",
       "      month_cos article_id  label product_type_name product_group_name  \\\n",
       "0 -8.660254e-01  684341002      1   Swimwear bottom           Swimwear   \n",
       "1 -1.836970e-16  684341002      1   Swimwear bottom           Swimwear   \n",
       "2 -8.660254e-01  684341002      1   Swimwear bottom           Swimwear   \n",
       "\n",
       "  graphical_appearance_name colour_group_name perceived_colour_value_name  \\\n",
       "0                     Solid          Dark Red                        Dark   \n",
       "1                     Solid          Dark Red                        Dark   \n",
       "2                     Solid          Dark Red                        Dark   \n",
       "\n",
       "  perceived_colour_master_name department_name        index_name  \\\n",
       "0                          Red        Swimwear  Lingeries/Tights   \n",
       "1                          Red        Swimwear  Lingeries/Tights   \n",
       "2                          Red        Swimwear  Lingeries/Tights   \n",
       "\n",
       "  index_group_name                section_name garment_group_name  \n",
       "0       Ladieswear  Womens Swimwear, beachwear           Swimwear  \n",
       "1       Ladieswear  Womens Swimwear, beachwear           Swimwear  \n",
       "2       Ladieswear  Womens Swimwear, beachwear           Swimwear  "
      ]
     },
     "execution_count": 53,
     "metadata": {},
     "output_type": "execute_result"
    }
   ],
   "source": [
    "ranking_df = compute_ranking_dataset(\n",
    "    trans_fg,\n",
    "    articles_fg,\n",
    "    customers_fg,\n",
    ")\n",
    "ranking_df.head(3)"
   ]
  },
  {
   "cell_type": "code",
   "execution_count": 55,
   "id": "ec9e5bf0",
   "metadata": {},
   "outputs": [
    {
     "data": {
      "text/plain": [
       "label\n",
       "0    1103050\n",
       "1     110305\n",
       "Name: count, dtype: int64"
      ]
     },
     "execution_count": 55,
     "metadata": {},
     "output_type": "execute_result"
    }
   ],
   "source": [
    "ranking_df.label.value_counts()"
   ]
  },
  {
   "cell_type": "code",
   "execution_count": 56,
   "id": "3b514efe",
   "metadata": {},
   "outputs": [
    {
     "data": {
      "application/vnd.jupyter.widget-view+json": {
       "model_id": "6692fd856a974315907c306636aab639",
       "version_major": 2,
       "version_minor": 0
      },
      "text/plain": [
       "Uploading Dataframe: 0.00% |          | Rows 0/1213355 | Elapsed Time: 00:00 | Remaining Time: ?"
      ]
     },
     "metadata": {},
     "output_type": "display_data"
    },
    {
     "name": "stdout",
     "output_type": "stream",
     "text": [
      "Launching job: ranking_1_offline_fg_materialization\n",
      "Job started successfully, you can follow the progress at \n",
      "https://c.app.hopsworks.ai/p/15551/jobs/named/ranking_1_offline_fg_materialization/executions\n",
      "✅ Done!\n"
     ]
    }
   ],
   "source": [
    "rank_fg = fs.get_or_create_feature_group(\n",
    "    name=\"ranking\",\n",
    "    version=1,\n",
    "    description=\"Derived feature group for ranking\",\n",
    "    primary_key=[\"customer_id\", \"article_id\"],\n",
    "    parents=[articles_fg, customers_fg, trans_fg],\n",
    ")\n",
    "rank_fg.insert(ranking_df)\n",
    "logger.info(\"✅ Done!\")"
   ]
  },
  {
   "cell_type": "code",
   "execution_count": 57,
   "id": "103d27ed",
   "metadata": {},
   "outputs": [],
   "source": [
    "feature_descriptions = [\n",
    "    {\"name\": \"customer_id\", \"description\": \"Unique identifier for each customer.\"},\n",
    "    {\"name\": \"article_id\", \"description\": \"Identifier for the purchased article.\"},\n",
    "    {\"name\": \"age\", \"description\": \"Age of the customer.\"},\n",
    "    {\n",
    "        \"name\": \"month_sin\",\n",
    "        \"description\": \"Sine of the month used for seasonal patterns.\",\n",
    "    },\n",
    "    {\n",
    "        \"name\": \"month_cos\",\n",
    "        \"description\": \"Cosine of the month used for seasonal patterns.\",\n",
    "    },\n",
    "    {\"name\": \"product_type_name\", \"description\": \"Name of the product type.\"},\n",
    "    {\"name\": \"product_group_name\", \"description\": \"Name of the product group.\"},\n",
    "    {\n",
    "        \"name\": \"graphical_appearance_name\",\n",
    "        \"description\": \"Name of the graphical appearance.\",\n",
    "    },\n",
    "    {\"name\": \"colour_group_name\", \"description\": \"Name of the colour group.\"},\n",
    "    {\n",
    "        \"name\": \"perceived_colour_value_name\",\n",
    "        \"description\": \"Name of the perceived colour value.\",\n",
    "    },\n",
    "    {\n",
    "        \"name\": \"perceived_colour_master_name\",\n",
    "        \"description\": \"Name of the perceived colour master.\",\n",
    "    },\n",
    "    {\"name\": \"department_name\", \"description\": \"Name of the department.\"},\n",
    "    {\"name\": \"index_name\", \"description\": \"Name of the index.\"},\n",
    "    {\"name\": \"index_group_name\", \"description\": \"Name of the index group.\"},\n",
    "    {\"name\": \"section_name\", \"description\": \"Name of the section.\"},\n",
    "    {\"name\": \"garment_group_name\", \"description\": \"Name of the garment group.\"},\n",
    "    {\n",
    "        \"name\": \"label\",\n",
    "        \"description\": \"Label indicating whether the article was purchased (1) or not (0).\",\n",
    "    },\n",
    "]\n",
    "\n",
    "for desc in feature_descriptions:\n",
    "    rank_fg.update_feature_description(desc[\"name\"], desc[\"description\"])"
   ]
  },
  {
   "cell_type": "markdown",
   "id": "d3b4965d",
   "metadata": {},
   "source": [
    "You should now be able to inspect the feature groups in the Hopsworks UI."
   ]
  },
  {
   "cell_type": "markdown",
   "id": "9eeaefd5",
   "metadata": {},
   "source": [
    "---"
   ]
  },
  {
   "cell_type": "code",
   "execution_count": 58,
   "id": "c045b25d",
   "metadata": {},
   "outputs": [
    {
     "name": "stdout",
     "output_type": "stream",
     "text": [
      "⌛️ Notebook Execution time: 1974.10 seconds\n"
     ]
    }
   ],
   "source": [
    "# End the timer\n",
    "notebook_end_time = time.time()\n",
    "\n",
    "# Calculate and logger.info the execution time\n",
    "notebook_execution_time = notebook_end_time - notebook_start_time\n",
    "logger.info(f\"⌛️ Notebook Execution time: {notebook_execution_time:.2f} seconds\")"
   ]
  },
  {
   "cell_type": "markdown",
   "id": "8664cc84",
   "metadata": {},
   "source": [
    "---\n",
    "## <span style=\"color:#ff5f27\">⏩️ Next Steps </span>\n",
    "In the next notebook you'll train a retrieval model."
   ]
  }
 ],
 "metadata": {
  "kernelspec": {
   "display_name": "Python 3",
   "language": "python",
   "name": "python3"
  },
  "language_info": {
   "codemirror_mode": {
    "name": "ipython",
    "version": 3
   },
   "file_extension": ".py",
   "mimetype": "text/x-python",
   "name": "python",
   "nbconvert_exporter": "python",
   "pygments_lexer": "ipython3",
   "version": "3.11.8"
  }
 },
 "nbformat": 4,
 "nbformat_minor": 5
}
