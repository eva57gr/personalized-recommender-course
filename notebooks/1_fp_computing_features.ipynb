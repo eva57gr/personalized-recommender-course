{
   "cells": [
      {
         "cell_type": "code",
         "execution_count": 8,
         "id": "512af732",
         "metadata": {},
         "outputs": [],
         "source": [
            "import time\n",
            "\n",
            "notebook_start_time = time.time()"
         ]
      },
      {
         "cell_type": "markdown",
         "id": "e0f5b5cd",
         "metadata": {},
         "source": [
            "# Set up environment"
         ]
      },
      {
         "cell_type": "code",
         "execution_count": 9,
         "id": "f059347a",
         "metadata": {},
         "outputs": [
            {
               "name": "stdout",
               "output_type": "stream",
               "text": [
                  "⛳️ Local environment\n"
               ]
            }
         ],
         "source": [
            "import sys\n",
            "from pathlib import Path\n",
            "\n",
            "\n",
            "def is_google_colab() -> bool:\n",
            "    if \"google.colab\" in str(get_ipython()):\n",
            "        return True\n",
            "    return False\n",
            "\n",
            "\n",
            "def clone_repository() -> None:\n",
            "    !git clone https://github.com/decodingml/hands-on-recommender-system.git\n",
            "    %cd hands-on-recommender-system/\n",
            "\n",
            "\n",
            "def install_dependencies() -> None:\n",
            "    !pip install --upgrade uv\n",
            "    !uv pip install --all-extras --system --requirement pyproject.toml\n",
            "\n",
            "\n",
            "if is_google_colab():\n",
            "    clone_repository()\n",
            "    install_dependencies()\n",
            "\n",
            "    root_dir = str(Path().absolute())\n",
            "    print(\"⛳️ Google Colab environment\")\n",
            "else:\n",
            "    root_dir = str(Path().absolute().parent)\n",
            "    print(\"⛳️ Local environment\")\n",
            "\n",
            "# Add the root directory to the `PYTHONPATH` to use the `recsys` Python module from the notebook.\n",
            "if root_dir not in sys.path:\n",
            "    print(f\"Adding the following directory to the PYTHONPATH: {root_dir}\")\n",
            "    sys.path.append(root_dir)"
         ]
      },
      {
         "cell_type": "markdown",
         "id": "5bd941eb",
         "metadata": {},
         "source": [
            "# 👩🏻‍🔬 Feature pipeline: Computing features"
         ]
      },
      {
         "cell_type": "markdown",
         "id": "96b90025",
         "metadata": {},
         "source": [
            "## Imports"
         ]
      },
      {
         "cell_type": "code",
         "execution_count": 10,
         "id": "e079bf33",
         "metadata": {},
         "outputs": [
            {
               "name": "stdout",
               "output_type": "stream",
               "text": [
                  "The autoreload extension is already loaded. To reload it, use:\n",
                  "  %reload_ext autoreload\n"
               ]
            }
         ],
         "source": [
            "%load_ext autoreload\n",
            "%autoreload 2\n",
            "\n",
            "import warnings\n",
            "from pprint import pprint\n",
            "\n",
            "import polars as pl\n",
            "import torch\n",
            "from loguru import logger\n",
            "from sentence_transformers import SentenceTransformer\n",
            "\n",
            "warnings.filterwarnings(\"ignore\")\n",
            "\n",
            "from recsys import hopsworks_integration\n",
            "from recsys.config import settings\n",
            "from recsys.features.articles import (\n",
            "    compute_features_articles,\n",
            "    generate_embeddings_for_dataframe,\n",
            ")\n",
            "from recsys.features.customers import DatasetSampler, compute_features_customers\n",
            "from recsys.features.interaction import generate_interaction_data\n",
            "from recsys.features.ranking import compute_ranking_dataset\n",
            "from recsys.features.transactions import compute_features_transactions\n",
            "from recsys.hopsworks_integration import feature_store\n",
            "from recsys.raw_data_sources import h_and_m as h_and_m_raw_data"
         ]
      },
      {
         "cell_type": "markdown",
         "id": "0154088e",
         "metadata": {},
         "source": [
            "## Constants"
         ]
      },
      {
         "cell_type": "markdown",
         "id": "e8dd7eff",
         "metadata": {},
         "source": [
            "These are the default settings used across the lessons. You can always override them in the `.env` file that sits at the root of the repository:"
         ]
      },
      {
         "cell_type": "code",
         "execution_count": 11,
         "id": "08e83a27",
         "metadata": {},
         "outputs": [
            {
               "name": "stdout",
               "output_type": "stream",
               "text": [
                  "{'CUSTOMER_DATA_SIZE': <CustomerDatasetSize.SMALL: 'SMALL'>,\n",
                  " 'CUSTOM_HOPSWORKS_INFERENCE_ENV': 'custom_env_name',\n",
                  " 'FEATURES_EMBEDDING_MODEL_ID': 'all-MiniLM-L6-v2',\n",
                  " 'HOPSWORKS_API_KEY': SecretStr('**********'),\n",
                  " 'OPENAI_API_KEY': SecretStr('**********'),\n",
                  " 'OPENAI_MODEL_ID': 'gpt-4o-mini',\n",
                  " 'RANKING_DATASET_VALIDATON_SPLIT_SIZE': 0.1,\n",
                  " 'RANKING_EARLY_STOPPING_ROUNDS': 5,\n",
                  " 'RANKING_ITERATIONS': 100,\n",
                  " 'RANKING_LEARNING_RATE': 0.2,\n",
                  " 'RANKING_MODEL_TYPE': 'ranking',\n",
                  " 'RANKING_SCALE_POS_WEIGHT': 10,\n",
                  " 'RECSYS_DIR': PosixPath('/Users/pauliusztin/Documents/01_projects/hopsworks_recsys/hands-on-recommender-system/recsys'),\n",
                  " 'TWO_TOWER_DATASET_TEST_SPLIT_SIZE': 0.1,\n",
                  " 'TWO_TOWER_DATASET_VALIDATON_SPLIT_SIZE': 0.1,\n",
                  " 'TWO_TOWER_LEARNING_RATE': 0.01,\n",
                  " 'TWO_TOWER_MODEL_BATCH_SIZE': 2048,\n",
                  " 'TWO_TOWER_MODEL_EMBEDDING_SIZE': 16,\n",
                  " 'TWO_TOWER_NUM_EPOCHS': 10,\n",
                  " 'TWO_TOWER_WEIGHT_DECAY': 0.001}\n"
               ]
            }
         ],
         "source": [
            "pprint(dict(settings))"
         ]
      },
      {
         "cell_type": "markdown",
         "id": "e3a0200e",
         "metadata": {},
         "source": [
            "The most important one is the dataset size.\n",
            "\n",
            "Choosing a different dataset size will impact the time it takes to run everything and the quality of the final models. We suggest using a small dataset size when running this the first time.\n",
            "\n",
            "Suported user dataset sizes:"
         ]
      },
      {
         "cell_type": "code",
         "execution_count": 12,
         "id": "8ef8eb9b",
         "metadata": {},
         "outputs": [
            {
               "data": {
                  "text/plain": [
                     "{<CustomerDatasetSize.LARGE: 'LARGE'>: 50000,\n",
                     " <CustomerDatasetSize.MEDIUM: 'MEDIUM'>: 5000,\n",
                     " <CustomerDatasetSize.SMALL: 'SMALL'>: 1000}"
                  ]
               },
               "execution_count": 12,
               "metadata": {},
               "output_type": "execute_result"
            }
         ],
         "source": [
            "DatasetSampler.get_supported_sizes()"
         ]
      },
      {
         "cell_type": "markdown",
         "id": "d8f493a2",
         "metadata": {},
         "source": [
            "## <span style=\"color:#ff5f27\">🔮 Connect to Hopsworks Feature Store </span>"
         ]
      },
      {
         "cell_type": "code",
         "execution_count": 13,
         "id": "fa2a8cce",
         "metadata": {},
         "outputs": [
            {
               "name": "stderr",
               "output_type": "stream",
               "text": [
                  "\u001b[32m2024-12-24 12:02:16.579\u001b[0m | \u001b[1mINFO    \u001b[0m | \u001b[36mrecsys.hopsworks_integration.feature_store\u001b[0m:\u001b[36mget_feature_store\u001b[0m:\u001b[36m13\u001b[0m - \u001b[1mLoging to Hopsworks using HOPSWORKS_API_KEY env var.\u001b[0m\n"
               ]
            },
            {
               "name": "stdout",
               "output_type": "stream",
               "text": [
                  "2024-12-24 12:02:16,579 INFO: Closing external client and cleaning up certificates.\n",
                  "Connection closed.\n",
                  "2024-12-24 12:02:16,582 INFO: Initializing external client\n",
                  "2024-12-24 12:02:16,582 INFO: Base URL: https://c.app.hopsworks.ai:443\n",
                  "2024-12-24 12:02:17,899 INFO: Python Engine initialized.\n",
                  "\n",
                  "Logged in to project, explore it here https://c.app.hopsworks.ai:443/p/1192098\n"
               ]
            }
         ],
         "source": [
            "project, fs = hopsworks_integration.get_feature_store()"
         ]
      },
      {
         "cell_type": "markdown",
         "id": "8c97d003",
         "metadata": {},
         "source": [
            "# The H&M dataset\n",
            "\n",
            "To show how a recommender system using the two tower architecture works, we will use the [H&M Personalized Fashion Recommendations](https://www.kaggle.com/competitions/h-and-m-personalized-fashion-recommendations) dataset.\n",
            "\n",
            "It consists of:\n",
            "- articles\n",
            "- customers\n",
            "- transactions"
         ]
      },
      {
         "cell_type": "markdown",
         "id": "8fd35140",
         "metadata": {},
         "source": [
            "# 🗄️ Articles data\n",
            "\n",
            "The **article_id** and **product_code** serve different purposes in the context of H&M's product database:\n",
            "\n",
            "- **Article ID**: This is a unique identifier assigned to each individual article within the database. It is typically used for internal tracking and management purposes. Each distinct item or variant of a product (e.g., different sizes or colors) would have its own unique article_id.\n",
            "\n",
            "- **Product Code**: This is also a unique identifier, but it is associated with a specific product or style rather than individual articles. It represents a broader category or type of product within H&M's inventory. Multiple articles may share the same product code if they belong to the same product line or style.\n",
            "\n",
            "While both are unique identifiers, the article_id is specific to individual items, whereas the product_code represents a broader category or style of product.\n",
            "\n",
            "Here is an example:\n",
            "\n",
            "**Product: Basic T-Shirt**\n",
            "\n",
            "- **Product Code:** TS001\n",
            "\n",
            "- **Article IDs:**\n",
            "    - Article ID: 1001 (Size: Small, Color: White)\n",
            "    - Article ID: 1002 (Size: Medium, Color: White)\n",
            "    - Article ID: 1003 (Size: Large, Color: White)\n",
            "    - Article ID: 1004 (Size: Small, Color: Black)\n",
            "    - Article ID: 1005 (Size: Medium, Color: Black)\n",
            "\n",
            "In this example, \"TS001\" is the product code for the basic t-shirt style. Each variant of this t-shirt (e.g., different sizes and colors) has its own unique article_id.\n",
            "\n"
         ]
      },
      {
         "cell_type": "code",
         "execution_count": 14,
         "id": "0c01bb65",
         "metadata": {},
         "outputs": [
            {
               "data": {
                  "text/plain": [
                     "(105542, 25)"
                  ]
               },
               "execution_count": 14,
               "metadata": {},
               "output_type": "execute_result"
            }
         ],
         "source": [
            "articles_df = h_and_m_raw_data.extract_articles_df()\n",
            "articles_df.shape"
         ]
      },
      {
         "cell_type": "markdown",
         "id": "148c5053",
         "metadata": {},
         "source": [
            "The articles DataFrame looks as follows:"
         ]
      },
      {
         "cell_type": "code",
         "execution_count": 15,
         "id": "081496ab",
         "metadata": {},
         "outputs": [
            {
               "data": {
                  "text/html": [
                     "<div><style>\n",
                     ".dataframe > thead > tr,\n",
                     ".dataframe > tbody > tr {\n",
                     "  text-align: right;\n",
                     "  white-space: pre-wrap;\n",
                     "}\n",
                     "</style>\n",
                     "<small>shape: (3, 25)</small><table border=\"1\" class=\"dataframe\"><thead><tr><th>article_id</th><th>product_code</th><th>prod_name</th><th>product_type_no</th><th>product_type_name</th><th>product_group_name</th><th>graphical_appearance_no</th><th>graphical_appearance_name</th><th>colour_group_code</th><th>colour_group_name</th><th>perceived_colour_value_id</th><th>perceived_colour_value_name</th><th>perceived_colour_master_id</th><th>perceived_colour_master_name</th><th>department_no</th><th>department_name</th><th>index_code</th><th>index_name</th><th>index_group_no</th><th>index_group_name</th><th>section_no</th><th>section_name</th><th>garment_group_no</th><th>garment_group_name</th><th>detail_desc</th></tr><tr><td>i64</td><td>i64</td><td>str</td><td>i64</td><td>str</td><td>str</td><td>i64</td><td>str</td><td>i64</td><td>str</td><td>i64</td><td>str</td><td>i64</td><td>str</td><td>i64</td><td>str</td><td>str</td><td>str</td><td>i64</td><td>str</td><td>i64</td><td>str</td><td>i64</td><td>str</td><td>str</td></tr></thead><tbody><tr><td>108775015</td><td>108775</td><td>&quot;Strap top&quot;</td><td>253</td><td>&quot;Vest top&quot;</td><td>&quot;Garment Upper body&quot;</td><td>1010016</td><td>&quot;Solid&quot;</td><td>9</td><td>&quot;Black&quot;</td><td>4</td><td>&quot;Dark&quot;</td><td>5</td><td>&quot;Black&quot;</td><td>1676</td><td>&quot;Jersey Basic&quot;</td><td>&quot;A&quot;</td><td>&quot;Ladieswear&quot;</td><td>1</td><td>&quot;Ladieswear&quot;</td><td>16</td><td>&quot;Womens Everyday Basics&quot;</td><td>1002</td><td>&quot;Jersey Basic&quot;</td><td>&quot;Jersey top with narrow shoulde…</td></tr><tr><td>108775044</td><td>108775</td><td>&quot;Strap top&quot;</td><td>253</td><td>&quot;Vest top&quot;</td><td>&quot;Garment Upper body&quot;</td><td>1010016</td><td>&quot;Solid&quot;</td><td>10</td><td>&quot;White&quot;</td><td>3</td><td>&quot;Light&quot;</td><td>9</td><td>&quot;White&quot;</td><td>1676</td><td>&quot;Jersey Basic&quot;</td><td>&quot;A&quot;</td><td>&quot;Ladieswear&quot;</td><td>1</td><td>&quot;Ladieswear&quot;</td><td>16</td><td>&quot;Womens Everyday Basics&quot;</td><td>1002</td><td>&quot;Jersey Basic&quot;</td><td>&quot;Jersey top with narrow shoulde…</td></tr><tr><td>108775051</td><td>108775</td><td>&quot;Strap top (1)&quot;</td><td>253</td><td>&quot;Vest top&quot;</td><td>&quot;Garment Upper body&quot;</td><td>1010017</td><td>&quot;Stripe&quot;</td><td>11</td><td>&quot;Off White&quot;</td><td>1</td><td>&quot;Dusty Light&quot;</td><td>9</td><td>&quot;White&quot;</td><td>1676</td><td>&quot;Jersey Basic&quot;</td><td>&quot;A&quot;</td><td>&quot;Ladieswear&quot;</td><td>1</td><td>&quot;Ladieswear&quot;</td><td>16</td><td>&quot;Womens Everyday Basics&quot;</td><td>1002</td><td>&quot;Jersey Basic&quot;</td><td>&quot;Jersey top with narrow shoulde…</td></tr></tbody></table></div>"
                  ],
                  "text/plain": [
                     "shape: (3, 25)\n",
                     "┌───────────┬───────────┬───────────┬───────────┬───┬───────────┬───────────┬───────────┬──────────┐\n",
                     "│ article_i ┆ product_c ┆ prod_name ┆ product_t ┆ … ┆ section_n ┆ garment_g ┆ garment_g ┆ detail_d │\n",
                     "│ d         ┆ ode       ┆ ---       ┆ ype_no    ┆   ┆ ame       ┆ roup_no   ┆ roup_name ┆ esc      │\n",
                     "│ ---       ┆ ---       ┆ str       ┆ ---       ┆   ┆ ---       ┆ ---       ┆ ---       ┆ ---      │\n",
                     "│ i64       ┆ i64       ┆           ┆ i64       ┆   ┆ str       ┆ i64       ┆ str       ┆ str      │\n",
                     "╞═══════════╪═══════════╪═══════════╪═══════════╪═══╪═══════════╪═══════════╪═══════════╪══════════╡\n",
                     "│ 108775015 ┆ 108775    ┆ Strap top ┆ 253       ┆ … ┆ Womens    ┆ 1002      ┆ Jersey    ┆ Jersey   │\n",
                     "│           ┆           ┆           ┆           ┆   ┆ Everyday  ┆           ┆ Basic     ┆ top with │\n",
                     "│           ┆           ┆           ┆           ┆   ┆ Basics    ┆           ┆           ┆ narrow   │\n",
                     "│           ┆           ┆           ┆           ┆   ┆           ┆           ┆           ┆ shoulde… │\n",
                     "│ 108775044 ┆ 108775    ┆ Strap top ┆ 253       ┆ … ┆ Womens    ┆ 1002      ┆ Jersey    ┆ Jersey   │\n",
                     "│           ┆           ┆           ┆           ┆   ┆ Everyday  ┆           ┆ Basic     ┆ top with │\n",
                     "│           ┆           ┆           ┆           ┆   ┆ Basics    ┆           ┆           ┆ narrow   │\n",
                     "│           ┆           ┆           ┆           ┆   ┆           ┆           ┆           ┆ shoulde… │\n",
                     "│ 108775051 ┆ 108775    ┆ Strap top ┆ 253       ┆ … ┆ Womens    ┆ 1002      ┆ Jersey    ┆ Jersey   │\n",
                     "│           ┆           ┆ (1)       ┆           ┆   ┆ Everyday  ┆           ┆ Basic     ┆ top with │\n",
                     "│           ┆           ┆           ┆           ┆   ┆ Basics    ┆           ┆           ┆ narrow   │\n",
                     "│           ┆           ┆           ┆           ┆   ┆           ┆           ┆           ┆ shoulde… │\n",
                     "└───────────┴───────────┴───────────┴───────────┴───┴───────────┴───────────┴───────────┴──────────┘"
                  ]
               },
               "execution_count": 15,
               "metadata": {},
               "output_type": "execute_result"
            }
         ],
         "source": [
            "articles_df.head(3)"
         ]
      },
      {
         "cell_type": "markdown",
         "id": "d5921fa7",
         "metadata": {},
         "source": [
            "Check for NaNs:\n"
         ]
      },
      {
         "cell_type": "code",
         "execution_count": 16,
         "id": "35d77f95",
         "metadata": {},
         "outputs": [
            {
               "data": {
                  "text/html": [
                     "<div><style>\n",
                     ".dataframe > thead > tr,\n",
                     ".dataframe > tbody > tr {\n",
                     "  text-align: right;\n",
                     "  white-space: pre-wrap;\n",
                     "}\n",
                     "</style>\n",
                     "<small>shape: (1, 25)</small><table border=\"1\" class=\"dataframe\"><thead><tr><th>article_id</th><th>product_code</th><th>prod_name</th><th>product_type_no</th><th>product_type_name</th><th>product_group_name</th><th>graphical_appearance_no</th><th>graphical_appearance_name</th><th>colour_group_code</th><th>colour_group_name</th><th>perceived_colour_value_id</th><th>perceived_colour_value_name</th><th>perceived_colour_master_id</th><th>perceived_colour_master_name</th><th>department_no</th><th>department_name</th><th>index_code</th><th>index_name</th><th>index_group_no</th><th>index_group_name</th><th>section_no</th><th>section_name</th><th>garment_group_no</th><th>garment_group_name</th><th>detail_desc</th></tr><tr><td>u32</td><td>u32</td><td>u32</td><td>u32</td><td>u32</td><td>u32</td><td>u32</td><td>u32</td><td>u32</td><td>u32</td><td>u32</td><td>u32</td><td>u32</td><td>u32</td><td>u32</td><td>u32</td><td>u32</td><td>u32</td><td>u32</td><td>u32</td><td>u32</td><td>u32</td><td>u32</td><td>u32</td><td>u32</td></tr></thead><tbody><tr><td>0</td><td>0</td><td>0</td><td>0</td><td>0</td><td>0</td><td>0</td><td>0</td><td>0</td><td>0</td><td>0</td><td>0</td><td>0</td><td>0</td><td>0</td><td>0</td><td>0</td><td>0</td><td>0</td><td>0</td><td>0</td><td>0</td><td>0</td><td>0</td><td>416</td></tr></tbody></table></div>"
                  ],
                  "text/plain": [
                     "shape: (1, 25)\n",
                     "┌───────────┬───────────┬───────────┬───────────┬───┬───────────┬───────────┬───────────┬──────────┐\n",
                     "│ article_i ┆ product_c ┆ prod_name ┆ product_t ┆ … ┆ section_n ┆ garment_g ┆ garment_g ┆ detail_d │\n",
                     "│ d         ┆ ode       ┆ ---       ┆ ype_no    ┆   ┆ ame       ┆ roup_no   ┆ roup_name ┆ esc      │\n",
                     "│ ---       ┆ ---       ┆ u32       ┆ ---       ┆   ┆ ---       ┆ ---       ┆ ---       ┆ ---      │\n",
                     "│ u32       ┆ u32       ┆           ┆ u32       ┆   ┆ u32       ┆ u32       ┆ u32       ┆ u32      │\n",
                     "╞═══════════╪═══════════╪═══════════╪═══════════╪═══╪═══════════╪═══════════╪═══════════╪══════════╡\n",
                     "│ 0         ┆ 0         ┆ 0         ┆ 0         ┆ … ┆ 0         ┆ 0         ┆ 0         ┆ 416      │\n",
                     "└───────────┴───────────┴───────────┴───────────┴───┴───────────┴───────────┴───────────┴──────────┘"
                  ]
               },
               "execution_count": 16,
               "metadata": {},
               "output_type": "execute_result"
            }
         ],
         "source": [
            "articles_df.null_count()"
         ]
      },
      {
         "cell_type": "markdown",
         "id": "dca1289b",
         "metadata": {},
         "source": [
            "## Articles feature engineering\n"
         ]
      },
      {
         "cell_type": "code",
         "execution_count": 17,
         "id": "dbc970ab",
         "metadata": {},
         "outputs": [
            {
               "data": {
                  "text/plain": [
                     "(105542, 27)"
                  ]
               },
               "execution_count": 17,
               "metadata": {},
               "output_type": "execute_result"
            }
         ],
         "source": [
            "articles_df = compute_features_articles(articles_df)\n",
            "articles_df.shape\n"
         ]
      },
      {
         "cell_type": "markdown",
         "id": "77e39cec",
         "metadata": {},
         "source": [
            "The features of the articles look as:"
         ]
      },
      {
         "cell_type": "code",
         "execution_count": 18,
         "id": "5c4181c0",
         "metadata": {},
         "outputs": [
            {
               "data": {
                  "text/html": [
                     "<div><style>\n",
                     ".dataframe > thead > tr,\n",
                     ".dataframe > tbody > tr {\n",
                     "  text-align: right;\n",
                     "  white-space: pre-wrap;\n",
                     "}\n",
                     "</style>\n",
                     "<small>shape: (3, 27)</small><table border=\"1\" class=\"dataframe\"><thead><tr><th>article_id</th><th>product_code</th><th>prod_name</th><th>product_type_no</th><th>product_type_name</th><th>product_group_name</th><th>graphical_appearance_no</th><th>graphical_appearance_name</th><th>colour_group_code</th><th>colour_group_name</th><th>perceived_colour_value_id</th><th>perceived_colour_value_name</th><th>perceived_colour_master_id</th><th>perceived_colour_master_name</th><th>department_no</th><th>department_name</th><th>index_code</th><th>index_name</th><th>index_group_no</th><th>index_group_name</th><th>section_no</th><th>section_name</th><th>garment_group_no</th><th>garment_group_name</th><th>prod_name_length</th><th>article_description</th><th>image_url</th></tr><tr><td>str</td><td>i64</td><td>str</td><td>i64</td><td>str</td><td>str</td><td>i64</td><td>str</td><td>i64</td><td>str</td><td>i64</td><td>str</td><td>i64</td><td>str</td><td>i64</td><td>str</td><td>str</td><td>str</td><td>i64</td><td>str</td><td>i64</td><td>str</td><td>i64</td><td>str</td><td>u32</td><td>str</td><td>str</td></tr></thead><tbody><tr><td>&quot;108775015&quot;</td><td>108775</td><td>&quot;Strap top&quot;</td><td>253</td><td>&quot;Vest top&quot;</td><td>&quot;Garment Upper body&quot;</td><td>1010016</td><td>&quot;Solid&quot;</td><td>9</td><td>&quot;Black&quot;</td><td>4</td><td>&quot;Dark&quot;</td><td>5</td><td>&quot;Black&quot;</td><td>1676</td><td>&quot;Jersey Basic&quot;</td><td>&quot;A&quot;</td><td>&quot;Ladieswear&quot;</td><td>1</td><td>&quot;Ladieswear&quot;</td><td>16</td><td>&quot;Womens Everyday Basics&quot;</td><td>1002</td><td>&quot;Jersey Basic&quot;</td><td>9</td><td>&quot;Strap top - Vest top in Garmen…</td><td>&quot;https://repo.hops.works/dev/jd…</td></tr><tr><td>&quot;108775044&quot;</td><td>108775</td><td>&quot;Strap top&quot;</td><td>253</td><td>&quot;Vest top&quot;</td><td>&quot;Garment Upper body&quot;</td><td>1010016</td><td>&quot;Solid&quot;</td><td>10</td><td>&quot;White&quot;</td><td>3</td><td>&quot;Light&quot;</td><td>9</td><td>&quot;White&quot;</td><td>1676</td><td>&quot;Jersey Basic&quot;</td><td>&quot;A&quot;</td><td>&quot;Ladieswear&quot;</td><td>1</td><td>&quot;Ladieswear&quot;</td><td>16</td><td>&quot;Womens Everyday Basics&quot;</td><td>1002</td><td>&quot;Jersey Basic&quot;</td><td>9</td><td>&quot;Strap top - Vest top in Garmen…</td><td>&quot;https://repo.hops.works/dev/jd…</td></tr><tr><td>&quot;108775051&quot;</td><td>108775</td><td>&quot;Strap top (1)&quot;</td><td>253</td><td>&quot;Vest top&quot;</td><td>&quot;Garment Upper body&quot;</td><td>1010017</td><td>&quot;Stripe&quot;</td><td>11</td><td>&quot;Off White&quot;</td><td>1</td><td>&quot;Dusty Light&quot;</td><td>9</td><td>&quot;White&quot;</td><td>1676</td><td>&quot;Jersey Basic&quot;</td><td>&quot;A&quot;</td><td>&quot;Ladieswear&quot;</td><td>1</td><td>&quot;Ladieswear&quot;</td><td>16</td><td>&quot;Womens Everyday Basics&quot;</td><td>1002</td><td>&quot;Jersey Basic&quot;</td><td>13</td><td>&quot;Strap top (1) - Vest top in Ga…</td><td>&quot;https://repo.hops.works/dev/jd…</td></tr></tbody></table></div>"
                  ],
                  "text/plain": [
                     "shape: (3, 27)\n",
                     "┌───────────┬───────────┬───────────┬───────────┬───┬───────────┬───────────┬───────────┬──────────┐\n",
                     "│ article_i ┆ product_c ┆ prod_name ┆ product_t ┆ … ┆ garment_g ┆ prod_name ┆ article_d ┆ image_ur │\n",
                     "│ d         ┆ ode       ┆ ---       ┆ ype_no    ┆   ┆ roup_name ┆ _length   ┆ escriptio ┆ l        │\n",
                     "│ ---       ┆ ---       ┆ str       ┆ ---       ┆   ┆ ---       ┆ ---       ┆ n         ┆ ---      │\n",
                     "│ str       ┆ i64       ┆           ┆ i64       ┆   ┆ str       ┆ u32       ┆ ---       ┆ str      │\n",
                     "│           ┆           ┆           ┆           ┆   ┆           ┆           ┆ str       ┆          │\n",
                     "╞═══════════╪═══════════╪═══════════╪═══════════╪═══╪═══════════╪═══════════╪═══════════╪══════════╡\n",
                     "│ 108775015 ┆ 108775    ┆ Strap top ┆ 253       ┆ … ┆ Jersey    ┆ 9         ┆ Strap top ┆ https:// │\n",
                     "│           ┆           ┆           ┆           ┆   ┆ Basic     ┆           ┆ - Vest    ┆ repo.hop │\n",
                     "│           ┆           ┆           ┆           ┆   ┆           ┆           ┆ top in    ┆ s.works/ │\n",
                     "│           ┆           ┆           ┆           ┆   ┆           ┆           ┆ Garmen…   ┆ dev/jd…  │\n",
                     "│ 108775044 ┆ 108775    ┆ Strap top ┆ 253       ┆ … ┆ Jersey    ┆ 9         ┆ Strap top ┆ https:// │\n",
                     "│           ┆           ┆           ┆           ┆   ┆ Basic     ┆           ┆ - Vest    ┆ repo.hop │\n",
                     "│           ┆           ┆           ┆           ┆   ┆           ┆           ┆ top in    ┆ s.works/ │\n",
                     "│           ┆           ┆           ┆           ┆   ┆           ┆           ┆ Garmen…   ┆ dev/jd…  │\n",
                     "│ 108775051 ┆ 108775    ┆ Strap top ┆ 253       ┆ … ┆ Jersey    ┆ 13        ┆ Strap top ┆ https:// │\n",
                     "│           ┆           ┆ (1)       ┆           ┆   ┆ Basic     ┆           ┆ (1) -     ┆ repo.hop │\n",
                     "│           ┆           ┆           ┆           ┆   ┆           ┆           ┆ Vest top  ┆ s.works/ │\n",
                     "│           ┆           ┆           ┆           ┆   ┆           ┆           ┆ in Ga…    ┆ dev/jd…  │\n",
                     "└───────────┴───────────┴───────────┴───────────┴───┴───────────┴───────────┴───────────┴──────────┘"
                  ]
               },
               "execution_count": 18,
               "metadata": {},
               "output_type": "execute_result"
            }
         ],
         "source": [
            "articles_df.head(3)"
         ]
      },
      {
         "cell_type": "markdown",
         "id": "a3e11366",
         "metadata": {},
         "source": [
            "### Create embeddings from the articles description"
         ]
      },
      {
         "cell_type": "code",
         "execution_count": 19,
         "id": "ade56dd0",
         "metadata": {},
         "outputs": [
            {
               "name": "stderr",
               "output_type": "stream",
               "text": [
                  "\u001b[32m2024-12-24 12:02:21.072\u001b[0m | \u001b[1mINFO    \u001b[0m | \u001b[36m__main__\u001b[0m:\u001b[36m<module>\u001b[0m:\u001b[36m2\u001b[0m - \u001b[1mItem 1:\n",
                  "Strap top - Vest top in Garment Upper body\n",
                  "Appearance: Solid\n",
                  "Color: Dark Black (Black)\n",
                  "Category: Ladieswear - Womens Everyday Basics - Jersey Basic\n",
                  "Details: Jersey top with narrow shoulder straps.\u001b[0m\n",
                  "\u001b[32m2024-12-24 12:02:21.073\u001b[0m | \u001b[1mINFO    \u001b[0m | \u001b[36m__main__\u001b[0m:\u001b[36m<module>\u001b[0m:\u001b[36m2\u001b[0m - \u001b[1mItem 2:\n",
                  "Strap top - Vest top in Garment Upper body\n",
                  "Appearance: Solid\n",
                  "Color: Light White (White)\n",
                  "Category: Ladieswear - Womens Everyday Basics - Jersey Basic\n",
                  "Details: Jersey top with narrow shoulder straps.\u001b[0m\n",
                  "\u001b[32m2024-12-24 12:02:21.073\u001b[0m | \u001b[1mINFO    \u001b[0m | \u001b[36m__main__\u001b[0m:\u001b[36m<module>\u001b[0m:\u001b[36m2\u001b[0m - \u001b[1mItem 3:\n",
                  "Strap top (1) - Vest top in Garment Upper body\n",
                  "Appearance: Stripe\n",
                  "Color: Dusty Light White (Off White)\n",
                  "Category: Ladieswear - Womens Everyday Basics - Jersey Basic\n",
                  "Details: Jersey top with narrow shoulder straps.\u001b[0m\n"
               ]
            }
         ],
         "source": [
            "for i, desc in enumerate(articles_df[\"article_description\"].head(n=3)):\n",
            "    logger.info(f\"Item {i+1}:\\n{desc}\")"
         ]
      },
      {
         "cell_type": "code",
         "execution_count": 20,
         "id": "65cc56ee",
         "metadata": {},
         "outputs": [
            {
               "name": "stderr",
               "output_type": "stream",
               "text": [
                  "\u001b[32m2024-12-24 12:02:21.105\u001b[0m | \u001b[1mINFO    \u001b[0m | \u001b[36m__main__\u001b[0m:\u001b[36m<module>\u001b[0m:\u001b[36m8\u001b[0m - \u001b[1mLoading 'all-MiniLM-L6-v2' embedding model to device='mps'\u001b[0m\n"
               ]
            },
            {
               "name": "stdout",
               "output_type": "stream",
               "text": [
                  "2024-12-24 12:02:21,105 INFO: Load pretrained SentenceTransformer: all-MiniLM-L6-v2\n"
               ]
            }
         ],
         "source": [
            "device = (\n",
            "    \"cuda\"\n",
            "    if torch.cuda.is_available()\n",
            "    else \"mps\"\n",
            "    if torch.backends.mps.is_available()\n",
            "    else \"cpu\"\n",
            ")\n",
            "logger.info(\n",
            "    f\"Loading '{settings.FEATURES_EMBEDDING_MODEL_ID}' embedding model to {device=}\"\n",
            ")\n",
            "\n",
            "# Load the embedding model from SentenceTransformer's model registry.\n",
            "model = SentenceTransformer(settings.FEATURES_EMBEDDING_MODEL_ID, device=device)"
         ]
      },
      {
         "cell_type": "code",
         "execution_count": 21,
         "id": "3607f6b9",
         "metadata": {},
         "outputs": [
            {
               "name": "stderr",
               "output_type": "stream",
               "text": [
                  "Generating embeddings: 100%|██████████| 105542/105542 [05:26<00:00, 323.30it/s]\n"
               ]
            }
         ],
         "source": [
            "articles_df = generate_embeddings_for_dataframe(\n",
            "    articles_df, \"article_description\", model, batch_size=128\n",
            ")  # Reduce batch size if getting OOM errors."
         ]
      },
      {
         "cell_type": "markdown",
         "id": "936e0392",
         "metadata": {},
         "source": [
            "For each article description, we have a numerical vector which we can feed to a model, opposite to a string containing the description of an object."
         ]
      },
      {
         "cell_type": "code",
         "execution_count": 22,
         "id": "d75beb72",
         "metadata": {},
         "outputs": [
            {
               "data": {
                  "text/html": [
                     "<div><style>\n",
                     ".dataframe > thead > tr,\n",
                     ".dataframe > tbody > tr {\n",
                     "  text-align: right;\n",
                     "  white-space: pre-wrap;\n",
                     "}\n",
                     "</style>\n",
                     "<small>shape: (3, 2)</small><table border=\"1\" class=\"dataframe\"><thead><tr><th>article_description</th><th>embeddings</th></tr><tr><td>str</td><td>list[f64]</td></tr></thead><tbody><tr><td>&quot;Strap top - Vest top in Garmen…</td><td>[-0.026782, 0.082344, … 0.022782]</td></tr><tr><td>&quot;Strap top - Vest top in Garmen…</td><td>[-0.010396, 0.089874, … 0.022564]</td></tr><tr><td>&quot;Strap top (1) - Vest top in Ga…</td><td>[-0.032753, 0.091124, … 0.022804]</td></tr></tbody></table></div>"
                  ],
                  "text/plain": [
                     "shape: (3, 2)\n",
                     "┌─────────────────────────────────┬─────────────────────────────────┐\n",
                     "│ article_description             ┆ embeddings                      │\n",
                     "│ ---                             ┆ ---                             │\n",
                     "│ str                             ┆ list[f64]                       │\n",
                     "╞═════════════════════════════════╪═════════════════════════════════╡\n",
                     "│ Strap top - Vest top in Garmen… ┆ [-0.026782, 0.082344, … 0.0227… │\n",
                     "│ Strap top - Vest top in Garmen… ┆ [-0.010396, 0.089874, … 0.0225… │\n",
                     "│ Strap top (1) - Vest top in Ga… ┆ [-0.032753, 0.091124, … 0.0228… │\n",
                     "└─────────────────────────────────┴─────────────────────────────────┘"
                  ]
               },
               "execution_count": 22,
               "metadata": {},
               "output_type": "execute_result"
            }
         ],
         "source": [
            "articles_df[[\"article_description\", \"embeddings\"]].head(3)"
         ]
      },
      {
         "cell_type": "markdown",
         "id": "e60d5f5d",
         "metadata": {},
         "source": [
            "### Looking at image links"
         ]
      },
      {
         "cell_type": "code",
         "execution_count": 23,
         "id": "04297ee1",
         "metadata": {},
         "outputs": [
            {
               "data": {
                  "text/plain": [
                     "'https://repo.hops.works/dev/jdowling/h-and-m/images/010/0108775015.jpg'"
                  ]
               },
               "execution_count": 23,
               "metadata": {},
               "output_type": "execute_result"
            }
         ],
         "source": [
            "articles_df[\"image_url\"][0]"
         ]
      },
      {
         "cell_type": "code",
         "execution_count": 24,
         "id": "e9de393c",
         "metadata": {},
         "outputs": [
            {
               "data": {
                  "text/html": [
                     "<div style=\"display: grid; grid-template-columns: repeat(6, 1fr); gap: 10px; max-width: 900px;\"><img src=\"https://repo.hops.works/dev/jdowling/h-and-m/images/094/0949551001.jpg\" style=\"width: 100%; height: auto;\"><img src=\"https://repo.hops.works/dev/jdowling/h-and-m/images/094/0949551002.jpg\" style=\"width: 100%; height: auto;\"><img src=\"https://repo.hops.works/dev/jdowling/h-and-m/images/094/0949594001.jpg\" style=\"width: 100%; height: auto;\"><img src=\"https://repo.hops.works/dev/jdowling/h-and-m/images/095/0950449002.jpg\" style=\"width: 100%; height: auto;\"><img src=\"https://repo.hops.works/dev/jdowling/h-and-m/images/095/0952267001.jpg\" style=\"width: 100%; height: auto;\"><img src=\"https://repo.hops.works/dev/jdowling/h-and-m/images/095/0952937003.jpg\" style=\"width: 100%; height: auto;\"><img src=\"https://repo.hops.works/dev/jdowling/h-and-m/images/095/0952938001.jpg\" style=\"width: 100%; height: auto;\"><img src=\"https://repo.hops.works/dev/jdowling/h-and-m/images/095/0953450001.jpg\" style=\"width: 100%; height: auto;\"><img src=\"https://repo.hops.works/dev/jdowling/h-and-m/images/095/0953763001.jpg\" style=\"width: 100%; height: auto;\"><img src=\"https://repo.hops.works/dev/jdowling/h-and-m/images/095/0956217002.jpg\" style=\"width: 100%; height: auto;\"><img src=\"https://repo.hops.works/dev/jdowling/h-and-m/images/095/0957375001.jpg\" style=\"width: 100%; height: auto;\"><img src=\"https://repo.hops.works/dev/jdowling/h-and-m/images/095/0959461001.jpg\" style=\"width: 100%; height: auto;\"></div>"
                  ],
                  "text/plain": [
                     "<IPython.core.display.HTML object>"
                  ]
               },
               "metadata": {},
               "output_type": "display_data"
            }
         ],
         "source": [
            "from IPython.display import HTML, display\n",
            "\n",
            "image_urls = articles_df[\"image_url\"].tail(12).to_list()\n",
            "grid_html = '<div style=\"display: grid; grid-template-columns: repeat(6, 1fr); gap: 10px; max-width: 900px;\">'\n",
            "\n",
            "for url in image_urls:\n",
            "    grid_html += f'<img src=\"{url}\" style=\"width: 100%; height: auto;\">'\n",
            "\n",
            "grid_html += \"</div>\"\n",
            "\n",
            "display(HTML(grid_html))\n"
         ]
      },
      {
         "cell_type": "markdown",
         "id": "a606d5c0",
         "metadata": {},
         "source": [
            "## Customers Data"
         ]
      },
      {
         "cell_type": "code",
         "execution_count": 25,
         "id": "b2c7c317",
         "metadata": {},
         "outputs": [
            {
               "data": {
                  "text/plain": [
                     "(1371980, 7)"
                  ]
               },
               "execution_count": 25,
               "metadata": {},
               "output_type": "execute_result"
            }
         ],
         "source": [
            "customers_df = h_and_m_raw_data.extract_customers_df()\n",
            "customers_df.shape\n"
         ]
      },
      {
         "cell_type": "markdown",
         "id": "dacdaced",
         "metadata": {},
         "source": [
            "The customers DataFrame looks as follows:"
         ]
      },
      {
         "cell_type": "code",
         "execution_count": 26,
         "id": "59183d65",
         "metadata": {},
         "outputs": [
            {
               "data": {
                  "text/html": [
                     "<div><style>\n",
                     ".dataframe > thead > tr,\n",
                     ".dataframe > tbody > tr {\n",
                     "  text-align: right;\n",
                     "  white-space: pre-wrap;\n",
                     "}\n",
                     "</style>\n",
                     "<small>shape: (3, 7)</small><table border=\"1\" class=\"dataframe\"><thead><tr><th>customer_id</th><th>FN</th><th>Active</th><th>club_member_status</th><th>fashion_news_frequency</th><th>age</th><th>postal_code</th></tr><tr><td>str</td><td>f64</td><td>f64</td><td>str</td><td>str</td><td>i64</td><td>str</td></tr></thead><tbody><tr><td>&quot;00000dbacae5abe5e23885899a1fa4…</td><td>null</td><td>null</td><td>&quot;ACTIVE&quot;</td><td>&quot;NONE&quot;</td><td>49</td><td>&quot;52043ee2162cf5aa7ee79974281641…</td></tr><tr><td>&quot;0000423b00ade91418cceaf3b26c6a…</td><td>null</td><td>null</td><td>&quot;ACTIVE&quot;</td><td>&quot;NONE&quot;</td><td>25</td><td>&quot;2973abc54daa8a5f8ccfe9362140c6…</td></tr><tr><td>&quot;000058a12d5b43e67d225668fa1f8d…</td><td>null</td><td>null</td><td>&quot;ACTIVE&quot;</td><td>&quot;NONE&quot;</td><td>24</td><td>&quot;64f17e6a330a85798e4998f62d0930…</td></tr></tbody></table></div>"
                  ],
                  "text/plain": [
                     "shape: (3, 7)\n",
                     "┌───────────────────┬──────┬────────┬──────────────────┬──────────────────┬─────┬──────────────────┐\n",
                     "│ customer_id       ┆ FN   ┆ Active ┆ club_member_stat ┆ fashion_news_fre ┆ age ┆ postal_code      │\n",
                     "│ ---               ┆ ---  ┆ ---    ┆ us               ┆ quency           ┆ --- ┆ ---              │\n",
                     "│ str               ┆ f64  ┆ f64    ┆ ---              ┆ ---              ┆ i64 ┆ str              │\n",
                     "│                   ┆      ┆        ┆ str              ┆ str              ┆     ┆                  │\n",
                     "╞═══════════════════╪══════╪════════╪══════════════════╪══════════════════╪═════╪══════════════════╡\n",
                     "│ 00000dbacae5abe5e ┆ null ┆ null   ┆ ACTIVE           ┆ NONE             ┆ 49  ┆ 52043ee2162cf5aa │\n",
                     "│ 23885899a1fa4…    ┆      ┆        ┆                  ┆                  ┆     ┆ 7ee79974281641…  │\n",
                     "│ 0000423b00ade9141 ┆ null ┆ null   ┆ ACTIVE           ┆ NONE             ┆ 25  ┆ 2973abc54daa8a5f │\n",
                     "│ 8cceaf3b26c6a…    ┆      ┆        ┆                  ┆                  ┆     ┆ 8ccfe9362140c6…  │\n",
                     "│ 000058a12d5b43e67 ┆ null ┆ null   ┆ ACTIVE           ┆ NONE             ┆ 24  ┆ 64f17e6a330a8579 │\n",
                     "│ d225668fa1f8d…    ┆      ┆        ┆                  ┆                  ┆     ┆ 8e4998f62d0930…  │\n",
                     "└───────────────────┴──────┴────────┴──────────────────┴──────────────────┴─────┴──────────────────┘"
                  ]
               },
               "execution_count": 26,
               "metadata": {},
               "output_type": "execute_result"
            }
         ],
         "source": [
            "customers_df.head(3)"
         ]
      },
      {
         "cell_type": "markdown",
         "id": "65c5782b",
         "metadata": {},
         "source": [
            "Check for NaNs:"
         ]
      },
      {
         "cell_type": "code",
         "execution_count": 27,
         "id": "818f2c36",
         "metadata": {},
         "outputs": [
            {
               "data": {
                  "text/html": [
                     "<div><style>\n",
                     ".dataframe > thead > tr,\n",
                     ".dataframe > tbody > tr {\n",
                     "  text-align: right;\n",
                     "  white-space: pre-wrap;\n",
                     "}\n",
                     "</style>\n",
                     "<small>shape: (1, 7)</small><table border=\"1\" class=\"dataframe\"><thead><tr><th>customer_id</th><th>FN</th><th>Active</th><th>club_member_status</th><th>fashion_news_frequency</th><th>age</th><th>postal_code</th></tr><tr><td>u32</td><td>u32</td><td>u32</td><td>u32</td><td>u32</td><td>u32</td><td>u32</td></tr></thead><tbody><tr><td>0</td><td>895050</td><td>907576</td><td>6062</td><td>16009</td><td>15861</td><td>0</td></tr></tbody></table></div>"
                  ],
                  "text/plain": [
                     "shape: (1, 7)\n",
                     "┌─────────────┬────────┬────────┬────────────────────┬───────────────────────┬───────┬─────────────┐\n",
                     "│ customer_id ┆ FN     ┆ Active ┆ club_member_status ┆ fashion_news_frequenc ┆ age   ┆ postal_code │\n",
                     "│ ---         ┆ ---    ┆ ---    ┆ ---                ┆ y                     ┆ ---   ┆ ---         │\n",
                     "│ u32         ┆ u32    ┆ u32    ┆ u32                ┆ ---                   ┆ u32   ┆ u32         │\n",
                     "│             ┆        ┆        ┆                    ┆ u32                   ┆       ┆             │\n",
                     "╞═════════════╪════════╪════════╪════════════════════╪═══════════════════════╪═══════╪═════════════╡\n",
                     "│ 0           ┆ 895050 ┆ 907576 ┆ 6062               ┆ 16009                 ┆ 15861 ┆ 0           │\n",
                     "└─────────────┴────────┴────────┴────────────────────┴───────────────────────┴───────┴─────────────┘"
                  ]
               },
               "execution_count": 27,
               "metadata": {},
               "output_type": "execute_result"
            }
         ],
         "source": [
            "\n",
            "customers_df.null_count()"
         ]
      },
      {
         "cell_type": "markdown",
         "id": "a7c3a524",
         "metadata": {},
         "source": [
            "## Customers feature engineering\n"
         ]
      },
      {
         "cell_type": "code",
         "execution_count": 28,
         "id": "d623d3ff",
         "metadata": {},
         "outputs": [
            {
               "data": {
                  "text/plain": [
                     "(1356119, 5)"
                  ]
               },
               "execution_count": 28,
               "metadata": {},
               "output_type": "execute_result"
            }
         ],
         "source": [
            "customers_df = compute_features_customers(customers_df, drop_null_age=True)\n",
            "customers_df.shape"
         ]
      },
      {
         "cell_type": "markdown",
         "id": "2f053755",
         "metadata": {},
         "source": [
            "The features of the customers DataFrame looks as follows:"
         ]
      },
      {
         "cell_type": "code",
         "execution_count": 29,
         "id": "c058e10e",
         "metadata": {},
         "outputs": [
            {
               "data": {
                  "text/html": [
                     "<div><style>\n",
                     ".dataframe > thead > tr,\n",
                     ".dataframe > tbody > tr {\n",
                     "  text-align: right;\n",
                     "  white-space: pre-wrap;\n",
                     "}\n",
                     "</style>\n",
                     "<small>shape: (3, 5)</small><table border=\"1\" class=\"dataframe\"><thead><tr><th>customer_id</th><th>club_member_status</th><th>age</th><th>postal_code</th><th>age_group</th></tr><tr><td>str</td><td>str</td><td>f64</td><td>str</td><td>str</td></tr></thead><tbody><tr><td>&quot;00000dbacae5abe5e23885899a1fa4…</td><td>&quot;ACTIVE&quot;</td><td>49.0</td><td>&quot;52043ee2162cf5aa7ee79974281641…</td><td>&quot;46-55&quot;</td></tr><tr><td>&quot;0000423b00ade91418cceaf3b26c6a…</td><td>&quot;ACTIVE&quot;</td><td>25.0</td><td>&quot;2973abc54daa8a5f8ccfe9362140c6…</td><td>&quot;19-25&quot;</td></tr><tr><td>&quot;000058a12d5b43e67d225668fa1f8d…</td><td>&quot;ACTIVE&quot;</td><td>24.0</td><td>&quot;64f17e6a330a85798e4998f62d0930…</td><td>&quot;19-25&quot;</td></tr></tbody></table></div>"
                  ],
                  "text/plain": [
                     "shape: (3, 5)\n",
                     "┌─────────────────────────────┬────────────────────┬──────┬────────────────────────────┬───────────┐\n",
                     "│ customer_id                 ┆ club_member_status ┆ age  ┆ postal_code                ┆ age_group │\n",
                     "│ ---                         ┆ ---                ┆ ---  ┆ ---                        ┆ ---       │\n",
                     "│ str                         ┆ str                ┆ f64  ┆ str                        ┆ str       │\n",
                     "╞═════════════════════════════╪════════════════════╪══════╪════════════════════════════╪═══════════╡\n",
                     "│ 00000dbacae5abe5e23885899a1 ┆ ACTIVE             ┆ 49.0 ┆ 52043ee2162cf5aa7ee7997428 ┆ 46-55     │\n",
                     "│ fa4…                        ┆                    ┆      ┆ 1641…                      ┆           │\n",
                     "│ 0000423b00ade91418cceaf3b26 ┆ ACTIVE             ┆ 25.0 ┆ 2973abc54daa8a5f8ccfe93621 ┆ 19-25     │\n",
                     "│ c6a…                        ┆                    ┆      ┆ 40c6…                      ┆           │\n",
                     "│ 000058a12d5b43e67d225668fa1 ┆ ACTIVE             ┆ 24.0 ┆ 64f17e6a330a85798e4998f62d ┆ 19-25     │\n",
                     "│ f8d…                        ┆                    ┆      ┆ 0930…                      ┆           │\n",
                     "└─────────────────────────────┴────────────────────┴──────┴────────────────────────────┴───────────┘"
                  ]
               },
               "execution_count": 29,
               "metadata": {},
               "output_type": "execute_result"
            }
         ],
         "source": [
            "customers_df.head(3)"
         ]
      },
      {
         "cell_type": "markdown",
         "id": "e8b498ff",
         "metadata": {},
         "source": [
            "\n",
            "# Transactions Data"
         ]
      },
      {
         "cell_type": "code",
         "execution_count": 30,
         "id": "5f8887c1",
         "metadata": {},
         "outputs": [
            {
               "data": {
                  "text/plain": [
                     "(31788324, 5)"
                  ]
               },
               "execution_count": 30,
               "metadata": {},
               "output_type": "execute_result"
            }
         ],
         "source": [
            "transactions_df = h_and_m_raw_data.extract_transactions_df()\n",
            "transactions_df.shape"
         ]
      },
      {
         "cell_type": "markdown",
         "id": "dd07a9ab",
         "metadata": {},
         "source": [
            "The transaction DataFrame looks as follows:"
         ]
      },
      {
         "cell_type": "code",
         "execution_count": null,
         "id": "e4cc028c",
         "metadata": {},
         "outputs": [],
         "source": [
            "transactions_df.head(3)"
         ]
      },
      {
         "cell_type": "markdown",
         "id": "a8f761e2",
         "metadata": {},
         "source": [
            "## Transactions feature engineering"
         ]
      },
      {
         "cell_type": "code",
         "execution_count": null,
         "id": "ca61456a",
         "metadata": {},
         "outputs": [],
         "source": [
            "transactions_df = compute_features_transactions(transactions_df)\n",
            "transactions_df.shape"
         ]
      },
      {
         "cell_type": "markdown",
         "id": "16e39bf1",
         "metadata": {},
         "source": [
            "The time of the year a purchase was made should be a strong predictor, as seasonality plays a big factor in fashion purchases. Here, you will use the month of the purchase as a feature. Since this is a cyclical feature (January is as close to December as it is to February), you'll map each month to the unit circle using sine and cosine.\n",
            "\n",
            "Thus, the features of the transactions DataFrame look as follows:"
         ]
      },
      {
         "cell_type": "code",
         "execution_count": null,
         "id": "1ffe2d04",
         "metadata": {},
         "outputs": [],
         "source": [
            "transactions_df.head(3)"
         ]
      },
      {
         "cell_type": "markdown",
         "id": "f1501b8d",
         "metadata": {},
         "source": [
            "We don't want to work with ~30 million transactions in these series, as everything will take too much time to run. Thus, we create a subset of the original dataset by randomly sampling from the customers' datasets and taking only their transactions."
         ]
      },
      {
         "cell_type": "code",
         "execution_count": null,
         "id": "c7a78f4d",
         "metadata": {},
         "outputs": [],
         "source": [
            "sampler = DatasetSampler(size=settings.CUSTOMER_DATA_SIZE)\n",
            "dataset_subset = sampler.sample(\n",
            "    customers_df=customers_df, transations_df=transactions_df\n",
            ")\n",
            "customers_df = dataset_subset[\"customers\"]\n",
            "transactions_df = dataset_subset[\"transactions\"]"
         ]
      },
      {
         "cell_type": "code",
         "execution_count": null,
         "id": "fc248f26",
         "metadata": {},
         "outputs": [],
         "source": [
            "transactions_df.shape"
         ]
      },
      {
         "cell_type": "markdown",
         "id": "6a7e6acc",
         "metadata": {},
         "source": [
            "Some of the remaining customers:"
         ]
      },
      {
         "cell_type": "code",
         "execution_count": null,
         "id": "f99e5367",
         "metadata": {},
         "outputs": [],
         "source": [
            "for customer_id in transactions_df[\"customer_id\"].unique().head(10):\n",
            "    logger.info(f\"Logging customer ID: {customer_id}\")"
         ]
      },
      {
         "cell_type": "markdown",
         "id": "c9d030bd",
         "metadata": {},
         "source": [
            "# 🤳🏻 Interaction data\n",
            "\n",
            "To train our models, we need more than just the transactions DataFrame. We need positive samples that signal whether a customer clicked or bought an item, but we also need negative samples that signal no interactions between a customer and an item."
         ]
      },
      {
         "cell_type": "code",
         "execution_count": null,
         "id": "48b980fd",
         "metadata": {},
         "outputs": [],
         "source": [
            "interaction_df = generate_interaction_data(transactions_df)\n",
            "interaction_df.shape"
         ]
      },
      {
         "cell_type": "markdown",
         "id": "2c3ae438",
         "metadata": {},
         "source": [
            "The interaction features look as follows:"
         ]
      },
      {
         "cell_type": "code",
         "execution_count": null,
         "id": "4b0e2d35",
         "metadata": {},
         "outputs": [],
         "source": [
            "interaction_df.head()"
         ]
      },
      {
         "cell_type": "markdown",
         "id": "facb5c56",
         "metadata": {},
         "source": [
            "Let's take a look at the interaction score distribution:"
         ]
      },
      {
         "cell_type": "code",
         "execution_count": null,
         "id": "7d8aa4cc",
         "metadata": {},
         "outputs": [],
         "source": [
            "interaction_df.group_by(\"interaction_score\").agg(\n",
            "    pl.count(\"interaction_score\").alias(\"total_interactions\")\n",
            ")"
         ]
      },
      {
         "cell_type": "markdown",
         "id": "430ed30f",
         "metadata": {},
         "source": [
            "Here is what each score means:\n",
            "- `0` : No interaction between a customer and an item\n",
            "- `1` : A customer clicked an item\n",
            "- `2` : A customer bought an item"
         ]
      },
      {
         "cell_type": "markdown",
         "id": "c5192013",
         "metadata": {},
         "source": [
            "# <span style=\"color:#ff5f27\">🪄 Create Hopsworks Feature Groups </span>\n",
            "\n",
            "A [feature group](https://docs.hopsworks.ai/feature-store-api/latest/generated/feature_group/) can be seen as a collection of conceptually related features.\n",
            "\n",
            "To create a feature group you need to give it a name and specify a primary key. It is also best practice to provide a description of the contents of the feature group."
         ]
      },
      {
         "cell_type": "markdown",
         "id": "8fe61f1f",
         "metadata": {},
         "source": [
            "#### Customers\n",
            "\n",
            "We set `online_enabled=True` to enable low-latency access to the data from the inference pipeline for real-time predictions. \n",
            "\n",
            "A full list of arguments can be found in the [documentation](https://docs.hopsworks.ai/feature-store-api/latest/generated/api/feature_store_api/#create_feature_group)."
         ]
      },
      {
         "cell_type": "code",
         "execution_count": null,
         "id": "bf1d4650",
         "metadata": {},
         "outputs": [],
         "source": [
            "logger.info(\"Uploading 'customers' Feature Group to Hopsworks.\")\n",
            "customers_fg = feature_store.create_customers_feature_group(\n",
            "    fs, df=customers_df, online_enabled=True\n",
            ")\n",
            "\n",
            "logger.info(\"✅ Uploaded 'customers' Feature Group to Hopsworks!\")"
         ]
      },
      {
         "cell_type": "markdown",
         "id": "07076b20",
         "metadata": {},
         "source": [
            "#### Articles"
         ]
      },
      {
         "cell_type": "markdown",
         "id": "8b22919d",
         "metadata": {},
         "source": [
            "Let's do the same thing for the rest of the data frames."
         ]
      },
      {
         "cell_type": "code",
         "execution_count": null,
         "id": "1e2cd326",
         "metadata": {},
         "outputs": [],
         "source": [
            "logger.info(\"Uploading 'articles' Feature Group to Hopsworks.\")\n",
            "articles_fg = feature_store.create_articles_feature_group(\n",
            "    fs,\n",
            "    df=articles_df,\n",
            "    articles_description_embedding_dim=model.get_sentence_embedding_dimension(),\n",
            "    online_enabled=True,\n",
            ")\n",
            "logger.info(\"✅ Uploaded 'articles' Feature Group to Hopsworks!\")\n"
         ]
      },
      {
         "cell_type": "markdown",
         "id": "e1351e32",
         "metadata": {},
         "source": [
            "####  Transactions"
         ]
      },
      {
         "cell_type": "code",
         "execution_count": null,
         "id": "27d544ee",
         "metadata": {},
         "outputs": [],
         "source": [
            "logger.info(\"Uploading 'transactions' Feature Group to Hopsworks.\")\n",
            "trans_fg = feature_store.create_transactions_feature_group(\n",
            "    fs=fs, df=transactions_df, online_enabled=True\n",
            ")\n",
            "logger.info(\"✅ Uploaded 'transactions' Feature Group to Hopsworks!\")"
         ]
      },
      {
         "cell_type": "markdown",
         "id": "70c0a17d",
         "metadata": {},
         "source": [
            "#### Interactions"
         ]
      },
      {
         "cell_type": "code",
         "execution_count": null,
         "id": "f76574da",
         "metadata": {},
         "outputs": [],
         "source": [
            "logger.info(\"Uploading 'interactions' Feature Group to Hopsworks.\")\n",
            "interactions_fg = feature_store.create_interactions_feature_group(\n",
            "    fs=fs, df=interaction_df, online_enabled=True\n",
            ")\n",
            "logger.info(\"✅ Uploaded 'interactions' Feature Group to Hopsworks!!\")"
         ]
      },
      {
         "cell_type": "markdown",
         "id": "8df7f835",
         "metadata": {},
         "source": [
            "# Compute ranking dataset\n",
            "\n",
            "The last step is to compute the ranking dataset used to train the scoring/ranking model from the feature groups we've just created:\n"
         ]
      },
      {
         "cell_type": "code",
         "execution_count": null,
         "id": "05d6489d",
         "metadata": {},
         "outputs": [],
         "source": [
            "ranking_df = compute_ranking_dataset(\n",
            "    trans_fg,\n",
            "    articles_fg,\n",
            "    customers_fg,\n",
            ")\n",
            "ranking_df.shape"
         ]
      },
      {
         "cell_type": "markdown",
         "id": "c0dd7867",
         "metadata": {},
         "source": [
            "The ranking dataset looks as follows:"
         ]
      },
      {
         "cell_type": "code",
         "execution_count": null,
         "id": "0f69c4c7",
         "metadata": {},
         "outputs": [],
         "source": [
            "ranking_df.head(3)"
         ]
      },
      {
         "cell_type": "code",
         "execution_count": null,
         "id": "ec9e5bf0",
         "metadata": {},
         "outputs": [],
         "source": [
            "ranking_df.get_column(\"label\").value_counts()"
         ]
      },
      {
         "cell_type": "markdown",
         "id": "d73153d1",
         "metadata": {},
         "source": [
            "As the ranking dataset was computed based on articles, customers, and transactions Hopsworks Feature Groups, we can reflect this lineage in the ranking Feature Group."
         ]
      },
      {
         "cell_type": "code",
         "execution_count": null,
         "id": "3b514efe",
         "metadata": {},
         "outputs": [],
         "source": [
            "logger.info(\"Uploading 'ranking' Feature Group to Hopsworks.\")\n",
            "rank_fg = feature_store.create_ranking_feature_group(\n",
            "    fs,\n",
            "    df=ranking_df,\n",
            "    parents=[articles_fg, customers_fg, trans_fg],\n",
            "    online_enabled=False\n",
            ")\n",
            "logger.info(\"✅ Uploaded 'ranking' Feature Group to Hopsworks!!\")"
         ]
      },
      {
         "cell_type": "markdown",
         "id": "b25192e8",
         "metadata": {},
         "source": [
            "## <span style=\"color:#ff5f27\"> Inspecting the Feature Groups in Hopsworks UI </span>\n",
            "\n",
            "View results in [Hopsworks Serverless](https://rebrand.ly/serverless-github): **Feature Store → Feature Groups**"
         ]
      },
      {
         "cell_type": "markdown",
         "id": "9eeaefd5",
         "metadata": {},
         "source": [
            "---"
         ]
      },
      {
         "cell_type": "code",
         "execution_count": null,
         "id": "c045b25d",
         "metadata": {},
         "outputs": [],
         "source": [
            "notebook_end_time = time.time()\n",
            "notebook_execution_time = notebook_end_time - notebook_start_time\n",
            "\n",
            "logger.info(\n",
            "    f\"⌛️ Notebook Execution time: {notebook_execution_time:.2f} seconds ~ {notebook_execution_time / 60:.2f} minutes\"\n",
            ")"
         ]
      },
      {
         "cell_type": "markdown",
         "id": "8664cc84",
         "metadata": {},
         "source": [
            "# <span style=\"color:#ff5f27\">→ Next Steps </span>\n",
            "\n",
            "In the next notebook you'll train the retrieval model and register it to the Hopsworks model registry."
         ]
      }
   ],
   "metadata": {
      "kernelspec": {
         "display_name": "Python 3 (ipykernel)",
         "language": "python",
         "name": "python3"
      },
      "language_info": {
         "codemirror_mode": {
            "name": "ipython",
            "version": 3
         },
         "file_extension": ".py",
         "mimetype": "text/x-python",
         "name": "python",
         "nbconvert_exporter": "python",
         "pygments_lexer": "ipython3",
         "version": "3.11.8"
      }
   },
   "nbformat": 4,
   "nbformat_minor": 5
}
