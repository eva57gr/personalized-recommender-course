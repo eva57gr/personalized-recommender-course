{
 "cells": [
  {
   "cell_type": "markdown",
   "metadata": {},
   "source": [
    "## <span style=\"color:#ff5f27\">👨🏻‍🏫 Train Ranking Model </span>\n",
    "\n",
    "In this notebook, you will train a ranking model using gradient boosted trees. "
   ]
  },
  {
   "cell_type": "code",
   "execution_count": 1,
   "metadata": {},
   "outputs": [],
   "source": [
    "import time\n",
    "\n",
    "# Start the timer\n",
    "notebook_start_time = time.time()"
   ]
  },
  {
   "cell_type": "markdown",
   "metadata": {},
   "source": [
    "## <span style=\"color:#ff5f27\">📝 Imports </span>"
   ]
  },
  {
   "cell_type": "code",
   "execution_count": 2,
   "metadata": {},
   "outputs": [
    {
     "name": "stdout",
     "output_type": "stream",
     "text": [
      "Requirement already satisfied: tensorflow==2.14 in ./venv/lib/python3.11/site-packages (from -r requirements.txt (line 1)) (2.14.0)\n",
      "Requirement already satisfied: tensorflow-recommenders==0.7.2 in ./venv/lib/python3.11/site-packages (from -r requirements.txt (line 2)) (0.7.2)\n",
      "Requirement already satisfied: catboost==1.2 in ./venv/lib/python3.11/site-packages (from -r requirements.txt (line 3)) (1.2)\n",
      "Requirement already satisfied: streamlit==1.28.2 in ./venv/lib/python3.11/site-packages (from -r requirements.txt (line 4)) (1.28.2)\n",
      "Requirement already satisfied: huggingface_hub==0.24.7 in ./venv/lib/python3.11/site-packages (from -r requirements.txt (line 5)) (0.24.7)\n",
      "Requirement already satisfied: sentence-transformers==2.2.2 in ./venv/lib/python3.11/site-packages (from -r requirements.txt (line 6)) (2.2.2)\n",
      "Requirement already satisfied: polars==1.9.0 in ./venv/lib/python3.11/site-packages (from -r requirements.txt (line 7)) (1.9.0)\n",
      "Requirement already satisfied: langchain==0.2.6 in ./venv/lib/python3.11/site-packages (from -r requirements.txt (line 8)) (0.2.6)\n",
      "Requirement already satisfied: langchain_openai==0.1.14 in ./venv/lib/python3.11/site-packages (from -r requirements.txt (line 9)) (0.1.14)\n",
      "Requirement already satisfied: hopsworks in ./venv/lib/python3.11/site-packages (from -r requirements.txt (line 10)) (3.7.0)\n",
      "Requirement already satisfied: tensorflow-macos==2.14.0 in ./venv/lib/python3.11/site-packages (from tensorflow==2.14->-r requirements.txt (line 1)) (2.14.0)\n",
      "Requirement already satisfied: absl-py>=0.1.6 in ./venv/lib/python3.11/site-packages (from tensorflow-recommenders==0.7.2->-r requirements.txt (line 2)) (2.1.0)\n",
      "Requirement already satisfied: graphviz in ./venv/lib/python3.11/site-packages (from catboost==1.2->-r requirements.txt (line 3)) (0.20.3)\n",
      "Requirement already satisfied: matplotlib in ./venv/lib/python3.11/site-packages (from catboost==1.2->-r requirements.txt (line 3)) (3.9.2)\n",
      "Requirement already satisfied: numpy>=1.16.0 in ./venv/lib/python3.11/site-packages (from catboost==1.2->-r requirements.txt (line 3)) (1.26.4)\n",
      "Requirement already satisfied: pandas>=0.24 in ./venv/lib/python3.11/site-packages (from catboost==1.2->-r requirements.txt (line 3)) (2.1.4)\n",
      "Requirement already satisfied: scipy in ./venv/lib/python3.11/site-packages (from catboost==1.2->-r requirements.txt (line 3)) (1.14.1)\n",
      "Requirement already satisfied: plotly in ./venv/lib/python3.11/site-packages (from catboost==1.2->-r requirements.txt (line 3)) (5.24.1)\n",
      "Requirement already satisfied: six in ./venv/lib/python3.11/site-packages (from catboost==1.2->-r requirements.txt (line 3)) (1.16.0)\n",
      "Requirement already satisfied: altair<6,>=4.0 in ./venv/lib/python3.11/site-packages (from streamlit==1.28.2->-r requirements.txt (line 4)) (4.2.2)\n",
      "Requirement already satisfied: blinker<2,>=1.0.0 in ./venv/lib/python3.11/site-packages (from streamlit==1.28.2->-r requirements.txt (line 4)) (1.8.2)\n",
      "Requirement already satisfied: cachetools<6,>=4.0 in ./venv/lib/python3.11/site-packages (from streamlit==1.28.2->-r requirements.txt (line 4)) (5.5.0)\n",
      "Requirement already satisfied: click<9,>=7.0 in ./venv/lib/python3.11/site-packages (from streamlit==1.28.2->-r requirements.txt (line 4)) (8.1.7)\n",
      "Requirement already satisfied: importlib-metadata<7,>=1.4 in ./venv/lib/python3.11/site-packages (from streamlit==1.28.2->-r requirements.txt (line 4)) (6.11.0)\n",
      "Requirement already satisfied: packaging<24,>=16.8 in ./venv/lib/python3.11/site-packages (from streamlit==1.28.2->-r requirements.txt (line 4)) (23.2)\n",
      "Requirement already satisfied: pillow<11,>=7.1.0 in ./venv/lib/python3.11/site-packages (from streamlit==1.28.2->-r requirements.txt (line 4)) (10.4.0)\n",
      "Requirement already satisfied: protobuf<5,>=3.20 in ./venv/lib/python3.11/site-packages (from streamlit==1.28.2->-r requirements.txt (line 4)) (4.25.5)\n",
      "Requirement already satisfied: pyarrow>=6.0 in ./venv/lib/python3.11/site-packages (from streamlit==1.28.2->-r requirements.txt (line 4)) (18.0.0)\n",
      "Requirement already satisfied: python-dateutil<3,>=2.7.3 in ./venv/lib/python3.11/site-packages (from streamlit==1.28.2->-r requirements.txt (line 4)) (2.9.0.post0)\n",
      "Requirement already satisfied: requests<3,>=2.27 in ./venv/lib/python3.11/site-packages (from streamlit==1.28.2->-r requirements.txt (line 4)) (2.32.3)\n",
      "Requirement already satisfied: rich<14,>=10.14.0 in ./venv/lib/python3.11/site-packages (from streamlit==1.28.2->-r requirements.txt (line 4)) (13.9.4)\n",
      "Requirement already satisfied: tenacity<9,>=8.1.0 in ./venv/lib/python3.11/site-packages (from streamlit==1.28.2->-r requirements.txt (line 4)) (8.5.0)\n",
      "Requirement already satisfied: toml<2,>=0.10.1 in ./venv/lib/python3.11/site-packages (from streamlit==1.28.2->-r requirements.txt (line 4)) (0.10.2)\n",
      "Requirement already satisfied: typing-extensions<5,>=4.3.0 in ./venv/lib/python3.11/site-packages (from streamlit==1.28.2->-r requirements.txt (line 4)) (4.12.2)\n",
      "Requirement already satisfied: tzlocal<6,>=1.1 in ./venv/lib/python3.11/site-packages (from streamlit==1.28.2->-r requirements.txt (line 4)) (5.2)\n",
      "Requirement already satisfied: validators<1,>=0.2 in ./venv/lib/python3.11/site-packages (from streamlit==1.28.2->-r requirements.txt (line 4)) (0.34.0)\n",
      "Requirement already satisfied: gitpython!=3.1.19,<4,>=3.0.7 in ./venv/lib/python3.11/site-packages (from streamlit==1.28.2->-r requirements.txt (line 4)) (3.1.43)\n",
      "Requirement already satisfied: pydeck<1,>=0.8.0b4 in ./venv/lib/python3.11/site-packages (from streamlit==1.28.2->-r requirements.txt (line 4)) (0.9.1)\n",
      "Requirement already satisfied: tornado<7,>=6.0.3 in ./venv/lib/python3.11/site-packages (from streamlit==1.28.2->-r requirements.txt (line 4)) (6.4.1)\n",
      "Requirement already satisfied: filelock in ./venv/lib/python3.11/site-packages (from huggingface_hub==0.24.7->-r requirements.txt (line 5)) (3.16.1)\n",
      "Requirement already satisfied: fsspec>=2023.5.0 in ./venv/lib/python3.11/site-packages (from huggingface_hub==0.24.7->-r requirements.txt (line 5)) (2024.10.0)\n",
      "Requirement already satisfied: pyyaml>=5.1 in ./venv/lib/python3.11/site-packages (from huggingface_hub==0.24.7->-r requirements.txt (line 5)) (6.0.2)\n",
      "Requirement already satisfied: tqdm>=4.42.1 in ./venv/lib/python3.11/site-packages (from huggingface_hub==0.24.7->-r requirements.txt (line 5)) (4.67.0)\n",
      "Requirement already satisfied: transformers<5.0.0,>=4.6.0 in ./venv/lib/python3.11/site-packages (from sentence-transformers==2.2.2->-r requirements.txt (line 6)) (4.46.2)\n",
      "Requirement already satisfied: torch>=1.6.0 in ./venv/lib/python3.11/site-packages (from sentence-transformers==2.2.2->-r requirements.txt (line 6)) (2.5.1)\n",
      "Requirement already satisfied: torchvision in ./venv/lib/python3.11/site-packages (from sentence-transformers==2.2.2->-r requirements.txt (line 6)) (0.20.1)\n",
      "Requirement already satisfied: scikit-learn in ./venv/lib/python3.11/site-packages (from sentence-transformers==2.2.2->-r requirements.txt (line 6)) (1.5.2)\n",
      "Requirement already satisfied: nltk in ./venv/lib/python3.11/site-packages (from sentence-transformers==2.2.2->-r requirements.txt (line 6)) (3.9.1)\n",
      "Requirement already satisfied: sentencepiece in ./venv/lib/python3.11/site-packages (from sentence-transformers==2.2.2->-r requirements.txt (line 6)) (0.2.0)\n",
      "Requirement already satisfied: SQLAlchemy<3,>=1.4 in ./venv/lib/python3.11/site-packages (from langchain==0.2.6->-r requirements.txt (line 8)) (1.4.48)\n",
      "Requirement already satisfied: aiohttp<4.0.0,>=3.8.3 in ./venv/lib/python3.11/site-packages (from langchain==0.2.6->-r requirements.txt (line 8)) (3.10.10)\n",
      "Requirement already satisfied: langchain-core<0.3.0,>=0.2.10 in ./venv/lib/python3.11/site-packages (from langchain==0.2.6->-r requirements.txt (line 8)) (0.2.43)\n",
      "Requirement already satisfied: langchain-text-splitters<0.3.0,>=0.2.0 in ./venv/lib/python3.11/site-packages (from langchain==0.2.6->-r requirements.txt (line 8)) (0.2.4)\n",
      "Requirement already satisfied: langsmith<0.2.0,>=0.1.17 in ./venv/lib/python3.11/site-packages (from langchain==0.2.6->-r requirements.txt (line 8)) (0.1.140)\n",
      "Requirement already satisfied: pydantic<3,>=1 in ./venv/lib/python3.11/site-packages (from langchain==0.2.6->-r requirements.txt (line 8)) (2.9.2)\n",
      "Requirement already satisfied: openai<2.0.0,>=1.32.0 in ./venv/lib/python3.11/site-packages (from langchain_openai==0.1.14->-r requirements.txt (line 9)) (1.54.3)\n",
      "Requirement already satisfied: tiktoken<1,>=0.7 in ./venv/lib/python3.11/site-packages (from langchain_openai==0.1.14->-r requirements.txt (line 9)) (0.8.0)\n",
      "Requirement already satisfied: astunparse>=1.6.0 in ./venv/lib/python3.11/site-packages (from tensorflow-macos==2.14.0->tensorflow==2.14->-r requirements.txt (line 1)) (1.6.3)\n",
      "Requirement already satisfied: flatbuffers>=23.5.26 in ./venv/lib/python3.11/site-packages (from tensorflow-macos==2.14.0->tensorflow==2.14->-r requirements.txt (line 1)) (24.3.25)\n",
      "Requirement already satisfied: gast!=0.5.0,!=0.5.1,!=0.5.2,>=0.2.1 in ./venv/lib/python3.11/site-packages (from tensorflow-macos==2.14.0->tensorflow==2.14->-r requirements.txt (line 1)) (0.6.0)\n",
      "Requirement already satisfied: google-pasta>=0.1.1 in ./venv/lib/python3.11/site-packages (from tensorflow-macos==2.14.0->tensorflow==2.14->-r requirements.txt (line 1)) (0.2.0)\n",
      "Requirement already satisfied: h5py>=2.9.0 in ./venv/lib/python3.11/site-packages (from tensorflow-macos==2.14.0->tensorflow==2.14->-r requirements.txt (line 1)) (3.12.1)\n",
      "Requirement already satisfied: libclang>=13.0.0 in ./venv/lib/python3.11/site-packages (from tensorflow-macos==2.14.0->tensorflow==2.14->-r requirements.txt (line 1)) (18.1.1)\n",
      "Requirement already satisfied: ml-dtypes==0.2.0 in ./venv/lib/python3.11/site-packages (from tensorflow-macos==2.14.0->tensorflow==2.14->-r requirements.txt (line 1)) (0.2.0)\n",
      "Requirement already satisfied: opt-einsum>=2.3.2 in ./venv/lib/python3.11/site-packages (from tensorflow-macos==2.14.0->tensorflow==2.14->-r requirements.txt (line 1)) (3.4.0)\n",
      "Requirement already satisfied: setuptools in ./venv/lib/python3.11/site-packages (from tensorflow-macos==2.14.0->tensorflow==2.14->-r requirements.txt (line 1)) (65.5.0)\n",
      "Requirement already satisfied: termcolor>=1.1.0 in ./venv/lib/python3.11/site-packages (from tensorflow-macos==2.14.0->tensorflow==2.14->-r requirements.txt (line 1)) (2.5.0)\n",
      "Requirement already satisfied: wrapt<1.15,>=1.11.0 in ./venv/lib/python3.11/site-packages (from tensorflow-macos==2.14.0->tensorflow==2.14->-r requirements.txt (line 1)) (1.14.1)\n",
      "Requirement already satisfied: tensorflow-io-gcs-filesystem>=0.23.1 in ./venv/lib/python3.11/site-packages (from tensorflow-macos==2.14.0->tensorflow==2.14->-r requirements.txt (line 1)) (0.37.1)\n",
      "Requirement already satisfied: grpcio<2.0,>=1.24.3 in ./venv/lib/python3.11/site-packages (from tensorflow-macos==2.14.0->tensorflow==2.14->-r requirements.txt (line 1)) (1.67.1)\n",
      "Requirement already satisfied: tensorboard<2.15,>=2.14 in ./venv/lib/python3.11/site-packages (from tensorflow-macos==2.14.0->tensorflow==2.14->-r requirements.txt (line 1)) (2.14.1)\n",
      "Requirement already satisfied: tensorflow-estimator<2.15,>=2.14.0 in ./venv/lib/python3.11/site-packages (from tensorflow-macos==2.14.0->tensorflow==2.14->-r requirements.txt (line 1)) (2.14.0)\n",
      "Requirement already satisfied: keras<2.15,>=2.14.0 in ./venv/lib/python3.11/site-packages (from tensorflow-macos==2.14.0->tensorflow==2.14->-r requirements.txt (line 1)) (2.14.0)\n",
      "Requirement already satisfied: hsfs<3.8.0,>=3.7.0 in ./venv/lib/python3.11/site-packages (from hsfs[python]<3.8.0,>=3.7.0->hopsworks->-r requirements.txt (line 10)) (3.7.9)\n",
      "Requirement already satisfied: hsml<3.8.0,>=3.7.0 in ./venv/lib/python3.11/site-packages (from hopsworks->-r requirements.txt (line 10)) (3.7.1)\n",
      "Requirement already satisfied: pyhumps==1.6.1 in ./venv/lib/python3.11/site-packages (from hopsworks->-r requirements.txt (line 10)) (1.6.1)\n",
      "Requirement already satisfied: furl in ./venv/lib/python3.11/site-packages (from hopsworks->-r requirements.txt (line 10)) (2.1.3)\n",
      "Requirement already satisfied: boto3 in ./venv/lib/python3.11/site-packages (from hopsworks->-r requirements.txt (line 10)) (1.35.55)\n",
      "Requirement already satisfied: pyjks in ./venv/lib/python3.11/site-packages (from hopsworks->-r requirements.txt (line 10)) (20.0.0)\n",
      "Requirement already satisfied: mock in ./venv/lib/python3.11/site-packages (from hopsworks->-r requirements.txt (line 10)) (5.1.0)\n",
      "Requirement already satisfied: aiohappyeyeballs>=2.3.0 in ./venv/lib/python3.11/site-packages (from aiohttp<4.0.0,>=3.8.3->langchain==0.2.6->-r requirements.txt (line 8)) (2.4.3)\n",
      "Requirement already satisfied: aiosignal>=1.1.2 in ./venv/lib/python3.11/site-packages (from aiohttp<4.0.0,>=3.8.3->langchain==0.2.6->-r requirements.txt (line 8)) (1.3.1)\n",
      "Requirement already satisfied: attrs>=17.3.0 in ./venv/lib/python3.11/site-packages (from aiohttp<4.0.0,>=3.8.3->langchain==0.2.6->-r requirements.txt (line 8)) (24.2.0)\n",
      "Requirement already satisfied: frozenlist>=1.1.1 in ./venv/lib/python3.11/site-packages (from aiohttp<4.0.0,>=3.8.3->langchain==0.2.6->-r requirements.txt (line 8)) (1.5.0)\n",
      "Requirement already satisfied: multidict<7.0,>=4.5 in ./venv/lib/python3.11/site-packages (from aiohttp<4.0.0,>=3.8.3->langchain==0.2.6->-r requirements.txt (line 8)) (6.1.0)\n",
      "Requirement already satisfied: yarl<2.0,>=1.12.0 in ./venv/lib/python3.11/site-packages (from aiohttp<4.0.0,>=3.8.3->langchain==0.2.6->-r requirements.txt (line 8)) (1.17.1)\n",
      "Requirement already satisfied: entrypoints in ./venv/lib/python3.11/site-packages (from altair<6,>=4.0->streamlit==1.28.2->-r requirements.txt (line 4)) (0.4)\n",
      "Requirement already satisfied: jinja2 in ./venv/lib/python3.11/site-packages (from altair<6,>=4.0->streamlit==1.28.2->-r requirements.txt (line 4)) (3.1.4)\n",
      "Requirement already satisfied: jsonschema>=3.0 in ./venv/lib/python3.11/site-packages (from altair<6,>=4.0->streamlit==1.28.2->-r requirements.txt (line 4)) (4.23.0)\n",
      "Requirement already satisfied: toolz in ./venv/lib/python3.11/site-packages (from altair<6,>=4.0->streamlit==1.28.2->-r requirements.txt (line 4)) (1.0.0)\n",
      "Requirement already satisfied: gitdb<5,>=4.0.1 in ./venv/lib/python3.11/site-packages (from gitpython!=3.1.19,<4,>=3.0.7->streamlit==1.28.2->-r requirements.txt (line 4)) (4.0.11)\n",
      "Requirement already satisfied: avro==1.11.3 in ./venv/lib/python3.11/site-packages (from hsfs<3.8.0,>=3.7.0->hsfs[python]<3.8.0,>=3.7.0->hopsworks->-r requirements.txt (line 10)) (1.11.3)\n",
      "Requirement already satisfied: PyMySQL[rsa] in ./venv/lib/python3.11/site-packages (from hsfs<3.8.0,>=3.7.0->hsfs[python]<3.8.0,>=3.7.0->hopsworks->-r requirements.txt (line 10)) (1.1.1)\n",
      "Requirement already satisfied: great-expectations==0.18.12 in ./venv/lib/python3.11/site-packages (from hsfs<3.8.0,>=3.7.0->hsfs[python]<3.8.0,>=3.7.0->hopsworks->-r requirements.txt (line 10)) (0.18.12)\n",
      "Requirement already satisfied: retrying in ./venv/lib/python3.11/site-packages (from hsfs<3.8.0,>=3.7.0->hsfs[python]<3.8.0,>=3.7.0->hopsworks->-r requirements.txt (line 10)) (1.3.4)\n",
      "Requirement already satisfied: aiomysql in ./venv/lib/python3.11/site-packages (from hsfs<3.8.0,>=3.7.0->hsfs[python]<3.8.0,>=3.7.0->hopsworks->-r requirements.txt (line 10)) (0.2.0)\n",
      "Requirement already satisfied: opensearch-py<=2.4.2,>=1.1.0 in ./venv/lib/python3.11/site-packages (from hsfs<3.8.0,>=3.7.0->hsfs[python]<3.8.0,>=3.7.0->hopsworks->-r requirements.txt (line 10)) (2.4.2)\n",
      "Requirement already satisfied: colorama>=0.4.3 in ./venv/lib/python3.11/site-packages (from great-expectations==0.18.12->hsfs<3.8.0,>=3.7.0->hsfs[python]<3.8.0,>=3.7.0->hopsworks->-r requirements.txt (line 10)) (0.4.6)\n",
      "Requirement already satisfied: cryptography>=3.2 in ./venv/lib/python3.11/site-packages (from great-expectations==0.18.12->hsfs<3.8.0,>=3.7.0->hsfs[python]<3.8.0,>=3.7.0->hopsworks->-r requirements.txt (line 10)) (43.0.3)\n",
      "Requirement already satisfied: Ipython>=7.16.3 in ./venv/lib/python3.11/site-packages (from great-expectations==0.18.12->hsfs<3.8.0,>=3.7.0->hsfs[python]<3.8.0,>=3.7.0->hopsworks->-r requirements.txt (line 10)) (8.29.0)\n",
      "Requirement already satisfied: ipywidgets>=7.5.1 in ./venv/lib/python3.11/site-packages (from great-expectations==0.18.12->hsfs<3.8.0,>=3.7.0->hsfs[python]<3.8.0,>=3.7.0->hopsworks->-r requirements.txt (line 10)) (8.1.5)\n",
      "Requirement already satisfied: jsonpatch>=1.22 in ./venv/lib/python3.11/site-packages (from great-expectations==0.18.12->hsfs<3.8.0,>=3.7.0->hsfs[python]<3.8.0,>=3.7.0->hopsworks->-r requirements.txt (line 10)) (1.33)\n",
      "Requirement already satisfied: makefun<2,>=1.7.0 in ./venv/lib/python3.11/site-packages (from great-expectations==0.18.12->hsfs<3.8.0,>=3.7.0->hsfs[python]<3.8.0,>=3.7.0->hopsworks->-r requirements.txt (line 10)) (1.15.6)\n",
      "Requirement already satisfied: marshmallow<4.0.0,>=3.7.1 in ./venv/lib/python3.11/site-packages (from great-expectations==0.18.12->hsfs<3.8.0,>=3.7.0->hsfs[python]<3.8.0,>=3.7.0->hopsworks->-r requirements.txt (line 10)) (3.23.1)\n",
      "Requirement already satisfied: mistune>=0.8.4 in ./venv/lib/python3.11/site-packages (from great-expectations==0.18.12->hsfs<3.8.0,>=3.7.0->hsfs[python]<3.8.0,>=3.7.0->hopsworks->-r requirements.txt (line 10)) (3.0.2)\n",
      "Requirement already satisfied: nbformat>=5.0 in ./venv/lib/python3.11/site-packages (from great-expectations==0.18.12->hsfs<3.8.0,>=3.7.0->hsfs[python]<3.8.0,>=3.7.0->hopsworks->-r requirements.txt (line 10)) (5.10.4)\n",
      "Requirement already satisfied: notebook>=6.4.10 in ./venv/lib/python3.11/site-packages (from great-expectations==0.18.12->hsfs<3.8.0,>=3.7.0->hsfs[python]<3.8.0,>=3.7.0->hopsworks->-r requirements.txt (line 10)) (7.2.2)\n",
      "Requirement already satisfied: pyparsing>=2.4 in ./venv/lib/python3.11/site-packages (from great-expectations==0.18.12->hsfs<3.8.0,>=3.7.0->hsfs[python]<3.8.0,>=3.7.0->hopsworks->-r requirements.txt (line 10)) (3.2.0)\n",
      "Requirement already satisfied: pytz>=2021.3 in ./venv/lib/python3.11/site-packages (from great-expectations==0.18.12->hsfs<3.8.0,>=3.7.0->hsfs[python]<3.8.0,>=3.7.0->hopsworks->-r requirements.txt (line 10)) (2024.2)\n",
      "Requirement already satisfied: ruamel.yaml<0.17.18,>=0.16 in ./venv/lib/python3.11/site-packages (from great-expectations==0.18.12->hsfs<3.8.0,>=3.7.0->hsfs[python]<3.8.0,>=3.7.0->hopsworks->-r requirements.txt (line 10)) (0.17.17)\n",
      "Requirement already satisfied: urllib3>=1.26 in ./venv/lib/python3.11/site-packages (from great-expectations==0.18.12->hsfs<3.8.0,>=3.7.0->hsfs[python]<3.8.0,>=3.7.0->hopsworks->-r requirements.txt (line 10)) (2.2.3)\n",
      "Requirement already satisfied: pyhopshive[thrift] in ./venv/lib/python3.11/site-packages (from hsfs[python]<3.8.0,>=3.7.0->hopsworks->-r requirements.txt (line 10)) (0.6.4.1.dev0)\n",
      "Requirement already satisfied: confluent-kafka<=2.3.0 in ./venv/lib/python3.11/site-packages (from hsfs[python]<3.8.0,>=3.7.0->hopsworks->-r requirements.txt (line 10)) (2.3.0)\n",
      "Requirement already satisfied: fastavro<=1.8.4,>=1.4.11 in ./venv/lib/python3.11/site-packages (from hsfs[python]<3.8.0,>=3.7.0->hopsworks->-r requirements.txt (line 10)) (1.8.4)\n",
      "Requirement already satisfied: zipp>=0.5 in ./venv/lib/python3.11/site-packages (from importlib-metadata<7,>=1.4->streamlit==1.28.2->-r requirements.txt (line 4)) (3.20.2)\n",
      "Requirement already satisfied: httpx<1,>=0.23.0 in ./venv/lib/python3.11/site-packages (from langsmith<0.2.0,>=0.1.17->langchain==0.2.6->-r requirements.txt (line 8)) (0.27.2)\n",
      "Requirement already satisfied: orjson<4.0.0,>=3.9.14 in ./venv/lib/python3.11/site-packages (from langsmith<0.2.0,>=0.1.17->langchain==0.2.6->-r requirements.txt (line 8)) (3.10.11)\n",
      "Requirement already satisfied: requests-toolbelt<2.0.0,>=1.0.0 in ./venv/lib/python3.11/site-packages (from langsmith<0.2.0,>=0.1.17->langchain==0.2.6->-r requirements.txt (line 8)) (1.0.0)\n",
      "Requirement already satisfied: anyio<5,>=3.5.0 in ./venv/lib/python3.11/site-packages (from openai<2.0.0,>=1.32.0->langchain_openai==0.1.14->-r requirements.txt (line 9)) (4.6.2.post1)\n",
      "Requirement already satisfied: distro<2,>=1.7.0 in ./venv/lib/python3.11/site-packages (from openai<2.0.0,>=1.32.0->langchain_openai==0.1.14->-r requirements.txt (line 9)) (1.9.0)\n",
      "Requirement already satisfied: jiter<1,>=0.4.0 in ./venv/lib/python3.11/site-packages (from openai<2.0.0,>=1.32.0->langchain_openai==0.1.14->-r requirements.txt (line 9)) (0.7.0)\n",
      "Requirement already satisfied: sniffio in ./venv/lib/python3.11/site-packages (from openai<2.0.0,>=1.32.0->langchain_openai==0.1.14->-r requirements.txt (line 9)) (1.3.1)\n",
      "Requirement already satisfied: tzdata>=2022.1 in ./venv/lib/python3.11/site-packages (from pandas>=0.24->catboost==1.2->-r requirements.txt (line 3)) (2024.2)\n",
      "Requirement already satisfied: annotated-types>=0.6.0 in ./venv/lib/python3.11/site-packages (from pydantic<3,>=1->langchain==0.2.6->-r requirements.txt (line 8)) (0.7.0)\n",
      "Requirement already satisfied: pydantic-core==2.23.4 in ./venv/lib/python3.11/site-packages (from pydantic<3,>=1->langchain==0.2.6->-r requirements.txt (line 8)) (2.23.4)\n",
      "Requirement already satisfied: charset-normalizer<4,>=2 in ./venv/lib/python3.11/site-packages (from requests<3,>=2.27->streamlit==1.28.2->-r requirements.txt (line 4)) (3.4.0)\n",
      "Requirement already satisfied: idna<4,>=2.5 in ./venv/lib/python3.11/site-packages (from requests<3,>=2.27->streamlit==1.28.2->-r requirements.txt (line 4)) (3.10)\n",
      "Requirement already satisfied: certifi>=2017.4.17 in ./venv/lib/python3.11/site-packages (from requests<3,>=2.27->streamlit==1.28.2->-r requirements.txt (line 4)) (2024.8.30)\n",
      "Requirement already satisfied: markdown-it-py>=2.2.0 in ./venv/lib/python3.11/site-packages (from rich<14,>=10.14.0->streamlit==1.28.2->-r requirements.txt (line 4)) (3.0.0)\n",
      "Requirement already satisfied: pygments<3.0.0,>=2.13.0 in ./venv/lib/python3.11/site-packages (from rich<14,>=10.14.0->streamlit==1.28.2->-r requirements.txt (line 4)) (2.18.0)\n",
      "Requirement already satisfied: regex>=2022.1.18 in ./venv/lib/python3.11/site-packages (from tiktoken<1,>=0.7->langchain_openai==0.1.14->-r requirements.txt (line 9)) (2024.11.6)\n",
      "Requirement already satisfied: networkx in ./venv/lib/python3.11/site-packages (from torch>=1.6.0->sentence-transformers==2.2.2->-r requirements.txt (line 6)) (3.4.2)\n",
      "Requirement already satisfied: sympy==1.13.1 in ./venv/lib/python3.11/site-packages (from torch>=1.6.0->sentence-transformers==2.2.2->-r requirements.txt (line 6)) (1.13.1)\n",
      "Requirement already satisfied: mpmath<1.4,>=1.1.0 in ./venv/lib/python3.11/site-packages (from sympy==1.13.1->torch>=1.6.0->sentence-transformers==2.2.2->-r requirements.txt (line 6)) (1.3.0)\n",
      "Requirement already satisfied: safetensors>=0.4.1 in ./venv/lib/python3.11/site-packages (from transformers<5.0.0,>=4.6.0->sentence-transformers==2.2.2->-r requirements.txt (line 6)) (0.4.5)\n",
      "Requirement already satisfied: tokenizers<0.21,>=0.20 in ./venv/lib/python3.11/site-packages (from transformers<5.0.0,>=4.6.0->sentence-transformers==2.2.2->-r requirements.txt (line 6)) (0.20.3)\n",
      "Requirement already satisfied: botocore<1.36.0,>=1.35.55 in ./venv/lib/python3.11/site-packages (from boto3->hopsworks->-r requirements.txt (line 10)) (1.35.55)\n",
      "Requirement already satisfied: jmespath<2.0.0,>=0.7.1 in ./venv/lib/python3.11/site-packages (from boto3->hopsworks->-r requirements.txt (line 10)) (1.0.1)\n",
      "Requirement already satisfied: s3transfer<0.11.0,>=0.10.0 in ./venv/lib/python3.11/site-packages (from boto3->hopsworks->-r requirements.txt (line 10)) (0.10.3)\n",
      "Requirement already satisfied: orderedmultidict>=1.0.1 in ./venv/lib/python3.11/site-packages (from furl->hopsworks->-r requirements.txt (line 10)) (1.0.1)\n",
      "Requirement already satisfied: contourpy>=1.0.1 in ./venv/lib/python3.11/site-packages (from matplotlib->catboost==1.2->-r requirements.txt (line 3)) (1.3.0)\n",
      "Requirement already satisfied: cycler>=0.10 in ./venv/lib/python3.11/site-packages (from matplotlib->catboost==1.2->-r requirements.txt (line 3)) (0.12.1)\n",
      "Requirement already satisfied: fonttools>=4.22.0 in ./venv/lib/python3.11/site-packages (from matplotlib->catboost==1.2->-r requirements.txt (line 3)) (4.54.1)\n",
      "Requirement already satisfied: kiwisolver>=1.3.1 in ./venv/lib/python3.11/site-packages (from matplotlib->catboost==1.2->-r requirements.txt (line 3)) (1.4.7)\n",
      "Requirement already satisfied: joblib in ./venv/lib/python3.11/site-packages (from nltk->sentence-transformers==2.2.2->-r requirements.txt (line 6)) (1.4.2)\n",
      "Requirement already satisfied: javaobj-py3 in ./venv/lib/python3.11/site-packages (from pyjks->hopsworks->-r requirements.txt (line 10)) (0.4.4)\n",
      "Requirement already satisfied: pyasn1>=0.3.5 in ./venv/lib/python3.11/site-packages (from pyjks->hopsworks->-r requirements.txt (line 10)) (0.6.1)\n",
      "Requirement already satisfied: pyasn1-modules in ./venv/lib/python3.11/site-packages (from pyjks->hopsworks->-r requirements.txt (line 10)) (0.4.1)\n",
      "Requirement already satisfied: pycryptodomex in ./venv/lib/python3.11/site-packages (from pyjks->hopsworks->-r requirements.txt (line 10)) (3.21.0)\n",
      "Requirement already satisfied: twofish in ./venv/lib/python3.11/site-packages (from pyjks->hopsworks->-r requirements.txt (line 10)) (0.3.0)\n",
      "Requirement already satisfied: threadpoolctl>=3.1.0 in ./venv/lib/python3.11/site-packages (from scikit-learn->sentence-transformers==2.2.2->-r requirements.txt (line 6)) (3.5.0)\n",
      "Requirement already satisfied: wheel<1.0,>=0.23.0 in ./venv/lib/python3.11/site-packages (from astunparse>=1.6.0->tensorflow-macos==2.14.0->tensorflow==2.14->-r requirements.txt (line 1)) (0.44.0)\n",
      "Requirement already satisfied: smmap<6,>=3.0.1 in ./venv/lib/python3.11/site-packages (from gitdb<5,>=4.0.1->gitpython!=3.1.19,<4,>=3.0.7->streamlit==1.28.2->-r requirements.txt (line 4)) (5.0.1)\n",
      "Requirement already satisfied: httpcore==1.* in ./venv/lib/python3.11/site-packages (from httpx<1,>=0.23.0->langsmith<0.2.0,>=0.1.17->langchain==0.2.6->-r requirements.txt (line 8)) (1.0.6)\n",
      "Requirement already satisfied: h11<0.15,>=0.13 in ./venv/lib/python3.11/site-packages (from httpcore==1.*->httpx<1,>=0.23.0->langsmith<0.2.0,>=0.1.17->langchain==0.2.6->-r requirements.txt (line 8)) (0.14.0)\n",
      "Requirement already satisfied: MarkupSafe>=2.0 in ./venv/lib/python3.11/site-packages (from jinja2->altair<6,>=4.0->streamlit==1.28.2->-r requirements.txt (line 4)) (3.0.2)\n",
      "Requirement already satisfied: jsonpointer>=1.9 in ./venv/lib/python3.11/site-packages (from jsonpatch>=1.22->great-expectations==0.18.12->hsfs<3.8.0,>=3.7.0->hsfs[python]<3.8.0,>=3.7.0->hopsworks->-r requirements.txt (line 10)) (3.0.0)\n",
      "Requirement already satisfied: jsonschema-specifications>=2023.03.6 in ./venv/lib/python3.11/site-packages (from jsonschema>=3.0->altair<6,>=4.0->streamlit==1.28.2->-r requirements.txt (line 4)) (2024.10.1)\n",
      "Requirement already satisfied: referencing>=0.28.4 in ./venv/lib/python3.11/site-packages (from jsonschema>=3.0->altair<6,>=4.0->streamlit==1.28.2->-r requirements.txt (line 4)) (0.35.1)\n",
      "Requirement already satisfied: rpds-py>=0.7.1 in ./venv/lib/python3.11/site-packages (from jsonschema>=3.0->altair<6,>=4.0->streamlit==1.28.2->-r requirements.txt (line 4)) (0.21.0)\n",
      "Requirement already satisfied: mdurl~=0.1 in ./venv/lib/python3.11/site-packages (from markdown-it-py>=2.2.0->rich<14,>=10.14.0->streamlit==1.28.2->-r requirements.txt (line 4)) (0.1.2)\n",
      "Requirement already satisfied: google-auth<3,>=1.6.3 in ./venv/lib/python3.11/site-packages (from tensorboard<2.15,>=2.14->tensorflow-macos==2.14.0->tensorflow==2.14->-r requirements.txt (line 1)) (2.36.0)\n",
      "Requirement already satisfied: google-auth-oauthlib<1.1,>=0.5 in ./venv/lib/python3.11/site-packages (from tensorboard<2.15,>=2.14->tensorflow-macos==2.14.0->tensorflow==2.14->-r requirements.txt (line 1)) (1.0.0)\n",
      "Requirement already satisfied: markdown>=2.6.8 in ./venv/lib/python3.11/site-packages (from tensorboard<2.15,>=2.14->tensorflow-macos==2.14.0->tensorflow==2.14->-r requirements.txt (line 1)) (3.7)\n",
      "Requirement already satisfied: tensorboard-data-server<0.8.0,>=0.7.0 in ./venv/lib/python3.11/site-packages (from tensorboard<2.15,>=2.14->tensorflow-macos==2.14.0->tensorflow==2.14->-r requirements.txt (line 1)) (0.7.2)\n",
      "Requirement already satisfied: werkzeug>=1.0.1 in ./venv/lib/python3.11/site-packages (from tensorboard<2.15,>=2.14->tensorflow-macos==2.14.0->tensorflow==2.14->-r requirements.txt (line 1)) (3.1.2)\n",
      "Requirement already satisfied: propcache>=0.2.0 in ./venv/lib/python3.11/site-packages (from yarl<2.0,>=1.12.0->aiohttp<4.0.0,>=3.8.3->langchain==0.2.6->-r requirements.txt (line 8)) (0.2.0)\n",
      "Requirement already satisfied: future in ./venv/lib/python3.11/site-packages (from pyhopshive[thrift]; extra == \"python\"->hsfs[python]<3.8.0,>=3.7.0->hopsworks->-r requirements.txt (line 10)) (1.0.0)\n",
      "Requirement already satisfied: thrift>=0.10.0 in ./venv/lib/python3.11/site-packages (from pyhopshive[thrift]; extra == \"python\"->hsfs[python]<3.8.0,>=3.7.0->hopsworks->-r requirements.txt (line 10)) (0.21.0)\n",
      "Requirement already satisfied: cffi>=1.12 in ./venv/lib/python3.11/site-packages (from cryptography>=3.2->great-expectations==0.18.12->hsfs<3.8.0,>=3.7.0->hsfs[python]<3.8.0,>=3.7.0->hopsworks->-r requirements.txt (line 10)) (1.17.1)\n",
      "Requirement already satisfied: rsa<5,>=3.1.4 in ./venv/lib/python3.11/site-packages (from google-auth<3,>=1.6.3->tensorboard<2.15,>=2.14->tensorflow-macos==2.14.0->tensorflow==2.14->-r requirements.txt (line 1)) (4.9)\n",
      "Requirement already satisfied: requests-oauthlib>=0.7.0 in ./venv/lib/python3.11/site-packages (from google-auth-oauthlib<1.1,>=0.5->tensorboard<2.15,>=2.14->tensorflow-macos==2.14.0->tensorflow==2.14->-r requirements.txt (line 1)) (2.0.0)\n",
      "Requirement already satisfied: decorator in ./venv/lib/python3.11/site-packages (from Ipython>=7.16.3->great-expectations==0.18.12->hsfs<3.8.0,>=3.7.0->hsfs[python]<3.8.0,>=3.7.0->hopsworks->-r requirements.txt (line 10)) (5.1.1)\n",
      "Requirement already satisfied: jedi>=0.16 in ./venv/lib/python3.11/site-packages (from Ipython>=7.16.3->great-expectations==0.18.12->hsfs<3.8.0,>=3.7.0->hsfs[python]<3.8.0,>=3.7.0->hopsworks->-r requirements.txt (line 10)) (0.19.1)\n",
      "Requirement already satisfied: matplotlib-inline in ./venv/lib/python3.11/site-packages (from Ipython>=7.16.3->great-expectations==0.18.12->hsfs<3.8.0,>=3.7.0->hsfs[python]<3.8.0,>=3.7.0->hopsworks->-r requirements.txt (line 10)) (0.1.7)\n",
      "Requirement already satisfied: prompt-toolkit<3.1.0,>=3.0.41 in ./venv/lib/python3.11/site-packages (from Ipython>=7.16.3->great-expectations==0.18.12->hsfs<3.8.0,>=3.7.0->hsfs[python]<3.8.0,>=3.7.0->hopsworks->-r requirements.txt (line 10)) (3.0.48)\n",
      "Requirement already satisfied: stack-data in ./venv/lib/python3.11/site-packages (from Ipython>=7.16.3->great-expectations==0.18.12->hsfs<3.8.0,>=3.7.0->hsfs[python]<3.8.0,>=3.7.0->hopsworks->-r requirements.txt (line 10)) (0.6.3)\n",
      "Requirement already satisfied: traitlets>=5.13.0 in ./venv/lib/python3.11/site-packages (from Ipython>=7.16.3->great-expectations==0.18.12->hsfs<3.8.0,>=3.7.0->hsfs[python]<3.8.0,>=3.7.0->hopsworks->-r requirements.txt (line 10)) (5.14.3)\n",
      "Requirement already satisfied: pexpect>4.3 in ./venv/lib/python3.11/site-packages (from Ipython>=7.16.3->great-expectations==0.18.12->hsfs<3.8.0,>=3.7.0->hsfs[python]<3.8.0,>=3.7.0->hopsworks->-r requirements.txt (line 10)) (4.9.0)\n",
      "Requirement already satisfied: comm>=0.1.3 in ./venv/lib/python3.11/site-packages (from ipywidgets>=7.5.1->great-expectations==0.18.12->hsfs<3.8.0,>=3.7.0->hsfs[python]<3.8.0,>=3.7.0->hopsworks->-r requirements.txt (line 10)) (0.2.2)\n",
      "Requirement already satisfied: widgetsnbextension~=4.0.12 in ./venv/lib/python3.11/site-packages (from ipywidgets>=7.5.1->great-expectations==0.18.12->hsfs<3.8.0,>=3.7.0->hsfs[python]<3.8.0,>=3.7.0->hopsworks->-r requirements.txt (line 10)) (4.0.13)\n",
      "Requirement already satisfied: jupyterlab-widgets~=3.0.12 in ./venv/lib/python3.11/site-packages (from ipywidgets>=7.5.1->great-expectations==0.18.12->hsfs<3.8.0,>=3.7.0->hsfs[python]<3.8.0,>=3.7.0->hopsworks->-r requirements.txt (line 10)) (3.0.13)\n",
      "Requirement already satisfied: fastjsonschema>=2.15 in ./venv/lib/python3.11/site-packages (from nbformat>=5.0->great-expectations==0.18.12->hsfs<3.8.0,>=3.7.0->hsfs[python]<3.8.0,>=3.7.0->hopsworks->-r requirements.txt (line 10)) (2.20.0)\n",
      "Requirement already satisfied: jupyter-core!=5.0.*,>=4.12 in ./venv/lib/python3.11/site-packages (from nbformat>=5.0->great-expectations==0.18.12->hsfs<3.8.0,>=3.7.0->hsfs[python]<3.8.0,>=3.7.0->hopsworks->-r requirements.txt (line 10)) (5.7.2)\n",
      "Requirement already satisfied: jupyter-server<3,>=2.4.0 in ./venv/lib/python3.11/site-packages (from notebook>=6.4.10->great-expectations==0.18.12->hsfs<3.8.0,>=3.7.0->hsfs[python]<3.8.0,>=3.7.0->hopsworks->-r requirements.txt (line 10)) (2.14.2)\n",
      "Requirement already satisfied: jupyterlab-server<3,>=2.27.1 in ./venv/lib/python3.11/site-packages (from notebook>=6.4.10->great-expectations==0.18.12->hsfs<3.8.0,>=3.7.0->hsfs[python]<3.8.0,>=3.7.0->hopsworks->-r requirements.txt (line 10)) (2.27.3)\n",
      "Requirement already satisfied: jupyterlab<4.3,>=4.2.0 in ./venv/lib/python3.11/site-packages (from notebook>=6.4.10->great-expectations==0.18.12->hsfs<3.8.0,>=3.7.0->hsfs[python]<3.8.0,>=3.7.0->hopsworks->-r requirements.txt (line 10)) (4.2.5)\n",
      "Requirement already satisfied: notebook-shim<0.3,>=0.2 in ./venv/lib/python3.11/site-packages (from notebook>=6.4.10->great-expectations==0.18.12->hsfs<3.8.0,>=3.7.0->hsfs[python]<3.8.0,>=3.7.0->hopsworks->-r requirements.txt (line 10)) (0.2.4)\n",
      "Requirement already satisfied: pycparser in ./venv/lib/python3.11/site-packages (from cffi>=1.12->cryptography>=3.2->great-expectations==0.18.12->hsfs<3.8.0,>=3.7.0->hsfs[python]<3.8.0,>=3.7.0->hopsworks->-r requirements.txt (line 10)) (2.22)\n",
      "Requirement already satisfied: parso<0.9.0,>=0.8.3 in ./venv/lib/python3.11/site-packages (from jedi>=0.16->Ipython>=7.16.3->great-expectations==0.18.12->hsfs<3.8.0,>=3.7.0->hsfs[python]<3.8.0,>=3.7.0->hopsworks->-r requirements.txt (line 10)) (0.8.4)\n",
      "Requirement already satisfied: platformdirs>=2.5 in ./venv/lib/python3.11/site-packages (from jupyter-core!=5.0.*,>=4.12->nbformat>=5.0->great-expectations==0.18.12->hsfs<3.8.0,>=3.7.0->hsfs[python]<3.8.0,>=3.7.0->hopsworks->-r requirements.txt (line 10)) (4.3.6)\n",
      "Requirement already satisfied: argon2-cffi>=21.1 in ./venv/lib/python3.11/site-packages (from jupyter-server<3,>=2.4.0->notebook>=6.4.10->great-expectations==0.18.12->hsfs<3.8.0,>=3.7.0->hsfs[python]<3.8.0,>=3.7.0->hopsworks->-r requirements.txt (line 10)) (23.1.0)\n",
      "Requirement already satisfied: jupyter-client>=7.4.4 in ./venv/lib/python3.11/site-packages (from jupyter-server<3,>=2.4.0->notebook>=6.4.10->great-expectations==0.18.12->hsfs<3.8.0,>=3.7.0->hsfs[python]<3.8.0,>=3.7.0->hopsworks->-r requirements.txt (line 10)) (8.6.3)\n",
      "Requirement already satisfied: jupyter-events>=0.9.0 in ./venv/lib/python3.11/site-packages (from jupyter-server<3,>=2.4.0->notebook>=6.4.10->great-expectations==0.18.12->hsfs<3.8.0,>=3.7.0->hsfs[python]<3.8.0,>=3.7.0->hopsworks->-r requirements.txt (line 10)) (0.10.0)\n",
      "Requirement already satisfied: jupyter-server-terminals>=0.4.4 in ./venv/lib/python3.11/site-packages (from jupyter-server<3,>=2.4.0->notebook>=6.4.10->great-expectations==0.18.12->hsfs<3.8.0,>=3.7.0->hsfs[python]<3.8.0,>=3.7.0->hopsworks->-r requirements.txt (line 10)) (0.5.3)\n",
      "Requirement already satisfied: nbconvert>=6.4.4 in ./venv/lib/python3.11/site-packages (from jupyter-server<3,>=2.4.0->notebook>=6.4.10->great-expectations==0.18.12->hsfs<3.8.0,>=3.7.0->hsfs[python]<3.8.0,>=3.7.0->hopsworks->-r requirements.txt (line 10)) (7.16.4)\n",
      "Requirement already satisfied: overrides>=5.0 in ./venv/lib/python3.11/site-packages (from jupyter-server<3,>=2.4.0->notebook>=6.4.10->great-expectations==0.18.12->hsfs<3.8.0,>=3.7.0->hsfs[python]<3.8.0,>=3.7.0->hopsworks->-r requirements.txt (line 10)) (7.7.0)\n",
      "Requirement already satisfied: prometheus-client>=0.9 in ./venv/lib/python3.11/site-packages (from jupyter-server<3,>=2.4.0->notebook>=6.4.10->great-expectations==0.18.12->hsfs<3.8.0,>=3.7.0->hsfs[python]<3.8.0,>=3.7.0->hopsworks->-r requirements.txt (line 10)) (0.21.0)\n",
      "Requirement already satisfied: pyzmq>=24 in ./venv/lib/python3.11/site-packages (from jupyter-server<3,>=2.4.0->notebook>=6.4.10->great-expectations==0.18.12->hsfs<3.8.0,>=3.7.0->hsfs[python]<3.8.0,>=3.7.0->hopsworks->-r requirements.txt (line 10)) (26.2.0)\n",
      "Requirement already satisfied: send2trash>=1.8.2 in ./venv/lib/python3.11/site-packages (from jupyter-server<3,>=2.4.0->notebook>=6.4.10->great-expectations==0.18.12->hsfs<3.8.0,>=3.7.0->hsfs[python]<3.8.0,>=3.7.0->hopsworks->-r requirements.txt (line 10)) (1.8.3)\n",
      "Requirement already satisfied: terminado>=0.8.3 in ./venv/lib/python3.11/site-packages (from jupyter-server<3,>=2.4.0->notebook>=6.4.10->great-expectations==0.18.12->hsfs<3.8.0,>=3.7.0->hsfs[python]<3.8.0,>=3.7.0->hopsworks->-r requirements.txt (line 10)) (0.18.1)\n",
      "Requirement already satisfied: websocket-client>=1.7 in ./venv/lib/python3.11/site-packages (from jupyter-server<3,>=2.4.0->notebook>=6.4.10->great-expectations==0.18.12->hsfs<3.8.0,>=3.7.0->hsfs[python]<3.8.0,>=3.7.0->hopsworks->-r requirements.txt (line 10)) (1.8.0)\n",
      "Requirement already satisfied: async-lru>=1.0.0 in ./venv/lib/python3.11/site-packages (from jupyterlab<4.3,>=4.2.0->notebook>=6.4.10->great-expectations==0.18.12->hsfs<3.8.0,>=3.7.0->hsfs[python]<3.8.0,>=3.7.0->hopsworks->-r requirements.txt (line 10)) (2.0.4)\n",
      "Requirement already satisfied: ipykernel>=6.5.0 in ./venv/lib/python3.11/site-packages (from jupyterlab<4.3,>=4.2.0->notebook>=6.4.10->great-expectations==0.18.12->hsfs<3.8.0,>=3.7.0->hsfs[python]<3.8.0,>=3.7.0->hopsworks->-r requirements.txt (line 10)) (6.29.5)\n",
      "Requirement already satisfied: jupyter-lsp>=2.0.0 in ./venv/lib/python3.11/site-packages (from jupyterlab<4.3,>=4.2.0->notebook>=6.4.10->great-expectations==0.18.12->hsfs<3.8.0,>=3.7.0->hsfs[python]<3.8.0,>=3.7.0->hopsworks->-r requirements.txt (line 10)) (2.2.5)\n",
      "Requirement already satisfied: babel>=2.10 in ./venv/lib/python3.11/site-packages (from jupyterlab-server<3,>=2.27.1->notebook>=6.4.10->great-expectations==0.18.12->hsfs<3.8.0,>=3.7.0->hsfs[python]<3.8.0,>=3.7.0->hopsworks->-r requirements.txt (line 10)) (2.16.0)\n",
      "Requirement already satisfied: json5>=0.9.0 in ./venv/lib/python3.11/site-packages (from jupyterlab-server<3,>=2.27.1->notebook>=6.4.10->great-expectations==0.18.12->hsfs<3.8.0,>=3.7.0->hsfs[python]<3.8.0,>=3.7.0->hopsworks->-r requirements.txt (line 10)) (0.9.25)\n",
      "Requirement already satisfied: ptyprocess>=0.5 in ./venv/lib/python3.11/site-packages (from pexpect>4.3->Ipython>=7.16.3->great-expectations==0.18.12->hsfs<3.8.0,>=3.7.0->hsfs[python]<3.8.0,>=3.7.0->hopsworks->-r requirements.txt (line 10)) (0.7.0)\n",
      "Requirement already satisfied: wcwidth in ./venv/lib/python3.11/site-packages (from prompt-toolkit<3.1.0,>=3.0.41->Ipython>=7.16.3->great-expectations==0.18.12->hsfs<3.8.0,>=3.7.0->hsfs[python]<3.8.0,>=3.7.0->hopsworks->-r requirements.txt (line 10)) (0.2.13)\n",
      "Requirement already satisfied: oauthlib>=3.0.0 in ./venv/lib/python3.11/site-packages (from requests-oauthlib>=0.7.0->google-auth-oauthlib<1.1,>=0.5->tensorboard<2.15,>=2.14->tensorflow-macos==2.14.0->tensorflow==2.14->-r requirements.txt (line 1)) (3.2.2)\n",
      "Requirement already satisfied: executing>=1.2.0 in ./venv/lib/python3.11/site-packages (from stack-data->Ipython>=7.16.3->great-expectations==0.18.12->hsfs<3.8.0,>=3.7.0->hsfs[python]<3.8.0,>=3.7.0->hopsworks->-r requirements.txt (line 10)) (2.1.0)\n",
      "Requirement already satisfied: asttokens>=2.1.0 in ./venv/lib/python3.11/site-packages (from stack-data->Ipython>=7.16.3->great-expectations==0.18.12->hsfs<3.8.0,>=3.7.0->hsfs[python]<3.8.0,>=3.7.0->hopsworks->-r requirements.txt (line 10)) (2.4.1)\n",
      "Requirement already satisfied: pure-eval in ./venv/lib/python3.11/site-packages (from stack-data->Ipython>=7.16.3->great-expectations==0.18.12->hsfs<3.8.0,>=3.7.0->hsfs[python]<3.8.0,>=3.7.0->hopsworks->-r requirements.txt (line 10)) (0.2.3)\n",
      "Requirement already satisfied: argon2-cffi-bindings in ./venv/lib/python3.11/site-packages (from argon2-cffi>=21.1->jupyter-server<3,>=2.4.0->notebook>=6.4.10->great-expectations==0.18.12->hsfs<3.8.0,>=3.7.0->hsfs[python]<3.8.0,>=3.7.0->hopsworks->-r requirements.txt (line 10)) (21.2.0)\n",
      "Requirement already satisfied: appnope in ./venv/lib/python3.11/site-packages (from ipykernel>=6.5.0->jupyterlab<4.3,>=4.2.0->notebook>=6.4.10->great-expectations==0.18.12->hsfs<3.8.0,>=3.7.0->hsfs[python]<3.8.0,>=3.7.0->hopsworks->-r requirements.txt (line 10)) (0.1.4)\n",
      "Requirement already satisfied: debugpy>=1.6.5 in ./venv/lib/python3.11/site-packages (from ipykernel>=6.5.0->jupyterlab<4.3,>=4.2.0->notebook>=6.4.10->great-expectations==0.18.12->hsfs<3.8.0,>=3.7.0->hsfs[python]<3.8.0,>=3.7.0->hopsworks->-r requirements.txt (line 10)) (1.8.7)\n",
      "Requirement already satisfied: nest-asyncio in ./venv/lib/python3.11/site-packages (from ipykernel>=6.5.0->jupyterlab<4.3,>=4.2.0->notebook>=6.4.10->great-expectations==0.18.12->hsfs<3.8.0,>=3.7.0->hsfs[python]<3.8.0,>=3.7.0->hopsworks->-r requirements.txt (line 10)) (1.6.0)\n",
      "Requirement already satisfied: psutil in ./venv/lib/python3.11/site-packages (from ipykernel>=6.5.0->jupyterlab<4.3,>=4.2.0->notebook>=6.4.10->great-expectations==0.18.12->hsfs<3.8.0,>=3.7.0->hsfs[python]<3.8.0,>=3.7.0->hopsworks->-r requirements.txt (line 10)) (6.1.0)\n",
      "Requirement already satisfied: python-json-logger>=2.0.4 in ./venv/lib/python3.11/site-packages (from jupyter-events>=0.9.0->jupyter-server<3,>=2.4.0->notebook>=6.4.10->great-expectations==0.18.12->hsfs<3.8.0,>=3.7.0->hsfs[python]<3.8.0,>=3.7.0->hopsworks->-r requirements.txt (line 10)) (2.0.7)\n",
      "Requirement already satisfied: rfc3339-validator in ./venv/lib/python3.11/site-packages (from jupyter-events>=0.9.0->jupyter-server<3,>=2.4.0->notebook>=6.4.10->great-expectations==0.18.12->hsfs<3.8.0,>=3.7.0->hsfs[python]<3.8.0,>=3.7.0->hopsworks->-r requirements.txt (line 10)) (0.1.4)\n",
      "Requirement already satisfied: rfc3986-validator>=0.1.1 in ./venv/lib/python3.11/site-packages (from jupyter-events>=0.9.0->jupyter-server<3,>=2.4.0->notebook>=6.4.10->great-expectations==0.18.12->hsfs<3.8.0,>=3.7.0->hsfs[python]<3.8.0,>=3.7.0->hopsworks->-r requirements.txt (line 10)) (0.1.1)\n",
      "Requirement already satisfied: beautifulsoup4 in ./venv/lib/python3.11/site-packages (from nbconvert>=6.4.4->jupyter-server<3,>=2.4.0->notebook>=6.4.10->great-expectations==0.18.12->hsfs<3.8.0,>=3.7.0->hsfs[python]<3.8.0,>=3.7.0->hopsworks->-r requirements.txt (line 10)) (4.12.3)\n",
      "Requirement already satisfied: bleach!=5.0.0 in ./venv/lib/python3.11/site-packages (from nbconvert>=6.4.4->jupyter-server<3,>=2.4.0->notebook>=6.4.10->great-expectations==0.18.12->hsfs<3.8.0,>=3.7.0->hsfs[python]<3.8.0,>=3.7.0->hopsworks->-r requirements.txt (line 10)) (6.2.0)\n",
      "Requirement already satisfied: defusedxml in ./venv/lib/python3.11/site-packages (from nbconvert>=6.4.4->jupyter-server<3,>=2.4.0->notebook>=6.4.10->great-expectations==0.18.12->hsfs<3.8.0,>=3.7.0->hsfs[python]<3.8.0,>=3.7.0->hopsworks->-r requirements.txt (line 10)) (0.7.1)\n",
      "Requirement already satisfied: jupyterlab-pygments in ./venv/lib/python3.11/site-packages (from nbconvert>=6.4.4->jupyter-server<3,>=2.4.0->notebook>=6.4.10->great-expectations==0.18.12->hsfs<3.8.0,>=3.7.0->hsfs[python]<3.8.0,>=3.7.0->hopsworks->-r requirements.txt (line 10)) (0.3.0)\n",
      "Requirement already satisfied: nbclient>=0.5.0 in ./venv/lib/python3.11/site-packages (from nbconvert>=6.4.4->jupyter-server<3,>=2.4.0->notebook>=6.4.10->great-expectations==0.18.12->hsfs<3.8.0,>=3.7.0->hsfs[python]<3.8.0,>=3.7.0->hopsworks->-r requirements.txt (line 10)) (0.10.0)\n",
      "Requirement already satisfied: pandocfilters>=1.4.1 in ./venv/lib/python3.11/site-packages (from nbconvert>=6.4.4->jupyter-server<3,>=2.4.0->notebook>=6.4.10->great-expectations==0.18.12->hsfs<3.8.0,>=3.7.0->hsfs[python]<3.8.0,>=3.7.0->hopsworks->-r requirements.txt (line 10)) (1.5.1)\n",
      "Requirement already satisfied: tinycss2 in ./venv/lib/python3.11/site-packages (from nbconvert>=6.4.4->jupyter-server<3,>=2.4.0->notebook>=6.4.10->great-expectations==0.18.12->hsfs<3.8.0,>=3.7.0->hsfs[python]<3.8.0,>=3.7.0->hopsworks->-r requirements.txt (line 10)) (1.4.0)\n",
      "Requirement already satisfied: webencodings in ./venv/lib/python3.11/site-packages (from bleach!=5.0.0->nbconvert>=6.4.4->jupyter-server<3,>=2.4.0->notebook>=6.4.10->great-expectations==0.18.12->hsfs<3.8.0,>=3.7.0->hsfs[python]<3.8.0,>=3.7.0->hopsworks->-r requirements.txt (line 10)) (0.5.1)\n",
      "Requirement already satisfied: fqdn in ./venv/lib/python3.11/site-packages (from jsonschema[format-nongpl]>=4.18.0->jupyter-events>=0.9.0->jupyter-server<3,>=2.4.0->notebook>=6.4.10->great-expectations==0.18.12->hsfs<3.8.0,>=3.7.0->hsfs[python]<3.8.0,>=3.7.0->hopsworks->-r requirements.txt (line 10)) (1.5.1)\n",
      "Requirement already satisfied: isoduration in ./venv/lib/python3.11/site-packages (from jsonschema[format-nongpl]>=4.18.0->jupyter-events>=0.9.0->jupyter-server<3,>=2.4.0->notebook>=6.4.10->great-expectations==0.18.12->hsfs<3.8.0,>=3.7.0->hsfs[python]<3.8.0,>=3.7.0->hopsworks->-r requirements.txt (line 10)) (20.11.0)\n",
      "Requirement already satisfied: uri-template in ./venv/lib/python3.11/site-packages (from jsonschema[format-nongpl]>=4.18.0->jupyter-events>=0.9.0->jupyter-server<3,>=2.4.0->notebook>=6.4.10->great-expectations==0.18.12->hsfs<3.8.0,>=3.7.0->hsfs[python]<3.8.0,>=3.7.0->hopsworks->-r requirements.txt (line 10)) (1.3.0)\n",
      "Requirement already satisfied: webcolors>=24.6.0 in ./venv/lib/python3.11/site-packages (from jsonschema[format-nongpl]>=4.18.0->jupyter-events>=0.9.0->jupyter-server<3,>=2.4.0->notebook>=6.4.10->great-expectations==0.18.12->hsfs<3.8.0,>=3.7.0->hsfs[python]<3.8.0,>=3.7.0->hopsworks->-r requirements.txt (line 10)) (24.8.0)\n",
      "Requirement already satisfied: soupsieve>1.2 in ./venv/lib/python3.11/site-packages (from beautifulsoup4->nbconvert>=6.4.4->jupyter-server<3,>=2.4.0->notebook>=6.4.10->great-expectations==0.18.12->hsfs<3.8.0,>=3.7.0->hsfs[python]<3.8.0,>=3.7.0->hopsworks->-r requirements.txt (line 10)) (2.6)\n",
      "Requirement already satisfied: arrow>=0.15.0 in ./venv/lib/python3.11/site-packages (from isoduration->jsonschema[format-nongpl]>=4.18.0->jupyter-events>=0.9.0->jupyter-server<3,>=2.4.0->notebook>=6.4.10->great-expectations==0.18.12->hsfs<3.8.0,>=3.7.0->hsfs[python]<3.8.0,>=3.7.0->hopsworks->-r requirements.txt (line 10)) (1.3.0)\n",
      "Requirement already satisfied: types-python-dateutil>=2.8.10 in ./venv/lib/python3.11/site-packages (from arrow>=0.15.0->isoduration->jsonschema[format-nongpl]>=4.18.0->jupyter-events>=0.9.0->jupyter-server<3,>=2.4.0->notebook>=6.4.10->great-expectations==0.18.12->hsfs<3.8.0,>=3.7.0->hsfs[python]<3.8.0,>=3.7.0->hopsworks->-r requirements.txt (line 10)) (2.9.0.20241003)\n",
      "\n",
      "\u001b[1m[\u001b[0m\u001b[34;49mnotice\u001b[0m\u001b[1;39;49m]\u001b[0m\u001b[39;49m A new release of pip is available: \u001b[0m\u001b[31;49m24.0\u001b[0m\u001b[39;49m -> \u001b[0m\u001b[32;49m24.3.1\u001b[0m\n",
      "\u001b[1m[\u001b[0m\u001b[34;49mnotice\u001b[0m\u001b[1;39;49m]\u001b[0m\u001b[39;49m To update, run: \u001b[0m\u001b[32;49mpip install --upgrade pip\u001b[0m\n"
     ]
    }
   ],
   "source": [
    "!pip install -r requirements.txt"
   ]
  },
  {
   "cell_type": "code",
   "execution_count": 3,
   "metadata": {},
   "outputs": [],
   "source": [
    "import pandas as pd\n",
    "from catboost import CatBoostClassifier, Pool\n",
    "from sklearn.metrics import classification_report, precision_recall_fscore_support\n",
    "import joblib"
   ]
  },
  {
   "cell_type": "markdown",
   "metadata": {},
   "source": [
    "## <span style=\"color:#ff5f27\">🔮 Connect to Hopsworks Feature Store </span>"
   ]
  },
  {
   "cell_type": "code",
   "execution_count": 4,
   "metadata": {},
   "outputs": [
    {
     "name": "stdout",
     "output_type": "stream",
     "text": [
      "Connected. Call `.close()` to terminate connection gracefully.\n",
      "\n",
      "Logged in to project, explore it here https://c.app.hopsworks.ai:443/p/15551\n",
      "Connected. Call `.close()` to terminate connection gracefully.\n"
     ]
    }
   ],
   "source": [
    "import hopsworks\n",
    "\n",
    "project = hopsworks.login()\n",
    "\n",
    "fs = project.get_feature_store()"
   ]
  },
  {
   "cell_type": "code",
   "execution_count": 5,
   "metadata": {},
   "outputs": [],
   "source": [
    "customers_fg = fs.get_feature_group(\n",
    "    name=\"customers\",\n",
    "    version=1,\n",
    ")\n",
    "\n",
    "articles_fg = fs.get_feature_group(\n",
    "    name=\"articles\",\n",
    "    version=2,\n",
    ")\n",
    "\n",
    "trans_fg = fs.get_feature_group(\n",
    "    name=\"transactions\",\n",
    "    version=1,\n",
    ")\n",
    "\n",
    "rank_fg = fs.get_feature_group(\n",
    "    name=\"ranking\",\n",
    "    version=1,\n",
    ")"
   ]
  },
  {
   "cell_type": "markdown",
   "metadata": {},
   "source": [
    "## <span style=\"color:#ff5f27\">⚙️ Feature View Creation </span>"
   ]
  },
  {
   "cell_type": "code",
   "execution_count": 8,
   "metadata": {},
   "outputs": [
    {
     "name": "stdout",
     "output_type": "stream",
     "text": [
      "Feature view created successfully, explore it at \n",
      "https://c.app.hopsworks.ai:443/p/15551/fs/15471/fv/customers/version/1\n"
     ]
    },
    {
     "data": {
      "text/plain": [
       "<hsfs.feature_view.FeatureView at 0x31b7c8f10>"
      ]
     },
     "execution_count": 8,
     "metadata": {},
     "output_type": "execute_result"
    }
   ],
   "source": [
    "# Select features\n",
    "selected_features_customers = customers_fg.select_all()\n",
    "\n",
    "fs.get_or_create_feature_view( \n",
    "    name='customers',\n",
    "    query=selected_features_customers,\n",
    "    version=1,\n",
    ")"
   ]
  },
  {
   "cell_type": "code",
   "execution_count": 9,
   "metadata": {},
   "outputs": [
    {
     "name": "stdout",
     "output_type": "stream",
     "text": [
      "Feature view created successfully, explore it at \n",
      "https://c.app.hopsworks.ai:443/p/15551/fs/15471/fv/articles/version/1\n"
     ]
    },
    {
     "data": {
      "text/plain": [
       "<hsfs.feature_view.FeatureView at 0x31b7c0e50>"
      ]
     },
     "execution_count": 9,
     "metadata": {},
     "output_type": "execute_result"
    }
   ],
   "source": [
    "# Select features\n",
    "selected_features_articles = articles_fg.select_except(['embeddings']) \n",
    "\n",
    "fs.get_or_create_feature_view(\n",
    "    name='articles',\n",
    "    query=selected_features_articles,\n",
    "    version=1,\n",
    ")"
   ]
  },
  {
   "cell_type": "code",
   "execution_count": 10,
   "metadata": {},
   "outputs": [
    {
     "name": "stdout",
     "output_type": "stream",
     "text": [
      "Feature view created successfully, explore it at \n",
      "https://c.app.hopsworks.ai:443/p/15551/fs/15471/fv/ranking/version/1\n"
     ]
    }
   ],
   "source": [
    "# Select features\n",
    "selected_features_ranking = rank_fg.select_except([\"customer_id\", \"article_id\"])\n",
    "\n",
    "feature_view_ranking = fs.get_or_create_feature_view(\n",
    "    name='ranking',\n",
    "    query=selected_features_ranking,\n",
    "    labels=[\"label\"],\n",
    "    version=1,\n",
    ")"
   ]
  },
  {
   "cell_type": "markdown",
   "metadata": {},
   "source": [
    "## <span style=\"color:#ff5f27\">🗄️ Train Data loading </span>"
   ]
  },
  {
   "cell_type": "code",
   "execution_count": 11,
   "metadata": {},
   "outputs": [
    {
     "name": "stdout",
     "output_type": "stream",
     "text": [
      "Finished: Reading data from Hopsworks, using Hopsworks Feature Query Service (206.51s) \n",
      "2024-11-07 15:09:35,006 WARNING: VersionWarning: Incremented version to `1`.\n",
      "\n"
     ]
    },
    {
     "data": {
      "text/html": [
       "<div>\n",
       "<style scoped>\n",
       "    .dataframe tbody tr th:only-of-type {\n",
       "        vertical-align: middle;\n",
       "    }\n",
       "\n",
       "    .dataframe tbody tr th {\n",
       "        vertical-align: top;\n",
       "    }\n",
       "\n",
       "    .dataframe thead th {\n",
       "        text-align: right;\n",
       "    }\n",
       "</style>\n",
       "<table border=\"1\" class=\"dataframe\">\n",
       "  <thead>\n",
       "    <tr style=\"text-align: right;\">\n",
       "      <th></th>\n",
       "      <th>age</th>\n",
       "      <th>month_sin</th>\n",
       "      <th>month_cos</th>\n",
       "      <th>product_type_name</th>\n",
       "      <th>product_group_name</th>\n",
       "      <th>graphical_appearance_name</th>\n",
       "      <th>colour_group_name</th>\n",
       "      <th>perceived_colour_value_name</th>\n",
       "      <th>perceived_colour_master_name</th>\n",
       "      <th>department_name</th>\n",
       "      <th>index_name</th>\n",
       "      <th>index_group_name</th>\n",
       "      <th>section_name</th>\n",
       "      <th>garment_group_name</th>\n",
       "    </tr>\n",
       "  </thead>\n",
       "  <tbody>\n",
       "    <tr>\n",
       "      <th>0</th>\n",
       "      <td>19.0</td>\n",
       "      <td>-0.866025</td>\n",
       "      <td>0.500000</td>\n",
       "      <td>Trousers</td>\n",
       "      <td>Garment Lower body</td>\n",
       "      <td>Melange</td>\n",
       "      <td>Grey</td>\n",
       "      <td>Dusty Light</td>\n",
       "      <td>Grey</td>\n",
       "      <td>Basic 1</td>\n",
       "      <td>Divided</td>\n",
       "      <td>Divided</td>\n",
       "      <td>Divided Basics</td>\n",
       "      <td>Jersey Basic</td>\n",
       "    </tr>\n",
       "    <tr>\n",
       "      <th>2</th>\n",
       "      <td>33.0</td>\n",
       "      <td>0.866025</td>\n",
       "      <td>-0.500000</td>\n",
       "      <td>Belt</td>\n",
       "      <td>Accessories</td>\n",
       "      <td>Solid</td>\n",
       "      <td>Black</td>\n",
       "      <td>Dark</td>\n",
       "      <td>Black</td>\n",
       "      <td>Belts</td>\n",
       "      <td>Ladies Accessories</td>\n",
       "      <td>Ladieswear</td>\n",
       "      <td>Womens Big accessories</td>\n",
       "      <td>Accessories</td>\n",
       "    </tr>\n",
       "    <tr>\n",
       "      <th>3</th>\n",
       "      <td>50.0</td>\n",
       "      <td>-0.500000</td>\n",
       "      <td>0.866025</td>\n",
       "      <td>Dress</td>\n",
       "      <td>Garment Full body</td>\n",
       "      <td>Solid</td>\n",
       "      <td>Dark Beige</td>\n",
       "      <td>Dark</td>\n",
       "      <td>Beige</td>\n",
       "      <td>Knitwear</td>\n",
       "      <td>Ladieswear</td>\n",
       "      <td>Ladieswear</td>\n",
       "      <td>Womens Everyday Collection</td>\n",
       "      <td>Knitwear</td>\n",
       "    </tr>\n",
       "  </tbody>\n",
       "</table>\n",
       "</div>"
      ],
      "text/plain": [
       "    age  month_sin  month_cos product_type_name  product_group_name  \\\n",
       "0  19.0  -0.866025   0.500000          Trousers  Garment Lower body   \n",
       "2  33.0   0.866025  -0.500000              Belt         Accessories   \n",
       "3  50.0  -0.500000   0.866025             Dress   Garment Full body   \n",
       "\n",
       "  graphical_appearance_name colour_group_name perceived_colour_value_name  \\\n",
       "0                   Melange              Grey                 Dusty Light   \n",
       "2                     Solid             Black                        Dark   \n",
       "3                     Solid        Dark Beige                        Dark   \n",
       "\n",
       "  perceived_colour_master_name department_name          index_name  \\\n",
       "0                         Grey         Basic 1             Divided   \n",
       "2                        Black           Belts  Ladies Accessories   \n",
       "3                        Beige        Knitwear          Ladieswear   \n",
       "\n",
       "  index_group_name                section_name garment_group_name  \n",
       "0          Divided              Divided Basics       Jersey Basic  \n",
       "2       Ladieswear      Womens Big accessories        Accessories  \n",
       "3       Ladieswear  Womens Everyday Collection           Knitwear  "
      ]
     },
     "execution_count": 11,
     "metadata": {},
     "output_type": "execute_result"
    }
   ],
   "source": [
    "X_train, X_val, y_train, y_val = feature_view_ranking.train_test_split(\n",
    "    test_size=0.1,\n",
    "    description='Ranking training dataset',\n",
    ")\n",
    "\n",
    "X_train.head(3)"
   ]
  },
  {
   "cell_type": "code",
   "execution_count": 12,
   "metadata": {},
   "outputs": [
    {
     "data": {
      "text/html": [
       "<div>\n",
       "<style scoped>\n",
       "    .dataframe tbody tr th:only-of-type {\n",
       "        vertical-align: middle;\n",
       "    }\n",
       "\n",
       "    .dataframe tbody tr th {\n",
       "        vertical-align: top;\n",
       "    }\n",
       "\n",
       "    .dataframe thead th {\n",
       "        text-align: right;\n",
       "    }\n",
       "</style>\n",
       "<table border=\"1\" class=\"dataframe\">\n",
       "  <thead>\n",
       "    <tr style=\"text-align: right;\">\n",
       "      <th></th>\n",
       "      <th>label</th>\n",
       "    </tr>\n",
       "  </thead>\n",
       "  <tbody>\n",
       "    <tr>\n",
       "      <th>0</th>\n",
       "      <td>0</td>\n",
       "    </tr>\n",
       "    <tr>\n",
       "      <th>2</th>\n",
       "      <td>0</td>\n",
       "    </tr>\n",
       "    <tr>\n",
       "      <th>3</th>\n",
       "      <td>1</td>\n",
       "    </tr>\n",
       "  </tbody>\n",
       "</table>\n",
       "</div>"
      ],
      "text/plain": [
       "   label\n",
       "0      0\n",
       "2      0\n",
       "3      1"
      ]
     },
     "execution_count": 12,
     "metadata": {},
     "output_type": "execute_result"
    }
   ],
   "source": [
    "y_train.head(3)"
   ]
  },
  {
   "cell_type": "markdown",
   "metadata": {},
   "source": [
    "## <span style=\"color:#ff5f27\">🏃🏻‍♂️ Model Training </span>\n",
    "\n",
    "Let's train a model."
   ]
  },
  {
   "cell_type": "code",
   "execution_count": 13,
   "metadata": {
    "tags": []
   },
   "outputs": [
    {
     "name": "stdout",
     "output_type": "stream",
     "text": [
      "0:\tlearn: 0.6852808\ttest: 0.6856750\tbest: 0.6856750 (0)\ttotal: 184ms\tremaining: 18.2s\n",
      "1:\tlearn: 0.6772188\ttest: 0.6778851\tbest: 0.6778851 (1)\ttotal: 336ms\tremaining: 16.5s\n",
      "2:\tlearn: 0.6712416\ttest: 0.6721928\tbest: 0.6721928 (2)\ttotal: 449ms\tremaining: 14.5s\n",
      "3:\tlearn: 0.6668033\ttest: 0.6679448\tbest: 0.6679448 (3)\ttotal: 575ms\tremaining: 13.8s\n",
      "4:\tlearn: 0.6632542\ttest: 0.6645623\tbest: 0.6645623 (4)\ttotal: 675ms\tremaining: 12.8s\n",
      "5:\tlearn: 0.6596857\ttest: 0.6612205\tbest: 0.6612205 (5)\ttotal: 797ms\tremaining: 12.5s\n",
      "6:\tlearn: 0.6592134\ttest: 0.6608429\tbest: 0.6608429 (6)\ttotal: 850ms\tremaining: 11.3s\n",
      "7:\tlearn: 0.6569223\ttest: 0.6588199\tbest: 0.6588199 (7)\ttotal: 964ms\tremaining: 11.1s\n",
      "8:\tlearn: 0.6526590\ttest: 0.6546167\tbest: 0.6546167 (8)\ttotal: 1.09s\tremaining: 11s\n",
      "9:\tlearn: 0.6491842\ttest: 0.6511218\tbest: 0.6511218 (9)\ttotal: 1.19s\tremaining: 10.7s\n",
      "10:\tlearn: 0.6471611\ttest: 0.6492965\tbest: 0.6492965 (10)\ttotal: 1.29s\tremaining: 10.4s\n",
      "11:\tlearn: 0.6457556\ttest: 0.6481438\tbest: 0.6481438 (11)\ttotal: 1.39s\tremaining: 10.2s\n",
      "12:\tlearn: 0.6431763\ttest: 0.6455446\tbest: 0.6455446 (12)\ttotal: 1.49s\tremaining: 9.96s\n",
      "13:\tlearn: 0.6422745\ttest: 0.6447731\tbest: 0.6447731 (13)\ttotal: 1.61s\tremaining: 9.87s\n",
      "14:\tlearn: 0.6411098\ttest: 0.6436586\tbest: 0.6436586 (14)\ttotal: 1.71s\tremaining: 9.71s\n",
      "15:\tlearn: 0.6391685\ttest: 0.6417072\tbest: 0.6417072 (15)\ttotal: 1.82s\tremaining: 9.56s\n",
      "16:\tlearn: 0.6376514\ttest: 0.6405659\tbest: 0.6405659 (16)\ttotal: 1.93s\tremaining: 9.41s\n",
      "17:\tlearn: 0.6368455\ttest: 0.6398976\tbest: 0.6398976 (17)\ttotal: 2.04s\tremaining: 9.3s\n",
      "18:\tlearn: 0.6355215\ttest: 0.6388493\tbest: 0.6388493 (18)\ttotal: 2.15s\tremaining: 9.18s\n",
      "19:\tlearn: 0.6345087\ttest: 0.6381167\tbest: 0.6381167 (19)\ttotal: 2.27s\tremaining: 9.06s\n",
      "20:\tlearn: 0.6334744\ttest: 0.6371076\tbest: 0.6371076 (20)\ttotal: 2.37s\tremaining: 8.93s\n",
      "21:\tlearn: 0.6330123\ttest: 0.6367818\tbest: 0.6367818 (21)\ttotal: 2.48s\tremaining: 8.78s\n",
      "22:\tlearn: 0.6322211\ttest: 0.6360989\tbest: 0.6360989 (22)\ttotal: 2.56s\tremaining: 8.59s\n",
      "23:\tlearn: 0.6322029\ttest: 0.6360958\tbest: 0.6360958 (23)\ttotal: 2.62s\tremaining: 8.29s\n",
      "24:\tlearn: 0.6313484\ttest: 0.6354491\tbest: 0.6354491 (24)\ttotal: 2.72s\tremaining: 8.15s\n",
      "25:\tlearn: 0.6305284\ttest: 0.6348044\tbest: 0.6348044 (25)\ttotal: 2.8s\tremaining: 7.97s\n",
      "26:\tlearn: 0.6299859\ttest: 0.6344225\tbest: 0.6344225 (26)\ttotal: 2.9s\tremaining: 7.84s\n",
      "27:\tlearn: 0.6295070\ttest: 0.6339466\tbest: 0.6339466 (27)\ttotal: 3.02s\tremaining: 7.76s\n",
      "28:\tlearn: 0.6288555\ttest: 0.6334044\tbest: 0.6334044 (28)\ttotal: 3.11s\tremaining: 7.62s\n",
      "29:\tlearn: 0.6281330\ttest: 0.6328521\tbest: 0.6328521 (29)\ttotal: 3.22s\tremaining: 7.51s\n",
      "30:\tlearn: 0.6276896\ttest: 0.6324753\tbest: 0.6324753 (30)\ttotal: 3.32s\tremaining: 7.4s\n",
      "31:\tlearn: 0.6276214\ttest: 0.6324336\tbest: 0.6324336 (31)\ttotal: 3.41s\tremaining: 7.24s\n",
      "32:\tlearn: 0.6270508\ttest: 0.6319467\tbest: 0.6319467 (32)\ttotal: 3.5s\tremaining: 7.11s\n",
      "33:\tlearn: 0.6265414\ttest: 0.6314275\tbest: 0.6314275 (33)\ttotal: 3.6s\tremaining: 7s\n",
      "34:\tlearn: 0.6262019\ttest: 0.6311225\tbest: 0.6311225 (34)\ttotal: 3.71s\tremaining: 6.89s\n",
      "35:\tlearn: 0.6257469\ttest: 0.6307107\tbest: 0.6307107 (35)\ttotal: 3.8s\tremaining: 6.76s\n",
      "36:\tlearn: 0.6249516\ttest: 0.6300806\tbest: 0.6300806 (36)\ttotal: 3.9s\tremaining: 6.63s\n",
      "37:\tlearn: 0.6249516\ttest: 0.6300806\tbest: 0.6300806 (36)\ttotal: 3.94s\tremaining: 6.42s\n",
      "38:\tlearn: 0.6243203\ttest: 0.6295606\tbest: 0.6295606 (38)\ttotal: 4.04s\tremaining: 6.31s\n",
      "39:\tlearn: 0.6240010\ttest: 0.6293576\tbest: 0.6293576 (39)\ttotal: 4.14s\tremaining: 6.21s\n",
      "40:\tlearn: 0.6238615\ttest: 0.6292592\tbest: 0.6292592 (40)\ttotal: 4.26s\tremaining: 6.13s\n",
      "41:\tlearn: 0.6234826\ttest: 0.6288834\tbest: 0.6288834 (41)\ttotal: 4.36s\tremaining: 6.03s\n",
      "42:\tlearn: 0.6234803\ttest: 0.6288816\tbest: 0.6288816 (42)\ttotal: 4.44s\tremaining: 5.89s\n",
      "43:\tlearn: 0.6229759\ttest: 0.6285437\tbest: 0.6285437 (43)\ttotal: 4.54s\tremaining: 5.78s\n",
      "44:\tlearn: 0.6222444\ttest: 0.6280345\tbest: 0.6280345 (44)\ttotal: 4.63s\tremaining: 5.66s\n",
      "45:\tlearn: 0.6221562\ttest: 0.6279650\tbest: 0.6279650 (45)\ttotal: 4.74s\tremaining: 5.56s\n",
      "46:\tlearn: 0.6215178\ttest: 0.6275789\tbest: 0.6275789 (46)\ttotal: 4.83s\tremaining: 5.45s\n",
      "47:\tlearn: 0.6210690\ttest: 0.6272975\tbest: 0.6272975 (47)\ttotal: 4.95s\tremaining: 5.36s\n",
      "48:\tlearn: 0.6208447\ttest: 0.6271317\tbest: 0.6271317 (48)\ttotal: 5.07s\tremaining: 5.27s\n",
      "49:\tlearn: 0.6208436\ttest: 0.6271320\tbest: 0.6271317 (48)\ttotal: 5.14s\tremaining: 5.14s\n",
      "50:\tlearn: 0.6203257\ttest: 0.6268513\tbest: 0.6268513 (50)\ttotal: 5.24s\tremaining: 5.04s\n",
      "51:\tlearn: 0.6200969\ttest: 0.6267035\tbest: 0.6267035 (51)\ttotal: 5.35s\tremaining: 4.93s\n",
      "52:\tlearn: 0.6194638\ttest: 0.6262617\tbest: 0.6262617 (52)\ttotal: 5.44s\tremaining: 4.83s\n",
      "53:\tlearn: 0.6190828\ttest: 0.6260198\tbest: 0.6260198 (53)\ttotal: 5.57s\tremaining: 4.74s\n",
      "54:\tlearn: 0.6190807\ttest: 0.6260199\tbest: 0.6260198 (53)\ttotal: 5.69s\tremaining: 4.65s\n",
      "55:\tlearn: 0.6187202\ttest: 0.6256654\tbest: 0.6256654 (55)\ttotal: 5.8s\tremaining: 4.56s\n",
      "56:\tlearn: 0.6183882\ttest: 0.6254488\tbest: 0.6254488 (56)\ttotal: 5.92s\tremaining: 4.47s\n",
      "57:\tlearn: 0.6183878\ttest: 0.6254489\tbest: 0.6254488 (56)\ttotal: 6s\tremaining: 4.34s\n",
      "58:\tlearn: 0.6182420\ttest: 0.6252977\tbest: 0.6252977 (58)\ttotal: 6.12s\tremaining: 4.25s\n",
      "59:\tlearn: 0.6182271\ttest: 0.6252871\tbest: 0.6252871 (59)\ttotal: 6.21s\tremaining: 4.14s\n",
      "60:\tlearn: 0.6178718\ttest: 0.6250680\tbest: 0.6250680 (60)\ttotal: 6.31s\tremaining: 4.03s\n",
      "61:\tlearn: 0.6176213\ttest: 0.6249155\tbest: 0.6249155 (61)\ttotal: 6.42s\tremaining: 3.94s\n",
      "62:\tlearn: 0.6174001\ttest: 0.6247725\tbest: 0.6247725 (62)\ttotal: 6.56s\tremaining: 3.85s\n",
      "63:\tlearn: 0.6171554\ttest: 0.6245723\tbest: 0.6245723 (63)\ttotal: 6.67s\tremaining: 3.75s\n",
      "64:\tlearn: 0.6168388\ttest: 0.6243134\tbest: 0.6243134 (64)\ttotal: 6.8s\tremaining: 3.66s\n",
      "65:\tlearn: 0.6168208\ttest: 0.6243117\tbest: 0.6243117 (65)\ttotal: 6.9s\tremaining: 3.56s\n",
      "66:\tlearn: 0.6166249\ttest: 0.6241656\tbest: 0.6241656 (66)\ttotal: 7.02s\tremaining: 3.46s\n",
      "67:\tlearn: 0.6164121\ttest: 0.6240589\tbest: 0.6240589 (67)\ttotal: 7.13s\tremaining: 3.36s\n",
      "68:\tlearn: 0.6163021\ttest: 0.6239394\tbest: 0.6239394 (68)\ttotal: 7.25s\tremaining: 3.26s\n",
      "69:\tlearn: 0.6160654\ttest: 0.6238169\tbest: 0.6238169 (69)\ttotal: 7.36s\tremaining: 3.15s\n",
      "70:\tlearn: 0.6153586\ttest: 0.6233878\tbest: 0.6233878 (70)\ttotal: 7.45s\tremaining: 3.04s\n",
      "71:\tlearn: 0.6147366\ttest: 0.6230922\tbest: 0.6230922 (71)\ttotal: 7.56s\tremaining: 2.94s\n",
      "72:\tlearn: 0.6142057\ttest: 0.6227720\tbest: 0.6227720 (72)\ttotal: 7.65s\tremaining: 2.83s\n",
      "73:\tlearn: 0.6141391\ttest: 0.6227241\tbest: 0.6227241 (73)\ttotal: 7.79s\tremaining: 2.74s\n",
      "74:\tlearn: 0.6138826\ttest: 0.6225373\tbest: 0.6225373 (74)\ttotal: 7.89s\tremaining: 2.63s\n",
      "75:\tlearn: 0.6134083\ttest: 0.6223077\tbest: 0.6223077 (75)\ttotal: 7.98s\tremaining: 2.52s\n",
      "76:\tlearn: 0.6133054\ttest: 0.6222743\tbest: 0.6222743 (76)\ttotal: 8.17s\tremaining: 2.44s\n",
      "77:\tlearn: 0.6129081\ttest: 0.6219499\tbest: 0.6219499 (77)\ttotal: 8.31s\tremaining: 2.34s\n",
      "78:\tlearn: 0.6126672\ttest: 0.6217441\tbest: 0.6217441 (78)\ttotal: 8.43s\tremaining: 2.24s\n",
      "79:\tlearn: 0.6124284\ttest: 0.6215776\tbest: 0.6215776 (79)\ttotal: 8.54s\tremaining: 2.13s\n",
      "80:\tlearn: 0.6118940\ttest: 0.6212633\tbest: 0.6212633 (80)\ttotal: 8.69s\tremaining: 2.04s\n",
      "81:\tlearn: 0.6116361\ttest: 0.6210487\tbest: 0.6210487 (81)\ttotal: 8.82s\tremaining: 1.94s\n",
      "82:\tlearn: 0.6114337\ttest: 0.6208994\tbest: 0.6208994 (82)\ttotal: 8.97s\tremaining: 1.84s\n",
      "83:\tlearn: 0.6112099\ttest: 0.6207811\tbest: 0.6207811 (83)\ttotal: 9.08s\tremaining: 1.73s\n",
      "84:\tlearn: 0.6108092\ttest: 0.6204637\tbest: 0.6204637 (84)\ttotal: 9.19s\tremaining: 1.62s\n",
      "85:\tlearn: 0.6105254\ttest: 0.6202711\tbest: 0.6202711 (85)\ttotal: 9.31s\tremaining: 1.51s\n",
      "86:\tlearn: 0.6102453\ttest: 0.6200568\tbest: 0.6200568 (86)\ttotal: 9.46s\tremaining: 1.41s\n",
      "87:\tlearn: 0.6101706\ttest: 0.6200221\tbest: 0.6200221 (87)\ttotal: 9.61s\tremaining: 1.31s\n",
      "88:\tlearn: 0.6098274\ttest: 0.6199260\tbest: 0.6199260 (88)\ttotal: 9.73s\tremaining: 1.2s\n",
      "89:\tlearn: 0.6095729\ttest: 0.6198073\tbest: 0.6198073 (89)\ttotal: 9.85s\tremaining: 1.09s\n",
      "90:\tlearn: 0.6094360\ttest: 0.6197275\tbest: 0.6197275 (90)\ttotal: 9.99s\tremaining: 988ms\n",
      "91:\tlearn: 0.6093464\ttest: 0.6196568\tbest: 0.6196568 (91)\ttotal: 10.1s\tremaining: 882ms\n",
      "92:\tlearn: 0.6089548\ttest: 0.6193951\tbest: 0.6193951 (92)\ttotal: 10.2s\tremaining: 771ms\n",
      "93:\tlearn: 0.6086403\ttest: 0.6191431\tbest: 0.6191431 (93)\ttotal: 10.4s\tremaining: 662ms\n",
      "94:\tlearn: 0.6084567\ttest: 0.6190656\tbest: 0.6190656 (94)\ttotal: 10.5s\tremaining: 552ms\n",
      "95:\tlearn: 0.6080619\ttest: 0.6189030\tbest: 0.6189030 (95)\ttotal: 10.6s\tremaining: 442ms\n",
      "96:\tlearn: 0.6079437\ttest: 0.6188156\tbest: 0.6188156 (96)\ttotal: 10.7s\tremaining: 332ms\n",
      "97:\tlearn: 0.6077872\ttest: 0.6187138\tbest: 0.6187138 (97)\ttotal: 10.9s\tremaining: 221ms\n",
      "98:\tlearn: 0.6074025\ttest: 0.6184556\tbest: 0.6184556 (98)\ttotal: 11s\tremaining: 111ms\n",
      "99:\tlearn: 0.6073057\ttest: 0.6183826\tbest: 0.6183826 (99)\ttotal: 11.1s\tremaining: 0us\n",
      "\n",
      "bestTest = 0.6183825849\n",
      "bestIteration = 99\n",
      "\n"
     ]
    },
    {
     "data": {
      "text/plain": [
       "<catboost.core.CatBoostClassifier at 0x31b695990>"
      ]
     },
     "execution_count": 13,
     "metadata": {},
     "output_type": "execute_result"
    }
   ],
   "source": [
    "cat_features = list(\n",
    "    X_train.select_dtypes(include=['string', 'object']).columns\n",
    ")\n",
    "\n",
    "pool_train = Pool(X_train, y_train, cat_features=cat_features)\n",
    "pool_val = Pool(X_val, y_val, cat_features=cat_features)\n",
    "\n",
    "model = CatBoostClassifier(\n",
    "    learning_rate=0.2,\n",
    "    iterations=100,\n",
    "    depth=10,\n",
    "    scale_pos_weight=10,\n",
    "    early_stopping_rounds=5,\n",
    "    use_best_model=True,\n",
    ")\n",
    "\n",
    "model.fit(\n",
    "    pool_train, \n",
    "    eval_set=pool_val,\n",
    ")"
   ]
  },
  {
   "cell_type": "markdown",
   "metadata": {},
   "source": [
    "## <span style=\"color:#ff5f27\">👮🏻‍♂️ Model Validation </span>\n",
    "\n",
    "Next, you'll evaluate how well the model performs on the validation data."
   ]
  },
  {
   "cell_type": "code",
   "execution_count": 14,
   "metadata": {},
   "outputs": [
    {
     "name": "stdout",
     "output_type": "stream",
     "text": [
      "              precision    recall  f1-score   support\n",
      "\n",
      "           0       0.95      0.66      0.78    109103\n",
      "           1       0.15      0.64      0.25     10267\n",
      "\n",
      "    accuracy                           0.66    119370\n",
      "   macro avg       0.55      0.65      0.51    119370\n",
      "weighted avg       0.88      0.66      0.74    119370\n",
      "\n"
     ]
    }
   ],
   "source": [
    "preds = model.predict(pool_val)\n",
    "\n",
    "precision, recall, fscore, _ = precision_recall_fscore_support(y_val, preds, average=\"binary\")\n",
    "\n",
    "metrics = {\n",
    "    \"precision\" : precision,\n",
    "    \"recall\" : recall,\n",
    "    \"fscore\" : fscore,\n",
    "}\n",
    "print(classification_report(y_val, preds))"
   ]
  },
  {
   "cell_type": "markdown",
   "metadata": {},
   "source": [
    "It can be seen that the model has a low F1-score on the positive class (higher is better). The performance could potentially be improved by adding more features to the dataset, e.g. image embeddings.\n",
    "\n",
    "Let's see which features your model considers important."
   ]
  },
  {
   "cell_type": "code",
   "execution_count": 15,
   "metadata": {},
   "outputs": [
    {
     "data": {
      "text/plain": [
       "{'month_cos': 16.26058805492722,\n",
       " 'section_name': 12.448872241732783,\n",
       " 'product_type_name': 11.02442694398654,\n",
       " 'product_group_name': 8.649829404999933,\n",
       " 'age': 8.635678193738908,\n",
       " 'index_name': 6.610860268903256,\n",
       " 'garment_group_name': 6.176435577741327,\n",
       " 'department_name': 5.633598814176692,\n",
       " 'month_sin': 5.443556811474526,\n",
       " 'graphical_appearance_name': 4.393307941356726,\n",
       " 'perceived_colour_master_name': 4.119596374216312,\n",
       " 'index_group_name': 3.7732437756750663,\n",
       " 'perceived_colour_value_name': 3.5972351610381046,\n",
       " 'colour_group_name': 3.232770436032624}"
      ]
     },
     "execution_count": 15,
     "metadata": {},
     "output_type": "execute_result"
    }
   ],
   "source": [
    "feat_to_score = {\n",
    "    feature: score \n",
    "    for feature, score \n",
    "    in zip(\n",
    "        X_train.columns, \n",
    "        model.feature_importances_,\n",
    "    )\n",
    "}\n",
    "\n",
    "feat_to_score = dict(\n",
    "    sorted(\n",
    "        feat_to_score.items(),\n",
    "        key=lambda item: item[1],\n",
    "        reverse=True,\n",
    "    )\n",
    ")\n",
    "feat_to_score"
   ]
  },
  {
   "cell_type": "markdown",
   "metadata": {},
   "source": [
    "It can be seen that the model places high importance on user and item embedding features. Consequently, better trained embeddings could yield a better ranking model.\n",
    "\n",
    "Finally, you'll save your model."
   ]
  },
  {
   "cell_type": "code",
   "execution_count": 16,
   "metadata": {},
   "outputs": [
    {
     "data": {
      "text/plain": [
       "['ranking_model.pkl']"
      ]
     },
     "execution_count": 16,
     "metadata": {},
     "output_type": "execute_result"
    }
   ],
   "source": [
    "joblib.dump(model, 'ranking_model.pkl')"
   ]
  },
  {
   "cell_type": "markdown",
   "metadata": {},
   "source": [
    "### <span style=\"color:#ff5f27\">💾  Upload Model to Model Registry </span>\n",
    "\n",
    "You'll upload the model to the Hopsworks Model Registry."
   ]
  },
  {
   "cell_type": "code",
   "execution_count": 17,
   "metadata": {},
   "outputs": [
    {
     "name": "stdout",
     "output_type": "stream",
     "text": [
      "Connected. Call `.close()` to terminate connection gracefully.\n"
     ]
    }
   ],
   "source": [
    "# Connect to Hopsworks Model Registry\n",
    "mr = project.get_model_registry()"
   ]
  },
  {
   "cell_type": "code",
   "execution_count": 18,
   "metadata": {},
   "outputs": [
    {
     "data": {
      "application/vnd.jupyter.widget-view+json": {
       "model_id": "0ef7d2c0b38e44bc8618c95009b11002",
       "version_major": 2,
       "version_minor": 0
      },
      "text/plain": [
       "  0%|          | 0/6 [00:00<?, ?it/s]"
      ]
     },
     "metadata": {},
     "output_type": "display_data"
    },
    {
     "data": {
      "application/vnd.jupyter.widget-view+json": {
       "model_id": "038fc0455ea9460bbff8a269de1ae1f6",
       "version_major": 2,
       "version_minor": 0
      },
      "text/plain": [
       "Uploading: 0.000%|          | 0/2587982 elapsed<00:00 remaining<?"
      ]
     },
     "metadata": {},
     "output_type": "display_data"
    },
    {
     "data": {
      "application/vnd.jupyter.widget-view+json": {
       "model_id": "01656eab2af54a18abf1160d2e51e2c4",
       "version_major": 2,
       "version_minor": 0
      },
      "text/plain": [
       "Uploading: 0.000%|          | 0/495 elapsed<00:00 remaining<?"
      ]
     },
     "metadata": {},
     "output_type": "display_data"
    },
    {
     "data": {
      "application/vnd.jupyter.widget-view+json": {
       "model_id": "17b1f3b89e514e71996f81ba0d9af8f1",
       "version_major": 2,
       "version_minor": 0
      },
      "text/plain": [
       "Uploading: 0.000%|          | 0/1274 elapsed<00:00 remaining<?"
      ]
     },
     "metadata": {},
     "output_type": "display_data"
    },
    {
     "name": "stdout",
     "output_type": "stream",
     "text": [
      "Model created, explore it at https://c.app.hopsworks.ai:443/p/15551/models/ranking_model/1\n"
     ]
    },
    {
     "data": {
      "text/plain": [
       "Model(name: 'ranking_model', version: 1)"
      ]
     },
     "execution_count": 18,
     "metadata": {},
     "output_type": "execute_result"
    }
   ],
   "source": [
    "from hsml.schema import Schema\n",
    "from hsml.model_schema import ModelSchema\n",
    "\n",
    "input_example = X_train.sample().to_dict(\"records\")\n",
    "input_schema = Schema(X_train)\n",
    "output_schema = Schema(y_train)\n",
    "model_schema = ModelSchema(input_schema, output_schema)\n",
    "\n",
    "ranking_model = mr.python.create_model(\n",
    "    name=\"ranking_model\", \n",
    "    metrics=metrics,\n",
    "    model_schema=model_schema,\n",
    "    input_example=input_example,\n",
    "    description=\"Ranking model that scores item candidates\",\n",
    ")\n",
    "ranking_model.save(\"ranking_model.pkl\")"
   ]
  },
  {
   "cell_type": "markdown",
   "metadata": {},
   "source": [
    "---"
   ]
  },
  {
   "cell_type": "code",
   "execution_count": 19,
   "metadata": {},
   "outputs": [
    {
     "name": "stdout",
     "output_type": "stream",
     "text": [
      "⌛️ Notebook Execution time: 509.24 seconds\n"
     ]
    }
   ],
   "source": [
    "# End the timer\n",
    "notebook_end_time = time.time()\n",
    "\n",
    "# Calculate and print the execution time\n",
    "notebook_execution_time = notebook_end_time - notebook_start_time\n",
    "print(f\"⌛️ Notebook Execution time: {notebook_execution_time:.2f} seconds\")"
   ]
  },
  {
   "cell_type": "markdown",
   "metadata": {},
   "source": [
    "---\n",
    "## <span style=\"color:#ff5f27\">⏩️ Next Steps </span>\n",
    "\n",
    "Now you have trained both a retrieval and a ranking model, which will allow you to generate recommendations for users. In the next notebook, you'll take a look at how you can deploy these models with the `HSML` library."
   ]
  }
 ],
 "metadata": {
  "interpreter": {
   "hash": "31f2aee4e71d21fbe5cf8b01ff0e069b9275f58929596ceb00d14d90e3e16cd6"
  },
  "kernelspec": {
   "display_name": "Python 3",
   "language": "python",
   "name": "python3"
  },
  "language_info": {
   "codemirror_mode": {
    "name": "ipython",
    "version": 3
   },
   "file_extension": ".py",
   "mimetype": "text/x-python",
   "name": "python",
   "nbconvert_exporter": "python",
   "pygments_lexer": "ipython3",
   "version": "3.11.8"
  }
 },
 "nbformat": 4,
 "nbformat_minor": 4
}
