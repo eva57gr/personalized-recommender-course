{
 "cells": [
  {
   "cell_type": "code",
   "execution_count": 1,
   "metadata": {},
   "outputs": [],
   "source": [
    "import time\n",
    "\n",
    "notebook_start_time = time.time()"
   ]
  },
  {
   "cell_type": "code",
   "execution_count": null,
   "metadata": {},
   "outputs": [],
   "source": [
    "import sys\n",
    "from pathlib import Path\n",
    "\n",
    "def is_google_colab() -> bool:\n",
    "    if \"google.colab\" in str(get_ipython()):\n",
    "        return True\n",
    "    return False\n",
    "\n",
    "def clone_repository() -> None:\n",
    "    !git clone https://github.com/decodingml/hands-on-recommender-system.git\n",
    "    %cd hands-on-recommender-system/\n",
    "\n",
    "def install_dependencies() -> None:\n",
    "    !pip install --upgrade uv\n",
    "    !uv pip install --all-extras --system --requirement pyproject.toml\n",
    "\n",
    "if is_google_colab():\n",
    "    clone_repository()\n",
    "    install_dependencies()\n",
    "\n",
    "    root_dir = str(Path().absolute()) \n",
    "    print(\"⛳️ Google Colab environment\")\n",
    "else:\n",
    "    root_dir = str(Path().absolute().parent)\n",
    "    print(\"⛳️ Local environment\")\n",
    "\n",
    "# Add the root directory to the `PYTHONPATH` to use the `recsys` Python module from the notebook.\n",
    "if root_dir not in sys.path:\n",
    "    sys.path.append(root_dir)"
   ]
  },
  {
   "cell_type": "markdown",
   "metadata": {},
   "source": [
    "## <span style=\"color:#ff5f27\">👨🏻‍🏫 Train Ranking Model </span>\n",
    "\n",
    "In this notebook, you will train a ranking model using gradient boosted trees. "
   ]
  },
  {
   "cell_type": "code",
   "execution_count": 2,
   "metadata": {},
   "outputs": [],
   "source": [
    "import sys\n",
    "from pathlib import Path\n",
    "\n",
    "root_dir = str(Path().absolute().parent)\n",
    "if root_dir not in sys.path:\n",
    "    sys.path.append(root_dir)"
   ]
  },
  {
   "cell_type": "markdown",
   "metadata": {},
   "source": [
    "## <span style=\"color:#ff5f27\">📝 Imports </span>"
   ]
  },
  {
   "cell_type": "code",
   "execution_count": 4,
   "metadata": {},
   "outputs": [],
   "source": [
    "%load_ext autoreload\n",
    "%autoreload 2\n",
    "\n",
    "import warnings\n",
    "\n",
    "warnings.filterwarnings(\"ignore\")\n",
    "\n",
    "from recsys import utils\n",
    "from recsys.data import ranking as ranking_data\n",
    "from recsys.models import ranking as ranking_model"
   ]
  },
  {
   "cell_type": "markdown",
   "metadata": {},
   "source": [
    "## <span style=\"color:#ff5f27\">🔮 Connect to Hopsworks Feature Store </span>"
   ]
  },
  {
   "cell_type": "code",
   "execution_count": 5,
   "metadata": {},
   "outputs": [
    {
     "name": "stderr",
     "output_type": "stream",
     "text": [
      "\u001b[32m2024-11-09 19:54:15.506\u001b[0m | \u001b[1mINFO    \u001b[0m | \u001b[36mrecsys.utils\u001b[0m:\u001b[36mget_hopsworks_feature_store\u001b[0m:\u001b[36m10\u001b[0m - \u001b[1mLoging to Hopsworks using HOPSWORKS_API_KEY env var.\u001b[0m\n"
     ]
    },
    {
     "name": "stdout",
     "output_type": "stream",
     "text": [
      "Connected. Call `.close()` to terminate connection gracefully.\n"
     ]
    },
    {
     "name": "stdout",
     "output_type": "stream",
     "text": [
      "\n",
      "Logged in to project, explore it here https://c.app.hopsworks.ai:443/p/15551\n",
      "Connected. Call `.close()` to terminate connection gracefully.\n"
     ]
    }
   ],
   "source": [
    "project, fs = utils.get_hopsworks_feature_store()"
   ]
  },
  {
   "cell_type": "markdown",
   "metadata": {},
   "source": [
    "## <span style=\"color:#ff5f27\">⚙️ Feature View Creation </span>"
   ]
  },
  {
   "cell_type": "code",
   "execution_count": 6,
   "metadata": {},
   "outputs": [
    {
     "name": "stdout",
     "output_type": "stream",
     "text": [
      "Feature view created successfully, explore it at \n",
      "https://c.app.hopsworks.ai:443/p/15551/fs/15471/fv/customers/version/1\n",
      "Feature view created successfully, explore it at \n",
      "https://c.app.hopsworks.ai:443/p/15551/fs/15471/fv/articles/version/1\n",
      "Feature view created successfully, explore it at \n",
      "https://c.app.hopsworks.ai:443/p/15551/fs/15471/fv/ranking/version/1\n"
     ]
    }
   ],
   "source": [
    "feature_view_ranking = ranking_data.create_feature_views(fs)"
   ]
  },
  {
   "cell_type": "markdown",
   "metadata": {},
   "source": [
    "## <span style=\"color:#ff5f27\">🗄️ Train Data loading </span>"
   ]
  },
  {
   "cell_type": "code",
   "execution_count": 7,
   "metadata": {},
   "outputs": [
    {
     "name": "stdout",
     "output_type": "stream",
     "text": [
      "Finished: Reading data from Hopsworks, using Hopsworks Feature Query Service (96.91s) \n",
      "2024-11-09 19:56:06,644 WARNING: VersionWarning: Incremented version to `1`.\n",
      "\n"
     ]
    },
    {
     "data": {
      "text/html": [
       "<div>\n",
       "<style scoped>\n",
       "    .dataframe tbody tr th:only-of-type {\n",
       "        vertical-align: middle;\n",
       "    }\n",
       "\n",
       "    .dataframe tbody tr th {\n",
       "        vertical-align: top;\n",
       "    }\n",
       "\n",
       "    .dataframe thead th {\n",
       "        text-align: right;\n",
       "    }\n",
       "</style>\n",
       "<table border=\"1\" class=\"dataframe\">\n",
       "  <thead>\n",
       "    <tr style=\"text-align: right;\">\n",
       "      <th></th>\n",
       "      <th>age</th>\n",
       "      <th>month_sin</th>\n",
       "      <th>month_cos</th>\n",
       "      <th>product_type_name</th>\n",
       "      <th>product_group_name</th>\n",
       "      <th>graphical_appearance_name</th>\n",
       "      <th>colour_group_name</th>\n",
       "      <th>perceived_colour_value_name</th>\n",
       "      <th>perceived_colour_master_name</th>\n",
       "      <th>department_name</th>\n",
       "      <th>index_name</th>\n",
       "      <th>index_group_name</th>\n",
       "      <th>section_name</th>\n",
       "      <th>garment_group_name</th>\n",
       "    </tr>\n",
       "  </thead>\n",
       "  <tbody>\n",
       "    <tr>\n",
       "      <th>1</th>\n",
       "      <td>21.0</td>\n",
       "      <td>-0.866025</td>\n",
       "      <td>-0.500000</td>\n",
       "      <td>Trousers</td>\n",
       "      <td>Garment Lower body</td>\n",
       "      <td>Solid</td>\n",
       "      <td>Black</td>\n",
       "      <td>Dark</td>\n",
       "      <td>Black</td>\n",
       "      <td>Trousers</td>\n",
       "      <td>Divided</td>\n",
       "      <td>Divided</td>\n",
       "      <td>Divided Collection</td>\n",
       "      <td>Trousers</td>\n",
       "    </tr>\n",
       "    <tr>\n",
       "      <th>2</th>\n",
       "      <td>23.0</td>\n",
       "      <td>-0.500000</td>\n",
       "      <td>-0.866025</td>\n",
       "      <td>Leggings/Tights</td>\n",
       "      <td>Garment Lower body</td>\n",
       "      <td>Check</td>\n",
       "      <td>Grey</td>\n",
       "      <td>Medium Dusty</td>\n",
       "      <td>Grey</td>\n",
       "      <td>Jersey fancy</td>\n",
       "      <td>Ladieswear</td>\n",
       "      <td>Ladieswear</td>\n",
       "      <td>Womens Everyday Collection</td>\n",
       "      <td>Jersey Fancy</td>\n",
       "    </tr>\n",
       "    <tr>\n",
       "      <th>3</th>\n",
       "      <td>40.0</td>\n",
       "      <td>0.500000</td>\n",
       "      <td>-0.866025</td>\n",
       "      <td>Top</td>\n",
       "      <td>Garment Upper body</td>\n",
       "      <td>Front print</td>\n",
       "      <td>Light Beige</td>\n",
       "      <td>Dusty Light</td>\n",
       "      <td>Beige</td>\n",
       "      <td>Jersey Fancy DS</td>\n",
       "      <td>Divided</td>\n",
       "      <td>Divided</td>\n",
       "      <td>Divided Selected</td>\n",
       "      <td>Jersey Fancy</td>\n",
       "    </tr>\n",
       "  </tbody>\n",
       "</table>\n",
       "</div>"
      ],
      "text/plain": [
       "    age  month_sin  month_cos product_type_name  product_group_name  \\\n",
       "1  21.0  -0.866025  -0.500000          Trousers  Garment Lower body   \n",
       "2  23.0  -0.500000  -0.866025   Leggings/Tights  Garment Lower body   \n",
       "3  40.0   0.500000  -0.866025               Top  Garment Upper body   \n",
       "\n",
       "  graphical_appearance_name colour_group_name perceived_colour_value_name  \\\n",
       "1                     Solid             Black                        Dark   \n",
       "2                     Check              Grey                Medium Dusty   \n",
       "3               Front print       Light Beige                 Dusty Light   \n",
       "\n",
       "  perceived_colour_master_name  department_name  index_name index_group_name  \\\n",
       "1                        Black         Trousers     Divided          Divided   \n",
       "2                         Grey     Jersey fancy  Ladieswear       Ladieswear   \n",
       "3                        Beige  Jersey Fancy DS     Divided          Divided   \n",
       "\n",
       "                 section_name garment_group_name  \n",
       "1          Divided Collection           Trousers  \n",
       "2  Womens Everyday Collection       Jersey Fancy  \n",
       "3            Divided Selected       Jersey Fancy  "
      ]
     },
     "execution_count": 7,
     "metadata": {},
     "output_type": "execute_result"
    }
   ],
   "source": [
    "X_train, X_val, y_train, y_val = feature_view_ranking.train_test_split(\n",
    "    test_size=0.1,\n",
    "    description=\"Ranking training dataset\",\n",
    ")\n",
    "\n",
    "X_train.head(3)"
   ]
  },
  {
   "cell_type": "code",
   "execution_count": 8,
   "metadata": {},
   "outputs": [
    {
     "data": {
      "text/html": [
       "<div>\n",
       "<style scoped>\n",
       "    .dataframe tbody tr th:only-of-type {\n",
       "        vertical-align: middle;\n",
       "    }\n",
       "\n",
       "    .dataframe tbody tr th {\n",
       "        vertical-align: top;\n",
       "    }\n",
       "\n",
       "    .dataframe thead th {\n",
       "        text-align: right;\n",
       "    }\n",
       "</style>\n",
       "<table border=\"1\" class=\"dataframe\">\n",
       "  <thead>\n",
       "    <tr style=\"text-align: right;\">\n",
       "      <th></th>\n",
       "      <th>label</th>\n",
       "    </tr>\n",
       "  </thead>\n",
       "  <tbody>\n",
       "    <tr>\n",
       "      <th>1</th>\n",
       "      <td>0</td>\n",
       "    </tr>\n",
       "    <tr>\n",
       "      <th>2</th>\n",
       "      <td>1</td>\n",
       "    </tr>\n",
       "    <tr>\n",
       "      <th>3</th>\n",
       "      <td>0</td>\n",
       "    </tr>\n",
       "  </tbody>\n",
       "</table>\n",
       "</div>"
      ],
      "text/plain": [
       "   label\n",
       "1      0\n",
       "2      1\n",
       "3      0"
      ]
     },
     "execution_count": 8,
     "metadata": {},
     "output_type": "execute_result"
    }
   ],
   "source": [
    "y_train.head(3)"
   ]
  },
  {
   "cell_type": "markdown",
   "metadata": {},
   "source": [
    "## <span style=\"color:#ff5f27\">🏃🏻‍♂️ Model Training </span>\n",
    "\n",
    "Let's train a model."
   ]
  },
  {
   "cell_type": "code",
   "execution_count": 9,
   "metadata": {
    "tags": []
   },
   "outputs": [],
   "source": [
    "model = ranking_model.RankingModelFactory.build()\n",
    "trainer = ranking_model.RankingModelTrainer(\n",
    "    model=model,\n",
    "    train_dataset=(X_train, y_train),\n",
    "    eval_dataset=(X_val, y_val)\n",
    ")"
   ]
  },
  {
   "cell_type": "code",
   "execution_count": 10,
   "metadata": {},
   "outputs": [
    {
     "name": "stdout",
     "output_type": "stream",
     "text": [
      "0:\tlearn: 0.6863383\ttest: 0.6870174\tbest: 0.6870174 (0)\ttotal: 87.2ms\tremaining: 8.63s\n",
      "1:\tlearn: 0.6801507\ttest: 0.6816104\tbest: 0.6816104 (1)\ttotal: 113ms\tremaining: 5.53s\n",
      "2:\tlearn: 0.6760633\ttest: 0.6783908\tbest: 0.6783908 (2)\ttotal: 136ms\tremaining: 4.4s\n",
      "3:\tlearn: 0.6739152\ttest: 0.6761718\tbest: 0.6761718 (3)\ttotal: 160ms\tremaining: 3.85s\n",
      "4:\tlearn: 0.6706339\ttest: 0.6733373\tbest: 0.6733373 (4)\ttotal: 183ms\tremaining: 3.47s\n",
      "5:\tlearn: 0.6671781\ttest: 0.6709504\tbest: 0.6709504 (5)\ttotal: 206ms\tremaining: 3.22s\n",
      "6:\tlearn: 0.6640554\ttest: 0.6680397\tbest: 0.6680397 (6)\ttotal: 229ms\tremaining: 3.04s\n",
      "7:\tlearn: 0.6617355\ttest: 0.6664765\tbest: 0.6664765 (7)\ttotal: 255ms\tremaining: 2.94s\n",
      "8:\tlearn: 0.6606841\ttest: 0.6659752\tbest: 0.6659752 (8)\ttotal: 279ms\tremaining: 2.82s\n",
      "9:\tlearn: 0.6580258\ttest: 0.6641489\tbest: 0.6641489 (9)\ttotal: 341ms\tremaining: 3.07s\n",
      "10:\tlearn: 0.6560304\ttest: 0.6628030\tbest: 0.6628030 (10)\ttotal: 366ms\tremaining: 2.96s\n",
      "11:\tlearn: 0.6554997\ttest: 0.6624109\tbest: 0.6624109 (11)\ttotal: 390ms\tremaining: 2.86s\n",
      "12:\tlearn: 0.6532563\ttest: 0.6612948\tbest: 0.6612948 (12)\ttotal: 415ms\tremaining: 2.78s\n",
      "13:\tlearn: 0.6523760\ttest: 0.6606621\tbest: 0.6606621 (13)\ttotal: 444ms\tremaining: 2.73s\n",
      "14:\tlearn: 0.6509521\ttest: 0.6598286\tbest: 0.6598286 (14)\ttotal: 469ms\tremaining: 2.66s\n",
      "15:\tlearn: 0.6503403\ttest: 0.6594682\tbest: 0.6594682 (15)\ttotal: 495ms\tremaining: 2.6s\n",
      "16:\tlearn: 0.6491546\ttest: 0.6587777\tbest: 0.6587777 (16)\ttotal: 518ms\tremaining: 2.53s\n",
      "17:\tlearn: 0.6481158\ttest: 0.6579005\tbest: 0.6579005 (17)\ttotal: 545ms\tremaining: 2.48s\n",
      "18:\tlearn: 0.6478881\ttest: 0.6577648\tbest: 0.6577648 (18)\ttotal: 564ms\tremaining: 2.41s\n",
      "19:\tlearn: 0.6474882\ttest: 0.6576073\tbest: 0.6576073 (19)\ttotal: 591ms\tremaining: 2.36s\n",
      "20:\tlearn: 0.6462224\ttest: 0.6566681\tbest: 0.6566681 (20)\ttotal: 615ms\tremaining: 2.31s\n",
      "21:\tlearn: 0.6458105\ttest: 0.6562887\tbest: 0.6562887 (21)\ttotal: 642ms\tremaining: 2.28s\n",
      "22:\tlearn: 0.6453448\ttest: 0.6562572\tbest: 0.6562572 (22)\ttotal: 669ms\tremaining: 2.24s\n",
      "23:\tlearn: 0.6447517\ttest: 0.6560667\tbest: 0.6560667 (23)\ttotal: 695ms\tremaining: 2.2s\n",
      "24:\tlearn: 0.6436259\ttest: 0.6556251\tbest: 0.6556251 (24)\ttotal: 717ms\tremaining: 2.15s\n",
      "25:\tlearn: 0.6436228\ttest: 0.6556264\tbest: 0.6556251 (24)\ttotal: 730ms\tremaining: 2.08s\n",
      "26:\tlearn: 0.6431320\ttest: 0.6554940\tbest: 0.6554940 (26)\ttotal: 757ms\tremaining: 2.04s\n",
      "27:\tlearn: 0.6431319\ttest: 0.6554948\tbest: 0.6554940 (26)\ttotal: 763ms\tremaining: 1.96s\n",
      "28:\tlearn: 0.6431262\ttest: 0.6554941\tbest: 0.6554940 (26)\ttotal: 775ms\tremaining: 1.9s\n",
      "29:\tlearn: 0.6430208\ttest: 0.6554484\tbest: 0.6554484 (29)\ttotal: 791ms\tremaining: 1.84s\n",
      "30:\tlearn: 0.6420009\ttest: 0.6549610\tbest: 0.6549610 (30)\ttotal: 811ms\tremaining: 1.8s\n",
      "31:\tlearn: 0.6419988\ttest: 0.6549645\tbest: 0.6549610 (30)\ttotal: 823ms\tremaining: 1.75s\n",
      "32:\tlearn: 0.6419873\ttest: 0.6549605\tbest: 0.6549605 (32)\ttotal: 852ms\tremaining: 1.73s\n",
      "33:\tlearn: 0.6416172\ttest: 0.6546463\tbest: 0.6546463 (33)\ttotal: 882ms\tremaining: 1.71s\n",
      "34:\tlearn: 0.6416114\ttest: 0.6546466\tbest: 0.6546463 (33)\ttotal: 891ms\tremaining: 1.66s\n",
      "35:\tlearn: 0.6416107\ttest: 0.6546469\tbest: 0.6546463 (33)\ttotal: 900ms\tremaining: 1.6s\n",
      "36:\tlearn: 0.6415989\ttest: 0.6546498\tbest: 0.6546463 (33)\ttotal: 915ms\tremaining: 1.56s\n",
      "37:\tlearn: 0.6412540\ttest: 0.6541848\tbest: 0.6541848 (37)\ttotal: 940ms\tremaining: 1.53s\n",
      "38:\tlearn: 0.6412476\ttest: 0.6541817\tbest: 0.6541817 (38)\ttotal: 958ms\tremaining: 1.5s\n",
      "39:\tlearn: 0.6411295\ttest: 0.6540742\tbest: 0.6540742 (39)\ttotal: 988ms\tremaining: 1.48s\n",
      "40:\tlearn: 0.6407986\ttest: 0.6539561\tbest: 0.6539561 (40)\ttotal: 1.01s\tremaining: 1.46s\n",
      "41:\tlearn: 0.6407892\ttest: 0.6539559\tbest: 0.6539559 (41)\ttotal: 1.03s\tremaining: 1.42s\n",
      "42:\tlearn: 0.6407890\ttest: 0.6539560\tbest: 0.6539559 (41)\ttotal: 1.04s\tremaining: 1.38s\n",
      "43:\tlearn: 0.6402508\ttest: 0.6536105\tbest: 0.6536105 (43)\ttotal: 1.07s\tremaining: 1.36s\n",
      "44:\tlearn: 0.6398291\ttest: 0.6533677\tbest: 0.6533677 (44)\ttotal: 1.1s\tremaining: 1.35s\n",
      "45:\tlearn: 0.6390587\ttest: 0.6528429\tbest: 0.6528429 (45)\ttotal: 1.13s\tremaining: 1.33s\n",
      "46:\tlearn: 0.6390552\ttest: 0.6528446\tbest: 0.6528429 (45)\ttotal: 1.15s\tremaining: 1.29s\n",
      "47:\tlearn: 0.6384686\ttest: 0.6527505\tbest: 0.6527505 (47)\ttotal: 1.18s\tremaining: 1.27s\n",
      "48:\tlearn: 0.6380729\ttest: 0.6527097\tbest: 0.6527097 (48)\ttotal: 1.21s\tremaining: 1.26s\n",
      "49:\tlearn: 0.6378601\ttest: 0.6526966\tbest: 0.6526966 (49)\ttotal: 1.23s\tremaining: 1.23s\n",
      "50:\tlearn: 0.6374077\ttest: 0.6525571\tbest: 0.6525571 (50)\ttotal: 1.26s\tremaining: 1.21s\n",
      "51:\tlearn: 0.6368605\ttest: 0.6524174\tbest: 0.6524174 (51)\ttotal: 1.29s\tremaining: 1.19s\n",
      "52:\tlearn: 0.6368264\ttest: 0.6523867\tbest: 0.6523867 (52)\ttotal: 1.31s\tremaining: 1.16s\n",
      "53:\tlearn: 0.6356765\ttest: 0.6522706\tbest: 0.6522706 (53)\ttotal: 1.33s\tremaining: 1.14s\n",
      "54:\tlearn: 0.6354618\ttest: 0.6522035\tbest: 0.6522035 (54)\ttotal: 1.36s\tremaining: 1.11s\n",
      "55:\tlearn: 0.6354615\ttest: 0.6522041\tbest: 0.6522035 (54)\ttotal: 1.37s\tremaining: 1.07s\n",
      "56:\tlearn: 0.6344370\ttest: 0.6516577\tbest: 0.6516577 (56)\ttotal: 1.39s\tremaining: 1.05s\n",
      "57:\tlearn: 0.6344314\ttest: 0.6516559\tbest: 0.6516559 (57)\ttotal: 1.41s\tremaining: 1.02s\n",
      "58:\tlearn: 0.6343683\ttest: 0.6516652\tbest: 0.6516559 (57)\ttotal: 1.44s\tremaining: 1s\n",
      "59:\tlearn: 0.6334005\ttest: 0.6510814\tbest: 0.6510814 (59)\ttotal: 1.47s\tremaining: 978ms\n",
      "60:\tlearn: 0.6331875\ttest: 0.6510239\tbest: 0.6510239 (60)\ttotal: 1.5s\tremaining: 958ms\n",
      "61:\tlearn: 0.6312138\ttest: 0.6504116\tbest: 0.6504116 (61)\ttotal: 1.52s\tremaining: 931ms\n",
      "62:\tlearn: 0.6304222\ttest: 0.6503317\tbest: 0.6503317 (62)\ttotal: 1.54s\tremaining: 908ms\n",
      "63:\tlearn: 0.6294901\ttest: 0.6504107\tbest: 0.6503317 (62)\ttotal: 1.57s\tremaining: 883ms\n",
      "64:\tlearn: 0.6288555\ttest: 0.6500485\tbest: 0.6500485 (64)\ttotal: 1.59s\tremaining: 859ms\n",
      "65:\tlearn: 0.6283942\ttest: 0.6500539\tbest: 0.6500485 (64)\ttotal: 1.62s\tremaining: 837ms\n",
      "66:\tlearn: 0.6268070\ttest: 0.6494659\tbest: 0.6494659 (66)\ttotal: 1.65s\tremaining: 811ms\n",
      "67:\tlearn: 0.6265989\ttest: 0.6494906\tbest: 0.6494659 (66)\ttotal: 1.68s\tremaining: 789ms\n",
      "68:\tlearn: 0.6252884\ttest: 0.6491520\tbest: 0.6491520 (68)\ttotal: 1.7s\tremaining: 763ms\n",
      "69:\tlearn: 0.6244547\ttest: 0.6490389\tbest: 0.6490389 (69)\ttotal: 1.72s\tremaining: 739ms\n",
      "70:\tlearn: 0.6233027\ttest: 0.6485254\tbest: 0.6485254 (70)\ttotal: 1.75s\tremaining: 713ms\n",
      "71:\tlearn: 0.6225223\ttest: 0.6485965\tbest: 0.6485254 (70)\ttotal: 1.77s\tremaining: 688ms\n",
      "72:\tlearn: 0.6219949\ttest: 0.6483818\tbest: 0.6483818 (72)\ttotal: 1.79s\tremaining: 663ms\n",
      "73:\tlearn: 0.6204601\ttest: 0.6479356\tbest: 0.6479356 (73)\ttotal: 1.81s\tremaining: 637ms\n",
      "74:\tlearn: 0.6196851\ttest: 0.6473613\tbest: 0.6473613 (74)\ttotal: 1.84s\tremaining: 613ms\n",
      "75:\tlearn: 0.6189616\ttest: 0.6469187\tbest: 0.6469187 (75)\ttotal: 1.87s\tremaining: 590ms\n",
      "76:\tlearn: 0.6180688\ttest: 0.6468859\tbest: 0.6468859 (76)\ttotal: 1.89s\tremaining: 565ms\n",
      "77:\tlearn: 0.6174945\ttest: 0.6463427\tbest: 0.6463427 (77)\ttotal: 1.92s\tremaining: 541ms\n",
      "78:\tlearn: 0.6169764\ttest: 0.6460885\tbest: 0.6460885 (78)\ttotal: 1.95s\tremaining: 517ms\n",
      "79:\tlearn: 0.6162371\ttest: 0.6458217\tbest: 0.6458217 (79)\ttotal: 1.97s\tremaining: 493ms\n",
      "80:\tlearn: 0.6157558\ttest: 0.6458317\tbest: 0.6458217 (79)\ttotal: 2s\tremaining: 468ms\n",
      "81:\tlearn: 0.6153432\ttest: 0.6457546\tbest: 0.6457546 (81)\ttotal: 2.03s\tremaining: 445ms\n",
      "82:\tlearn: 0.6145184\ttest: 0.6452395\tbest: 0.6452395 (82)\ttotal: 2.06s\tremaining: 422ms\n",
      "83:\tlearn: 0.6135053\ttest: 0.6450113\tbest: 0.6450113 (83)\ttotal: 2.08s\tremaining: 397ms\n",
      "84:\tlearn: 0.6131876\ttest: 0.6450314\tbest: 0.6450113 (83)\ttotal: 2.11s\tremaining: 373ms\n",
      "85:\tlearn: 0.6127618\ttest: 0.6449220\tbest: 0.6449220 (85)\ttotal: 2.14s\tremaining: 348ms\n",
      "86:\tlearn: 0.6119972\ttest: 0.6445957\tbest: 0.6445957 (86)\ttotal: 2.16s\tremaining: 323ms\n",
      "87:\tlearn: 0.6114789\ttest: 0.6443032\tbest: 0.6443032 (87)\ttotal: 2.19s\tremaining: 299ms\n",
      "88:\tlearn: 0.6110691\ttest: 0.6442679\tbest: 0.6442679 (88)\ttotal: 2.22s\tremaining: 274ms\n",
      "89:\tlearn: 0.6104804\ttest: 0.6439767\tbest: 0.6439767 (89)\ttotal: 2.25s\tremaining: 250ms\n",
      "90:\tlearn: 0.6097392\ttest: 0.6436127\tbest: 0.6436127 (90)\ttotal: 2.27s\tremaining: 225ms\n",
      "91:\tlearn: 0.6087281\ttest: 0.6432530\tbest: 0.6432530 (91)\ttotal: 2.29s\tremaining: 199ms\n",
      "92:\tlearn: 0.6079043\ttest: 0.6428776\tbest: 0.6428776 (92)\ttotal: 2.32s\tremaining: 175ms\n",
      "93:\tlearn: 0.6075486\ttest: 0.6427745\tbest: 0.6427745 (93)\ttotal: 2.35s\tremaining: 150ms\n",
      "94:\tlearn: 0.6072132\ttest: 0.6426340\tbest: 0.6426340 (94)\ttotal: 2.38s\tremaining: 125ms\n",
      "95:\tlearn: 0.6065197\ttest: 0.6423870\tbest: 0.6423870 (95)\ttotal: 2.4s\tremaining: 100ms\n",
      "96:\tlearn: 0.6060622\ttest: 0.6418458\tbest: 0.6418458 (96)\ttotal: 2.43s\tremaining: 75.1ms\n",
      "97:\tlearn: 0.6050934\ttest: 0.6419260\tbest: 0.6418458 (96)\ttotal: 2.45s\tremaining: 50.1ms\n",
      "98:\tlearn: 0.6046646\ttest: 0.6419141\tbest: 0.6418458 (96)\ttotal: 2.48s\tremaining: 25.1ms\n",
      "99:\tlearn: 0.6040576\ttest: 0.6418153\tbest: 0.6418153 (99)\ttotal: 2.51s\tremaining: 0us\n",
      "\n",
      "bestTest = 0.641815294\n",
      "bestIteration = 99\n",
      "\n"
     ]
    },
    {
     "data": {
      "text/plain": [
       "<catboost.core.CatBoostClassifier at 0x31be9ef90>"
      ]
     },
     "execution_count": 10,
     "metadata": {},
     "output_type": "execute_result"
    }
   ],
   "source": [
    "trainer.fit()"
   ]
  },
  {
   "cell_type": "markdown",
   "metadata": {},
   "source": [
    "## <span style=\"color:#ff5f27\">👮🏻‍♂️ Model Validation </span>\n",
    "\n",
    "Next, you'll evaluate how well the model performs on the validation data."
   ]
  },
  {
   "cell_type": "code",
   "execution_count": 11,
   "metadata": {},
   "outputs": [
    {
     "name": "stderr",
     "output_type": "stream",
     "text": [
      "\u001b[32m2024-11-09 19:56:09.526\u001b[0m | \u001b[1mINFO    \u001b[0m | \u001b[36mrecsys.models.ranking\u001b[0m:\u001b[36mevaluate\u001b[0m:\u001b[36m63\u001b[0m - \u001b[1m              precision    recall  f1-score   support\n",
      "\n",
      "           0       0.95      0.68      0.79     20881\n",
      "           1       0.14      0.57      0.23      1928\n",
      "\n",
      "    accuracy                           0.67     22809\n",
      "   macro avg       0.54      0.63      0.51     22809\n",
      "weighted avg       0.88      0.67      0.74     22809\n",
      "\u001b[0m\n"
     ]
    }
   ],
   "source": [
    "metrics = trainer.evaluate(log=True)"
   ]
  },
  {
   "cell_type": "markdown",
   "metadata": {},
   "source": [
    "It can be seen that the model has a low F1-score on the positive class (higher is better). The performance could potentially be improved by adding more features to the dataset, e.g. image embeddings.\n",
    "\n",
    "Let's see which features your model considers important."
   ]
  },
  {
   "cell_type": "code",
   "execution_count": 12,
   "metadata": {},
   "outputs": [
    {
     "data": {
      "text/plain": [
       "{'month_cos': 15.264649738767623,\n",
       " 'age': 14.465886561230931,\n",
       " 'product_group_name': 8.726719856948513,\n",
       " 'garment_group_name': 8.452724737526188,\n",
       " 'section_name': 8.060233962820636,\n",
       " 'index_name': 7.251644870475382,\n",
       " 'product_type_name': 7.0335310334814976,\n",
       " 'month_sin': 6.883970179700253,\n",
       " 'department_name': 5.9185956236219415,\n",
       " 'graphical_appearance_name': 4.525367093615201,\n",
       " 'perceived_colour_master_name': 3.723373381430584,\n",
       " 'perceived_colour_value_name': 3.634311803645231,\n",
       " 'index_group_name': 3.15608161196144,\n",
       " 'colour_group_name': 2.9029095447745243}"
      ]
     },
     "execution_count": 12,
     "metadata": {},
     "output_type": "execute_result"
    }
   ],
   "source": [
    "trainer.get_feature_importance()"
   ]
  },
  {
   "cell_type": "markdown",
   "metadata": {},
   "source": [
    "It can be seen that the model places high importance on user and item embedding features. Consequently, better trained embeddings could yield a better ranking model.\n",
    "\n",
    "Finally, you'll save your model."
   ]
  },
  {
   "cell_type": "markdown",
   "metadata": {},
   "source": [
    "### <span style=\"color:#ff5f27\">💾  Upload Model to Model Registry </span>\n",
    "\n",
    "You'll upload the model to the Hopsworks Model Registry."
   ]
  },
  {
   "cell_type": "code",
   "execution_count": 13,
   "metadata": {},
   "outputs": [
    {
     "name": "stdout",
     "output_type": "stream",
     "text": [
      "Connected. Call `.close()` to terminate connection gracefully.\n"
     ]
    }
   ],
   "source": [
    "# Connect to Hopsworks Model Registry\n",
    "mr = project.get_model_registry()"
   ]
  },
  {
   "cell_type": "code",
   "execution_count": 14,
   "metadata": {},
   "outputs": [
    {
     "data": {
      "application/vnd.jupyter.widget-view+json": {
       "model_id": "5a780da1c5554c31ae2512ad1f72aaf7",
       "version_major": 2,
       "version_minor": 0
      },
      "text/plain": [
       "  0%|          | 0/6 [00:00<?, ?it/s]"
      ]
     },
     "metadata": {},
     "output_type": "display_data"
    },
    {
     "data": {
      "application/vnd.jupyter.widget-view+json": {
       "model_id": "698ca79586c244abb5dcff847a000009",
       "version_major": 2,
       "version_minor": 0
      },
      "text/plain": [
       "Uploading: 0.000%|          | 0/1628962 elapsed<00:00 remaining<?"
      ]
     },
     "metadata": {},
     "output_type": "display_data"
    },
    {
     "data": {
      "application/vnd.jupyter.widget-view+json": {
       "model_id": "9605bb5d09e845d99dfa33a3370fca87",
       "version_major": 2,
       "version_minor": 0
      },
      "text/plain": [
       "Uploading: 0.000%|          | 0/459 elapsed<00:00 remaining<?"
      ]
     },
     "metadata": {},
     "output_type": "display_data"
    },
    {
     "data": {
      "application/vnd.jupyter.widget-view+json": {
       "model_id": "0c71d14addcb4cbcb7a2554e1cf28103",
       "version_major": 2,
       "version_minor": 0
      },
      "text/plain": [
       "Uploading: 0.000%|          | 0/1274 elapsed<00:00 remaining<?"
      ]
     },
     "metadata": {},
     "output_type": "display_data"
    },
    {
     "name": "stdout",
     "output_type": "stream",
     "text": [
      "Model created, explore it at https://c.app.hopsworks.ai:443/p/15551/models/ranking_model/1\n"
     ]
    }
   ],
   "source": [
    "ranking_module = ranking_model.RankingModelModule(model=model)\n",
    "ranking_module.save_to_hopsworks(mr, X_train, y_train, metrics)"
   ]
  },
  {
   "cell_type": "markdown",
   "metadata": {},
   "source": [
    "---"
   ]
  },
  {
   "cell_type": "code",
   "execution_count": 15,
   "metadata": {},
   "outputs": [
    {
     "name": "stdout",
     "output_type": "stream",
     "text": [
      "⌛️ Notebook Execution time: 132.17 seconds\n"
     ]
    }
   ],
   "source": [
    "# End the timer\n",
    "notebook_end_time = time.time()\n",
    "\n",
    "# Calculate and print the execution time\n",
    "notebook_execution_time = notebook_end_time - notebook_start_time\n",
    "print(f\"⌛️ Notebook Execution time: {notebook_execution_time:.2f} seconds\")"
   ]
  },
  {
   "cell_type": "markdown",
   "metadata": {},
   "source": [
    "---\n",
    "## <span style=\"color:#ff5f27\">⏩️ Next Steps </span>\n",
    "\n",
    "Now you have trained both a retrieval and a ranking model, which will allow you to generate recommendations for users. In the next notebook, you'll take a look at how you can deploy these models with the `HSML` library."
   ]
  }
 ],
 "metadata": {
  "interpreter": {
   "hash": "31f2aee4e71d21fbe5cf8b01ff0e069b9275f58929596ceb00d14d90e3e16cd6"
  },
  "kernelspec": {
   "display_name": "Python 3",
   "language": "python",
   "name": "python3"
  },
  "language_info": {
   "codemirror_mode": {
    "name": "ipython",
    "version": 3
   },
   "file_extension": ".py",
   "mimetype": "text/x-python",
   "name": "python",
   "nbconvert_exporter": "python",
   "pygments_lexer": "ipython3",
   "version": "3.11.8"
  }
 },
 "nbformat": 4,
 "nbformat_minor": 4
}
