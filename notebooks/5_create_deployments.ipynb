{
 "cells": [
  {
   "cell_type": "markdown",
   "metadata": {},
   "source": [
    "## <span style=\"color:#ff5f27\">👨🏻‍🏫 Create Deployment </span>\n",
    "\n",
    "In this notebook, you'll create a deployment for your recommendation system.\n",
    "\n",
    "**NOTE Currently the transformer scripts are not implemented.**"
   ]
  },
  {
   "cell_type": "code",
   "execution_count": null,
   "metadata": {},
   "outputs": [],
   "source": [
    "import sys\n",
    "from pathlib import Path\n",
    "\n",
    "root_dir = str(Path().absolute().parent)\n",
    "if root_dir not in sys.path:\n",
    "    sys.path.append(root_dir)\n",
    "\n",
    "# Exit the notebook\n",
    "print(\"BAAAAM\")\n",
    "sys.exit(\"Exiting notebook\")"
   ]
  },
  {
   "cell_type": "code",
   "execution_count": 22,
   "metadata": {},
   "outputs": [],
   "source": [
    "import time\n",
    "\n",
    "# Start the timer\n",
    "notebook_start_time = time.time()"
   ]
  },
  {
   "cell_type": "markdown",
   "metadata": {},
   "source": [
    "## <span style=\"color:#ff5f27\">📝 Imports </span>"
   ]
  },
  {
   "cell_type": "code",
   "execution_count": 23,
   "metadata": {},
   "outputs": [
    {
     "name": "stdout",
     "output_type": "stream",
     "text": [
      "Requirement already satisfied: hopsworks in ./venv/lib/python3.11/site-packages (3.7.0)\n",
      "Requirement already satisfied: hsfs<3.8.0,>=3.7.0 in ./venv/lib/python3.11/site-packages (from hsfs[python]<3.8.0,>=3.7.0->hopsworks) (3.7.9)\n",
      "Requirement already satisfied: hsml<3.8.0,>=3.7.0 in ./venv/lib/python3.11/site-packages (from hopsworks) (3.7.1)\n",
      "Requirement already satisfied: pyhumps==1.6.1 in ./venv/lib/python3.11/site-packages (from hopsworks) (1.6.1)\n",
      "Requirement already satisfied: requests in ./venv/lib/python3.11/site-packages (from hopsworks) (2.32.3)\n",
      "Requirement already satisfied: furl in ./venv/lib/python3.11/site-packages (from hopsworks) (2.1.3)\n",
      "Requirement already satisfied: boto3 in ./venv/lib/python3.11/site-packages (from hopsworks) (1.35.55)\n",
      "Requirement already satisfied: pyjks in ./venv/lib/python3.11/site-packages (from hopsworks) (20.0.0)\n",
      "Requirement already satisfied: mock in ./venv/lib/python3.11/site-packages (from hopsworks) (5.1.0)\n",
      "Requirement already satisfied: tqdm in ./venv/lib/python3.11/site-packages (from hopsworks) (4.67.0)\n",
      "Requirement already satisfied: pandas<2.2.0 in ./venv/lib/python3.11/site-packages (from hsfs<3.8.0,>=3.7.0->hsfs[python]<3.8.0,>=3.7.0->hopsworks) (2.1.4)\n",
      "Requirement already satisfied: numpy<2 in ./venv/lib/python3.11/site-packages (from hsfs<3.8.0,>=3.7.0->hsfs[python]<3.8.0,>=3.7.0->hopsworks) (1.26.4)\n",
      "Requirement already satisfied: avro==1.11.3 in ./venv/lib/python3.11/site-packages (from hsfs<3.8.0,>=3.7.0->hsfs[python]<3.8.0,>=3.7.0->hopsworks) (1.11.3)\n",
      "Requirement already satisfied: sqlalchemy<=1.4.48 in ./venv/lib/python3.11/site-packages (from hsfs<3.8.0,>=3.7.0->hsfs[python]<3.8.0,>=3.7.0->hopsworks) (1.4.48)\n",
      "Requirement already satisfied: PyMySQL[rsa] in ./venv/lib/python3.11/site-packages (from hsfs<3.8.0,>=3.7.0->hsfs[python]<3.8.0,>=3.7.0->hopsworks) (1.1.1)\n",
      "Requirement already satisfied: great-expectations==0.18.12 in ./venv/lib/python3.11/site-packages (from hsfs<3.8.0,>=3.7.0->hsfs[python]<3.8.0,>=3.7.0->hopsworks) (0.18.12)\n",
      "Requirement already satisfied: tzlocal in ./venv/lib/python3.11/site-packages (from hsfs<3.8.0,>=3.7.0->hsfs[python]<3.8.0,>=3.7.0->hopsworks) (5.2)\n",
      "Requirement already satisfied: fsspec in ./venv/lib/python3.11/site-packages (from hsfs<3.8.0,>=3.7.0->hsfs[python]<3.8.0,>=3.7.0->hopsworks) (2024.10.0)\n",
      "Requirement already satisfied: retrying in ./venv/lib/python3.11/site-packages (from hsfs<3.8.0,>=3.7.0->hsfs[python]<3.8.0,>=3.7.0->hopsworks) (1.3.4)\n",
      "Requirement already satisfied: aiomysql in ./venv/lib/python3.11/site-packages (from hsfs<3.8.0,>=3.7.0->hsfs[python]<3.8.0,>=3.7.0->hopsworks) (0.2.0)\n",
      "Requirement already satisfied: opensearch-py<=2.4.2,>=1.1.0 in ./venv/lib/python3.11/site-packages (from hsfs<3.8.0,>=3.7.0->hsfs[python]<3.8.0,>=3.7.0->hopsworks) (2.4.2)\n",
      "Requirement already satisfied: altair<5.0.0,>=4.2.1 in ./venv/lib/python3.11/site-packages (from great-expectations==0.18.12->hsfs<3.8.0,>=3.7.0->hsfs[python]<3.8.0,>=3.7.0->hopsworks) (4.2.2)\n",
      "Requirement already satisfied: Click>=7.1.2 in ./venv/lib/python3.11/site-packages (from great-expectations==0.18.12->hsfs<3.8.0,>=3.7.0->hsfs[python]<3.8.0,>=3.7.0->hopsworks) (8.1.7)\n",
      "Requirement already satisfied: colorama>=0.4.3 in ./venv/lib/python3.11/site-packages (from great-expectations==0.18.12->hsfs<3.8.0,>=3.7.0->hsfs[python]<3.8.0,>=3.7.0->hopsworks) (0.4.6)\n",
      "Requirement already satisfied: cryptography>=3.2 in ./venv/lib/python3.11/site-packages (from great-expectations==0.18.12->hsfs<3.8.0,>=3.7.0->hsfs[python]<3.8.0,>=3.7.0->hopsworks) (43.0.3)\n",
      "Requirement already satisfied: Ipython>=7.16.3 in ./venv/lib/python3.11/site-packages (from great-expectations==0.18.12->hsfs<3.8.0,>=3.7.0->hsfs[python]<3.8.0,>=3.7.0->hopsworks) (8.29.0)\n",
      "Requirement already satisfied: ipywidgets>=7.5.1 in ./venv/lib/python3.11/site-packages (from great-expectations==0.18.12->hsfs<3.8.0,>=3.7.0->hsfs[python]<3.8.0,>=3.7.0->hopsworks) (8.1.5)\n",
      "Requirement already satisfied: jinja2>=2.10 in ./venv/lib/python3.11/site-packages (from great-expectations==0.18.12->hsfs<3.8.0,>=3.7.0->hsfs[python]<3.8.0,>=3.7.0->hopsworks) (3.1.4)\n",
      "Requirement already satisfied: jsonpatch>=1.22 in ./venv/lib/python3.11/site-packages (from great-expectations==0.18.12->hsfs<3.8.0,>=3.7.0->hsfs[python]<3.8.0,>=3.7.0->hopsworks) (1.33)\n",
      "Requirement already satisfied: jsonschema>=2.5.1 in ./venv/lib/python3.11/site-packages (from great-expectations==0.18.12->hsfs<3.8.0,>=3.7.0->hsfs[python]<3.8.0,>=3.7.0->hopsworks) (4.23.0)\n",
      "Requirement already satisfied: makefun<2,>=1.7.0 in ./venv/lib/python3.11/site-packages (from great-expectations==0.18.12->hsfs<3.8.0,>=3.7.0->hsfs[python]<3.8.0,>=3.7.0->hopsworks) (1.15.6)\n",
      "Requirement already satisfied: marshmallow<4.0.0,>=3.7.1 in ./venv/lib/python3.11/site-packages (from great-expectations==0.18.12->hsfs<3.8.0,>=3.7.0->hsfs[python]<3.8.0,>=3.7.0->hopsworks) (3.23.1)\n",
      "Requirement already satisfied: mistune>=0.8.4 in ./venv/lib/python3.11/site-packages (from great-expectations==0.18.12->hsfs<3.8.0,>=3.7.0->hsfs[python]<3.8.0,>=3.7.0->hopsworks) (3.0.2)\n",
      "Requirement already satisfied: nbformat>=5.0 in ./venv/lib/python3.11/site-packages (from great-expectations==0.18.12->hsfs<3.8.0,>=3.7.0->hsfs[python]<3.8.0,>=3.7.0->hopsworks) (5.10.4)\n",
      "Requirement already satisfied: notebook>=6.4.10 in ./venv/lib/python3.11/site-packages (from great-expectations==0.18.12->hsfs<3.8.0,>=3.7.0->hsfs[python]<3.8.0,>=3.7.0->hopsworks) (7.2.2)\n",
      "Requirement already satisfied: packaging in ./venv/lib/python3.11/site-packages (from great-expectations==0.18.12->hsfs<3.8.0,>=3.7.0->hsfs[python]<3.8.0,>=3.7.0->hopsworks) (23.2)\n",
      "Requirement already satisfied: pydantic>=1.9.2 in ./venv/lib/python3.11/site-packages (from great-expectations==0.18.12->hsfs<3.8.0,>=3.7.0->hsfs[python]<3.8.0,>=3.7.0->hopsworks) (2.9.2)\n",
      "Requirement already satisfied: pyparsing>=2.4 in ./venv/lib/python3.11/site-packages (from great-expectations==0.18.12->hsfs<3.8.0,>=3.7.0->hsfs[python]<3.8.0,>=3.7.0->hopsworks) (3.2.0)\n",
      "Requirement already satisfied: python-dateutil>=2.8.1 in ./venv/lib/python3.11/site-packages (from great-expectations==0.18.12->hsfs<3.8.0,>=3.7.0->hsfs[python]<3.8.0,>=3.7.0->hopsworks) (2.9.0.post0)\n",
      "Requirement already satisfied: pytz>=2021.3 in ./venv/lib/python3.11/site-packages (from great-expectations==0.18.12->hsfs<3.8.0,>=3.7.0->hsfs[python]<3.8.0,>=3.7.0->hopsworks) (2024.2)\n",
      "Requirement already satisfied: ruamel.yaml<0.17.18,>=0.16 in ./venv/lib/python3.11/site-packages (from great-expectations==0.18.12->hsfs<3.8.0,>=3.7.0->hsfs[python]<3.8.0,>=3.7.0->hopsworks) (0.17.17)\n",
      "Requirement already satisfied: scipy>=1.6.0 in ./venv/lib/python3.11/site-packages (from great-expectations==0.18.12->hsfs<3.8.0,>=3.7.0->hsfs[python]<3.8.0,>=3.7.0->hopsworks) (1.14.1)\n",
      "Requirement already satisfied: typing-extensions>=3.10.0.0 in ./venv/lib/python3.11/site-packages (from great-expectations==0.18.12->hsfs<3.8.0,>=3.7.0->hsfs[python]<3.8.0,>=3.7.0->hopsworks) (4.12.2)\n",
      "Requirement already satisfied: urllib3>=1.26 in ./venv/lib/python3.11/site-packages (from great-expectations==0.18.12->hsfs<3.8.0,>=3.7.0->hsfs[python]<3.8.0,>=3.7.0->hopsworks) (2.2.3)\n",
      "Requirement already satisfied: pyhopshive[thrift] in ./venv/lib/python3.11/site-packages (from hsfs[python]<3.8.0,>=3.7.0->hopsworks) (0.6.4.1.dev0)\n",
      "Requirement already satisfied: pyarrow>=10.0 in ./venv/lib/python3.11/site-packages (from hsfs[python]<3.8.0,>=3.7.0->hopsworks) (18.0.0)\n",
      "Requirement already satisfied: confluent-kafka<=2.3.0 in ./venv/lib/python3.11/site-packages (from hsfs[python]<3.8.0,>=3.7.0->hopsworks) (2.3.0)\n",
      "Requirement already satisfied: fastavro<=1.8.4,>=1.4.11 in ./venv/lib/python3.11/site-packages (from hsfs[python]<3.8.0,>=3.7.0->hopsworks) (1.8.4)\n",
      "Requirement already satisfied: charset-normalizer<4,>=2 in ./venv/lib/python3.11/site-packages (from requests->hopsworks) (3.4.0)\n",
      "Requirement already satisfied: idna<4,>=2.5 in ./venv/lib/python3.11/site-packages (from requests->hopsworks) (3.10)\n",
      "Requirement already satisfied: certifi>=2017.4.17 in ./venv/lib/python3.11/site-packages (from requests->hopsworks) (2024.8.30)\n",
      "Requirement already satisfied: botocore<1.36.0,>=1.35.55 in ./venv/lib/python3.11/site-packages (from boto3->hopsworks) (1.35.55)\n",
      "Requirement already satisfied: jmespath<2.0.0,>=0.7.1 in ./venv/lib/python3.11/site-packages (from boto3->hopsworks) (1.0.1)\n",
      "Requirement already satisfied: s3transfer<0.11.0,>=0.10.0 in ./venv/lib/python3.11/site-packages (from boto3->hopsworks) (0.10.3)\n",
      "Requirement already satisfied: six>=1.8.0 in ./venv/lib/python3.11/site-packages (from furl->hopsworks) (1.16.0)\n",
      "Requirement already satisfied: orderedmultidict>=1.0.1 in ./venv/lib/python3.11/site-packages (from furl->hopsworks) (1.0.1)\n",
      "Requirement already satisfied: javaobj-py3 in ./venv/lib/python3.11/site-packages (from pyjks->hopsworks) (0.4.4)\n",
      "Requirement already satisfied: pyasn1>=0.3.5 in ./venv/lib/python3.11/site-packages (from pyjks->hopsworks) (0.6.1)\n",
      "Requirement already satisfied: pyasn1-modules in ./venv/lib/python3.11/site-packages (from pyjks->hopsworks) (0.4.1)\n",
      "Requirement already satisfied: pycryptodomex in ./venv/lib/python3.11/site-packages (from pyjks->hopsworks) (3.21.0)\n",
      "Requirement already satisfied: twofish in ./venv/lib/python3.11/site-packages (from pyjks->hopsworks) (0.3.0)\n",
      "Requirement already satisfied: tzdata>=2022.1 in ./venv/lib/python3.11/site-packages (from pandas<2.2.0->hsfs<3.8.0,>=3.7.0->hsfs[python]<3.8.0,>=3.7.0->hopsworks) (2024.2)\n",
      "Requirement already satisfied: future in ./venv/lib/python3.11/site-packages (from pyhopshive[thrift]; extra == \"python\"->hsfs[python]<3.8.0,>=3.7.0->hopsworks) (1.0.0)\n",
      "Requirement already satisfied: thrift>=0.10.0 in ./venv/lib/python3.11/site-packages (from pyhopshive[thrift]; extra == \"python\"->hsfs[python]<3.8.0,>=3.7.0->hopsworks) (0.21.0)\n",
      "Requirement already satisfied: entrypoints in ./venv/lib/python3.11/site-packages (from altair<5.0.0,>=4.2.1->great-expectations==0.18.12->hsfs<3.8.0,>=3.7.0->hsfs[python]<3.8.0,>=3.7.0->hopsworks) (0.4)\n",
      "Requirement already satisfied: toolz in ./venv/lib/python3.11/site-packages (from altair<5.0.0,>=4.2.1->great-expectations==0.18.12->hsfs<3.8.0,>=3.7.0->hsfs[python]<3.8.0,>=3.7.0->hopsworks) (1.0.0)\n",
      "Requirement already satisfied: cffi>=1.12 in ./venv/lib/python3.11/site-packages (from cryptography>=3.2->great-expectations==0.18.12->hsfs<3.8.0,>=3.7.0->hsfs[python]<3.8.0,>=3.7.0->hopsworks) (1.17.1)\n",
      "Requirement already satisfied: decorator in ./venv/lib/python3.11/site-packages (from Ipython>=7.16.3->great-expectations==0.18.12->hsfs<3.8.0,>=3.7.0->hsfs[python]<3.8.0,>=3.7.0->hopsworks) (5.1.1)\n",
      "Requirement already satisfied: jedi>=0.16 in ./venv/lib/python3.11/site-packages (from Ipython>=7.16.3->great-expectations==0.18.12->hsfs<3.8.0,>=3.7.0->hsfs[python]<3.8.0,>=3.7.0->hopsworks) (0.19.1)\n",
      "Requirement already satisfied: matplotlib-inline in ./venv/lib/python3.11/site-packages (from Ipython>=7.16.3->great-expectations==0.18.12->hsfs<3.8.0,>=3.7.0->hsfs[python]<3.8.0,>=3.7.0->hopsworks) (0.1.7)\n",
      "Requirement already satisfied: prompt-toolkit<3.1.0,>=3.0.41 in ./venv/lib/python3.11/site-packages (from Ipython>=7.16.3->great-expectations==0.18.12->hsfs<3.8.0,>=3.7.0->hsfs[python]<3.8.0,>=3.7.0->hopsworks) (3.0.48)\n",
      "Requirement already satisfied: pygments>=2.4.0 in ./venv/lib/python3.11/site-packages (from Ipython>=7.16.3->great-expectations==0.18.12->hsfs<3.8.0,>=3.7.0->hsfs[python]<3.8.0,>=3.7.0->hopsworks) (2.18.0)\n",
      "Requirement already satisfied: stack-data in ./venv/lib/python3.11/site-packages (from Ipython>=7.16.3->great-expectations==0.18.12->hsfs<3.8.0,>=3.7.0->hsfs[python]<3.8.0,>=3.7.0->hopsworks) (0.6.3)\n",
      "Requirement already satisfied: traitlets>=5.13.0 in ./venv/lib/python3.11/site-packages (from Ipython>=7.16.3->great-expectations==0.18.12->hsfs<3.8.0,>=3.7.0->hsfs[python]<3.8.0,>=3.7.0->hopsworks) (5.14.3)\n",
      "Requirement already satisfied: pexpect>4.3 in ./venv/lib/python3.11/site-packages (from Ipython>=7.16.3->great-expectations==0.18.12->hsfs<3.8.0,>=3.7.0->hsfs[python]<3.8.0,>=3.7.0->hopsworks) (4.9.0)\n",
      "Requirement already satisfied: comm>=0.1.3 in ./venv/lib/python3.11/site-packages (from ipywidgets>=7.5.1->great-expectations==0.18.12->hsfs<3.8.0,>=3.7.0->hsfs[python]<3.8.0,>=3.7.0->hopsworks) (0.2.2)\n",
      "Requirement already satisfied: widgetsnbextension~=4.0.12 in ./venv/lib/python3.11/site-packages (from ipywidgets>=7.5.1->great-expectations==0.18.12->hsfs<3.8.0,>=3.7.0->hsfs[python]<3.8.0,>=3.7.0->hopsworks) (4.0.13)\n",
      "Requirement already satisfied: jupyterlab-widgets~=3.0.12 in ./venv/lib/python3.11/site-packages (from ipywidgets>=7.5.1->great-expectations==0.18.12->hsfs<3.8.0,>=3.7.0->hsfs[python]<3.8.0,>=3.7.0->hopsworks) (3.0.13)\n",
      "Requirement already satisfied: MarkupSafe>=2.0 in ./venv/lib/python3.11/site-packages (from jinja2>=2.10->great-expectations==0.18.12->hsfs<3.8.0,>=3.7.0->hsfs[python]<3.8.0,>=3.7.0->hopsworks) (3.0.2)\n",
      "Requirement already satisfied: jsonpointer>=1.9 in ./venv/lib/python3.11/site-packages (from jsonpatch>=1.22->great-expectations==0.18.12->hsfs<3.8.0,>=3.7.0->hsfs[python]<3.8.0,>=3.7.0->hopsworks) (3.0.0)\n",
      "Requirement already satisfied: attrs>=22.2.0 in ./venv/lib/python3.11/site-packages (from jsonschema>=2.5.1->great-expectations==0.18.12->hsfs<3.8.0,>=3.7.0->hsfs[python]<3.8.0,>=3.7.0->hopsworks) (24.2.0)\n",
      "Requirement already satisfied: jsonschema-specifications>=2023.03.6 in ./venv/lib/python3.11/site-packages (from jsonschema>=2.5.1->great-expectations==0.18.12->hsfs<3.8.0,>=3.7.0->hsfs[python]<3.8.0,>=3.7.0->hopsworks) (2024.10.1)\n",
      "Requirement already satisfied: referencing>=0.28.4 in ./venv/lib/python3.11/site-packages (from jsonschema>=2.5.1->great-expectations==0.18.12->hsfs<3.8.0,>=3.7.0->hsfs[python]<3.8.0,>=3.7.0->hopsworks) (0.35.1)\n",
      "Requirement already satisfied: rpds-py>=0.7.1 in ./venv/lib/python3.11/site-packages (from jsonschema>=2.5.1->great-expectations==0.18.12->hsfs<3.8.0,>=3.7.0->hsfs[python]<3.8.0,>=3.7.0->hopsworks) (0.21.0)\n",
      "Requirement already satisfied: fastjsonschema>=2.15 in ./venv/lib/python3.11/site-packages (from nbformat>=5.0->great-expectations==0.18.12->hsfs<3.8.0,>=3.7.0->hsfs[python]<3.8.0,>=3.7.0->hopsworks) (2.20.0)\n",
      "Requirement already satisfied: jupyter-core!=5.0.*,>=4.12 in ./venv/lib/python3.11/site-packages (from nbformat>=5.0->great-expectations==0.18.12->hsfs<3.8.0,>=3.7.0->hsfs[python]<3.8.0,>=3.7.0->hopsworks) (5.7.2)\n",
      "Requirement already satisfied: jupyter-server<3,>=2.4.0 in ./venv/lib/python3.11/site-packages (from notebook>=6.4.10->great-expectations==0.18.12->hsfs<3.8.0,>=3.7.0->hsfs[python]<3.8.0,>=3.7.0->hopsworks) (2.14.2)\n",
      "Requirement already satisfied: jupyterlab-server<3,>=2.27.1 in ./venv/lib/python3.11/site-packages (from notebook>=6.4.10->great-expectations==0.18.12->hsfs<3.8.0,>=3.7.0->hsfs[python]<3.8.0,>=3.7.0->hopsworks) (2.27.3)\n",
      "Requirement already satisfied: jupyterlab<4.3,>=4.2.0 in ./venv/lib/python3.11/site-packages (from notebook>=6.4.10->great-expectations==0.18.12->hsfs<3.8.0,>=3.7.0->hsfs[python]<3.8.0,>=3.7.0->hopsworks) (4.2.5)\n",
      "Requirement already satisfied: notebook-shim<0.3,>=0.2 in ./venv/lib/python3.11/site-packages (from notebook>=6.4.10->great-expectations==0.18.12->hsfs<3.8.0,>=3.7.0->hsfs[python]<3.8.0,>=3.7.0->hopsworks) (0.2.4)\n",
      "Requirement already satisfied: tornado>=6.2.0 in ./venv/lib/python3.11/site-packages (from notebook>=6.4.10->great-expectations==0.18.12->hsfs<3.8.0,>=3.7.0->hsfs[python]<3.8.0,>=3.7.0->hopsworks) (6.4.1)\n",
      "Requirement already satisfied: annotated-types>=0.6.0 in ./venv/lib/python3.11/site-packages (from pydantic>=1.9.2->great-expectations==0.18.12->hsfs<3.8.0,>=3.7.0->hsfs[python]<3.8.0,>=3.7.0->hopsworks) (0.7.0)\n",
      "Requirement already satisfied: pydantic-core==2.23.4 in ./venv/lib/python3.11/site-packages (from pydantic>=1.9.2->great-expectations==0.18.12->hsfs<3.8.0,>=3.7.0->hsfs[python]<3.8.0,>=3.7.0->hopsworks) (2.23.4)\n",
      "Requirement already satisfied: pycparser in ./venv/lib/python3.11/site-packages (from cffi>=1.12->cryptography>=3.2->great-expectations==0.18.12->hsfs<3.8.0,>=3.7.0->hsfs[python]<3.8.0,>=3.7.0->hopsworks) (2.22)\n",
      "Requirement already satisfied: parso<0.9.0,>=0.8.3 in ./venv/lib/python3.11/site-packages (from jedi>=0.16->Ipython>=7.16.3->great-expectations==0.18.12->hsfs<3.8.0,>=3.7.0->hsfs[python]<3.8.0,>=3.7.0->hopsworks) (0.8.4)\n",
      "Requirement already satisfied: platformdirs>=2.5 in ./venv/lib/python3.11/site-packages (from jupyter-core!=5.0.*,>=4.12->nbformat>=5.0->great-expectations==0.18.12->hsfs<3.8.0,>=3.7.0->hsfs[python]<3.8.0,>=3.7.0->hopsworks) (4.3.6)\n",
      "Requirement already satisfied: anyio>=3.1.0 in ./venv/lib/python3.11/site-packages (from jupyter-server<3,>=2.4.0->notebook>=6.4.10->great-expectations==0.18.12->hsfs<3.8.0,>=3.7.0->hsfs[python]<3.8.0,>=3.7.0->hopsworks) (4.6.2.post1)\n",
      "Requirement already satisfied: argon2-cffi>=21.1 in ./venv/lib/python3.11/site-packages (from jupyter-server<3,>=2.4.0->notebook>=6.4.10->great-expectations==0.18.12->hsfs<3.8.0,>=3.7.0->hsfs[python]<3.8.0,>=3.7.0->hopsworks) (23.1.0)\n",
      "Requirement already satisfied: jupyter-client>=7.4.4 in ./venv/lib/python3.11/site-packages (from jupyter-server<3,>=2.4.0->notebook>=6.4.10->great-expectations==0.18.12->hsfs<3.8.0,>=3.7.0->hsfs[python]<3.8.0,>=3.7.0->hopsworks) (8.6.3)\n",
      "Requirement already satisfied: jupyter-events>=0.9.0 in ./venv/lib/python3.11/site-packages (from jupyter-server<3,>=2.4.0->notebook>=6.4.10->great-expectations==0.18.12->hsfs<3.8.0,>=3.7.0->hsfs[python]<3.8.0,>=3.7.0->hopsworks) (0.10.0)\n",
      "Requirement already satisfied: jupyter-server-terminals>=0.4.4 in ./venv/lib/python3.11/site-packages (from jupyter-server<3,>=2.4.0->notebook>=6.4.10->great-expectations==0.18.12->hsfs<3.8.0,>=3.7.0->hsfs[python]<3.8.0,>=3.7.0->hopsworks) (0.5.3)\n",
      "Requirement already satisfied: nbconvert>=6.4.4 in ./venv/lib/python3.11/site-packages (from jupyter-server<3,>=2.4.0->notebook>=6.4.10->great-expectations==0.18.12->hsfs<3.8.0,>=3.7.0->hsfs[python]<3.8.0,>=3.7.0->hopsworks) (7.16.4)\n",
      "Requirement already satisfied: overrides>=5.0 in ./venv/lib/python3.11/site-packages (from jupyter-server<3,>=2.4.0->notebook>=6.4.10->great-expectations==0.18.12->hsfs<3.8.0,>=3.7.0->hsfs[python]<3.8.0,>=3.7.0->hopsworks) (7.7.0)\n",
      "Requirement already satisfied: prometheus-client>=0.9 in ./venv/lib/python3.11/site-packages (from jupyter-server<3,>=2.4.0->notebook>=6.4.10->great-expectations==0.18.12->hsfs<3.8.0,>=3.7.0->hsfs[python]<3.8.0,>=3.7.0->hopsworks) (0.21.0)\n",
      "Requirement already satisfied: pyzmq>=24 in ./venv/lib/python3.11/site-packages (from jupyter-server<3,>=2.4.0->notebook>=6.4.10->great-expectations==0.18.12->hsfs<3.8.0,>=3.7.0->hsfs[python]<3.8.0,>=3.7.0->hopsworks) (26.2.0)\n",
      "Requirement already satisfied: send2trash>=1.8.2 in ./venv/lib/python3.11/site-packages (from jupyter-server<3,>=2.4.0->notebook>=6.4.10->great-expectations==0.18.12->hsfs<3.8.0,>=3.7.0->hsfs[python]<3.8.0,>=3.7.0->hopsworks) (1.8.3)\n",
      "Requirement already satisfied: terminado>=0.8.3 in ./venv/lib/python3.11/site-packages (from jupyter-server<3,>=2.4.0->notebook>=6.4.10->great-expectations==0.18.12->hsfs<3.8.0,>=3.7.0->hsfs[python]<3.8.0,>=3.7.0->hopsworks) (0.18.1)\n",
      "Requirement already satisfied: websocket-client>=1.7 in ./venv/lib/python3.11/site-packages (from jupyter-server<3,>=2.4.0->notebook>=6.4.10->great-expectations==0.18.12->hsfs<3.8.0,>=3.7.0->hsfs[python]<3.8.0,>=3.7.0->hopsworks) (1.8.0)\n",
      "Requirement already satisfied: async-lru>=1.0.0 in ./venv/lib/python3.11/site-packages (from jupyterlab<4.3,>=4.2.0->notebook>=6.4.10->great-expectations==0.18.12->hsfs<3.8.0,>=3.7.0->hsfs[python]<3.8.0,>=3.7.0->hopsworks) (2.0.4)\n",
      "Requirement already satisfied: httpx>=0.25.0 in ./venv/lib/python3.11/site-packages (from jupyterlab<4.3,>=4.2.0->notebook>=6.4.10->great-expectations==0.18.12->hsfs<3.8.0,>=3.7.0->hsfs[python]<3.8.0,>=3.7.0->hopsworks) (0.27.2)\n",
      "Requirement already satisfied: ipykernel>=6.5.0 in ./venv/lib/python3.11/site-packages (from jupyterlab<4.3,>=4.2.0->notebook>=6.4.10->great-expectations==0.18.12->hsfs<3.8.0,>=3.7.0->hsfs[python]<3.8.0,>=3.7.0->hopsworks) (6.29.5)\n",
      "Requirement already satisfied: jupyter-lsp>=2.0.0 in ./venv/lib/python3.11/site-packages (from jupyterlab<4.3,>=4.2.0->notebook>=6.4.10->great-expectations==0.18.12->hsfs<3.8.0,>=3.7.0->hsfs[python]<3.8.0,>=3.7.0->hopsworks) (2.2.5)\n",
      "Requirement already satisfied: setuptools>=40.1.0 in ./venv/lib/python3.11/site-packages (from jupyterlab<4.3,>=4.2.0->notebook>=6.4.10->great-expectations==0.18.12->hsfs<3.8.0,>=3.7.0->hsfs[python]<3.8.0,>=3.7.0->hopsworks) (65.5.0)\n",
      "Requirement already satisfied: babel>=2.10 in ./venv/lib/python3.11/site-packages (from jupyterlab-server<3,>=2.27.1->notebook>=6.4.10->great-expectations==0.18.12->hsfs<3.8.0,>=3.7.0->hsfs[python]<3.8.0,>=3.7.0->hopsworks) (2.16.0)\n",
      "Requirement already satisfied: json5>=0.9.0 in ./venv/lib/python3.11/site-packages (from jupyterlab-server<3,>=2.27.1->notebook>=6.4.10->great-expectations==0.18.12->hsfs<3.8.0,>=3.7.0->hsfs[python]<3.8.0,>=3.7.0->hopsworks) (0.9.25)\n",
      "Requirement already satisfied: ptyprocess>=0.5 in ./venv/lib/python3.11/site-packages (from pexpect>4.3->Ipython>=7.16.3->great-expectations==0.18.12->hsfs<3.8.0,>=3.7.0->hsfs[python]<3.8.0,>=3.7.0->hopsworks) (0.7.0)\n",
      "Requirement already satisfied: wcwidth in ./venv/lib/python3.11/site-packages (from prompt-toolkit<3.1.0,>=3.0.41->Ipython>=7.16.3->great-expectations==0.18.12->hsfs<3.8.0,>=3.7.0->hsfs[python]<3.8.0,>=3.7.0->hopsworks) (0.2.13)\n",
      "Requirement already satisfied: executing>=1.2.0 in ./venv/lib/python3.11/site-packages (from stack-data->Ipython>=7.16.3->great-expectations==0.18.12->hsfs<3.8.0,>=3.7.0->hsfs[python]<3.8.0,>=3.7.0->hopsworks) (2.1.0)\n",
      "Requirement already satisfied: asttokens>=2.1.0 in ./venv/lib/python3.11/site-packages (from stack-data->Ipython>=7.16.3->great-expectations==0.18.12->hsfs<3.8.0,>=3.7.0->hsfs[python]<3.8.0,>=3.7.0->hopsworks) (2.4.1)\n",
      "Requirement already satisfied: pure-eval in ./venv/lib/python3.11/site-packages (from stack-data->Ipython>=7.16.3->great-expectations==0.18.12->hsfs<3.8.0,>=3.7.0->hsfs[python]<3.8.0,>=3.7.0->hopsworks) (0.2.3)\n",
      "Requirement already satisfied: sniffio>=1.1 in ./venv/lib/python3.11/site-packages (from anyio>=3.1.0->jupyter-server<3,>=2.4.0->notebook>=6.4.10->great-expectations==0.18.12->hsfs<3.8.0,>=3.7.0->hsfs[python]<3.8.0,>=3.7.0->hopsworks) (1.3.1)\n",
      "Requirement already satisfied: argon2-cffi-bindings in ./venv/lib/python3.11/site-packages (from argon2-cffi>=21.1->jupyter-server<3,>=2.4.0->notebook>=6.4.10->great-expectations==0.18.12->hsfs<3.8.0,>=3.7.0->hsfs[python]<3.8.0,>=3.7.0->hopsworks) (21.2.0)\n",
      "Requirement already satisfied: httpcore==1.* in ./venv/lib/python3.11/site-packages (from httpx>=0.25.0->jupyterlab<4.3,>=4.2.0->notebook>=6.4.10->great-expectations==0.18.12->hsfs<3.8.0,>=3.7.0->hsfs[python]<3.8.0,>=3.7.0->hopsworks) (1.0.6)\n",
      "Requirement already satisfied: h11<0.15,>=0.13 in ./venv/lib/python3.11/site-packages (from httpcore==1.*->httpx>=0.25.0->jupyterlab<4.3,>=4.2.0->notebook>=6.4.10->great-expectations==0.18.12->hsfs<3.8.0,>=3.7.0->hsfs[python]<3.8.0,>=3.7.0->hopsworks) (0.14.0)\n",
      "Requirement already satisfied: appnope in ./venv/lib/python3.11/site-packages (from ipykernel>=6.5.0->jupyterlab<4.3,>=4.2.0->notebook>=6.4.10->great-expectations==0.18.12->hsfs<3.8.0,>=3.7.0->hsfs[python]<3.8.0,>=3.7.0->hopsworks) (0.1.4)\n",
      "Requirement already satisfied: debugpy>=1.6.5 in ./venv/lib/python3.11/site-packages (from ipykernel>=6.5.0->jupyterlab<4.3,>=4.2.0->notebook>=6.4.10->great-expectations==0.18.12->hsfs<3.8.0,>=3.7.0->hsfs[python]<3.8.0,>=3.7.0->hopsworks) (1.8.7)\n",
      "Requirement already satisfied: nest-asyncio in ./venv/lib/python3.11/site-packages (from ipykernel>=6.5.0->jupyterlab<4.3,>=4.2.0->notebook>=6.4.10->great-expectations==0.18.12->hsfs<3.8.0,>=3.7.0->hsfs[python]<3.8.0,>=3.7.0->hopsworks) (1.6.0)\n",
      "Requirement already satisfied: psutil in ./venv/lib/python3.11/site-packages (from ipykernel>=6.5.0->jupyterlab<4.3,>=4.2.0->notebook>=6.4.10->great-expectations==0.18.12->hsfs<3.8.0,>=3.7.0->hsfs[python]<3.8.0,>=3.7.0->hopsworks) (6.1.0)\n",
      "Requirement already satisfied: python-json-logger>=2.0.4 in ./venv/lib/python3.11/site-packages (from jupyter-events>=0.9.0->jupyter-server<3,>=2.4.0->notebook>=6.4.10->great-expectations==0.18.12->hsfs<3.8.0,>=3.7.0->hsfs[python]<3.8.0,>=3.7.0->hopsworks) (2.0.7)\n",
      "Requirement already satisfied: pyyaml>=5.3 in ./venv/lib/python3.11/site-packages (from jupyter-events>=0.9.0->jupyter-server<3,>=2.4.0->notebook>=6.4.10->great-expectations==0.18.12->hsfs<3.8.0,>=3.7.0->hsfs[python]<3.8.0,>=3.7.0->hopsworks) (6.0.2)\n",
      "Requirement already satisfied: rfc3339-validator in ./venv/lib/python3.11/site-packages (from jupyter-events>=0.9.0->jupyter-server<3,>=2.4.0->notebook>=6.4.10->great-expectations==0.18.12->hsfs<3.8.0,>=3.7.0->hsfs[python]<3.8.0,>=3.7.0->hopsworks) (0.1.4)\n",
      "Requirement already satisfied: rfc3986-validator>=0.1.1 in ./venv/lib/python3.11/site-packages (from jupyter-events>=0.9.0->jupyter-server<3,>=2.4.0->notebook>=6.4.10->great-expectations==0.18.12->hsfs<3.8.0,>=3.7.0->hsfs[python]<3.8.0,>=3.7.0->hopsworks) (0.1.1)\n",
      "Requirement already satisfied: beautifulsoup4 in ./venv/lib/python3.11/site-packages (from nbconvert>=6.4.4->jupyter-server<3,>=2.4.0->notebook>=6.4.10->great-expectations==0.18.12->hsfs<3.8.0,>=3.7.0->hsfs[python]<3.8.0,>=3.7.0->hopsworks) (4.12.3)\n",
      "Requirement already satisfied: bleach!=5.0.0 in ./venv/lib/python3.11/site-packages (from nbconvert>=6.4.4->jupyter-server<3,>=2.4.0->notebook>=6.4.10->great-expectations==0.18.12->hsfs<3.8.0,>=3.7.0->hsfs[python]<3.8.0,>=3.7.0->hopsworks) (6.2.0)\n",
      "Requirement already satisfied: defusedxml in ./venv/lib/python3.11/site-packages (from nbconvert>=6.4.4->jupyter-server<3,>=2.4.0->notebook>=6.4.10->great-expectations==0.18.12->hsfs<3.8.0,>=3.7.0->hsfs[python]<3.8.0,>=3.7.0->hopsworks) (0.7.1)\n",
      "Requirement already satisfied: jupyterlab-pygments in ./venv/lib/python3.11/site-packages (from nbconvert>=6.4.4->jupyter-server<3,>=2.4.0->notebook>=6.4.10->great-expectations==0.18.12->hsfs<3.8.0,>=3.7.0->hsfs[python]<3.8.0,>=3.7.0->hopsworks) (0.3.0)\n",
      "Requirement already satisfied: nbclient>=0.5.0 in ./venv/lib/python3.11/site-packages (from nbconvert>=6.4.4->jupyter-server<3,>=2.4.0->notebook>=6.4.10->great-expectations==0.18.12->hsfs<3.8.0,>=3.7.0->hsfs[python]<3.8.0,>=3.7.0->hopsworks) (0.10.0)\n",
      "Requirement already satisfied: pandocfilters>=1.4.1 in ./venv/lib/python3.11/site-packages (from nbconvert>=6.4.4->jupyter-server<3,>=2.4.0->notebook>=6.4.10->great-expectations==0.18.12->hsfs<3.8.0,>=3.7.0->hsfs[python]<3.8.0,>=3.7.0->hopsworks) (1.5.1)\n",
      "Requirement already satisfied: tinycss2 in ./venv/lib/python3.11/site-packages (from nbconvert>=6.4.4->jupyter-server<3,>=2.4.0->notebook>=6.4.10->great-expectations==0.18.12->hsfs<3.8.0,>=3.7.0->hsfs[python]<3.8.0,>=3.7.0->hopsworks) (1.4.0)\n",
      "Requirement already satisfied: webencodings in ./venv/lib/python3.11/site-packages (from bleach!=5.0.0->nbconvert>=6.4.4->jupyter-server<3,>=2.4.0->notebook>=6.4.10->great-expectations==0.18.12->hsfs<3.8.0,>=3.7.0->hsfs[python]<3.8.0,>=3.7.0->hopsworks) (0.5.1)\n",
      "Requirement already satisfied: fqdn in ./venv/lib/python3.11/site-packages (from jsonschema[format-nongpl]>=4.18.0->jupyter-events>=0.9.0->jupyter-server<3,>=2.4.0->notebook>=6.4.10->great-expectations==0.18.12->hsfs<3.8.0,>=3.7.0->hsfs[python]<3.8.0,>=3.7.0->hopsworks) (1.5.1)\n",
      "Requirement already satisfied: isoduration in ./venv/lib/python3.11/site-packages (from jsonschema[format-nongpl]>=4.18.0->jupyter-events>=0.9.0->jupyter-server<3,>=2.4.0->notebook>=6.4.10->great-expectations==0.18.12->hsfs<3.8.0,>=3.7.0->hsfs[python]<3.8.0,>=3.7.0->hopsworks) (20.11.0)\n",
      "Requirement already satisfied: uri-template in ./venv/lib/python3.11/site-packages (from jsonschema[format-nongpl]>=4.18.0->jupyter-events>=0.9.0->jupyter-server<3,>=2.4.0->notebook>=6.4.10->great-expectations==0.18.12->hsfs<3.8.0,>=3.7.0->hsfs[python]<3.8.0,>=3.7.0->hopsworks) (1.3.0)\n",
      "Requirement already satisfied: webcolors>=24.6.0 in ./venv/lib/python3.11/site-packages (from jsonschema[format-nongpl]>=4.18.0->jupyter-events>=0.9.0->jupyter-server<3,>=2.4.0->notebook>=6.4.10->great-expectations==0.18.12->hsfs<3.8.0,>=3.7.0->hsfs[python]<3.8.0,>=3.7.0->hopsworks) (24.8.0)\n",
      "Requirement already satisfied: soupsieve>1.2 in ./venv/lib/python3.11/site-packages (from beautifulsoup4->nbconvert>=6.4.4->jupyter-server<3,>=2.4.0->notebook>=6.4.10->great-expectations==0.18.12->hsfs<3.8.0,>=3.7.0->hsfs[python]<3.8.0,>=3.7.0->hopsworks) (2.6)\n",
      "Requirement already satisfied: arrow>=0.15.0 in ./venv/lib/python3.11/site-packages (from isoduration->jsonschema[format-nongpl]>=4.18.0->jupyter-events>=0.9.0->jupyter-server<3,>=2.4.0->notebook>=6.4.10->great-expectations==0.18.12->hsfs<3.8.0,>=3.7.0->hsfs[python]<3.8.0,>=3.7.0->hopsworks) (1.3.0)\n",
      "Requirement already satisfied: types-python-dateutil>=2.8.10 in ./venv/lib/python3.11/site-packages (from arrow>=0.15.0->isoduration->jsonschema[format-nongpl]>=4.18.0->jupyter-events>=0.9.0->jupyter-server<3,>=2.4.0->notebook>=6.4.10->great-expectations==0.18.12->hsfs<3.8.0,>=3.7.0->hsfs[python]<3.8.0,>=3.7.0->hopsworks) (2.9.0.20241003)\n",
      "\n",
      "\u001b[1m[\u001b[0m\u001b[34;49mnotice\u001b[0m\u001b[1;39;49m]\u001b[0m\u001b[39;49m A new release of pip is available: \u001b[0m\u001b[31;49m24.0\u001b[0m\u001b[39;49m -> \u001b[0m\u001b[32;49m24.3.1\u001b[0m\n",
      "\u001b[1m[\u001b[0m\u001b[34;49mnotice\u001b[0m\u001b[1;39;49m]\u001b[0m\u001b[39;49m To update, run: \u001b[0m\u001b[32;49mpip install --upgrade pip\u001b[0m\n"
     ]
    }
   ],
   "source": [
    "!pip install hopsworks"
   ]
  },
  {
   "cell_type": "code",
   "execution_count": 24,
   "metadata": {},
   "outputs": [],
   "source": [
    "import os"
   ]
  },
  {
   "cell_type": "markdown",
   "metadata": {},
   "source": [
    "## <span style=\"color:#ff5f27\">🔮 Connect to Hopsworks Feature Store </span>"
   ]
  },
  {
   "cell_type": "code",
   "execution_count": 25,
   "metadata": {},
   "outputs": [
    {
     "name": "stdout",
     "output_type": "stream",
     "text": [
      "Connection closed.\n",
      "Connected. Call `.close()` to terminate connection gracefully.\n",
      "\n",
      "Logged in to project, explore it here https://c.app.hopsworks.ai:443/p/15551\n"
     ]
    }
   ],
   "source": [
    "import hopsworks\n",
    "\n",
    "project = hopsworks.login()"
   ]
  },
  {
   "cell_type": "code",
   "execution_count": 26,
   "metadata": {},
   "outputs": [
    {
     "name": "stdout",
     "output_type": "stream",
     "text": [
      "Connected. Call `.close()` to terminate connection gracefully.\n"
     ]
    }
   ],
   "source": [
    "# Connect to Hopsworks Model Registry\n",
    "mr = project.get_model_registry()\n",
    "\n",
    "dataset_api = project.get_dataset_api()"
   ]
  },
  {
   "cell_type": "markdown",
   "metadata": {
    "tags": []
   },
   "source": [
    "## <span style=\"color:#ff5f27\">🚀 Ranking Model Deployment </span>\n"
   ]
  },
  {
   "cell_type": "markdown",
   "metadata": {},
   "source": [
    "You start by deploying your ranking model. Since it is a CatBoost model you need to implement a `Predict` class that tells Hopsworks how to load the model and how to use it."
   ]
  },
  {
   "cell_type": "code",
   "execution_count": 27,
   "metadata": {},
   "outputs": [
    {
     "data": {
      "text/plain": [
       "Model(name: 'ranking_model', version: 1)"
      ]
     },
     "execution_count": 27,
     "metadata": {},
     "output_type": "execute_result"
    }
   ],
   "source": [
    "ranking_model = mr.get_best_model(\n",
    "    name=\"ranking_model\", \n",
    "    metric=\"fscore\", \n",
    "    direction=\"max\",\n",
    ")\n",
    "ranking_model"
   ]
  },
  {
   "cell_type": "code",
   "execution_count": 28,
   "metadata": {},
   "outputs": [
    {
     "name": "stdout",
     "output_type": "stream",
     "text": [
      "Overwriting ranking_transformer.py\n"
     ]
    }
   ],
   "source": [
    "%%writefile ranking_transformer.py\n",
    "\n",
    "import os\n",
    "import pandas as pd\n",
    "import hopsworks\n",
    "import logging\n",
    "\n",
    "\n",
    "class Transformer(object):\n",
    "    \n",
    "    def __init__(self):\n",
    "        # Connect to Hopsworks\n",
    "        project = hopsworks.connection().get_project()\n",
    "        self.fs = project.get_feature_store()\n",
    "        \n",
    "        # Retrieve the 'articles' feature view\n",
    "        self.articles_fv = self.fs.get_feature_view(\n",
    "            name=\"articles\", \n",
    "            version=1,\n",
    "        )\n",
    "        \n",
    "        # Get list of feature names for articles\n",
    "        self.articles_features = [feat.name for feat in self.articles_fv.schema]\n",
    "        \n",
    "        # Retrieve the 'customers' feature view\n",
    "        self.customer_fv = self.fs.get_feature_view(\n",
    "            name=\"customers\", \n",
    "            version=1,\n",
    "        )\n",
    "\n",
    "        # Retrieve the 'candidate_embeddings' feature view\n",
    "        self.candidate_index = self.fs.get_feature_view(\n",
    "            name=\"candidate_embeddings\", \n",
    "            version=1,\n",
    "        )\n",
    "\n",
    "        # Retrieve ranking model\n",
    "        mr = project.get_model_registry()\n",
    "        model = mr.get_model(\n",
    "            name=\"ranking_model\", \n",
    "            version=1,\n",
    "        )\n",
    "        \n",
    "        # Extract input schema from the model\n",
    "        input_schema = model.model_schema[\"input_schema\"][\"columnar_schema\"]\n",
    "        \n",
    "        # Get the names of features expected by the ranking model\n",
    "        self.ranking_model_feature_names = [feat[\"name\"] for feat in input_schema]\n",
    "            \n",
    "    def preprocess(self, inputs):\n",
    "        # Extract the input instance\n",
    "        inputs = inputs[\"instances\"][0]\n",
    "        \n",
    "        # Extract customer_id from inputs\n",
    "        customer_id = inputs[\"customer_id\"]\n",
    "        \n",
    "        # Search for candidate items\n",
    "        neighbors = self.candidate_index.find_neighbors(\n",
    "            inputs[\"query_emb\"], \n",
    "            k=100,\n",
    "        )\n",
    "        neighbors = [neighbor[0] for neighbor in neighbors]\n",
    "        \n",
    "        # Get IDs of items already bought by the customer\n",
    "        already_bought_items_ids = self.fs.sql(\n",
    "            f\"SELECT article_id from transactions_1 WHERE customer_id = '{customer_id}'\"\n",
    "        ).values.reshape(-1).tolist()\n",
    "        \n",
    "        # Filter candidate items to exclude those already bought by the customer\n",
    "        item_id_list = [\n",
    "            str(item_id) \n",
    "            for item_id \n",
    "            in neighbors \n",
    "            if str(item_id) \n",
    "            not in already_bought_items_ids\n",
    "        ]\n",
    "        item_id_df = pd.DataFrame({\"article_id\" : item_id_list})\n",
    "                        \n",
    "        # Retrieve Article data for candidate items\n",
    "        articles_data = [\n",
    "            self.articles_fv.get_feature_vector({\"article_id\": item_id}) \n",
    "            for item_id \n",
    "            in item_id_list\n",
    "        ]\n",
    "        \n",
    "        logging.info(f\"✅ Articles Data Retrieved!\")\n",
    "\n",
    "        articles_df = pd.DataFrame(\n",
    "            data=articles_data, \n",
    "            columns=self.articles_features,\n",
    "        )\n",
    "        \n",
    "        # Join candidate items with their features\n",
    "        ranking_model_inputs = item_id_df.merge(\n",
    "            articles_df, \n",
    "            on=\"article_id\", \n",
    "            how=\"inner\",\n",
    "        )        \n",
    "        \n",
    "        logging.info(f\"✅ Inputs are almost ready!\")\n",
    "\n",
    "        # Add customer features\n",
    "        customer_features = self.customer_fv.get_feature_vector(\n",
    "            {\"customer_id\": customer_id}, \n",
    "            return_type=\"pandas\",\n",
    "        )\n",
    "        ranking_model_inputs[\"age\"] = customer_features.age.values[0]   \n",
    "        ranking_model_inputs[\"month_sin\"] = inputs[\"month_sin\"]\n",
    "        ranking_model_inputs[\"month_cos\"] = inputs[\"month_cos\"]\n",
    "        \n",
    "        # Select only the features required by the ranking model\n",
    "        ranking_model_inputs = ranking_model_inputs[self.ranking_model_feature_names]\n",
    "        \n",
    "        logging.info(f\"✅ Inputs are ready!\")\n",
    "                \n",
    "        return { \n",
    "            \"inputs\" : [{\"ranking_features\": ranking_model_inputs.values.tolist(), \"article_ids\": item_id_list}]\n",
    "        }\n",
    "\n",
    "    def postprocess(self, outputs):\n",
    "        \n",
    "        logging.info(f\"✅ Predictions are ready!\")\n",
    "        \n",
    "        # Extract predictions from the outputs\n",
    "        preds = outputs[\"predictions\"]\n",
    "        \n",
    "        # Merge prediction scores and corresponding article IDs into a list of tuples\n",
    "        ranking = list(zip(preds[\"scores\"], preds[\"article_ids\"]))\n",
    "        \n",
    "        # Sort the ranking list by score in descending order\n",
    "        ranking.sort(reverse=True)\n",
    "        \n",
    "        # Return the sorted ranking list\n",
    "        return { \n",
    "            \"ranking\": ranking,\n",
    "        }"
   ]
  },
  {
   "cell_type": "code",
   "execution_count": 29,
   "metadata": {},
   "outputs": [
    {
     "data": {
      "application/vnd.jupyter.widget-view+json": {
       "model_id": "20a7799d46fe42858a6e9a43ca534ca8",
       "version_major": 2,
       "version_minor": 0
      },
      "text/plain": [
       "Uploading: 0.000%|          | 0/4449 elapsed<00:00 remaining<?"
      ]
     },
     "metadata": {},
     "output_type": "display_data"
    }
   ],
   "source": [
    "# Copy transformer file into Hopsworks File System \n",
    "uploaded_file_path = dataset_api.upload(\n",
    "    \"ranking_transformer.py\",    # File name to be uploaded\n",
    "    \"Resources\",                 # Destination directory in Hopsworks File System \n",
    "    overwrite=True,              # Overwrite the file if it already exists\n",
    ") \n",
    "\n",
    "# Construct the path to the uploaded transformer script\n",
    "transformer_script_path = os.path.join(\n",
    "    \"/Projects\",                 # Root directory for projects in Hopsworks\n",
    "    project.name,                # Name of the current project\n",
    "    uploaded_file_path,          # Path to the uploaded file within the project\n",
    ")"
   ]
  },
  {
   "cell_type": "code",
   "execution_count": 30,
   "metadata": {},
   "outputs": [
    {
     "name": "stdout",
     "output_type": "stream",
     "text": [
      "Overwriting ranking_predictor.py\n"
     ]
    }
   ],
   "source": [
    "%%writefile ranking_predictor.py\n",
    "\n",
    "import os\n",
    "import joblib\n",
    "import numpy as np\n",
    "\n",
    "import logging\n",
    "\n",
    "class Predict(object):\n",
    "    \n",
    "    def __init__(self):\n",
    "        self.model = joblib.load(os.environ[\"ARTIFACT_FILES_PATH\"] + \"/ranking_model.pkl\")\n",
    "\n",
    "    def predict(self, inputs):\n",
    "        \n",
    "        logging.info(f\"✅ Inputs: {inputs}\")\n",
    "        \n",
    "        # Extract ranking features and article IDs from the inputs\n",
    "        features = inputs[0].pop(\"ranking_features\")\n",
    "        article_ids = inputs[0].pop(\"article_ids\")\n",
    "        \n",
    "        # Log the extracted features\n",
    "        logging.info(\"predict -> \" + str(features))\n",
    "        \n",
    "        # Log the extracted article ids\n",
    "        logging.info(f'Article IDs: {article_ids}')\n",
    "        \n",
    "        logging.info(f\"🦅 Predicting...\")\n",
    "\n",
    "        # Predict probabilities for the positive class\n",
    "        scores = self.model.predict_proba(features).tolist()\n",
    "        \n",
    "        # Get scores of positive class\n",
    "        scores = np.asarray(scores)[:,1].tolist() \n",
    "\n",
    "        # Return the predicted scores along with the corresponding article IDs\n",
    "        return {\n",
    "            \"scores\": scores, \n",
    "            \"article_ids\": article_ids,\n",
    "        }"
   ]
  },
  {
   "cell_type": "code",
   "execution_count": 31,
   "metadata": {},
   "outputs": [
    {
     "data": {
      "application/vnd.jupyter.widget-view+json": {
       "model_id": "9a8bca3362f240ba94b6188d454205c9",
       "version_major": 2,
       "version_minor": 0
      },
      "text/plain": [
       "Uploading: 0.000%|          | 0/1117 elapsed<00:00 remaining<?"
      ]
     },
     "metadata": {},
     "output_type": "display_data"
    }
   ],
   "source": [
    "# Upload predictor file to Hopsworks\n",
    "uploaded_file_path = dataset_api.upload(\n",
    "    \"ranking_predictor.py\", \n",
    "    \"Resources\",\n",
    "    overwrite=True,\n",
    ")\n",
    "\n",
    "# Construct the path to the uploaded script\n",
    "predictor_script_path = os.path.join(\n",
    "    \"/Projects\",\n",
    "    project.name,\n",
    "    uploaded_file_path,\n",
    ")"
   ]
  },
  {
   "cell_type": "markdown",
   "metadata": {},
   "source": [
    "With that in place, you can finally deploy your model."
   ]
  },
  {
   "cell_type": "code",
   "execution_count": 37,
   "metadata": {},
   "outputs": [
    {
     "name": "stdout",
     "output_type": "stream",
     "text": [
      "Deployment created, explore it at https://c.app.hopsworks.ai:443/p/15551/deployments/322562\n",
      "Before making predictions, start the deployment by using `.start()`\n"
     ]
    }
   ],
   "source": [
    "from hsml.transformer import Transformer\n",
    "\n",
    "ranking_deployment_name = \"rankingdeployment2\"\n",
    "\n",
    "# Define transformer\n",
    "ranking_transformer=Transformer(\n",
    "    script_file=transformer_script_path,\n",
    "    resources={\"num_instances\": 0},\n",
    ")\n",
    "\n",
    "# Deploy ranking model\n",
    "ranking_deployment = ranking_model.deploy(\n",
    "    name=ranking_deployment_name,\n",
    "    description=\"Deployment that search for item candidates and scores them based on customer metadata\",\n",
    "    script_file=predictor_script_path,\n",
    "    resources={\"num_instances\": 0},\n",
    "    transformer=ranking_transformer,\n",
    ")"
   ]
  },
  {
   "cell_type": "code",
   "execution_count": 38,
   "metadata": {},
   "outputs": [
    {
     "data": {
      "application/vnd.jupyter.widget-view+json": {
       "model_id": "6e320611047647f1857a4b3bbfb73522",
       "version_major": 2,
       "version_minor": 0
      },
      "text/plain": [
       "  0%|          | 0/6 [00:00<?, ?it/s]"
      ]
     },
     "metadata": {},
     "output_type": "display_data"
    },
    {
     "name": "stdout",
     "output_type": "stream",
     "text": [
      "Start making predictions by using `.predict()`\n"
     ]
    }
   ],
   "source": [
    "# Start the deployment\n",
    "ranking_deployment.start()"
   ]
  },
  {
   "cell_type": "code",
   "execution_count": 39,
   "metadata": {
    "tags": []
   },
   "outputs": [
    {
     "name": "stdout",
     "output_type": "stream",
     "text": [
      "Explore all the logs and filters in the Kibana logs at https://c.app.hopsworks.ai:443/p/15551/deployments/322562\n",
      "\n",
      "Instance name: rankingdeployment2-transformer-default-00001-deployment-6bjsmml\n",
      "2024-11-07 15:15:41.325 7 root INFO [<module>():180] Loading serving script\n",
      "2024-11-07 15:15:44.412 7 root INFO [__init__():117] Initializing transformer for deployment: rankingdeployment2\n",
      "Connected. Call `.close()` to terminate connection gracefully.\n",
      "SLF4J: Class path contains multiple SLF4J bindings.\n",
      "SLF4J: Found binding in [jar:file:/srv/hops/hadoop-3.2.0.12-EE-RC0/share/hadoop/common/lib/log4j-slf4j-impl-2.19.0.jar!/org/slf4j/impl/StaticLoggerBinder.class]\n",
      "SLF4J: Found binding in [jar:file:/srv/hops/hadoop-3.2.0.12-EE-RC0/share/hadoop/hdfs/lib/log4j-slf4j-impl-2.19.0.jar!/org/slf4j/impl/StaticLoggerBinder.class]\n",
      "SLF4J: See http://www.slf4j.org/codes.html#multiple_bindings for an explanation.\n",
      "SLF4J: Actual binding is of type [org.apache.logging.slf4j.Log4jLoggerFactory]\n",
      "2024-11-07 15:15:53.428 7 root INFO [<module>():196] Starting KServe server\n",
      "2024-11-07 15:15:53.429 7 root INFO [register_model():187] Registering model: rankingdeployment2\n",
      "2024-11-07 15:15:53.429 7 root INFO [start():129] Setting max asyncio worker threads as 12\n",
      "2024-11-07 15:15:53.429 7 root INFO [serve():139] Starting uvicorn with 1 workers\n",
      "2024-11-07 15:15:53.831 7 uvicorn.error INFO [serve():84] Started server process [7]\n",
      "2024-11-07 15:15:53.831 7 uvicorn.error INFO [startup():45] Waiting for application startup.\n",
      "2024-11-07 15:15:53.832 7 root INFO [start():62] Starting gRPC server on [::]:8081\n",
      "2024-11-07 15:15:53.833 7 uvicorn.error INFO [startup():59] Application startup complete.\n",
      "\n",
      "\n"
     ]
    }
   ],
   "source": [
    "# Check logs in case of failure\n",
    "ranking_deployment.get_logs(component=\"transformer\", tail=200)"
   ]
  },
  {
   "cell_type": "code",
   "execution_count": 40,
   "metadata": {},
   "outputs": [],
   "source": [
    "def get_top_recommendations(ranked_candidates, k=3):\n",
    "    return [candidate[-1] for candidate in ranked_candidates['ranking'][:k]]"
   ]
  },
  {
   "cell_type": "code",
   "execution_count": 41,
   "metadata": {
    "tags": []
   },
   "outputs": [
    {
     "data": {
      "text/plain": [
       "['699424001', '832330004', '589825001']"
      ]
     },
     "execution_count": 41,
     "metadata": {},
     "output_type": "execute_result"
    }
   ],
   "source": [
    "# Define a test input example\n",
    "test_ranking_input = {\"instances\": [{\n",
    "    \"customer_id\": \"641e6f3ef3a2d537140aaa0a06055ae328a0dddf2c2c0dd6e60eb0563c7cbba0\",\n",
    "    \"month_sin\": 1.2246467991473532e-16,\n",
    "    \"query_emb\": [0.214135289,\n",
    "     0.571055949,\n",
    "     0.330709577,\n",
    "     -0.225899458,\n",
    "     -0.308674961,\n",
    "     -0.0115124583,\n",
    "     0.0730511621,\n",
    "     -0.495835781,\n",
    "     0.625569344,\n",
    "     -0.0438038409,\n",
    "     0.263472944,\n",
    "     -0.58485353,\n",
    "     -0.307070434,\n",
    "     0.0414443575,\n",
    "     -0.321789205,\n",
    "     0.966559],\n",
    "    \"month_cos\": -1.0,}]}\n",
    "\n",
    "# Test ranking deployment\n",
    "ranked_candidates = ranking_deployment.predict(test_ranking_input)\n",
    "\n",
    "# Retrieve article ids of the top recommended items\n",
    "recommendations = get_top_recommendations(ranked_candidates, k=3)\n",
    "recommendations"
   ]
  },
  {
   "cell_type": "code",
   "execution_count": 42,
   "metadata": {},
   "outputs": [
    {
     "name": "stdout",
     "output_type": "stream",
     "text": [
      "Explore all the logs and filters in the Kibana logs at https://c.app.hopsworks.ai:443/p/15551/deployments/322562\n",
      "\n",
      "Instance name: rankingdeployment2-transformer-default-00001-deployment-6bjsmml\n",
      "2024-11-07 15:16:17.715 7 opensearch INFO [log_request_success():235] POST https://rest.elastic.service.consul:9200/15551__embedding_default_project_embedding_0/_search [status:200 request:0.011s]\n",
      "2024-11-07 15:16:17.727 7 opensearch INFO [log_request_success():235] POST https://rest.elastic.service.consul:9200/15551__embedding_default_project_embedding_0/_search [status:200 request:0.012s]\n",
      "2024-11-07 15:16:17.740 7 opensearch INFO [log_request_success():235] POST https://rest.elastic.service.consul:9200/15551__embedding_default_project_embedding_0/_search [status:200 request:0.013s]\n",
      "2024-11-07 15:16:17.753 7 opensearch INFO [log_request_success():235] POST https://rest.elastic.service.consul:9200/15551__embedding_default_project_embedding_0/_search [status:200 request:0.013s]\n",
      "2024-11-07 15:16:17.765 7 opensearch INFO [log_request_success():235] POST https://rest.elastic.service.consul:9200/15551__embedding_default_project_embedding_0/_search [status:200 request:0.012s]\n",
      "2024-11-07 15:16:17.776 7 opensearch INFO [log_request_success():235] POST https://rest.elastic.service.consul:9200/15551__embedding_default_project_embedding_0/_search [status:200 request:0.010s]\n",
      "2024-11-07 15:16:17.786 7 opensearch INFO [log_request_success():235] POST https://rest.elastic.service.consul:9200/15551__embedding_default_project_embedding_0/_search [status:200 request:0.010s]\n",
      "2024-11-07 15:16:17.797 7 opensearch INFO [log_request_success():235] POST https://rest.elastic.service.consul:9200/15551__embedding_default_project_embedding_0/_search [status:200 request:0.011s]\n",
      "2024-11-07 15:16:17.808 7 opensearch INFO [log_request_success():235] POST https://rest.elastic.service.consul:9200/15551__embedding_default_project_embedding_0/_search [status:200 request:0.010s]\n",
      "2024-11-07 15:16:17.817 7 opensearch INFO [log_request_success():235] POST https://rest.elastic.service.consul:9200/15551__embedding_default_project_embedding_0/_search [status:200 request:0.009s]\n",
      "2024-11-07 15:16:17.826 7 opensearch INFO [log_request_success():235] POST https://rest.elastic.service.consul:9200/15551__embedding_default_project_embedding_0/_search [status:200 request:0.009s]\n",
      "2024-11-07 15:16:17.835 7 opensearch INFO [log_request_success():235] POST https://rest.elastic.service.consul:9200/15551__embedding_default_project_embedding_0/_search [status:200 request:0.009s]\n",
      "2024-11-07 15:16:17.844 7 opensearch INFO [log_request_success():235] POST https://rest.elastic.service.consul:9200/15551__embedding_default_project_embedding_0/_search [status:200 request:0.009s]\n",
      "2024-11-07 15:16:17.853 7 opensearch INFO [log_request_success():235] POST https://rest.elastic.service.consul:9200/15551__embedding_default_project_embedding_0/_search [status:200 request:0.008s]\n",
      "2024-11-07 15:16:17.862 7 opensearch INFO [log_request_success():235] POST https://rest.elastic.service.consul:9200/15551__embedding_default_project_embedding_0/_search [status:200 request:0.008s]\n",
      "2024-11-07 15:16:17.872 7 opensearch INFO [log_request_success():235] POST https://rest.elastic.service.consul:9200/15551__embedding_default_project_embedding_0/_search [status:200 request:0.010s]\n",
      "2024-11-07 15:16:17.882 7 opensearch INFO [log_request_success():235] POST https://rest.elastic.service.consul:9200/15551__embedding_default_project_embedding_0/_search [status:200 request:0.009s]\n",
      "2024-11-07 15:16:17.891 7 opensearch INFO [log_request_success():235] POST https://rest.elastic.service.consul:9200/15551__embedding_default_project_embedding_0/_search [status:200 request:0.009s]\n",
      "2024-11-07 15:16:17.901 7 opensearch INFO [log_request_success():235] POST https://rest.elastic.service.consul:9200/15551__embedding_default_project_embedding_0/_search [status:200 request:0.010s]\n",
      "2024-11-07 15:16:17.910 7 opensearch INFO [log_request_success():235] POST https://rest.elastic.service.consul:9200/15551__embedding_default_project_embedding_0/_search [status:200 request:0.009s]\n",
      "2024-11-07 15:16:17.919 7 opensearch INFO [log_request_success():235] POST https://rest.elastic.service.consul:9200/15551__embedding_default_project_embedding_0/_search [status:200 request:0.008s]\n",
      "2024-11-07 15:16:17.928 7 opensearch INFO [log_request_success():235] POST https://rest.elastic.service.consul:9200/15551__embedding_default_project_embedding_0/_search [status:200 request:0.009s]\n",
      "2024-11-07 15:16:17.937 7 opensearch INFO [log_request_success():235] POST https://rest.elastic.service.consul:9200/15551__embedding_default_project_embedding_0/_search [status:200 request:0.009s]\n",
      "2024-11-07 15:16:17.947 7 opensearch INFO [log_request_success():235] POST https://rest.elastic.service.consul:9200/15551__embedding_default_project_embedding_0/_search [status:200 request:0.010s]\n",
      "2024-11-07 15:16:17.956 7 opensearch INFO [log_request_success():235] POST https://rest.elastic.service.consul:9200/15551__embedding_default_project_embedding_0/_search [status:200 request:0.009s]\n",
      "2024-11-07 15:16:17.966 7 opensearch INFO [log_request_success():235] POST https://rest.elastic.service.consul:9200/15551__embedding_default_project_embedding_0/_search [status:200 request:0.010s]\n",
      "2024-11-07 15:16:17.976 7 opensearch INFO [log_request_success():235] POST https://rest.elastic.service.consul:9200/15551__embedding_default_project_embedding_0/_search [status:200 request:0.009s]\n",
      "2024-11-07 15:16:17.985 7 opensearch INFO [log_request_success():235] POST https://rest.elastic.service.consul:9200/15551__embedding_default_project_embedding_0/_search [status:200 request:0.009s]\n",
      "2024-11-07 15:16:17.993 7 opensearch INFO [log_request_success():235] POST https://rest.elastic.service.consul:9200/15551__embedding_default_project_embedding_0/_search [status:200 request:0.008s]\n",
      "2024-11-07 15:16:18.002 7 opensearch INFO [log_request_success():235] POST https://rest.elastic.service.consul:9200/15551__embedding_default_project_embedding_0/_search [status:200 request:0.008s]\n",
      "2024-11-07 15:16:18.011 7 opensearch INFO [log_request_success():235] POST https://rest.elastic.service.consul:9200/15551__embedding_default_project_embedding_0/_search [status:200 request:0.009s]\n",
      "2024-11-07 15:16:18.021 7 opensearch INFO [log_request_success():235] POST https://rest.elastic.service.consul:9200/15551__embedding_default_project_embedding_0/_search [status:200 request:0.010s]\n",
      "2024-11-07 15:16:18.032 7 opensearch INFO [log_request_success():235] POST https://rest.elastic.service.consul:9200/15551__embedding_default_project_embedding_0/_search [status:200 request:0.010s]\n",
      "2024-11-07 15:16:18.059 7 opensearch INFO [log_request_success():235] POST https://rest.elastic.service.consul:9200/15551__embedding_default_project_embedding_0/_search [status:200 request:0.027s]\n",
      "2024-11-07 15:16:18.071 7 opensearch INFO [log_request_success():235] POST https://rest.elastic.service.consul:9200/15551__embedding_default_project_embedding_0/_search [status:200 request:0.011s]\n",
      "2024-11-07 15:16:18.081 7 opensearch INFO [log_request_success():235] POST https://rest.elastic.service.consul:9200/15551__embedding_default_project_embedding_0/_search [status:200 request:0.010s]\n",
      "2024-11-07 15:16:18.095 7 opensearch INFO [log_request_success():235] POST https://rest.elastic.service.consul:9200/15551__embedding_default_project_embedding_0/_search [status:200 request:0.014s]\n",
      "2024-11-07 15:16:18.123 7 opensearch INFO [log_request_success():235] POST https://rest.elastic.service.consul:9200/15551__embedding_default_project_embedding_0/_search [status:200 request:0.028s]\n",
      "2024-11-07 15:16:18.135 7 opensearch INFO [log_request_success():235] POST https://rest.elastic.service.consul:9200/15551__embedding_default_project_embedding_0/_search [status:200 request:0.012s]\n",
      "2024-11-07 15:16:18.146 7 opensearch INFO [log_request_success():235] POST https://rest.elastic.service.consul:9200/15551__embedding_default_project_embedding_0/_search [status:200 request:0.011s]\n",
      "2024-11-07 15:16:18.156 7 opensearch INFO [log_request_success():235] POST https://rest.elastic.service.consul:9200/15551__embedding_default_project_embedding_0/_search [status:200 request:0.010s]\n",
      "2024-11-07 15:16:18.165 7 opensearch INFO [log_request_success():235] POST https://rest.elastic.service.consul:9200/15551__embedding_default_project_embedding_0/_search [status:200 request:0.009s]\n",
      "2024-11-07 15:16:18.174 7 opensearch INFO [log_request_success():235] POST https://rest.elastic.service.consul:9200/15551__embedding_default_project_embedding_0/_search [status:200 request:0.009s]\n",
      "2024-11-07 15:16:18.184 7 opensearch INFO [log_request_success():235] POST https://rest.elastic.service.consul:9200/15551__embedding_default_project_embedding_0/_search [status:200 request:0.009s]\n",
      "2024-11-07 15:16:18.193 7 opensearch INFO [log_request_success():235] POST https://rest.elastic.service.consul:9200/15551__embedding_default_project_embedding_0/_search [status:200 request:0.009s]\n",
      "2024-11-07 15:16:18.202 7 opensearch INFO [log_request_success():235] POST https://rest.elastic.service.consul:9200/15551__embedding_default_project_embedding_0/_search [status:200 request:0.010s]\n",
      "2024-11-07 15:16:18.212 7 opensearch INFO [log_request_success():235] POST https://rest.elastic.service.consul:9200/15551__embedding_default_project_embedding_0/_search [status:200 request:0.009s]\n",
      "2024-11-07 15:16:18.225 7 opensearch INFO [log_request_success():235] POST https://rest.elastic.service.consul:9200/15551__embedding_default_project_embedding_0/_search [status:200 request:0.013s]\n",
      "2024-11-07 15:16:18.239 7 opensearch INFO [log_request_success():235] POST https://rest.elastic.service.consul:9200/15551__embedding_default_project_embedding_0/_search [status:200 request:0.014s]\n",
      "2024-11-07 15:16:18.248 7 opensearch INFO [log_request_success():235] POST https://rest.elastic.service.consul:9200/15551__embedding_default_project_embedding_0/_search [status:200 request:0.009s]\n",
      "2024-11-07 15:16:18.260 7 opensearch INFO [log_request_success():235] POST https://rest.elastic.service.consul:9200/15551__embedding_default_project_embedding_0/_search [status:200 request:0.012s]\n",
      "2024-11-07 15:16:18.270 7 opensearch INFO [log_request_success():235] POST https://rest.elastic.service.consul:9200/15551__embedding_default_project_embedding_0/_search [status:200 request:0.009s]\n",
      "2024-11-07 15:16:18.279 7 opensearch INFO [log_request_success():235] POST https://rest.elastic.service.consul:9200/15551__embedding_default_project_embedding_0/_search [status:200 request:0.009s]\n",
      "2024-11-07 15:16:18.289 7 opensearch INFO [log_request_success():235] POST https://rest.elastic.service.consul:9200/15551__embedding_default_project_embedding_0/_search [status:200 request:0.009s]\n",
      "2024-11-07 15:16:18.298 7 opensearch INFO [log_request_success():235] POST https://rest.elastic.service.consul:9200/15551__embedding_default_project_embedding_0/_search [status:200 request:0.009s]\n",
      "2024-11-07 15:16:18.307 7 opensearch INFO [log_request_success():235] POST https://rest.elastic.service.consul:9200/15551__embedding_default_project_embedding_0/_search [status:200 request:0.009s]\n",
      "2024-11-07 15:16:18.316 7 opensearch INFO [log_request_success():235] POST https://rest.elastic.service.consul:9200/15551__embedding_default_project_embedding_0/_search [status:200 request:0.009s]\n",
      "2024-11-07 15:16:18.325 7 opensearch INFO [log_request_success():235] POST https://rest.elastic.service.consul:9200/15551__embedding_default_project_embedding_0/_search [status:200 request:0.008s]\n",
      "2024-11-07 15:16:18.336 7 opensearch INFO [log_request_success():235] POST https://rest.elastic.service.consul:9200/15551__embedding_default_project_embedding_0/_search [status:200 request:0.010s]\n",
      "2024-11-07 15:16:18.347 7 opensearch INFO [log_request_success():235] POST https://rest.elastic.service.consul:9200/15551__embedding_default_project_embedding_0/_search [status:200 request:0.011s]\n",
      "2024-11-07 15:16:18.358 7 opensearch INFO [log_request_success():235] POST https://rest.elastic.service.consul:9200/15551__embedding_default_project_embedding_0/_search [status:200 request:0.011s]\n",
      "2024-11-07 15:16:18.369 7 opensearch INFO [log_request_success():235] POST https://rest.elastic.service.consul:9200/15551__embedding_default_project_embedding_0/_search [status:200 request:0.011s]\n",
      "2024-11-07 15:16:18.467 7 opensearch INFO [log_request_success():235] POST https://rest.elastic.service.consul:9200/15551__embedding_default_project_embedding_0/_search [status:200 request:0.097s]\n",
      "2024-11-07 15:16:18.478 7 opensearch INFO [log_request_success():235] POST https://rest.elastic.service.consul:9200/15551__embedding_default_project_embedding_0/_search [status:200 request:0.011s]\n",
      "2024-11-07 15:16:18.487 7 opensearch INFO [log_request_success():235] POST https://rest.elastic.service.consul:9200/15551__embedding_default_project_embedding_0/_search [status:200 request:0.009s]\n",
      "2024-11-07 15:16:18.496 7 opensearch INFO [log_request_success():235] POST https://rest.elastic.service.consul:9200/15551__embedding_default_project_embedding_0/_search [status:200 request:0.009s]\n",
      "2024-11-07 15:16:18.505 7 opensearch INFO [log_request_success():235] POST https://rest.elastic.service.consul:9200/15551__embedding_default_project_embedding_0/_search [status:200 request:0.009s]\n",
      "2024-11-07 15:16:18.515 7 opensearch INFO [log_request_success():235] POST https://rest.elastic.service.consul:9200/15551__embedding_default_project_embedding_0/_search [status:200 request:0.010s]\n",
      "2024-11-07 15:16:18.524 7 opensearch INFO [log_request_success():235] POST https://rest.elastic.service.consul:9200/15551__embedding_default_project_embedding_0/_search [status:200 request:0.009s]\n",
      "2024-11-07 15:16:18.533 7 opensearch INFO [log_request_success():235] POST https://rest.elastic.service.consul:9200/15551__embedding_default_project_embedding_0/_search [status:200 request:0.008s]\n",
      "2024-11-07 15:16:18.542 7 opensearch INFO [log_request_success():235] POST https://rest.elastic.service.consul:9200/15551__embedding_default_project_embedding_0/_search [status:200 request:0.009s]\n",
      "2024-11-07 15:16:18.551 7 opensearch INFO [log_request_success():235] POST https://rest.elastic.service.consul:9200/15551__embedding_default_project_embedding_0/_search [status:200 request:0.009s]\n",
      "2024-11-07 15:16:18.561 7 opensearch INFO [log_request_success():235] POST https://rest.elastic.service.consul:9200/15551__embedding_default_project_embedding_0/_search [status:200 request:0.010s]\n",
      "2024-11-07 15:16:18.571 7 opensearch INFO [log_request_success():235] POST https://rest.elastic.service.consul:9200/15551__embedding_default_project_embedding_0/_search [status:200 request:0.010s]\n",
      "2024-11-07 15:16:18.580 7 opensearch INFO [log_request_success():235] POST https://rest.elastic.service.consul:9200/15551__embedding_default_project_embedding_0/_search [status:200 request:0.009s]\n",
      "2024-11-07 15:16:18.623 7 opensearch INFO [log_request_success():235] POST https://rest.elastic.service.consul:9200/15551__embedding_default_project_embedding_0/_search [status:200 request:0.042s]\n",
      "2024-11-07 15:16:18.673 7 opensearch INFO [log_request_success():235] POST https://rest.elastic.service.consul:9200/15551__embedding_default_project_embedding_0/_search [status:200 request:0.050s]\n",
      "2024-11-07 15:16:18.686 7 opensearch INFO [log_request_success():235] POST https://rest.elastic.service.consul:9200/15551__embedding_default_project_embedding_0/_search [status:200 request:0.012s]\n",
      "2024-11-07 15:16:18.696 7 opensearch INFO [log_request_success():235] POST https://rest.elastic.service.consul:9200/15551__embedding_default_project_embedding_0/_search [status:200 request:0.010s]\n",
      "2024-11-07 15:16:18.705 7 opensearch INFO [log_request_success():235] POST https://rest.elastic.service.consul:9200/15551__embedding_default_project_embedding_0/_search [status:200 request:0.009s]\n",
      "2024-11-07 15:16:18.715 7 opensearch INFO [log_request_success():235] POST https://rest.elastic.service.consul:9200/15551__embedding_default_project_embedding_0/_search [status:200 request:0.009s]\n",
      "2024-11-07 15:16:18.724 7 opensearch INFO [log_request_success():235] POST https://rest.elastic.service.consul:9200/15551__embedding_default_project_embedding_0/_search [status:200 request:0.009s]\n",
      "2024-11-07 15:16:18.783 7 opensearch INFO [log_request_success():235] POST https://rest.elastic.service.consul:9200/15551__embedding_default_project_embedding_0/_search [status:200 request:0.059s]\n",
      "2024-11-07 15:16:18.795 7 opensearch INFO [log_request_success():235] POST https://rest.elastic.service.consul:9200/15551__embedding_default_project_embedding_0/_search [status:200 request:0.011s]\n",
      "2024-11-07 15:16:18.809 7 opensearch INFO [log_request_success():235] POST https://rest.elastic.service.consul:9200/15551__embedding_default_project_embedding_0/_search [status:200 request:0.014s]\n",
      "2024-11-07 15:16:18.819 7 opensearch INFO [log_request_success():235] POST https://rest.elastic.service.consul:9200/15551__embedding_default_project_embedding_0/_search [status:200 request:0.010s]\n",
      "2024-11-07 15:16:18.829 7 opensearch INFO [log_request_success():235] POST https://rest.elastic.service.consul:9200/15551__embedding_default_project_embedding_0/_search [status:200 request:0.010s]\n",
      "2024-11-07 15:16:18.840 7 opensearch INFO [log_request_success():235] POST https://rest.elastic.service.consul:9200/15551__embedding_default_project_embedding_0/_search [status:200 request:0.010s]\n",
      "2024-11-07 15:16:18.853 7 opensearch INFO [log_request_success():235] POST https://rest.elastic.service.consul:9200/15551__embedding_default_project_embedding_0/_search [status:200 request:0.013s]\n",
      "DeprecationWarning: ssl.PROTOCOL_TLS is deprecated\n",
      "VersionWarning: No training dataset version was provided to initialise serving. Defaulting to version 1.\n",
      "2024-11-07 15:16:21.722 7 opensearch INFO [log_request_success():235] POST https://rest.elastic.service.consul:9200/15551__embedding_default_project_embedding_0/_search [status:200 request:0.019s]\n",
      "DeprecationWarning: HTTPResponse.getheaders() is deprecated and will be removed in urllib3 v2.1.0. Instead access HTTPResponse.headers directly.\n",
      "2024-11-07 15:16:21.738 7 opensearch INFO [log_request_success():235] POST https://rest.elastic.service.consul:9200/15551__embedding_default_project_embedding_0/_search [status:200 request:0.016s]\n",
      "2024-11-07 15:16:21.755 7 opensearch INFO [log_request_success():235] POST https://rest.elastic.service.consul:9200/15551__embedding_default_project_embedding_0/_search [status:200 request:0.016s]\n",
      "2024-11-07 15:16:21.769 7 opensearch INFO [log_request_success():235] POST https://rest.elastic.service.consul:9200/15551__embedding_default_project_embedding_0/_search [status:200 request:0.014s]\n",
      "2024-11-07 15:16:21.782 7 opensearch INFO [log_request_success():235] POST https://rest.elastic.service.consul:9200/15551__embedding_default_project_embedding_0/_search [status:200 request:0.012s]\n",
      "2024-11-07 15:16:21.795 7 opensearch INFO [log_request_success():235] POST https://rest.elastic.service.consul:9200/15551__embedding_default_project_embedding_0/_search [status:200 request:0.012s]\n",
      "2024-11-07 15:16:21.807 7 opensearch INFO [log_request_success():235] POST https://rest.elastic.service.consul:9200/15551__embedding_default_project_embedding_0/_search [status:200 request:0.012s]\n",
      "2024-11-07 15:16:21.820 7 opensearch INFO [log_request_success():235] POST https://rest.elastic.service.consul:9200/15551__embedding_default_project_embedding_0/_search [status:200 request:0.012s]\n",
      "2024-11-07 15:16:21.832 7 opensearch INFO [log_request_success():235] POST https://rest.elastic.service.consul:9200/15551__embedding_default_project_embedding_0/_search [status:200 request:0.012s]\n",
      "2024-11-07 15:16:21.846 7 opensearch INFO [log_request_success():235] POST https://rest.elastic.service.consul:9200/15551__embedding_default_project_embedding_0/_search [status:200 request:0.013s]\n",
      "2024-11-07 15:16:21.859 7 opensearch INFO [log_request_success():235] POST https://rest.elastic.service.consul:9200/15551__embedding_default_project_embedding_0/_search [status:200 request:0.013s]\n",
      "2024-11-07 15:16:21.873 7 opensearch INFO [log_request_success():235] POST https://rest.elastic.service.consul:9200/15551__embedding_default_project_embedding_0/_search [status:200 request:0.014s]\n",
      "2024-11-07 15:16:21.886 7 opensearch INFO [log_request_success():235] POST https://rest.elastic.service.consul:9200/15551__embedding_default_project_embedding_0/_search [status:200 request:0.013s]\n",
      "2024-11-07 15:16:21.901 7 opensearch INFO [log_request_success():235] POST https://rest.elastic.service.consul:9200/15551__embedding_default_project_embedding_0/_search [status:200 request:0.014s]\n",
      "2024-11-07 15:16:21.914 7 opensearch INFO [log_request_success():235] POST https://rest.elastic.service.consul:9200/15551__embedding_default_project_embedding_0/_search [status:200 request:0.013s]\n",
      "2024-11-07 15:16:21.927 7 opensearch INFO [log_request_success():235] POST https://rest.elastic.service.consul:9200/15551__embedding_default_project_embedding_0/_search [status:200 request:0.013s]\n",
      "2024-11-07 15:16:21.938 7 opensearch INFO [log_request_success():235] POST https://rest.elastic.service.consul:9200/15551__embedding_default_project_embedding_0/_search [status:200 request:0.010s]\n",
      "2024-11-07 15:16:21.949 7 opensearch INFO [log_request_success():235] POST https://rest.elastic.service.consul:9200/15551__embedding_default_project_embedding_0/_search [status:200 request:0.011s]\n",
      "2024-11-07 15:16:21.972 7 opensearch INFO [log_request_success():235] POST https://rest.elastic.service.consul:9200/15551__embedding_default_project_embedding_0/_search [status:200 request:0.023s]\n",
      "2024-11-07 15:16:21.987 7 opensearch INFO [log_request_success():235] POST https://rest.elastic.service.consul:9200/15551__embedding_default_project_embedding_0/_search [status:200 request:0.015s]\n",
      "2024-11-07 15:16:22.001 7 opensearch INFO [log_request_success():235] POST https://rest.elastic.service.consul:9200/15551__embedding_default_project_embedding_0/_search [status:200 request:0.014s]\n",
      "2024-11-07 15:16:22.013 7 opensearch INFO [log_request_success():235] POST https://rest.elastic.service.consul:9200/15551__embedding_default_project_embedding_0/_search [status:200 request:0.012s]\n",
      "2024-11-07 15:16:22.025 7 opensearch INFO [log_request_success():235] POST https://rest.elastic.service.consul:9200/15551__embedding_default_project_embedding_0/_search [status:200 request:0.012s]\n",
      "2024-11-07 15:16:22.038 7 opensearch INFO [log_request_success():235] POST https://rest.elastic.service.consul:9200/15551__embedding_default_project_embedding_0/_search [status:200 request:0.012s]\n",
      "2024-11-07 15:16:22.050 7 opensearch INFO [log_request_success():235] POST https://rest.elastic.service.consul:9200/15551__embedding_default_project_embedding_0/_search [status:200 request:0.012s]\n",
      "2024-11-07 15:16:22.062 7 opensearch INFO [log_request_success():235] POST https://rest.elastic.service.consul:9200/15551__embedding_default_project_embedding_0/_search [status:200 request:0.011s]\n",
      "2024-11-07 15:16:22.073 7 opensearch INFO [log_request_success():235] POST https://rest.elastic.service.consul:9200/15551__embedding_default_project_embedding_0/_search [status:200 request:0.011s]\n",
      "2024-11-07 15:16:22.085 7 opensearch INFO [log_request_success():235] POST https://rest.elastic.service.consul:9200/15551__embedding_default_project_embedding_0/_search [status:200 request:0.012s]\n",
      "2024-11-07 15:16:22.098 7 opensearch INFO [log_request_success():235] POST https://rest.elastic.service.consul:9200/15551__embedding_default_project_embedding_0/_search [status:200 request:0.012s]\n",
      "2024-11-07 15:16:22.111 7 opensearch INFO [log_request_success():235] POST https://rest.elastic.service.consul:9200/15551__embedding_default_project_embedding_0/_search [status:200 request:0.013s]\n",
      "2024-11-07 15:16:22.124 7 opensearch INFO [log_request_success():235] POST https://rest.elastic.service.consul:9200/15551__embedding_default_project_embedding_0/_search [status:200 request:0.013s]\n",
      "2024-11-07 15:16:22.138 7 opensearch INFO [log_request_success():235] POST https://rest.elastic.service.consul:9200/15551__embedding_default_project_embedding_0/_search [status:200 request:0.014s]\n",
      "2024-11-07 15:16:22.152 7 opensearch INFO [log_request_success():235] POST https://rest.elastic.service.consul:9200/15551__embedding_default_project_embedding_0/_search [status:200 request:0.013s]\n",
      "2024-11-07 15:16:22.172 7 opensearch INFO [log_request_success():235] POST https://rest.elastic.service.consul:9200/15551__embedding_default_project_embedding_0/_search [status:200 request:0.019s]\n",
      "2024-11-07 15:16:22.185 7 opensearch INFO [log_request_success():235] POST https://rest.elastic.service.consul:9200/15551__embedding_default_project_embedding_0/_search [status:200 request:0.013s]\n",
      "2024-11-07 15:16:22.197 7 opensearch INFO [log_request_success():235] POST https://rest.elastic.service.consul:9200/15551__embedding_default_project_embedding_0/_search [status:200 request:0.011s]\n",
      "2024-11-07 15:16:22.210 7 opensearch INFO [log_request_success():235] POST https://rest.elastic.service.consul:9200/15551__embedding_default_project_embedding_0/_search [status:200 request:0.013s]\n",
      "2024-11-07 15:16:22.223 7 opensearch INFO [log_request_success():235] POST https://rest.elastic.service.consul:9200/15551__embedding_default_project_embedding_0/_search [status:200 request:0.012s]\n",
      "2024-11-07 15:16:22.237 7 opensearch INFO [log_request_success():235] POST https://rest.elastic.service.consul:9200/15551__embedding_default_project_embedding_0/_search [status:200 request:0.013s]\n",
      "2024-11-07 15:16:22.251 7 opensearch INFO [log_request_success():235] POST https://rest.elastic.service.consul:9200/15551__embedding_default_project_embedding_0/_search [status:200 request:0.014s]\n",
      "2024-11-07 15:16:22.263 7 opensearch INFO [log_request_success():235] POST https://rest.elastic.service.consul:9200/15551__embedding_default_project_embedding_0/_search [status:200 request:0.012s]\n",
      "2024-11-07 15:16:22.278 7 opensearch INFO [log_request_success():235] POST https://rest.elastic.service.consul:9200/15551__embedding_default_project_embedding_0/_search [status:200 request:0.014s]\n",
      "2024-11-07 15:16:22.292 7 opensearch INFO [log_request_success():235] POST https://rest.elastic.service.consul:9200/15551__embedding_default_project_embedding_0/_search [status:200 request:0.013s]\n",
      "2024-11-07 15:16:22.305 7 opensearch INFO [log_request_success():235] POST https://rest.elastic.service.consul:9200/15551__embedding_default_project_embedding_0/_search [status:200 request:0.013s]\n",
      "2024-11-07 15:16:22.318 7 opensearch INFO [log_request_success():235] POST https://rest.elastic.service.consul:9200/15551__embedding_default_project_embedding_0/_search [status:200 request:0.013s]\n",
      "2024-11-07 15:16:22.330 7 opensearch INFO [log_request_success():235] POST https://rest.elastic.service.consul:9200/15551__embedding_default_project_embedding_0/_search [status:200 request:0.012s]\n",
      "2024-11-07 15:16:22.341 7 opensearch INFO [log_request_success():235] POST https://rest.elastic.service.consul:9200/15551__embedding_default_project_embedding_0/_search [status:200 request:0.011s]\n",
      "2024-11-07 15:16:22.354 7 opensearch INFO [log_request_success():235] POST https://rest.elastic.service.consul:9200/15551__embedding_default_project_embedding_0/_search [status:200 request:0.012s]\n",
      "2024-11-07 15:16:22.366 7 opensearch INFO [log_request_success():235] POST https://rest.elastic.service.consul:9200/15551__embedding_default_project_embedding_0/_search [status:200 request:0.011s]\n",
      "2024-11-07 15:16:22.377 7 opensearch INFO [log_request_success():235] POST https://rest.elastic.service.consul:9200/15551__embedding_default_project_embedding_0/_search [status:200 request:0.011s]\n",
      "2024-11-07 15:16:22.389 7 opensearch INFO [log_request_success():235] POST https://rest.elastic.service.consul:9200/15551__embedding_default_project_embedding_0/_search [status:200 request:0.011s]\n",
      "2024-11-07 15:16:22.401 7 opensearch INFO [log_request_success():235] POST https://rest.elastic.service.consul:9200/15551__embedding_default_project_embedding_0/_search [status:200 request:0.012s]\n",
      "2024-11-07 15:16:22.414 7 opensearch INFO [log_request_success():235] POST https://rest.elastic.service.consul:9200/15551__embedding_default_project_embedding_0/_search [status:200 request:0.012s]\n",
      "2024-11-07 15:16:22.427 7 opensearch INFO [log_request_success():235] POST https://rest.elastic.service.consul:9200/15551__embedding_default_project_embedding_0/_search [status:200 request:0.013s]\n",
      "2024-11-07 15:16:22.441 7 opensearch INFO [log_request_success():235] POST https://rest.elastic.service.consul:9200/15551__embedding_default_project_embedding_0/_search [status:200 request:0.013s]\n",
      "2024-11-07 15:16:22.454 7 opensearch INFO [log_request_success():235] POST https://rest.elastic.service.consul:9200/15551__embedding_default_project_embedding_0/_search [status:200 request:0.013s]\n",
      "2024-11-07 15:16:22.466 7 opensearch INFO [log_request_success():235] POST https://rest.elastic.service.consul:9200/15551__embedding_default_project_embedding_0/_search [status:200 request:0.012s]\n",
      "2024-11-07 15:16:22.479 7 opensearch INFO [log_request_success():235] POST https://rest.elastic.service.consul:9200/15551__embedding_default_project_embedding_0/_search [status:200 request:0.012s]\n",
      "2024-11-07 15:16:22.491 7 opensearch INFO [log_request_success():235] POST https://rest.elastic.service.consul:9200/15551__embedding_default_project_embedding_0/_search [status:200 request:0.012s]\n",
      "2024-11-07 15:16:22.504 7 opensearch INFO [log_request_success():235] POST https://rest.elastic.service.consul:9200/15551__embedding_default_project_embedding_0/_search [status:200 request:0.013s]\n",
      "2024-11-07 15:16:22.516 7 opensearch INFO [log_request_success():235] POST https://rest.elastic.service.consul:9200/15551__embedding_default_project_embedding_0/_search [status:200 request:0.011s]\n",
      "2024-11-07 15:16:22.529 7 opensearch INFO [log_request_success():235] POST https://rest.elastic.service.consul:9200/15551__embedding_default_project_embedding_0/_search [status:200 request:0.013s]\n",
      "2024-11-07 15:16:22.542 7 opensearch INFO [log_request_success():235] POST https://rest.elastic.service.consul:9200/15551__embedding_default_project_embedding_0/_search [status:200 request:0.013s]\n",
      "2024-11-07 15:16:22.554 7 opensearch INFO [log_request_success():235] POST https://rest.elastic.service.consul:9200/15551__embedding_default_project_embedding_0/_search [status:200 request:0.012s]\n",
      "2024-11-07 15:16:22.567 7 opensearch INFO [log_request_success():235] POST https://rest.elastic.service.consul:9200/15551__embedding_default_project_embedding_0/_search [status:200 request:0.012s]\n",
      "2024-11-07 15:16:22.579 7 opensearch INFO [log_request_success():235] POST https://rest.elastic.service.consul:9200/15551__embedding_default_project_embedding_0/_search [status:200 request:0.012s]\n",
      "2024-11-07 15:16:22.594 7 opensearch INFO [log_request_success():235] POST https://rest.elastic.service.consul:9200/15551__embedding_default_project_embedding_0/_search [status:200 request:0.015s]\n",
      "2024-11-07 15:16:22.610 7 opensearch INFO [log_request_success():235] POST https://rest.elastic.service.consul:9200/15551__embedding_default_project_embedding_0/_search [status:200 request:0.015s]\n",
      "2024-11-07 15:16:22.624 7 opensearch INFO [log_request_success():235] POST https://rest.elastic.service.consul:9200/15551__embedding_default_project_embedding_0/_search [status:200 request:0.014s]\n",
      "2024-11-07 15:16:22.637 7 opensearch INFO [log_request_success():235] POST https://rest.elastic.service.consul:9200/15551__embedding_default_project_embedding_0/_search [status:200 request:0.012s]\n",
      "2024-11-07 15:16:22.650 7 opensearch INFO [log_request_success():235] POST https://rest.elastic.service.consul:9200/15551__embedding_default_project_embedding_0/_search [status:200 request:0.013s]\n",
      "2024-11-07 15:16:22.663 7 opensearch INFO [log_request_success():235] POST https://rest.elastic.service.consul:9200/15551__embedding_default_project_embedding_0/_search [status:200 request:0.013s]\n",
      "2024-11-07 15:16:22.677 7 opensearch INFO [log_request_success():235] POST https://rest.elastic.service.consul:9200/15551__embedding_default_project_embedding_0/_search [status:200 request:0.013s]\n",
      "2024-11-07 15:16:22.691 7 opensearch INFO [log_request_success():235] POST https://rest.elastic.service.consul:9200/15551__embedding_default_project_embedding_0/_search [status:200 request:0.013s]\n",
      "2024-11-07 15:16:22.704 7 opensearch INFO [log_request_success():235] POST https://rest.elastic.service.consul:9200/15551__embedding_default_project_embedding_0/_search [status:200 request:0.013s]\n",
      "2024-11-07 15:16:22.717 7 opensearch INFO [log_request_success():235] POST https://rest.elastic.service.consul:9200/15551__embedding_default_project_embedding_0/_search [status:200 request:0.012s]\n",
      "2024-11-07 15:16:22.731 7 opensearch INFO [log_request_success():235] POST https://rest.elastic.service.consul:9200/15551__embedding_default_project_embedding_0/_search [status:200 request:0.013s]\n",
      "2024-11-07 15:16:22.742 7 opensearch INFO [log_request_success():235] POST https://rest.elastic.service.consul:9200/15551__embedding_default_project_embedding_0/_search [status:200 request:0.011s]\n",
      "2024-11-07 15:16:22.757 7 opensearch INFO [log_request_success():235] POST https://rest.elastic.service.consul:9200/15551__embedding_default_project_embedding_0/_search [status:200 request:0.014s]\n",
      "2024-11-07 15:16:22.769 7 opensearch INFO [log_request_success():235] POST https://rest.elastic.service.consul:9200/15551__embedding_default_project_embedding_0/_search [status:200 request:0.012s]\n",
      "2024-11-07 15:16:22.783 7 opensearch INFO [log_request_success():235] POST https://rest.elastic.service.consul:9200/15551__embedding_default_project_embedding_0/_search [status:200 request:0.013s]\n",
      "2024-11-07 15:16:22.797 7 opensearch INFO [log_request_success():235] POST https://rest.elastic.service.consul:9200/15551__embedding_default_project_embedding_0/_search [status:200 request:0.014s]\n",
      "2024-11-07 15:16:22.815 7 opensearch INFO [log_request_success():235] POST https://rest.elastic.service.consul:9200/15551__embedding_default_project_embedding_0/_search [status:200 request:0.017s]\n",
      "2024-11-07 15:16:22.828 7 opensearch INFO [log_request_success():235] POST https://rest.elastic.service.consul:9200/15551__embedding_default_project_embedding_0/_search [status:200 request:0.013s]\n",
      "2024-11-07 15:16:22.842 7 opensearch INFO [log_request_success():235] POST https://rest.elastic.service.consul:9200/15551__embedding_default_project_embedding_0/_search [status:200 request:0.013s]\n",
      "2024-11-07 15:16:22.855 7 opensearch INFO [log_request_success():235] POST https://rest.elastic.service.consul:9200/15551__embedding_default_project_embedding_0/_search [status:200 request:0.013s]\n",
      "2024-11-07 15:16:22.868 7 opensearch INFO [log_request_success():235] POST https://rest.elastic.service.consul:9200/15551__embedding_default_project_embedding_0/_search [status:200 request:0.012s]\n",
      "2024-11-07 15:16:22.880 7 opensearch INFO [log_request_success():235] POST https://rest.elastic.service.consul:9200/15551__embedding_default_project_embedding_0/_search [status:200 request:0.012s]\n",
      "2024-11-07 15:16:22.893 7 opensearch INFO [log_request_success():235] POST https://rest.elastic.service.consul:9200/15551__embedding_default_project_embedding_0/_search [status:200 request:0.013s]\n",
      "2024-11-07 15:16:22.905 7 opensearch INFO [log_request_success():235] POST https://rest.elastic.service.consul:9200/15551__embedding_default_project_embedding_0/_search [status:200 request:0.011s]\n",
      "2024-11-07 15:16:22.918 7 opensearch INFO [log_request_success():235] POST https://rest.elastic.service.consul:9200/15551__embedding_default_project_embedding_0/_search [status:200 request:0.013s]\n",
      "2024-11-07 15:16:22.932 7 opensearch INFO [log_request_success():235] POST https://rest.elastic.service.consul:9200/15551__embedding_default_project_embedding_0/_search [status:200 request:0.013s]\n",
      "2024-11-07 15:16:22.946 7 opensearch INFO [log_request_success():235] POST https://rest.elastic.service.consul:9200/15551__embedding_default_project_embedding_0/_search [status:200 request:0.014s]\n",
      "2024-11-07 15:16:22.961 7 opensearch INFO [log_request_success():235] POST https://rest.elastic.service.consul:9200/15551__embedding_default_project_embedding_0/_search [status:200 request:0.015s]\n",
      "2024-11-07 15:16:22.976 7 opensearch INFO [log_request_success():235] POST https://rest.elastic.service.consul:9200/15551__embedding_default_project_embedding_0/_search [status:200 request:0.014s]\n",
      "2024-11-07 15:16:22.988 7 opensearch INFO [log_request_success():235] POST https://rest.elastic.service.consul:9200/15551__embedding_default_project_embedding_0/_search [status:200 request:0.012s]\n",
      "2024-11-07 15:16:23.001 7 opensearch INFO [log_request_success():235] POST https://rest.elastic.service.consul:9200/15551__embedding_default_project_embedding_0/_search [status:200 request:0.013s]\n",
      "2024-11-07 15:16:23.013 7 opensearch INFO [log_request_success():235] POST https://rest.elastic.service.consul:9200/15551__embedding_default_project_embedding_0/_search [status:200 request:0.012s]\n",
      "2024-11-07 15:16:23.025 7 opensearch INFO [log_request_success():235] POST https://rest.elastic.service.consul:9200/15551__embedding_default_project_embedding_0/_search [status:200 request:0.011s]\n",
      "2024-11-07 15:16:23.038 7 opensearch INFO [log_request_success():235] POST https://rest.elastic.service.consul:9200/15551__embedding_default_project_embedding_0/_search [status:200 request:0.013s]\n",
      "2024-11-07 15:16:23.039 7 root INFO [preprocess():85] ✅ Articles Data Retrieved!\n",
      "2024-11-07 15:16:23.043 7 root INFO [preprocess():99] ✅ Inputs are almost ready!\n",
      "VersionWarning: No training dataset version was provided to initialise serving. Defaulting to version 1.\n",
      "2024-11-07 15:16:23.839 7 root INFO [preprocess():113] ✅ Inputs are ready!\n",
      "2024-11-07 15:16:23.880 7 root INFO [postprocess():121] ✅ Predictions are ready!\n",
      "2024-11-07 15:16:23.881 7 root INFO [__call__():128] requestId: 1df43e41-b584-4991-9216-994b792131ea, preprocess_ms: 22161.952018738, explain_ms: 0, predict_ms: 41.076660156, postprocess_ms: 0.157594681\n",
      "2024-11-07 15:16:23.882 7 root INFO [timing():48] kserve.io.kserve.protocol.rest.v1_endpoints.predict 22.204899072647095, ['http_status:200', 'http_method:POST', 'time:wall']\n",
      "2024-11-07 15:16:23.882 7 root INFO [timing():48] kserve.io.kserve.protocol.rest.v1_endpoints.predict 0.3085799999999992, ['http_status:200', 'http_method:POST', 'time:cpu']\n",
      "\n",
      "\n"
     ]
    }
   ],
   "source": [
    "# Check logs in case of failure\n",
    "ranking_deployment.get_logs(component=\"transformer\",tail=200)"
   ]
  },
  {
   "cell_type": "markdown",
   "metadata": {
    "tags": []
   },
   "source": [
    "## <span style=\"color:#ff5f27\">🚀 Query Model Deployment </span>\n",
    "\n",
    "Next, you'll deploy your query model."
   ]
  },
  {
   "cell_type": "code",
   "execution_count": 43,
   "metadata": {},
   "outputs": [],
   "source": [
    "# Retrieve the 'query_model' from the Model Registry\n",
    "query_model = mr.get_model(\n",
    "    name=\"query_model\",\n",
    "    version=1,\n",
    ")"
   ]
  },
  {
   "cell_type": "code",
   "execution_count": 44,
   "metadata": {},
   "outputs": [
    {
     "name": "stdout",
     "output_type": "stream",
     "text": [
      "Writing querymodel_transformer.py\n"
     ]
    }
   ],
   "source": [
    "%%writefile querymodel_transformer.py\n",
    "\n",
    "import os\n",
    "import numpy as np\n",
    "import pandas as pd\n",
    "from datetime import datetime\n",
    "\n",
    "import hopsworks\n",
    "\n",
    "import logging\n",
    "\n",
    "\n",
    "class Transformer(object):\n",
    "    \n",
    "    def __init__(self):            \n",
    "        # Connect to the Hopsworks\n",
    "        project = hopsworks.connection().get_project()\n",
    "        ms = project.get_model_serving()\n",
    "    \n",
    "        # Retrieve the 'customers' feature view\n",
    "        fs = project.get_feature_store()\n",
    "        self.customer_fv = fs.get_feature_view(\n",
    "            name=\"customers\", \n",
    "            version=1,\n",
    "        )\n",
    "        # Retrieve the ranking deployment \n",
    "        self.ranking_server = ms.get_deployment(\"rankingdeployment\")\n",
    "        \n",
    "        \n",
    "    def preprocess(self, inputs):\n",
    "        # Check if the input data contains a key named \"instances\"\n",
    "        # and extract the actual data if present\n",
    "        inputs = inputs[\"instances\"] if \"instances\" in inputs else inputs\n",
    "        \n",
    "        # Extract customer_id and transaction_date from the inputs\n",
    "        customer_id = inputs[\"customer_id\"]\n",
    "        transaction_date = inputs[\"transaction_date\"]\n",
    "        \n",
    "        # Extract month from the transaction_date\n",
    "        month_of_purchase = datetime.fromisoformat(inputs.pop(\"transaction_date\"))\n",
    "        \n",
    "        # Get customer features\n",
    "        customer_features = self.customer_fv.get_feature_vector(\n",
    "            {\"customer_id\": customer_id}, \n",
    "            return_type=\"pandas\",\n",
    "        )\n",
    "        \n",
    "        # Enrich inputs with customer age\n",
    "        inputs[\"age\"] = customer_features.age.values[0]   \n",
    "        \n",
    "        # Calculate the sine and cosine of the month_of_purchase\n",
    "        month_of_purchase = datetime.strptime(transaction_date, \"%Y-%m-%dT%H:%M:%S.%f\").month\n",
    "        \n",
    "        # Calculate a coefficient for adjusting the periodicity of the month\n",
    "        coef = np.random.uniform(0, 2 * np.pi) / 12\n",
    "        \n",
    "        # Calculate the sine and cosine components for the month_of_purchase\n",
    "        inputs[\"month_sin\"] = float(np.sin(month_of_purchase * coef)) \n",
    "        inputs[\"month_cos\"] = float(np.cos(month_of_purchase * coef))\n",
    "                \n",
    "        return {\n",
    "            \"instances\" : [inputs]\n",
    "        }\n",
    "    \n",
    "    def postprocess(self, outputs):\n",
    "        # Return ordered ranking predictions        \n",
    "        return {\n",
    "            \"predictions\": self.ranking_server.predict({ \"instances\": outputs[\"predictions\"]}),\n",
    "        }"
   ]
  },
  {
   "cell_type": "code",
   "execution_count": 45,
   "metadata": {},
   "outputs": [
    {
     "data": {
      "application/vnd.jupyter.widget-view+json": {
       "model_id": "ce8ba2ba4d4e45f9b2000700b1b4bb95",
       "version_major": 2,
       "version_minor": 0
      },
      "text/plain": [
       "Uploading: 0.000%|          | 0/2323 elapsed<00:00 remaining<?"
      ]
     },
     "metadata": {},
     "output_type": "display_data"
    }
   ],
   "source": [
    "# Copy transformer file into Hopsworks File System\n",
    "uploaded_file_path = dataset_api.upload(\n",
    "    \"querymodel_transformer.py\", \n",
    "    \"Models\", \n",
    "    overwrite=True,\n",
    ")\n",
    "\n",
    "# Construct the path to the uploaded script\n",
    "transformer_script_path = os.path.join(\n",
    "    \"/Projects\", \n",
    "    project.name, \n",
    "    uploaded_file_path,\n",
    ")"
   ]
  },
  {
   "cell_type": "code",
   "execution_count": 46,
   "metadata": {},
   "outputs": [
    {
     "name": "stdout",
     "output_type": "stream",
     "text": [
      "Deployment created, explore it at https://c.app.hopsworks.ai:443/p/15551/deployments/322563\n",
      "Before making predictions, start the deployment by using `.start()`\n"
     ]
    }
   ],
   "source": [
    "from hsml.transformer import Transformer\n",
    "\n",
    "query_model_deployment_name = \"querydeployment\"\n",
    "\n",
    "# Define transformer\n",
    "query_model_transformer=Transformer(\n",
    "    script_file=transformer_script_path, \n",
    "    resources={\"num_instances\": 0},\n",
    ")\n",
    "\n",
    "# Deploy the query model\n",
    "query_model_deployment = query_model.deploy(\n",
    "    name=query_model_deployment_name,\n",
    "    description=\"Deployment that generates query embeddings from customer and item features using the query model\",\n",
    "    resources={\"num_instances\": 0},\n",
    "    transformer=query_model_transformer,\n",
    ")"
   ]
  },
  {
   "cell_type": "markdown",
   "metadata": {},
   "source": [
    "At this point, you have registered your deployment. To start it up you need to run:"
   ]
  },
  {
   "cell_type": "code",
   "execution_count": 47,
   "metadata": {},
   "outputs": [
    {
     "data": {
      "application/vnd.jupyter.widget-view+json": {
       "model_id": "cae0f37c0fbc49afa5da8bbcebe4efe2",
       "version_major": 2,
       "version_minor": 0
      },
      "text/plain": [
       "  0%|          | 0/6 [00:00<?, ?it/s]"
      ]
     },
     "metadata": {},
     "output_type": "display_data"
    },
    {
     "name": "stdout",
     "output_type": "stream",
     "text": [
      "Deployment is already stopped\n"
     ]
    },
    {
     "ename": "RestAPIError",
     "evalue": "Metadata operation error: (url: https://c.app.hopsworks.ai/hopsworks-api/api/project/15551/serving/322563). Server response: \nHTTP code: 400, HTTP reason: Bad Request, body: b'{\"errorCode\":240003,\"usrMsg\":\"Running model deployments quota reached for Project: pbiuszti. Current: 2 Max: 2\",\"devMsg\":\"Running model deployments quota reached for Project: pbiuszti. Current: 2 Max: 2\",\"errorMsg\":\"Serving instance could not be started/stopped\"}', error code: 240003, error msg: Serving instance could not be started/stopped, user msg: Running model deployments quota reached for Project: pbiuszti. Current: 2 Max: 2",
     "output_type": "error",
     "traceback": [
      "\u001b[0;31m---------------------------------------------------------------------------\u001b[0m",
      "\u001b[0;31mRestAPIError\u001b[0m                              Traceback (most recent call last)",
      "Cell \u001b[0;32mIn[47], line 2\u001b[0m\n\u001b[1;32m      1\u001b[0m \u001b[38;5;66;03m# Start the deployment\u001b[39;00m\n\u001b[0;32m----> 2\u001b[0m \u001b[43mquery_model_deployment\u001b[49m\u001b[38;5;241;43m.\u001b[39;49m\u001b[43mstart\u001b[49m\u001b[43m(\u001b[49m\u001b[43m)\u001b[49m\n",
      "File \u001b[0;32m~/Documents/01_projects/hopsworks_recsys/hopsworks-tutorials/advanced_tutorials/recommender-system/venv/lib/python3.11/site-packages/hsml/deployment.py:84\u001b[0m, in \u001b[0;36mDeployment.start\u001b[0;34m(self, await_running)\u001b[0m\n\u001b[1;32m     75\u001b[0m \u001b[38;5;28;01mdef\u001b[39;00m \u001b[38;5;21mstart\u001b[39m(\u001b[38;5;28mself\u001b[39m, await_running: Optional[\u001b[38;5;28mint\u001b[39m] \u001b[38;5;241m=\u001b[39m \u001b[38;5;241m60\u001b[39m):\n\u001b[1;32m     76\u001b[0m \u001b[38;5;250m    \u001b[39m\u001b[38;5;124;03m\"\"\"Start the deployment\u001b[39;00m\n\u001b[1;32m     77\u001b[0m \n\u001b[1;32m     78\u001b[0m \u001b[38;5;124;03m    # Arguments\u001b[39;00m\n\u001b[0;32m   (...)\u001b[0m\n\u001b[1;32m     81\u001b[0m \u001b[38;5;124;03m                       it deploys in the background.\u001b[39;00m\n\u001b[1;32m     82\u001b[0m \u001b[38;5;124;03m    \"\"\"\u001b[39;00m\n\u001b[0;32m---> 84\u001b[0m     \u001b[38;5;28;43mself\u001b[39;49m\u001b[38;5;241;43m.\u001b[39;49m\u001b[43m_serving_engine\u001b[49m\u001b[38;5;241;43m.\u001b[39;49m\u001b[43mstart\u001b[49m\u001b[43m(\u001b[49m\u001b[38;5;28;43mself\u001b[39;49m\u001b[43m,\u001b[49m\u001b[43m \u001b[49m\u001b[43mawait_status\u001b[49m\u001b[38;5;241;43m=\u001b[39;49m\u001b[43mawait_running\u001b[49m\u001b[43m)\u001b[49m\n",
      "File \u001b[0;32m~/Documents/01_projects/hopsworks_recsys/hopsworks-tutorials/advanced_tutorials/recommender-system/venv/lib/python3.11/site-packages/hsml/engine/serving_engine.py:134\u001b[0m, in \u001b[0;36mServingEngine.start\u001b[0;34m(self, deployment_instance, await_status)\u001b[0m\n\u001b[1;32m    132\u001b[0m     \u001b[38;5;28;01mexcept\u001b[39;00m RestAPIError \u001b[38;5;28;01mas\u001b[39;00m re:\n\u001b[1;32m    133\u001b[0m         \u001b[38;5;28mself\u001b[39m\u001b[38;5;241m.\u001b[39mstop(deployment_instance, await_status\u001b[38;5;241m=\u001b[39m\u001b[38;5;241m0\u001b[39m)\n\u001b[0;32m--> 134\u001b[0m         \u001b[38;5;28;01mraise\u001b[39;00m re\n\u001b[1;32m    136\u001b[0m \u001b[38;5;28;01mif\u001b[39;00m state\u001b[38;5;241m.\u001b[39mstatus \u001b[38;5;241m==\u001b[39m PREDICTOR_STATE\u001b[38;5;241m.\u001b[39mSTATUS_RUNNING:\n\u001b[1;32m    137\u001b[0m     \u001b[38;5;28mprint\u001b[39m(\u001b[38;5;124m\"\u001b[39m\u001b[38;5;124mStart making predictions by using `.predict()`\u001b[39m\u001b[38;5;124m\"\u001b[39m)\n",
      "File \u001b[0;32m~/Documents/01_projects/hopsworks_recsys/hopsworks-tutorials/advanced_tutorials/recommender-system/venv/lib/python3.11/site-packages/hsml/engine/serving_engine.py:122\u001b[0m, in \u001b[0;36mServingEngine.start\u001b[0;34m(self, deployment_instance, await_status)\u001b[0m\n\u001b[1;32m    114\u001b[0m     \u001b[38;5;28;01mif\u001b[39;00m state\u001b[38;5;241m.\u001b[39mstatus \u001b[38;5;241m==\u001b[39m PREDICTOR_STATE\u001b[38;5;241m.\u001b[39mSTATUS_CREATING:\n\u001b[1;32m    115\u001b[0m         state \u001b[38;5;241m=\u001b[39m \u001b[38;5;28mself\u001b[39m\u001b[38;5;241m.\u001b[39m_poll_deployment_status(  \u001b[38;5;66;03m# wait for preparation\u001b[39;00m\n\u001b[1;32m    116\u001b[0m             deployment_instance,\n\u001b[1;32m    117\u001b[0m             PREDICTOR_STATE\u001b[38;5;241m.\u001b[39mSTATUS_CREATED,\n\u001b[1;32m    118\u001b[0m             await_status,\n\u001b[1;32m    119\u001b[0m             update_progress,\n\u001b[1;32m    120\u001b[0m         )\n\u001b[0;32m--> 122\u001b[0m     \u001b[38;5;28;43mself\u001b[39;49m\u001b[38;5;241;43m.\u001b[39;49m\u001b[43m_serving_api\u001b[49m\u001b[38;5;241;43m.\u001b[39;49m\u001b[43mpost\u001b[49m\u001b[43m(\u001b[49m\n\u001b[1;32m    123\u001b[0m \u001b[43m        \u001b[49m\u001b[43mdeployment_instance\u001b[49m\u001b[43m,\u001b[49m\u001b[43m \u001b[49m\u001b[43mDEPLOYMENT\u001b[49m\u001b[38;5;241;43m.\u001b[39;49m\u001b[43mACTION_START\u001b[49m\n\u001b[1;32m    124\u001b[0m \u001b[43m    \u001b[49m\u001b[43m)\u001b[49m  \u001b[38;5;66;03m# start deployment\u001b[39;00m\n\u001b[1;32m    126\u001b[0m     state \u001b[38;5;241m=\u001b[39m \u001b[38;5;28mself\u001b[39m\u001b[38;5;241m.\u001b[39m_poll_deployment_status(  \u001b[38;5;66;03m# wait for status\u001b[39;00m\n\u001b[1;32m    127\u001b[0m         deployment_instance,\n\u001b[1;32m    128\u001b[0m         PREDICTOR_STATE\u001b[38;5;241m.\u001b[39mSTATUS_RUNNING,\n\u001b[1;32m    129\u001b[0m         await_status,\n\u001b[1;32m    130\u001b[0m         update_progress,\n\u001b[1;32m    131\u001b[0m     )\n\u001b[1;32m    132\u001b[0m \u001b[38;5;28;01mexcept\u001b[39;00m RestAPIError \u001b[38;5;28;01mas\u001b[39;00m re:\n",
      "File \u001b[0;32m~/Documents/01_projects/hopsworks_recsys/hopsworks-tutorials/advanced_tutorials/recommender-system/venv/lib/python3.11/site-packages/hsml/core/serving_api.py:135\u001b[0m, in \u001b[0;36mServingApi.post\u001b[0;34m(self, deployment_instance, action)\u001b[0m\n\u001b[1;32m    128\u001b[0m path_params \u001b[38;5;241m=\u001b[39m [\n\u001b[1;32m    129\u001b[0m     \u001b[38;5;124m\"\u001b[39m\u001b[38;5;124mproject\u001b[39m\u001b[38;5;124m\"\u001b[39m,\n\u001b[1;32m    130\u001b[0m     _client\u001b[38;5;241m.\u001b[39m_project_id,\n\u001b[1;32m    131\u001b[0m     \u001b[38;5;124m\"\u001b[39m\u001b[38;5;124mserving\u001b[39m\u001b[38;5;124m\"\u001b[39m,\n\u001b[1;32m    132\u001b[0m     deployment_instance\u001b[38;5;241m.\u001b[39mid,\n\u001b[1;32m    133\u001b[0m ]\n\u001b[1;32m    134\u001b[0m query_params \u001b[38;5;241m=\u001b[39m {\u001b[38;5;124m\"\u001b[39m\u001b[38;5;124maction\u001b[39m\u001b[38;5;124m\"\u001b[39m: action}\n\u001b[0;32m--> 135\u001b[0m \u001b[38;5;28;01mreturn\u001b[39;00m \u001b[43m_client\u001b[49m\u001b[38;5;241;43m.\u001b[39;49m\u001b[43m_send_request\u001b[49m\u001b[43m(\u001b[49m\u001b[38;5;124;43m\"\u001b[39;49m\u001b[38;5;124;43mPOST\u001b[39;49m\u001b[38;5;124;43m\"\u001b[39;49m\u001b[43m,\u001b[49m\u001b[43m \u001b[49m\u001b[43mpath_params\u001b[49m\u001b[43m,\u001b[49m\u001b[43m \u001b[49m\u001b[43mquery_params\u001b[49m\u001b[38;5;241;43m=\u001b[39;49m\u001b[43mquery_params\u001b[49m\u001b[43m)\u001b[49m\n",
      "File \u001b[0;32m~/Documents/01_projects/hopsworks_recsys/hopsworks-tutorials/advanced_tutorials/recommender-system/venv/lib/python3.11/site-packages/hsml/decorators.py:35\u001b[0m, in \u001b[0;36mconnected.<locals>.if_connected\u001b[0;34m(inst, *args, **kwargs)\u001b[0m\n\u001b[1;32m     33\u001b[0m \u001b[38;5;28;01mif\u001b[39;00m \u001b[38;5;129;01mnot\u001b[39;00m inst\u001b[38;5;241m.\u001b[39m_connected:\n\u001b[1;32m     34\u001b[0m     \u001b[38;5;28;01mraise\u001b[39;00m NoHopsworksConnectionError\n\u001b[0;32m---> 35\u001b[0m \u001b[38;5;28;01mreturn\u001b[39;00m \u001b[43mfn\u001b[49m\u001b[43m(\u001b[49m\u001b[43minst\u001b[49m\u001b[43m,\u001b[49m\u001b[43m \u001b[49m\u001b[38;5;241;43m*\u001b[39;49m\u001b[43margs\u001b[49m\u001b[43m,\u001b[49m\u001b[43m \u001b[49m\u001b[38;5;241;43m*\u001b[39;49m\u001b[38;5;241;43m*\u001b[39;49m\u001b[43mkwargs\u001b[49m\u001b[43m)\u001b[49m\n",
      "File \u001b[0;32m~/Documents/01_projects/hopsworks_recsys/hopsworks-tutorials/advanced_tutorials/recommender-system/venv/lib/python3.11/site-packages/hsml/client/base.py:108\u001b[0m, in \u001b[0;36mClient._send_request\u001b[0;34m(self, method, path_params, query_params, headers, data, stream, files)\u001b[0m\n\u001b[1;32m    105\u001b[0m     response \u001b[38;5;241m=\u001b[39m \u001b[38;5;28mself\u001b[39m\u001b[38;5;241m.\u001b[39m_session\u001b[38;5;241m.\u001b[39msend(prepped, verify\u001b[38;5;241m=\u001b[39m\u001b[38;5;28mself\u001b[39m\u001b[38;5;241m.\u001b[39m_verify, stream\u001b[38;5;241m=\u001b[39mstream)\n\u001b[1;32m    107\u001b[0m \u001b[38;5;28;01mif\u001b[39;00m response\u001b[38;5;241m.\u001b[39mstatus_code \u001b[38;5;241m/\u001b[39m\u001b[38;5;241m/\u001b[39m \u001b[38;5;241m100\u001b[39m \u001b[38;5;241m!=\u001b[39m \u001b[38;5;241m2\u001b[39m:\n\u001b[0;32m--> 108\u001b[0m     \u001b[38;5;28;01mraise\u001b[39;00m exceptions\u001b[38;5;241m.\u001b[39mRestAPIError(url, response)\n\u001b[1;32m    110\u001b[0m \u001b[38;5;28;01mif\u001b[39;00m stream:\n\u001b[1;32m    111\u001b[0m     \u001b[38;5;28;01mreturn\u001b[39;00m response\n",
      "\u001b[0;31mRestAPIError\u001b[0m: Metadata operation error: (url: https://c.app.hopsworks.ai/hopsworks-api/api/project/15551/serving/322563). Server response: \nHTTP code: 400, HTTP reason: Bad Request, body: b'{\"errorCode\":240003,\"usrMsg\":\"Running model deployments quota reached for Project: pbiuszti. Current: 2 Max: 2\",\"devMsg\":\"Running model deployments quota reached for Project: pbiuszti. Current: 2 Max: 2\",\"errorMsg\":\"Serving instance could not be started/stopped\"}', error code: 240003, error msg: Serving instance could not be started/stopped, user msg: Running model deployments quota reached for Project: pbiuszti. Current: 2 Max: 2"
     ]
    }
   ],
   "source": [
    "# Start the deployment\n",
    "query_model_deployment.start()"
   ]
  },
  {
   "cell_type": "code",
   "execution_count": 21,
   "metadata": {},
   "outputs": [],
   "source": [
    "# Check logs in case of failure\n",
    "# query_model_deployment.get_logs(component=\"transformer\", tail=20)"
   ]
  },
  {
   "cell_type": "code",
   "execution_count": 22,
   "metadata": {},
   "outputs": [
    {
     "data": {
      "text/plain": [
       "['909912001', '665118002', '581315002']"
      ]
     },
     "execution_count": 22,
     "metadata": {},
     "output_type": "execute_result"
    }
   ],
   "source": [
    "# Define a test input example\n",
    "data = {\"instances\": {\"customer_id\": \"641e6f3ef3a2d537140aaa0a06055ae328a0dddf2c2c0dd6e60eb0563c7cbba0\", \"transaction_date\": \"2022-11-15T12:16:25.330916\"}}\n",
    "\n",
    "# Test the deployment\n",
    "ranked_candidates = query_model_deployment.predict(data)\n",
    "\n",
    "# Retrieve article ids of the top recommended items\n",
    "recommendations = get_top_recommendations(ranked_candidates['predictions'], k=3)\n",
    "recommendations"
   ]
  },
  {
   "cell_type": "code",
   "execution_count": 23,
   "metadata": {},
   "outputs": [],
   "source": [
    "# Check logs in case of failure\n",
    "# query_model_deployment.get_logs(component=\"transformer\",tail=200)"
   ]
  },
  {
   "cell_type": "markdown",
   "metadata": {},
   "source": [
    "Stop the deployment when you're not using it."
   ]
  },
  {
   "cell_type": "code",
   "execution_count": 48,
   "metadata": {},
   "outputs": [
    {
     "data": {
      "application/vnd.jupyter.widget-view+json": {
       "model_id": "70212022c2ee4b4b97e3c5b3d92b71e4",
       "version_major": 2,
       "version_minor": 0
      },
      "text/plain": [
       "  0%|          | 0/2 [00:00<?, ?it/s]"
      ]
     },
     "metadata": {},
     "output_type": "display_data"
    },
    {
     "name": "stdout",
     "output_type": "stream",
     "text": [
      "Deployment is already stopped\n"
     ]
    }
   ],
   "source": [
    "# Stop the ranking model deployment\n",
    "ranking_deployment.stop()\n",
    "\n",
    "# Stop the query model deployment\n",
    "query_model_deployment.stop()"
   ]
  },
  {
   "cell_type": "markdown",
   "metadata": {},
   "source": [
    "---"
   ]
  },
  {
   "cell_type": "code",
   "execution_count": 25,
   "metadata": {},
   "outputs": [
    {
     "name": "stdout",
     "output_type": "stream",
     "text": [
      "⌛️ Notebook Execution time: 103.20 seconds\n"
     ]
    }
   ],
   "source": [
    "# End the timer\n",
    "notebook_end_time = time.time()\n",
    "\n",
    "# Calculate and print the execution time\n",
    "notebook_execution_time = notebook_end_time - notebook_start_time\n",
    "print(f\"⌛️ Notebook Execution time: {notebook_execution_time:.2f} seconds\")"
   ]
  },
  {
   "cell_type": "markdown",
   "metadata": {},
   "source": [
    "---"
   ]
  }
 ],
 "metadata": {
  "kernelspec": {
   "display_name": "Python 3",
   "language": "python",
   "name": "python3"
  },
  "language_info": {
   "codemirror_mode": {
    "name": "ipython",
    "version": 3
   },
   "file_extension": ".py",
   "mimetype": "text/x-python",
   "name": "python",
   "nbconvert_exporter": "python",
   "pygments_lexer": "ipython3",
   "version": "3.11.8"
  }
 },
 "nbformat": 4,
 "nbformat_minor": 4
}
