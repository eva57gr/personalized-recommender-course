{
 "cells": [
  {
   "cell_type": "code",
   "execution_count": 1,
   "metadata": {},
   "outputs": [],
   "source": [
    "import time\n",
    "\n",
    "notebook_start_time = time.time()"
   ]
  },
  {
   "cell_type": "markdown",
   "metadata": {},
   "source": [
    "# Set up environment"
   ]
  },
  {
   "cell_type": "code",
   "execution_count": 2,
   "metadata": {},
   "outputs": [
    {
     "name": "stdout",
     "output_type": "stream",
     "text": [
      "⛳️ Local environment\n",
      "Adding the following directory to the PYTHONPATH: /Users/pauliusztin/Documents/01_projects/hopsworks_recsys/hands-on-recommender-system\n"
     ]
    }
   ],
   "source": [
    "import sys\n",
    "from pathlib import Path\n",
    "\n",
    "\n",
    "def is_google_colab() -> bool:\n",
    "    if \"google.colab\" in str(get_ipython()):\n",
    "        return True\n",
    "    return False\n",
    "\n",
    "\n",
    "def clone_repository() -> None:\n",
    "    !git clone https://github.com/decodingml/hands-on-recommender-system.git\n",
    "    %cd hands-on-recommender-system/\n",
    "\n",
    "\n",
    "def install_dependencies() -> None:\n",
    "    !pip install --upgrade uv\n",
    "    !uv pip install --all-extras --system --requirement pyproject.toml\n",
    "\n",
    "\n",
    "if is_google_colab():\n",
    "    clone_repository()\n",
    "    install_dependencies()\n",
    "\n",
    "    root_dir = str(Path().absolute())\n",
    "    print(\"⛳️ Google Colab environment\")\n",
    "else:\n",
    "    root_dir = str(Path().absolute().parent)\n",
    "    print(\"⛳️ Local environment\")\n",
    "\n",
    "# Add the root directory to the `PYTHONPATH` to use the `recsys` Python module from the notebook.\n",
    "if root_dir not in sys.path:\n",
    "    print(f\"Adding the following directory to the PYTHONPATH: {root_dir}\")\n",
    "    sys.path.append(root_dir)"
   ]
  },
  {
   "cell_type": "markdown",
   "metadata": {},
   "source": [
    "# Inference pipeline: Deploying and testing the inference pipeline \n",
    "\n",
    "In this notebook, you'll deploy the inference pipeline."
   ]
  },
  {
   "cell_type": "markdown",
   "metadata": {},
   "source": [
    "## 📝 Imports"
   ]
  },
  {
   "cell_type": "code",
   "execution_count": 3,
   "metadata": {},
   "outputs": [],
   "source": [
    "import warnings\n",
    "\n",
    "warnings.filterwarnings(\"ignore\")\n",
    "\n",
    "from loguru import logger\n",
    "\n",
    "from recsys import hopsworks_integration\n",
    "from recsys import inference"
   ]
  },
  {
   "cell_type": "markdown",
   "metadata": {},
   "source": [
    "## <span style=\"color:#ff5f27\">🔮 Connect to Hopsworks Feature Store </span>"
   ]
  },
  {
   "cell_type": "code",
   "execution_count": 4,
   "metadata": {},
   "outputs": [
    {
     "name": "stderr",
     "output_type": "stream",
     "text": [
      "\u001b[32m2024-11-21 13:40:08.973\u001b[0m | \u001b[1mINFO    \u001b[0m | \u001b[36mrecsys.hopsworks_integration.feature_store\u001b[0m:\u001b[36mget_feature_store\u001b[0m:\u001b[36m12\u001b[0m - \u001b[1mLoging to Hopsworks using HOPSWORKS_API_KEY env var.\u001b[0m\n"
     ]
    },
    {
     "name": "stdout",
     "output_type": "stream",
     "text": [
      "Connected. Call `.close()` to terminate connection gracefully.\n",
      "\n",
      "Logged in to project, explore it here https://c.app.hopsworks.ai:443/p/15551\n",
      "Connected. Call `.close()` to terminate connection gracefully.\n"
     ]
    }
   ],
   "source": [
    "project, fs = hopsworks_integration.get_feature_store()"
   ]
  },
  {
   "cell_type": "markdown",
   "metadata": {
    "tags": []
   },
   "source": [
    "# Deploying the ranking inference pipeline\n"
   ]
  },
  {
   "cell_type": "markdown",
   "metadata": {},
   "source": [
    "You start by deploying your ranking model. Since it is a CatBoost model you need to implement a `Predict` class that tells Hopsworks how to load the model and how to use it."
   ]
  },
  {
   "cell_type": "markdown",
   "metadata": {},
   "source": [
    "With that in place, you can finally deploy your model."
   ]
  },
  {
   "cell_type": "code",
   "execution_count": 5,
   "metadata": {},
   "outputs": [
    {
     "name": "stdout",
     "output_type": "stream",
     "text": [
      "Connected. Call `.close()` to terminate connection gracefully.\n"
     ]
    },
    {
     "data": {
      "application/vnd.jupyter.widget-view+json": {
       "model_id": "535fec4790144b779aa8282805c74f6f",
       "version_major": 2,
       "version_minor": 0
      },
      "text/plain": [
       "Uploading: 0.000%|          | 0/4306 elapsed<00:00 remaining<?"
      ]
     },
     "metadata": {},
     "output_type": "display_data"
    },
    {
     "data": {
      "application/vnd.jupyter.widget-view+json": {
       "model_id": "fe7f10cf35554a8d9a515e1222dcfb4f",
       "version_major": 2,
       "version_minor": 0
      },
      "text/plain": [
       "Uploading: 0.000%|          | 0/1117 elapsed<00:00 remaining<?"
      ]
     },
     "metadata": {},
     "output_type": "display_data"
    },
    {
     "name": "stdout",
     "output_type": "stream",
     "text": [
      "Deployment created, explore it at https://c.app.hopsworks.ai:443/p/15551/deployments/333827\n",
      "Before making predictions, start the deployment by using `.start()`\n"
     ]
    }
   ],
   "source": [
    "ranking_deployment = hopsworks_integration.ranking_serving.HopsworksRankingModel.deploy(project=project)"
   ]
  },
  {
   "cell_type": "markdown",
   "metadata": {},
   "source": []
  },
  {
   "cell_type": "code",
   "execution_count": 6,
   "metadata": {},
   "outputs": [
    {
     "data": {
      "application/vnd.jupyter.widget-view+json": {
       "model_id": "8d2d3c78e9194975af2ce2713738029b",
       "version_major": 2,
       "version_minor": 0
      },
      "text/plain": [
       "  0%|          | 0/6 [00:00<?, ?it/s]"
      ]
     },
     "metadata": {},
     "output_type": "display_data"
    },
    {
     "name": "stdout",
     "output_type": "stream",
     "text": [
      "Start making predictions by using `.predict()`\n"
     ]
    }
   ],
   "source": [
    "ranking_deployment.start()"
   ]
  },
  {
   "cell_type": "code",
   "execution_count": 7,
   "metadata": {
    "tags": []
   },
   "outputs": [
    {
     "name": "stdout",
     "output_type": "stream",
     "text": [
      "Explore all the logs and filters in the Kibana logs at https://c.app.hopsworks.ai:443/p/15551/deployments/333827\n",
      "\n",
      "Instance name: ranking-transformer-default-00001-deployment-bb6c6c4fb-jvk4w\n",
      "2024-11-21 11:40:51.121 7 root INFO [<module>():180] Loading serving script\n",
      "2024-11-21 11:40:54.143 7 root INFO [__init__():117] Initializing transformer for deployment: ranking\n",
      "Connected. Call `.close()` to terminate connection gracefully.\n",
      "SLF4J: Class path contains multiple SLF4J bindings.\n",
      "SLF4J: Found binding in [jar:file:/srv/hops/hadoop-3.2.0.12-EE-RC0/share/hadoop/common/lib/log4j-slf4j-impl-2.19.0.jar!/org/slf4j/impl/StaticLoggerBinder.class]\n",
      "SLF4J: Found binding in [jar:file:/srv/hops/hadoop-3.2.0.12-EE-RC0/share/hadoop/hdfs/lib/log4j-slf4j-impl-2.19.0.jar!/org/slf4j/impl/StaticLoggerBinder.class]\n",
      "SLF4J: See http://www.slf4j.org/codes.html#multiple_bindings for an explanation.\n",
      "SLF4J: Actual binding is of type [org.apache.logging.slf4j.Log4jLoggerFactory]\n",
      "2024-11-21 11:41:03.628 7 root INFO [<module>():196] Starting KServe server\n",
      "2024-11-21 11:41:03.628 7 root INFO [register_model():187] Registering model: ranking\n",
      "2024-11-21 11:41:03.707 7 root INFO [start():129] Setting max asyncio worker threads as 12\n",
      "2024-11-21 11:41:03.707 7 root INFO [serve():139] Starting uvicorn with 1 workers\n",
      "2024-11-21 11:41:04.041 7 uvicorn.error INFO [serve():84] Started server process [7]\n",
      "2024-11-21 11:41:04.041 7 uvicorn.error INFO [startup():45] Waiting for application startup.\n",
      "2024-11-21 11:41:04.043 7 root INFO [start():62] Starting gRPC server on [::]:8081\n",
      "2024-11-21 11:41:04.043 7 uvicorn.error INFO [startup():59] Application startup complete.\n",
      "\n",
      "\n"
     ]
    }
   ],
   "source": [
    "# Check logs in case of failure\n",
    "ranking_deployment.get_logs(component=\"transformer\", tail=200)"
   ]
  },
  {
   "cell_type": "markdown",
   "metadata": {},
   "source": [
    "## <span style=\"color:#ff5f27\"> Test the ranking inference pipeline</span>\n"
   ]
  },
  {
   "cell_type": "code",
   "execution_count": 8,
   "metadata": {},
   "outputs": [],
   "source": [
    "def get_top_recommendations(ranked_candidates, k=3):\n",
    "    return [candidate[-1] for candidate in ranked_candidates[\"ranking\"][:k]]"
   ]
  },
  {
   "cell_type": "code",
   "execution_count": 9,
   "metadata": {
    "tags": []
   },
   "outputs": [
    {
     "data": {
      "text/plain": [
       "['603583006', '603585003', '599580020']"
      ]
     },
     "execution_count": 9,
     "metadata": {},
     "output_type": "execute_result"
    }
   ],
   "source": [
    "# Define a test input example\n",
    "test_ranking_input = {\n",
    "    \"instances\": [\n",
    "        {\n",
    "            \"customer_id\": \"d327d0ad9e30085a436933dfbb7f77cf42e38447993a078ed35d93e3fd350ecf\",\n",
    "            \"month_sin\": 1.2246467991473532e-16,\n",
    "            \"query_emb\": [\n",
    "                0.214135289,\n",
    "                0.571055949,\n",
    "                0.330709577,\n",
    "                -0.225899458,\n",
    "                -0.308674961,\n",
    "                -0.0115124583,\n",
    "                0.0730511621,\n",
    "                -0.495835781,\n",
    "                0.625569344,\n",
    "                -0.0438038409,\n",
    "                0.263472944,\n",
    "                -0.58485353,\n",
    "                -0.307070434,\n",
    "                0.0414443575,\n",
    "                -0.321789205,\n",
    "                0.966559,\n",
    "            ],\n",
    "            \"month_cos\": -1.0,\n",
    "        }\n",
    "    ]\n",
    "}\n",
    "\n",
    "# Test ranking deployment\n",
    "ranked_candidates = ranking_deployment.predict(test_ranking_input)\n",
    "\n",
    "# Retrieve article ids of the top recommended items\n",
    "recommendations = get_top_recommendations(ranked_candidates, k=3)\n",
    "recommendations"
   ]
  },
  {
   "cell_type": "code",
   "execution_count": 10,
   "metadata": {},
   "outputs": [
    {
     "name": "stdout",
     "output_type": "stream",
     "text": [
      "Explore all the logs and filters in the Kibana logs at https://c.app.hopsworks.ai:443/p/15551/deployments/333827\n",
      "\n",
      "Instance name: ranking-transformer-default-00001-deployment-bb6c6c4fb-jvk4w\n",
      "2024-11-21 11:41:10.984 7 opensearch INFO [log_request_success():235] POST https://rest.elastic.service.consul:9200/15551__embedding_default_project_embedding_0/_search [status:200 request:0.010s]\n",
      "2024-11-21 11:41:10.994 7 opensearch INFO [log_request_success():235] POST https://rest.elastic.service.consul:9200/15551__embedding_default_project_embedding_0/_search [status:200 request:0.010s]\n",
      "2024-11-21 11:41:11.004 7 opensearch INFO [log_request_success():235] POST https://rest.elastic.service.consul:9200/15551__embedding_default_project_embedding_0/_search [status:200 request:0.010s]\n",
      "2024-11-21 11:41:11.017 7 opensearch INFO [log_request_success():235] POST https://rest.elastic.service.consul:9200/15551__embedding_default_project_embedding_0/_search [status:200 request:0.013s]\n",
      "2024-11-21 11:41:11.031 7 opensearch INFO [log_request_success():235] POST https://rest.elastic.service.consul:9200/15551__embedding_default_project_embedding_0/_search [status:200 request:0.014s]\n",
      "2024-11-21 11:41:11.043 7 opensearch INFO [log_request_success():235] POST https://rest.elastic.service.consul:9200/15551__embedding_default_project_embedding_0/_search [status:200 request:0.012s]\n",
      "2024-11-21 11:41:11.055 7 opensearch INFO [log_request_success():235] POST https://rest.elastic.service.consul:9200/15551__embedding_default_project_embedding_0/_search [status:200 request:0.011s]\n",
      "2024-11-21 11:41:11.066 7 opensearch INFO [log_request_success():235] POST https://rest.elastic.service.consul:9200/15551__embedding_default_project_embedding_0/_search [status:200 request:0.011s]\n",
      "2024-11-21 11:41:11.076 7 opensearch INFO [log_request_success():235] POST https://rest.elastic.service.consul:9200/15551__embedding_default_project_embedding_0/_search [status:200 request:0.010s]\n",
      "2024-11-21 11:41:11.087 7 opensearch INFO [log_request_success():235] POST https://rest.elastic.service.consul:9200/15551__embedding_default_project_embedding_0/_search [status:200 request:0.011s]\n",
      "2024-11-21 11:41:11.100 7 opensearch INFO [log_request_success():235] POST https://rest.elastic.service.consul:9200/15551__embedding_default_project_embedding_0/_search [status:200 request:0.012s]\n",
      "2024-11-21 11:41:11.110 7 opensearch INFO [log_request_success():235] POST https://rest.elastic.service.consul:9200/15551__embedding_default_project_embedding_0/_search [status:200 request:0.010s]\n",
      "2024-11-21 11:41:11.121 7 opensearch INFO [log_request_success():235] POST https://rest.elastic.service.consul:9200/15551__embedding_default_project_embedding_0/_search [status:200 request:0.010s]\n",
      "2024-11-21 11:41:11.130 7 opensearch INFO [log_request_success():235] POST https://rest.elastic.service.consul:9200/15551__embedding_default_project_embedding_0/_search [status:200 request:0.009s]\n",
      "2024-11-21 11:41:11.142 7 opensearch INFO [log_request_success():235] POST https://rest.elastic.service.consul:9200/15551__embedding_default_project_embedding_0/_search [status:200 request:0.011s]\n",
      "2024-11-21 11:41:11.153 7 opensearch INFO [log_request_success():235] POST https://rest.elastic.service.consul:9200/15551__embedding_default_project_embedding_0/_search [status:200 request:0.012s]\n",
      "2024-11-21 11:41:11.162 7 opensearch INFO [log_request_success():235] POST https://rest.elastic.service.consul:9200/15551__embedding_default_project_embedding_0/_search [status:200 request:0.008s]\n",
      "2024-11-21 11:41:11.170 7 opensearch INFO [log_request_success():235] POST https://rest.elastic.service.consul:9200/15551__embedding_default_project_embedding_0/_search [status:200 request:0.008s]\n",
      "2024-11-21 11:41:11.179 7 opensearch INFO [log_request_success():235] POST https://rest.elastic.service.consul:9200/15551__embedding_default_project_embedding_0/_search [status:200 request:0.009s]\n",
      "2024-11-21 11:41:11.190 7 opensearch INFO [log_request_success():235] POST https://rest.elastic.service.consul:9200/15551__embedding_default_project_embedding_0/_search [status:200 request:0.011s]\n",
      "2024-11-21 11:41:11.201 7 opensearch INFO [log_request_success():235] POST https://rest.elastic.service.consul:9200/15551__embedding_default_project_embedding_0/_search [status:200 request:0.011s]\n",
      "2024-11-21 11:41:11.210 7 opensearch INFO [log_request_success():235] POST https://rest.elastic.service.consul:9200/15551__embedding_default_project_embedding_0/_search [status:200 request:0.009s]\n",
      "2024-11-21 11:41:11.219 7 opensearch INFO [log_request_success():235] POST https://rest.elastic.service.consul:9200/15551__embedding_default_project_embedding_0/_search [status:200 request:0.009s]\n",
      "2024-11-21 11:41:11.227 7 opensearch INFO [log_request_success():235] POST https://rest.elastic.service.consul:9200/15551__embedding_default_project_embedding_0/_search [status:200 request:0.008s]\n",
      "2024-11-21 11:41:11.242 7 opensearch INFO [log_request_success():235] POST https://rest.elastic.service.consul:9200/15551__embedding_default_project_embedding_0/_search [status:200 request:0.014s]\n",
      "2024-11-21 11:41:11.260 7 opensearch INFO [log_request_success():235] POST https://rest.elastic.service.consul:9200/15551__embedding_default_project_embedding_0/_search [status:200 request:0.018s]\n",
      "2024-11-21 11:41:11.273 7 opensearch INFO [log_request_success():235] POST https://rest.elastic.service.consul:9200/15551__embedding_default_project_embedding_0/_search [status:200 request:0.013s]\n",
      "2024-11-21 11:41:11.283 7 opensearch INFO [log_request_success():235] POST https://rest.elastic.service.consul:9200/15551__embedding_default_project_embedding_0/_search [status:200 request:0.009s]\n",
      "2024-11-21 11:41:11.291 7 opensearch INFO [log_request_success():235] POST https://rest.elastic.service.consul:9200/15551__embedding_default_project_embedding_0/_search [status:200 request:0.009s]\n",
      "2024-11-21 11:41:11.301 7 opensearch INFO [log_request_success():235] POST https://rest.elastic.service.consul:9200/15551__embedding_default_project_embedding_0/_search [status:200 request:0.009s]\n",
      "2024-11-21 11:41:11.315 7 opensearch INFO [log_request_success():235] POST https://rest.elastic.service.consul:9200/15551__embedding_default_project_embedding_0/_search [status:200 request:0.014s]\n",
      "2024-11-21 11:41:11.327 7 opensearch INFO [log_request_success():235] POST https://rest.elastic.service.consul:9200/15551__embedding_default_project_embedding_0/_search [status:200 request:0.012s]\n",
      "2024-11-21 11:41:11.338 7 opensearch INFO [log_request_success():235] POST https://rest.elastic.service.consul:9200/15551__embedding_default_project_embedding_0/_search [status:200 request:0.011s]\n",
      "2024-11-21 11:41:11.352 7 opensearch INFO [log_request_success():235] POST https://rest.elastic.service.consul:9200/15551__embedding_default_project_embedding_0/_search [status:200 request:0.014s]\n",
      "2024-11-21 11:41:11.363 7 opensearch INFO [log_request_success():235] POST https://rest.elastic.service.consul:9200/15551__embedding_default_project_embedding_0/_search [status:200 request:0.011s]\n",
      "2024-11-21 11:41:11.373 7 opensearch INFO [log_request_success():235] POST https://rest.elastic.service.consul:9200/15551__embedding_default_project_embedding_0/_search [status:200 request:0.010s]\n",
      "2024-11-21 11:41:11.382 7 opensearch INFO [log_request_success():235] POST https://rest.elastic.service.consul:9200/15551__embedding_default_project_embedding_0/_search [status:200 request:0.009s]\n",
      "2024-11-21 11:41:11.398 7 opensearch INFO [log_request_success():235] POST https://rest.elastic.service.consul:9200/15551__embedding_default_project_embedding_0/_search [status:200 request:0.015s]\n",
      "2024-11-21 11:41:11.414 7 opensearch INFO [log_request_success():235] POST https://rest.elastic.service.consul:9200/15551__embedding_default_project_embedding_0/_search [status:200 request:0.016s]\n",
      "2024-11-21 11:41:11.425 7 opensearch INFO [log_request_success():235] POST https://rest.elastic.service.consul:9200/15551__embedding_default_project_embedding_0/_search [status:200 request:0.011s]\n",
      "2024-11-21 11:41:11.437 7 opensearch INFO [log_request_success():235] POST https://rest.elastic.service.consul:9200/15551__embedding_default_project_embedding_0/_search [status:200 request:0.012s]\n",
      "2024-11-21 11:41:11.450 7 opensearch INFO [log_request_success():235] POST https://rest.elastic.service.consul:9200/15551__embedding_default_project_embedding_0/_search [status:200 request:0.012s]\n",
      "2024-11-21 11:41:11.462 7 opensearch INFO [log_request_success():235] POST https://rest.elastic.service.consul:9200/15551__embedding_default_project_embedding_0/_search [status:200 request:0.011s]\n",
      "2024-11-21 11:41:11.479 7 opensearch INFO [log_request_success():235] POST https://rest.elastic.service.consul:9200/15551__embedding_default_project_embedding_0/_search [status:200 request:0.017s]\n",
      "2024-11-21 11:41:11.498 7 opensearch INFO [log_request_success():235] POST https://rest.elastic.service.consul:9200/15551__embedding_default_project_embedding_0/_search [status:200 request:0.019s]\n",
      "2024-11-21 11:41:11.509 7 opensearch INFO [log_request_success():235] POST https://rest.elastic.service.consul:9200/15551__embedding_default_project_embedding_0/_search [status:200 request:0.011s]\n",
      "2024-11-21 11:41:11.522 7 opensearch INFO [log_request_success():235] POST https://rest.elastic.service.consul:9200/15551__embedding_default_project_embedding_0/_search [status:200 request:0.013s]\n",
      "2024-11-21 11:41:11.535 7 opensearch INFO [log_request_success():235] POST https://rest.elastic.service.consul:9200/15551__embedding_default_project_embedding_0/_search [status:200 request:0.013s]\n",
      "2024-11-21 11:41:11.550 7 opensearch INFO [log_request_success():235] POST https://rest.elastic.service.consul:9200/15551__embedding_default_project_embedding_0/_search [status:200 request:0.014s]\n",
      "2024-11-21 11:41:11.561 7 opensearch INFO [log_request_success():235] POST https://rest.elastic.service.consul:9200/15551__embedding_default_project_embedding_0/_search [status:200 request:0.011s]\n",
      "2024-11-21 11:41:11.573 7 opensearch INFO [log_request_success():235] POST https://rest.elastic.service.consul:9200/15551__embedding_default_project_embedding_0/_search [status:200 request:0.012s]\n",
      "2024-11-21 11:41:11.588 7 opensearch INFO [log_request_success():235] POST https://rest.elastic.service.consul:9200/15551__embedding_default_project_embedding_0/_search [status:200 request:0.015s]\n",
      "2024-11-21 11:41:11.600 7 opensearch INFO [log_request_success():235] POST https://rest.elastic.service.consul:9200/15551__embedding_default_project_embedding_0/_search [status:200 request:0.012s]\n",
      "2024-11-21 11:41:11.611 7 opensearch INFO [log_request_success():235] POST https://rest.elastic.service.consul:9200/15551__embedding_default_project_embedding_0/_search [status:200 request:0.011s]\n",
      "2024-11-21 11:41:11.628 7 opensearch INFO [log_request_success():235] POST https://rest.elastic.service.consul:9200/15551__embedding_default_project_embedding_0/_search [status:200 request:0.017s]\n",
      "2024-11-21 11:41:11.643 7 opensearch INFO [log_request_success():235] POST https://rest.elastic.service.consul:9200/15551__embedding_default_project_embedding_0/_search [status:200 request:0.015s]\n",
      "2024-11-21 11:41:11.659 7 opensearch INFO [log_request_success():235] POST https://rest.elastic.service.consul:9200/15551__embedding_default_project_embedding_0/_search [status:200 request:0.016s]\n",
      "2024-11-21 11:41:11.678 7 opensearch INFO [log_request_success():235] POST https://rest.elastic.service.consul:9200/15551__embedding_default_project_embedding_0/_search [status:200 request:0.018s]\n",
      "2024-11-21 11:41:11.692 7 opensearch INFO [log_request_success():235] POST https://rest.elastic.service.consul:9200/15551__embedding_default_project_embedding_0/_search [status:200 request:0.014s]\n",
      "2024-11-21 11:41:11.704 7 opensearch INFO [log_request_success():235] POST https://rest.elastic.service.consul:9200/15551__embedding_default_project_embedding_0/_search [status:200 request:0.012s]\n",
      "2024-11-21 11:41:11.714 7 opensearch INFO [log_request_success():235] POST https://rest.elastic.service.consul:9200/15551__embedding_default_project_embedding_0/_search [status:200 request:0.010s]\n",
      "2024-11-21 11:41:11.724 7 opensearch INFO [log_request_success():235] POST https://rest.elastic.service.consul:9200/15551__embedding_default_project_embedding_0/_search [status:200 request:0.009s]\n",
      "2024-11-21 11:41:11.735 7 opensearch INFO [log_request_success():235] POST https://rest.elastic.service.consul:9200/15551__embedding_default_project_embedding_0/_search [status:200 request:0.011s]\n",
      "2024-11-21 11:41:11.748 7 opensearch INFO [log_request_success():235] POST https://rest.elastic.service.consul:9200/15551__embedding_default_project_embedding_0/_search [status:200 request:0.013s]\n",
      "2024-11-21 11:41:11.758 7 opensearch INFO [log_request_success():235] POST https://rest.elastic.service.consul:9200/15551__embedding_default_project_embedding_0/_search [status:200 request:0.010s]\n",
      "2024-11-21 11:41:11.768 7 opensearch INFO [log_request_success():235] POST https://rest.elastic.service.consul:9200/15551__embedding_default_project_embedding_0/_search [status:200 request:0.009s]\n",
      "2024-11-21 11:41:11.777 7 opensearch INFO [log_request_success():235] POST https://rest.elastic.service.consul:9200/15551__embedding_default_project_embedding_0/_search [status:200 request:0.009s]\n",
      "2024-11-21 11:41:11.787 7 opensearch INFO [log_request_success():235] POST https://rest.elastic.service.consul:9200/15551__embedding_default_project_embedding_0/_search [status:200 request:0.010s]\n",
      "2024-11-21 11:41:11.797 7 opensearch INFO [log_request_success():235] POST https://rest.elastic.service.consul:9200/15551__embedding_default_project_embedding_0/_search [status:200 request:0.010s]\n",
      "2024-11-21 11:41:11.807 7 opensearch INFO [log_request_success():235] POST https://rest.elastic.service.consul:9200/15551__embedding_default_project_embedding_0/_search [status:200 request:0.009s]\n",
      "2024-11-21 11:41:11.820 7 opensearch INFO [log_request_success():235] POST https://rest.elastic.service.consul:9200/15551__embedding_default_project_embedding_0/_search [status:200 request:0.013s]\n",
      "2024-11-21 11:41:11.836 7 opensearch INFO [log_request_success():235] POST https://rest.elastic.service.consul:9200/15551__embedding_default_project_embedding_0/_search [status:200 request:0.016s]\n",
      "2024-11-21 11:41:11.851 7 opensearch INFO [log_request_success():235] POST https://rest.elastic.service.consul:9200/15551__embedding_default_project_embedding_0/_search [status:200 request:0.015s]\n",
      "2024-11-21 11:41:11.868 7 opensearch INFO [log_request_success():235] POST https://rest.elastic.service.consul:9200/15551__embedding_default_project_embedding_0/_search [status:200 request:0.016s]\n",
      "2024-11-21 11:41:11.878 7 opensearch INFO [log_request_success():235] POST https://rest.elastic.service.consul:9200/15551__embedding_default_project_embedding_0/_search [status:200 request:0.010s]\n",
      "2024-11-21 11:41:11.888 7 opensearch INFO [log_request_success():235] POST https://rest.elastic.service.consul:9200/15551__embedding_default_project_embedding_0/_search [status:200 request:0.010s]\n",
      "2024-11-21 11:41:11.898 7 opensearch INFO [log_request_success():235] POST https://rest.elastic.service.consul:9200/15551__embedding_default_project_embedding_0/_search [status:200 request:0.009s]\n",
      "2024-11-21 11:41:11.909 7 opensearch INFO [log_request_success():235] POST https://rest.elastic.service.consul:9200/15551__embedding_default_project_embedding_0/_search [status:200 request:0.012s]\n",
      "2024-11-21 11:41:11.921 7 opensearch INFO [log_request_success():235] POST https://rest.elastic.service.consul:9200/15551__embedding_default_project_embedding_0/_search [status:200 request:0.011s]\n",
      "2024-11-21 11:41:11.931 7 opensearch INFO [log_request_success():235] POST https://rest.elastic.service.consul:9200/15551__embedding_default_project_embedding_0/_search [status:200 request:0.010s]\n",
      "2024-11-21 11:41:11.940 7 opensearch INFO [log_request_success():235] POST https://rest.elastic.service.consul:9200/15551__embedding_default_project_embedding_0/_search [status:200 request:0.009s]\n",
      "2024-11-21 11:41:11.951 7 opensearch INFO [log_request_success():235] POST https://rest.elastic.service.consul:9200/15551__embedding_default_project_embedding_0/_search [status:200 request:0.010s]\n",
      "2024-11-21 11:41:11.966 7 opensearch INFO [log_request_success():235] POST https://rest.elastic.service.consul:9200/15551__embedding_default_project_embedding_0/_search [status:200 request:0.016s]\n",
      "2024-11-21 11:41:11.983 7 opensearch INFO [log_request_success():235] POST https://rest.elastic.service.consul:9200/15551__embedding_default_project_embedding_0/_search [status:200 request:0.017s]\n",
      "2024-11-21 11:41:11.995 7 opensearch INFO [log_request_success():235] POST https://rest.elastic.service.consul:9200/15551__embedding_default_project_embedding_0/_search [status:200 request:0.012s]\n",
      "2024-11-21 11:41:12.004 7 opensearch INFO [log_request_success():235] POST https://rest.elastic.service.consul:9200/15551__embedding_default_project_embedding_0/_search [status:200 request:0.009s]\n",
      "2024-11-21 11:41:12.013 7 opensearch INFO [log_request_success():235] POST https://rest.elastic.service.consul:9200/15551__embedding_default_project_embedding_0/_search [status:200 request:0.009s]\n",
      "2024-11-21 11:41:12.023 7 opensearch INFO [log_request_success():235] POST https://rest.elastic.service.consul:9200/15551__embedding_default_project_embedding_0/_search [status:200 request:0.010s]\n",
      "2024-11-21 11:41:12.032 7 opensearch INFO [log_request_success():235] POST https://rest.elastic.service.consul:9200/15551__embedding_default_project_embedding_0/_search [status:200 request:0.009s]\n",
      "DeprecationWarning: ssl.PROTOCOL_TLS is deprecated\n",
      "VersionWarning: No training dataset version was provided to initialise serving. Defaulting to version 1.\n",
      "2024-11-21 11:41:14.719 7 opensearch INFO [log_request_success():235] POST https://rest.elastic.service.consul:9200/15551__embedding_default_project_embedding_0/_search [status:200 request:0.027s]\n",
      "DeprecationWarning: HTTPResponse.getheaders() is deprecated and will be removed in urllib3 v2.1.0. Instead access HTTPResponse.headers directly.\n",
      "2024-11-21 11:41:14.741 7 opensearch INFO [log_request_success():235] POST https://rest.elastic.service.consul:9200/15551__embedding_default_project_embedding_0/_search [status:200 request:0.022s]\n",
      "2024-11-21 11:41:14.765 7 opensearch INFO [log_request_success():235] POST https://rest.elastic.service.consul:9200/15551__embedding_default_project_embedding_0/_search [status:200 request:0.023s]\n",
      "2024-11-21 11:41:14.784 7 opensearch INFO [log_request_success():235] POST https://rest.elastic.service.consul:9200/15551__embedding_default_project_embedding_0/_search [status:200 request:0.019s]\n",
      "2024-11-21 11:41:14.806 7 opensearch INFO [log_request_success():235] POST https://rest.elastic.service.consul:9200/15551__embedding_default_project_embedding_0/_search [status:200 request:0.022s]\n",
      "2024-11-21 11:41:14.826 7 opensearch INFO [log_request_success():235] POST https://rest.elastic.service.consul:9200/15551__embedding_default_project_embedding_0/_search [status:200 request:0.019s]\n",
      "2024-11-21 11:41:14.856 7 opensearch INFO [log_request_success():235] POST https://rest.elastic.service.consul:9200/15551__embedding_default_project_embedding_0/_search [status:200 request:0.029s]\n",
      "2024-11-21 11:41:14.874 7 opensearch INFO [log_request_success():235] POST https://rest.elastic.service.consul:9200/15551__embedding_default_project_embedding_0/_search [status:200 request:0.017s]\n",
      "2024-11-21 11:41:14.890 7 opensearch INFO [log_request_success():235] POST https://rest.elastic.service.consul:9200/15551__embedding_default_project_embedding_0/_search [status:200 request:0.016s]\n",
      "2024-11-21 11:41:14.905 7 opensearch INFO [log_request_success():235] POST https://rest.elastic.service.consul:9200/15551__embedding_default_project_embedding_0/_search [status:200 request:0.014s]\n",
      "2024-11-21 11:41:14.918 7 opensearch INFO [log_request_success():235] POST https://rest.elastic.service.consul:9200/15551__embedding_default_project_embedding_0/_search [status:200 request:0.013s]\n",
      "2024-11-21 11:41:14.931 7 opensearch INFO [log_request_success():235] POST https://rest.elastic.service.consul:9200/15551__embedding_default_project_embedding_0/_search [status:200 request:0.013s]\n",
      "2024-11-21 11:41:14.947 7 opensearch INFO [log_request_success():235] POST https://rest.elastic.service.consul:9200/15551__embedding_default_project_embedding_0/_search [status:200 request:0.015s]\n",
      "2024-11-21 11:41:14.962 7 opensearch INFO [log_request_success():235] POST https://rest.elastic.service.consul:9200/15551__embedding_default_project_embedding_0/_search [status:200 request:0.015s]\n",
      "2024-11-21 11:41:14.979 7 opensearch INFO [log_request_success():235] POST https://rest.elastic.service.consul:9200/15551__embedding_default_project_embedding_0/_search [status:200 request:0.016s]\n",
      "2024-11-21 11:41:15.002 7 opensearch INFO [log_request_success():235] POST https://rest.elastic.service.consul:9200/15551__embedding_default_project_embedding_0/_search [status:200 request:0.023s]\n",
      "2024-11-21 11:41:15.019 7 opensearch INFO [log_request_success():235] POST https://rest.elastic.service.consul:9200/15551__embedding_default_project_embedding_0/_search [status:200 request:0.017s]\n",
      "2024-11-21 11:41:15.611 7 opensearch INFO [log_request_success():235] POST https://rest.elastic.service.consul:9200/15551__embedding_default_project_embedding_0/_search [status:200 request:0.591s]\n",
      "2024-11-21 11:41:15.631 7 opensearch INFO [log_request_success():235] POST https://rest.elastic.service.consul:9200/15551__embedding_default_project_embedding_0/_search [status:200 request:0.020s]\n",
      "2024-11-21 11:41:15.653 7 opensearch INFO [log_request_success():235] POST https://rest.elastic.service.consul:9200/15551__embedding_default_project_embedding_0/_search [status:200 request:0.021s]\n",
      "2024-11-21 11:41:15.672 7 opensearch INFO [log_request_success():235] POST https://rest.elastic.service.consul:9200/15551__embedding_default_project_embedding_0/_search [status:200 request:0.018s]\n",
      "2024-11-21 11:41:15.694 7 opensearch INFO [log_request_success():235] POST https://rest.elastic.service.consul:9200/15551__embedding_default_project_embedding_0/_search [status:200 request:0.021s]\n",
      "2024-11-21 11:41:15.714 7 opensearch INFO [log_request_success():235] POST https://rest.elastic.service.consul:9200/15551__embedding_default_project_embedding_0/_search [status:200 request:0.020s]\n",
      "2024-11-21 11:41:15.736 7 opensearch INFO [log_request_success():235] POST https://rest.elastic.service.consul:9200/15551__embedding_default_project_embedding_0/_search [status:200 request:0.021s]\n",
      "2024-11-21 11:41:15.760 7 opensearch INFO [log_request_success():235] POST https://rest.elastic.service.consul:9200/15551__embedding_default_project_embedding_0/_search [status:200 request:0.024s]\n",
      "2024-11-21 11:41:15.781 7 opensearch INFO [log_request_success():235] POST https://rest.elastic.service.consul:9200/15551__embedding_default_project_embedding_0/_search [status:200 request:0.020s]\n",
      "2024-11-21 11:41:15.804 7 opensearch INFO [log_request_success():235] POST https://rest.elastic.service.consul:9200/15551__embedding_default_project_embedding_0/_search [status:200 request:0.023s]\n",
      "2024-11-21 11:41:15.824 7 opensearch INFO [log_request_success():235] POST https://rest.elastic.service.consul:9200/15551__embedding_default_project_embedding_0/_search [status:200 request:0.020s]\n",
      "2024-11-21 11:41:15.874 7 opensearch INFO [log_request_success():235] POST https://rest.elastic.service.consul:9200/15551__embedding_default_project_embedding_0/_search [status:200 request:0.049s]\n",
      "2024-11-21 11:41:15.899 7 opensearch INFO [log_request_success():235] POST https://rest.elastic.service.consul:9200/15551__embedding_default_project_embedding_0/_search [status:200 request:0.024s]\n",
      "2024-11-21 11:41:15.934 7 opensearch INFO [log_request_success():235] POST https://rest.elastic.service.consul:9200/15551__embedding_default_project_embedding_0/_search [status:200 request:0.035s]\n",
      "2024-11-21 11:41:15.955 7 opensearch INFO [log_request_success():235] POST https://rest.elastic.service.consul:9200/15551__embedding_default_project_embedding_0/_search [status:200 request:0.021s]\n",
      "2024-11-21 11:41:15.975 7 opensearch INFO [log_request_success():235] POST https://rest.elastic.service.consul:9200/15551__embedding_default_project_embedding_0/_search [status:200 request:0.019s]\n",
      "2024-11-21 11:41:16.639 7 opensearch INFO [log_request_success():235] POST https://rest.elastic.service.consul:9200/15551__embedding_default_project_embedding_0/_search [status:200 request:0.663s]\n",
      "2024-11-21 11:41:16.662 7 opensearch INFO [log_request_success():235] POST https://rest.elastic.service.consul:9200/15551__embedding_default_project_embedding_0/_search [status:200 request:0.022s]\n",
      "2024-11-21 11:41:16.680 7 opensearch INFO [log_request_success():235] POST https://rest.elastic.service.consul:9200/15551__embedding_default_project_embedding_0/_search [status:200 request:0.018s]\n",
      "2024-11-21 11:41:16.702 7 opensearch INFO [log_request_success():235] POST https://rest.elastic.service.consul:9200/15551__embedding_default_project_embedding_0/_search [status:200 request:0.022s]\n",
      "2024-11-21 11:41:16.717 7 opensearch INFO [log_request_success():235] POST https://rest.elastic.service.consul:9200/15551__embedding_default_project_embedding_0/_search [status:200 request:0.014s]\n",
      "2024-11-21 11:41:16.729 7 opensearch INFO [log_request_success():235] POST https://rest.elastic.service.consul:9200/15551__embedding_default_project_embedding_0/_search [status:200 request:0.012s]\n",
      "2024-11-21 11:41:16.746 7 opensearch INFO [log_request_success():235] POST https://rest.elastic.service.consul:9200/15551__embedding_default_project_embedding_0/_search [status:200 request:0.016s]\n",
      "2024-11-21 11:41:16.762 7 opensearch INFO [log_request_success():235] POST https://rest.elastic.service.consul:9200/15551__embedding_default_project_embedding_0/_search [status:200 request:0.016s]\n",
      "2024-11-21 11:41:16.775 7 opensearch INFO [log_request_success():235] POST https://rest.elastic.service.consul:9200/15551__embedding_default_project_embedding_0/_search [status:200 request:0.013s]\n",
      "2024-11-21 11:41:16.791 7 opensearch INFO [log_request_success():235] POST https://rest.elastic.service.consul:9200/15551__embedding_default_project_embedding_0/_search [status:200 request:0.015s]\n",
      "2024-11-21 11:41:16.804 7 opensearch INFO [log_request_success():235] POST https://rest.elastic.service.consul:9200/15551__embedding_default_project_embedding_0/_search [status:200 request:0.013s]\n",
      "2024-11-21 11:41:16.819 7 opensearch INFO [log_request_success():235] POST https://rest.elastic.service.consul:9200/15551__embedding_default_project_embedding_0/_search [status:200 request:0.014s]\n",
      "2024-11-21 11:41:16.835 7 opensearch INFO [log_request_success():235] POST https://rest.elastic.service.consul:9200/15551__embedding_default_project_embedding_0/_search [status:200 request:0.016s]\n",
      "2024-11-21 11:41:16.854 7 opensearch INFO [log_request_success():235] POST https://rest.elastic.service.consul:9200/15551__embedding_default_project_embedding_0/_search [status:200 request:0.019s]\n",
      "2024-11-21 11:41:16.873 7 opensearch INFO [log_request_success():235] POST https://rest.elastic.service.consul:9200/15551__embedding_default_project_embedding_0/_search [status:200 request:0.018s]\n",
      "2024-11-21 11:41:16.894 7 opensearch INFO [log_request_success():235] POST https://rest.elastic.service.consul:9200/15551__embedding_default_project_embedding_0/_search [status:200 request:0.021s]\n",
      "2024-11-21 11:41:16.909 7 opensearch INFO [log_request_success():235] POST https://rest.elastic.service.consul:9200/15551__embedding_default_project_embedding_0/_search [status:200 request:0.015s]\n",
      "2024-11-21 11:41:16.928 7 opensearch INFO [log_request_success():235] POST https://rest.elastic.service.consul:9200/15551__embedding_default_project_embedding_0/_search [status:200 request:0.018s]\n",
      "2024-11-21 11:41:16.946 7 opensearch INFO [log_request_success():235] POST https://rest.elastic.service.consul:9200/15551__embedding_default_project_embedding_0/_search [status:200 request:0.018s]\n",
      "2024-11-21 11:41:16.965 7 opensearch INFO [log_request_success():235] POST https://rest.elastic.service.consul:9200/15551__embedding_default_project_embedding_0/_search [status:200 request:0.019s]\n",
      "2024-11-21 11:41:16.988 7 opensearch INFO [log_request_success():235] POST https://rest.elastic.service.consul:9200/15551__embedding_default_project_embedding_0/_search [status:200 request:0.022s]\n",
      "2024-11-21 11:41:17.007 7 opensearch INFO [log_request_success():235] POST https://rest.elastic.service.consul:9200/15551__embedding_default_project_embedding_0/_search [status:200 request:0.019s]\n",
      "2024-11-21 11:41:17.028 7 opensearch INFO [log_request_success():235] POST https://rest.elastic.service.consul:9200/15551__embedding_default_project_embedding_0/_search [status:200 request:0.020s]\n",
      "2024-11-21 11:41:17.047 7 opensearch INFO [log_request_success():235] POST https://rest.elastic.service.consul:9200/15551__embedding_default_project_embedding_0/_search [status:200 request:0.019s]\n",
      "2024-11-21 11:41:17.066 7 opensearch INFO [log_request_success():235] POST https://rest.elastic.service.consul:9200/15551__embedding_default_project_embedding_0/_search [status:200 request:0.019s]\n",
      "2024-11-21 11:41:17.089 7 opensearch INFO [log_request_success():235] POST https://rest.elastic.service.consul:9200/15551__embedding_default_project_embedding_0/_search [status:200 request:0.022s]\n",
      "2024-11-21 11:41:17.110 7 opensearch INFO [log_request_success():235] POST https://rest.elastic.service.consul:9200/15551__embedding_default_project_embedding_0/_search [status:200 request:0.021s]\n",
      "2024-11-21 11:41:17.132 7 opensearch INFO [log_request_success():235] POST https://rest.elastic.service.consul:9200/15551__embedding_default_project_embedding_0/_search [status:200 request:0.021s]\n",
      "2024-11-21 11:41:17.154 7 opensearch INFO [log_request_success():235] POST https://rest.elastic.service.consul:9200/15551__embedding_default_project_embedding_0/_search [status:200 request:0.021s]\n",
      "2024-11-21 11:41:17.170 7 opensearch INFO [log_request_success():235] POST https://rest.elastic.service.consul:9200/15551__embedding_default_project_embedding_0/_search [status:200 request:0.016s]\n",
      "2024-11-21 11:41:17.189 7 opensearch INFO [log_request_success():235] POST https://rest.elastic.service.consul:9200/15551__embedding_default_project_embedding_0/_search [status:200 request:0.019s]\n",
      "2024-11-21 11:41:17.207 7 opensearch INFO [log_request_success():235] POST https://rest.elastic.service.consul:9200/15551__embedding_default_project_embedding_0/_search [status:200 request:0.018s]\n",
      "2024-11-21 11:41:17.224 7 opensearch INFO [log_request_success():235] POST https://rest.elastic.service.consul:9200/15551__embedding_default_project_embedding_0/_search [status:200 request:0.016s]\n",
      "2024-11-21 11:41:17.244 7 opensearch INFO [log_request_success():235] POST https://rest.elastic.service.consul:9200/15551__embedding_default_project_embedding_0/_search [status:200 request:0.020s]\n",
      "2024-11-21 11:41:17.266 7 opensearch INFO [log_request_success():235] POST https://rest.elastic.service.consul:9200/15551__embedding_default_project_embedding_0/_search [status:200 request:0.021s]\n",
      "2024-11-21 11:41:17.287 7 opensearch INFO [log_request_success():235] POST https://rest.elastic.service.consul:9200/15551__embedding_default_project_embedding_0/_search [status:200 request:0.021s]\n",
      "2024-11-21 11:41:17.302 7 opensearch INFO [log_request_success():235] POST https://rest.elastic.service.consul:9200/15551__embedding_default_project_embedding_0/_search [status:200 request:0.014s]\n",
      "2024-11-21 11:41:17.315 7 opensearch INFO [log_request_success():235] POST https://rest.elastic.service.consul:9200/15551__embedding_default_project_embedding_0/_search [status:200 request:0.013s]\n",
      "2024-11-21 11:41:17.327 7 opensearch INFO [log_request_success():235] POST https://rest.elastic.service.consul:9200/15551__embedding_default_project_embedding_0/_search [status:200 request:0.011s]\n",
      "2024-11-21 11:41:17.341 7 opensearch INFO [log_request_success():235] POST https://rest.elastic.service.consul:9200/15551__embedding_default_project_embedding_0/_search [status:200 request:0.014s]\n",
      "2024-11-21 11:41:17.354 7 opensearch INFO [log_request_success():235] POST https://rest.elastic.service.consul:9200/15551__embedding_default_project_embedding_0/_search [status:200 request:0.012s]\n",
      "2024-11-21 11:41:17.367 7 opensearch INFO [log_request_success():235] POST https://rest.elastic.service.consul:9200/15551__embedding_default_project_embedding_0/_search [status:200 request:0.012s]\n",
      "2024-11-21 11:41:17.384 7 opensearch INFO [log_request_success():235] POST https://rest.elastic.service.consul:9200/15551__embedding_default_project_embedding_0/_search [status:200 request:0.017s]\n",
      "2024-11-21 11:41:17.400 7 opensearch INFO [log_request_success():235] POST https://rest.elastic.service.consul:9200/15551__embedding_default_project_embedding_0/_search [status:200 request:0.016s]\n",
      "2024-11-21 11:41:17.417 7 opensearch INFO [log_request_success():235] POST https://rest.elastic.service.consul:9200/15551__embedding_default_project_embedding_0/_search [status:200 request:0.016s]\n",
      "2024-11-21 11:41:17.429 7 opensearch INFO [log_request_success():235] POST https://rest.elastic.service.consul:9200/15551__embedding_default_project_embedding_0/_search [status:200 request:0.012s]\n",
      "2024-11-21 11:41:17.441 7 opensearch INFO [log_request_success():235] POST https://rest.elastic.service.consul:9200/15551__embedding_default_project_embedding_0/_search [status:200 request:0.012s]\n",
      "2024-11-21 11:41:17.453 7 opensearch INFO [log_request_success():235] POST https://rest.elastic.service.consul:9200/15551__embedding_default_project_embedding_0/_search [status:200 request:0.011s]\n",
      "2024-11-21 11:41:17.466 7 opensearch INFO [log_request_success():235] POST https://rest.elastic.service.consul:9200/15551__embedding_default_project_embedding_0/_search [status:200 request:0.013s]\n",
      "2024-11-21 11:41:17.478 7 opensearch INFO [log_request_success():235] POST https://rest.elastic.service.consul:9200/15551__embedding_default_project_embedding_0/_search [status:200 request:0.012s]\n",
      "2024-11-21 11:41:17.492 7 opensearch INFO [log_request_success():235] POST https://rest.elastic.service.consul:9200/15551__embedding_default_project_embedding_0/_search [status:200 request:0.013s]\n",
      "2024-11-21 11:41:17.506 7 opensearch INFO [log_request_success():235] POST https://rest.elastic.service.consul:9200/15551__embedding_default_project_embedding_0/_search [status:200 request:0.014s]\n",
      "2024-11-21 11:41:17.526 7 opensearch INFO [log_request_success():235] POST https://rest.elastic.service.consul:9200/15551__embedding_default_project_embedding_0/_search [status:200 request:0.019s]\n",
      "2024-11-21 11:41:17.542 7 opensearch INFO [log_request_success():235] POST https://rest.elastic.service.consul:9200/15551__embedding_default_project_embedding_0/_search [status:200 request:0.015s]\n",
      "2024-11-21 11:41:17.553 7 opensearch INFO [log_request_success():235] POST https://rest.elastic.service.consul:9200/15551__embedding_default_project_embedding_0/_search [status:200 request:0.011s]\n",
      "2024-11-21 11:41:17.567 7 opensearch INFO [log_request_success():235] POST https://rest.elastic.service.consul:9200/15551__embedding_default_project_embedding_0/_search [status:200 request:0.014s]\n",
      "2024-11-21 11:41:17.580 7 opensearch INFO [log_request_success():235] POST https://rest.elastic.service.consul:9200/15551__embedding_default_project_embedding_0/_search [status:200 request:0.013s]\n",
      "2024-11-21 11:41:17.598 7 opensearch INFO [log_request_success():235] POST https://rest.elastic.service.consul:9200/15551__embedding_default_project_embedding_0/_search [status:200 request:0.018s]\n",
      "2024-11-21 11:41:17.611 7 opensearch INFO [log_request_success():235] POST https://rest.elastic.service.consul:9200/15551__embedding_default_project_embedding_0/_search [status:200 request:0.013s]\n",
      "2024-11-21 11:41:17.630 7 opensearch INFO [log_request_success():235] POST https://rest.elastic.service.consul:9200/15551__embedding_default_project_embedding_0/_search [status:200 request:0.018s]\n",
      "2024-11-21 11:41:17.644 7 opensearch INFO [log_request_success():235] POST https://rest.elastic.service.consul:9200/15551__embedding_default_project_embedding_0/_search [status:200 request:0.013s]\n",
      "2024-11-21 11:41:17.660 7 opensearch INFO [log_request_success():235] POST https://rest.elastic.service.consul:9200/15551__embedding_default_project_embedding_0/_search [status:200 request:0.016s]\n",
      "2024-11-21 11:41:17.676 7 opensearch INFO [log_request_success():235] POST https://rest.elastic.service.consul:9200/15551__embedding_default_project_embedding_0/_search [status:200 request:0.016s]\n",
      "2024-11-21 11:41:17.691 7 opensearch INFO [log_request_success():235] POST https://rest.elastic.service.consul:9200/15551__embedding_default_project_embedding_0/_search [status:200 request:0.014s]\n",
      "2024-11-21 11:41:17.708 7 opensearch INFO [log_request_success():235] POST https://rest.elastic.service.consul:9200/15551__embedding_default_project_embedding_0/_search [status:200 request:0.016s]\n",
      "2024-11-21 11:41:17.728 7 opensearch INFO [log_request_success():235] POST https://rest.elastic.service.consul:9200/15551__embedding_default_project_embedding_0/_search [status:200 request:0.020s]\n",
      "2024-11-21 11:41:17.744 7 opensearch INFO [log_request_success():235] POST https://rest.elastic.service.consul:9200/15551__embedding_default_project_embedding_0/_search [status:200 request:0.015s]\n",
      "2024-11-21 11:41:17.744 7 root INFO [preprocess():84] ✅ Articles Data Retrieved!\n",
      "2024-11-21 11:41:17.748 7 root INFO [preprocess():98] ✅ Inputs are almost ready!\n",
      "VersionWarning: No training dataset version was provided to initialise serving. Defaulting to version 1.\n",
      "2024-11-21 11:41:18.636 7 root INFO [preprocess():112] ✅ Inputs are ready!\n",
      "2024-11-21 11:41:18.668 7 root INFO [postprocess():124] ✅ Predictions are ready!\n",
      "2024-11-21 11:41:18.668 7 root INFO [__call__():128] requestId: 337ca223-ef71-4991-80b4-e11dcf6c17aa, preprocess_ms: 8810.861825943, explain_ms: 0, predict_ms: 31.47983551, postprocess_ms: 0.150203705\n",
      "2024-11-21 11:41:18.669 7 root INFO [timing():48] kserve.io.kserve.protocol.rest.v1_endpoints.predict 8.844265699386597, ['http_status:200', 'http_method:POST', 'time:wall']\n",
      "2024-11-21 11:41:18.669 7 root INFO [timing():48] kserve.io.kserve.protocol.rest.v1_endpoints.predict 0.29606700000000075, ['http_status:200', 'http_method:POST', 'time:cpu']\n",
      "\n",
      "\n"
     ]
    }
   ],
   "source": [
    "# Check logs in case of failure\n",
    "ranking_deployment.get_logs(component=\"transformer\", tail=200)"
   ]
  },
  {
   "cell_type": "markdown",
   "metadata": {
    "tags": []
   },
   "source": [
    "# Deploying the query inference pipeline"
   ]
  },
  {
   "cell_type": "code",
   "execution_count": 11,
   "metadata": {},
   "outputs": [
    {
     "name": "stdout",
     "output_type": "stream",
     "text": [
      "Connected. Call `.close()` to terminate connection gracefully.\n"
     ]
    },
    {
     "data": {
      "application/vnd.jupyter.widget-view+json": {
       "model_id": "e3fbff2a123e413aa422762e18b924ef",
       "version_major": 2,
       "version_minor": 0
      },
      "text/plain": [
       "Uploading: 0.000%|          | 0/2173 elapsed<00:00 remaining<?"
      ]
     },
     "metadata": {},
     "output_type": "display_data"
    },
    {
     "name": "stdout",
     "output_type": "stream",
     "text": [
      "Deployment created, explore it at https://c.app.hopsworks.ai:443/p/15551/deployments/334852\n",
      "Before making predictions, start the deployment by using `.start()`\n"
     ]
    }
   ],
   "source": [
    "query_model_deployment = hopsworks_integration.two_tower_serving.HopsworksQueryModel.deploy(project=project)"
   ]
  },
  {
   "cell_type": "markdown",
   "metadata": {},
   "source": [
    "At this point, you have registered your deployment. To start it up you need to run:"
   ]
  },
  {
   "cell_type": "code",
   "execution_count": 12,
   "metadata": {},
   "outputs": [
    {
     "data": {
      "application/vnd.jupyter.widget-view+json": {
       "model_id": "66092722cbe34ce6abf17cb72a463d99",
       "version_major": 2,
       "version_minor": 0
      },
      "text/plain": [
       "  0%|          | 0/6 [00:00<?, ?it/s]"
      ]
     },
     "metadata": {},
     "output_type": "display_data"
    },
    {
     "name": "stdout",
     "output_type": "stream",
     "text": [
      "Start making predictions by using `.predict()`\n"
     ]
    }
   ],
   "source": [
    "query_model_deployment.start()"
   ]
  },
  {
   "cell_type": "code",
   "execution_count": 13,
   "metadata": {},
   "outputs": [
    {
     "name": "stdout",
     "output_type": "stream",
     "text": [
      "Explore all the logs and filters in the Kibana logs at https://c.app.hopsworks.ai:443/p/15551/deployments/334852\n",
      "\n",
      "Instance name: query-transformer-default-00001-deployment-77bcff85dc-mkhws\n",
      "2024-11-21 11:41:58.991 7 root INFO [<module>():180] Loading serving script\n",
      "2024-11-21 11:42:02.108 7 root INFO [__init__():117] Initializing transformer for deployment: query\n",
      "Connected. Call `.close()` to terminate connection gracefully.\n",
      "2024-11-21 11:42:03.281 7 root INFO [<module>():196] Starting KServe server\n",
      "2024-11-21 11:42:03.282 7 root INFO [register_model():187] Registering model: query\n",
      "2024-11-21 11:42:03.282 7 root INFO [start():129] Setting max asyncio worker threads as 12\n",
      "2024-11-21 11:42:03.283 7 root INFO [serve():139] Starting uvicorn with 1 workers\n",
      "2024-11-21 11:42:03.308 7 uvicorn.error INFO [serve():84] Started server process [7]\n",
      "2024-11-21 11:42:03.308 7 uvicorn.error INFO [startup():45] Waiting for application startup.\n",
      "2024-11-21 11:42:03.309 7 root INFO [start():62] Starting gRPC server on [::]:8081\n",
      "2024-11-21 11:42:03.310 7 uvicorn.error INFO [startup():59] Application startup complete.\n",
      "\n",
      "\n"
     ]
    }
   ],
   "source": [
    "# Check logs in case of failure\n",
    "query_model_deployment.get_logs(component=\"transformer\", tail=20)"
   ]
  },
  {
   "cell_type": "markdown",
   "metadata": {},
   "source": [
    "## <span style=\"color:#ff5f27\"> Testing the inference pipeline </span>"
   ]
  },
  {
   "cell_type": "code",
   "execution_count": 14,
   "metadata": {},
   "outputs": [
    {
     "data": {
      "text/plain": [
       "['372860002', '595696025', '824341001']"
      ]
     },
     "execution_count": 14,
     "metadata": {},
     "output_type": "execute_result"
    }
   ],
   "source": [
    "# Define a test input example\n",
    "data = {\n",
    "    \"instances\": {\n",
    "        \"customer_id\": \"d327d0ad9e30085a436933dfbb7f77cf42e38447993a078ed35d93e3fd350ecf\",\n",
    "        \"transaction_date\": \"2022-11-15T12:16:25.330916\",\n",
    "    }\n",
    "}\n",
    "\n",
    "# Test the deployment\n",
    "ranked_candidates = query_model_deployment.predict(data)\n",
    "\n",
    "# Retrieve article ids of the top recommended items\n",
    "recommendations = get_top_recommendations(ranked_candidates[\"predictions\"], k=3)\n",
    "recommendations"
   ]
  },
  {
   "cell_type": "code",
   "execution_count": 15,
   "metadata": {},
   "outputs": [
    {
     "name": "stdout",
     "output_type": "stream",
     "text": [
      "Explore all the logs and filters in the Kibana logs at https://c.app.hopsworks.ai:443/p/15551/deployments/334852\n",
      "\n",
      "Instance name: query-transformer-default-00001-deployment-77bcff85dc-mkhws\n",
      "2024-11-21 11:41:58.991 7 root INFO [<module>():180] Loading serving script\n",
      "2024-11-21 11:42:02.108 7 root INFO [__init__():117] Initializing transformer for deployment: query\n",
      "Connected. Call `.close()` to terminate connection gracefully.\n",
      "2024-11-21 11:42:03.281 7 root INFO [<module>():196] Starting KServe server\n",
      "2024-11-21 11:42:03.282 7 root INFO [register_model():187] Registering model: query\n",
      "2024-11-21 11:42:03.282 7 root INFO [start():129] Setting max asyncio worker threads as 12\n",
      "2024-11-21 11:42:03.283 7 root INFO [serve():139] Starting uvicorn with 1 workers\n",
      "2024-11-21 11:42:03.308 7 uvicorn.error INFO [serve():84] Started server process [7]\n",
      "2024-11-21 11:42:03.308 7 uvicorn.error INFO [startup():45] Waiting for application startup.\n",
      "2024-11-21 11:42:03.309 7 root INFO [start():62] Starting gRPC server on [::]:8081\n",
      "2024-11-21 11:42:03.310 7 uvicorn.error INFO [startup():59] Application startup complete.\n",
      "VersionWarning: No training dataset version was provided to initialise serving. Defaulting to version 1.\n",
      "2024-11-21 11:42:13.627 7 root INFO [__call__():128] requestId: 07221177-aac5-44df-b318-be0f6ba5c65a, preprocess_ms: 961.237430573, explain_ms: 0, predict_ms: 318.711519241, postprocess_ms: 4686.534881592\n",
      "2024-11-21 11:42:13.628 7 root INFO [timing():48] kserve.io.kserve.protocol.rest.v1_endpoints.predict 5.968342065811157, ['http_status:200', 'http_method:POST', 'time:wall']\n",
      "2024-11-21 11:42:13.628 7 root INFO [timing():48] kserve.io.kserve.protocol.rest.v1_endpoints.predict 0.20037400000000005, ['http_status:200', 'http_method:POST', 'time:cpu']\n",
      "\n",
      "\n"
     ]
    }
   ],
   "source": [
    "# Check logs in case of failure\n",
    "query_model_deployment.get_logs(component=\"transformer\",tail=200)"
   ]
  },
  {
   "cell_type": "markdown",
   "metadata": {},
   "source": [
    "# <span style=\"color:#ff5f27\"> Stopping the Hopsworks deployments </span>"
   ]
  },
  {
   "cell_type": "markdown",
   "metadata": {},
   "source": [
    "Stop the deployment when you're not using it."
   ]
  },
  {
   "cell_type": "code",
   "execution_count": 16,
   "metadata": {},
   "outputs": [
    {
     "data": {
      "application/vnd.jupyter.widget-view+json": {
       "model_id": "d6e106e520bd4793bd943c54b92d0fa1",
       "version_major": 2,
       "version_minor": 0
      },
      "text/plain": [
       "  0%|          | 0/4 [00:00<?, ?it/s]"
      ]
     },
     "metadata": {},
     "output_type": "display_data"
    },
    {
     "data": {
      "application/vnd.jupyter.widget-view+json": {
       "model_id": "a095a3610e534c91b87bd256ada3ad44",
       "version_major": 2,
       "version_minor": 0
      },
      "text/plain": [
       "  0%|          | 0/4 [00:00<?, ?it/s]"
      ]
     },
     "metadata": {},
     "output_type": "display_data"
    }
   ],
   "source": [
    "# Stop the ranking model deployment\n",
    "ranking_deployment.stop()\n",
    "\n",
    "# Stop the query model deployment\n",
    "query_model_deployment.stop()"
   ]
  },
  {
   "cell_type": "markdown",
   "metadata": {},
   "source": [
    "---"
   ]
  },
  {
   "cell_type": "code",
   "execution_count": 17,
   "metadata": {},
   "outputs": [
    {
     "name": "stderr",
     "output_type": "stream",
     "text": [
      "\u001b[32m2024-11-21 13:42:35.887\u001b[0m | \u001b[1mINFO    \u001b[0m | \u001b[36m__main__\u001b[0m:\u001b[36m<module>\u001b[0m:\u001b[36m4\u001b[0m - \u001b[1m⌛️ Notebook Execution time: 151.71 seconds ~ 2.53 minutes\u001b[0m\n"
     ]
    }
   ],
   "source": [
    "notebook_end_time = time.time()\n",
    "notebook_execution_time = notebook_end_time - notebook_start_time\n",
    "\n",
    "logger.info(\n",
    "    f\"⌛️ Notebook Execution time: {notebook_execution_time:.2f} seconds ~ {notebook_execution_time / 60:.2f} minutes\"\n",
    ")"
   ]
  },
  {
   "cell_type": "markdown",
   "metadata": {},
   "source": [
    "---"
   ]
  }
 ],
 "metadata": {
  "kernelspec": {
   "display_name": "Python 3",
   "language": "python",
   "name": "python3"
  },
  "language_info": {
   "codemirror_mode": {
    "name": "ipython",
    "version": 3
   },
   "file_extension": ".py",
   "mimetype": "text/x-python",
   "name": "python",
   "nbconvert_exporter": "python",
   "pygments_lexer": "ipython3",
   "version": "3.11.8"
  }
 },
 "nbformat": 4,
 "nbformat_minor": 4
}
