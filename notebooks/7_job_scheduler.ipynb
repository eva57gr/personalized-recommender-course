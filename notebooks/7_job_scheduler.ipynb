{
 "cells": [
  {
   "cell_type": "markdown",
   "id": "6a8f7546",
   "metadata": {},
   "source": [
    "## <span style=\"color:#ff5f27\">🗓️ Job Scheduling </span>\n"
   ]
  },
  {
   "cell_type": "code",
   "execution_count": null,
   "id": "0dc1480f",
   "metadata": {},
   "outputs": [],
   "source": [
    "import sys\n",
    "from pathlib import Path\n",
    "\n",
    "root_dir = str(Path().absolute().parent)\n",
    "if root_dir not in sys.path:\n",
    "    sys.path.append(root_dir)\n",
    "\n",
    "# Exit the notebook\n",
    "print(\"BAAAAM\")\n",
    "sys.exit(\"Exiting notebook\")"
   ]
  },
  {
   "cell_type": "code",
   "execution_count": 1,
   "id": "0162b04b",
   "metadata": {},
   "outputs": [],
   "source": [
    "# !pip install hopsworks -q"
   ]
  },
  {
   "cell_type": "code",
   "execution_count": 2,
   "id": "06390a5b",
   "metadata": {},
   "outputs": [],
   "source": [
    "from datetime import datetime, timezone"
   ]
  },
  {
   "cell_type": "code",
   "execution_count": 3,
   "id": "ef7a5e64",
   "metadata": {},
   "outputs": [
    {
     "name": "stdout",
     "output_type": "stream",
     "text": [
      "Connected. Call `.close()` to terminate connection gracefully.\n",
      "\n",
      "Logged in to project, explore it here https://c.app.hopsworks.ai:443/p/15551\n"
     ]
    }
   ],
   "source": [
    "import hopsworks\n",
    "\n",
    "project = hopsworks.login()\n",
    "\n",
    "jobs_api = project.get_jobs_api()"
   ]
  },
  {
   "cell_type": "markdown",
   "id": "cea06db9",
   "metadata": {},
   "source": [
    "## <span style=\"color:#ff5f27\">🪝 Retrieve Jobs </span>\n"
   ]
  },
  {
   "cell_type": "code",
   "execution_count": 4,
   "id": "92f62c85",
   "metadata": {},
   "outputs": [
    {
     "data": {
      "text/plain": [
       "Job('interactions_1_offline_fg_materialization', 'SPARK')"
      ]
     },
     "execution_count": 4,
     "metadata": {},
     "output_type": "execute_result"
    }
   ],
   "source": [
    "interactions_job = jobs_api.get_job('interactions_1_offline_fg_materialization')\n",
    "interactions_job"
   ]
  },
  {
   "cell_type": "code",
   "execution_count": 5,
   "id": "128827f1",
   "metadata": {},
   "outputs": [
    {
     "data": {
      "text/plain": [
       "Job('transactions_1_offline_fg_materialization', 'SPARK')"
      ]
     },
     "execution_count": 5,
     "metadata": {},
     "output_type": "execute_result"
    }
   ],
   "source": [
    "transactions_job = jobs_api.get_job('transactions_1_offline_fg_materialization')\n",
    "transactions_job"
   ]
  },
  {
   "cell_type": "markdown",
   "id": "f78e6278",
   "metadata": {},
   "source": [
    "## <span style=\"color:#ff5f27\">🏃🏻‍♂️ Run Job </span>\n"
   ]
  },
  {
   "cell_type": "code",
   "execution_count": 6,
   "id": "f79e13a5",
   "metadata": {},
   "outputs": [
    {
     "name": "stdout",
     "output_type": "stream",
     "text": [
      "Execution started, explore it at https://c.app.hopsworks.ai:443/p/15551/jobs/named/interactions_1_offline_fg_materialization/executions\n"
     ]
    },
    {
     "data": {
      "text/plain": [
       "Execution('UNDEFINED', 'INITIALIZING', '2024-11-07T16:02:39.887Z', '-op offline_fg_materialization -path hdfs:///Projects/pbiuszti/Resources/jobs/interactions_1_offline_fg_materialization/config_1730979819979')"
      ]
     },
     "execution_count": 6,
     "metadata": {},
     "output_type": "execute_result"
    }
   ],
   "source": [
    "interactions_job_execution = interactions_job.run()\n",
    "interactions_job_execution"
   ]
  },
  {
   "cell_type": "code",
   "execution_count": 7,
   "id": "8dc5cc7e",
   "metadata": {},
   "outputs": [
    {
     "name": "stdout",
     "output_type": "stream",
     "text": [
      "Execution started, explore it at https://c.app.hopsworks.ai:443/p/15551/jobs/named/transactions_1_offline_fg_materialization/executions\n"
     ]
    },
    {
     "data": {
      "text/plain": [
       "Execution('UNDEFINED', 'INITIALIZING', '2024-11-07T16:02:40.141Z', '-op offline_fg_materialization -path hdfs:///Projects/pbiuszti/Resources/jobs/transactions_1_offline_fg_materialization/config_1730979780964')"
      ]
     },
     "execution_count": 7,
     "metadata": {},
     "output_type": "execute_result"
    }
   ],
   "source": [
    "transactions_job_execution = transactions_job.run()\n",
    "transactions_job_execution"
   ]
  },
  {
   "cell_type": "markdown",
   "id": "2f45a3f3",
   "metadata": {},
   "source": [
    "## <span style=\"color:#ff5f27\">⏰ Schedule Job </span>\n"
   ]
  },
  {
   "cell_type": "code",
   "execution_count": 8,
   "id": "b95eb11a",
   "metadata": {},
   "outputs": [
    {
     "data": {
      "text/plain": [
       "datetime.datetime(2024, 11, 8, 0, 0, tzinfo=datetime.timezone.utc)"
      ]
     },
     "execution_count": 8,
     "metadata": {},
     "output_type": "execute_result"
    }
   ],
   "source": [
    "interactions_job.schedule(\n",
    "    cron_expression=\"0 0 0 * * ?\",  # Runs at midnight (00:00:00) every day\n",
    "    start_time=datetime.now(tz=timezone.utc),\n",
    ")\n",
    "interactions_job.job_schedule.next_execution_date_time"
   ]
  },
  {
   "cell_type": "code",
   "execution_count": 9,
   "id": "97d546e5",
   "metadata": {},
   "outputs": [
    {
     "data": {
      "text/plain": [
       "datetime.datetime(2024, 11, 8, 0, 0, tzinfo=datetime.timezone.utc)"
      ]
     },
     "execution_count": 9,
     "metadata": {},
     "output_type": "execute_result"
    }
   ],
   "source": [
    "transactions_job.schedule(\n",
    "    cron_expression=\"0 0 0 * * ?\",  # Runs at midnight (00:00:00) every day\n",
    "    start_time=datetime.now(tz=timezone.utc),\n",
    ")\n",
    "transactions_job.job_schedule.next_execution_date_time"
   ]
  },
  {
   "cell_type": "markdown",
   "id": "db866c1f",
   "metadata": {},
   "source": [
    "---"
   ]
  }
 ],
 "metadata": {
  "kernelspec": {
   "display_name": "Python 3",
   "language": "python",
   "name": "python3"
  },
  "language_info": {
   "codemirror_mode": {
    "name": "ipython",
    "version": 3
   },
   "file_extension": ".py",
   "mimetype": "text/x-python",
   "name": "python",
   "nbconvert_exporter": "python",
   "pygments_lexer": "ipython3",
   "version": "3.11.8"
  }
 },
 "nbformat": 4,
 "nbformat_minor": 5
}
